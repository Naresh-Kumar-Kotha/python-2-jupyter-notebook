{
 "cells": [
  {
   "cell_type": "code",
   "execution_count": 1,
   "id": "fcf0e7b6",
   "metadata": {},
   "outputs": [],
   "source": [
    "# 1. Problem 1\n",
    "data = {\n",
    "    \"key1\": {\"key11\": {\"key111\": {\"key1111\": 1}}},\n",
    "    \"key2\": {\"key22\": {\"key222\": 2}},\n",
    "    \"key3\": {\"key33\": 3},\n",
    "    \"key4\": 4\n",
    "}\n",
    "# output [1,2,3,4]"
   ]
  },
  {
   "cell_type": "code",
   "execution_count": 2,
   "id": "28b11b3c",
   "metadata": {},
   "outputs": [
    {
     "data": {
      "text/plain": [
       "{'key1': {'key11': {'key111': {'key1111': 1}}},\n",
       " 'key2': {'key22': {'key222': 2}},\n",
       " 'key3': {'key33': 3},\n",
       " 'key4': 4}"
      ]
     },
     "execution_count": 2,
     "metadata": {},
     "output_type": "execute_result"
    }
   ],
   "source": [
    "data"
   ]
  },
  {
   "cell_type": "code",
   "execution_count": 1,
   "id": "c3d65e29",
   "metadata": {},
   "outputs": [
    {
     "data": {
      "text/plain": [
       "[1, 2, 3, 4]"
      ]
     },
     "execution_count": 1,
     "metadata": {},
     "output_type": "execute_result"
    }
   ],
   "source": [
    "data = {\n",
    "    \"key1\": {\"key11\": {\"key111\": {\"key1111\":1}}},\n",
    "    \"key2\": {\"key22\": {\"key222\": 2}},\n",
    "    \"key3\": {\"key33\": 3},\n",
    "    \"key4\": 4}\n",
    "\n",
    "def func(data):\n",
    "    d=[]\n",
    "    for key,value in data.items():\n",
    "        if type(value)==dict:\n",
    "            d.extend(func(value))\n",
    "        else:\n",
    "            d.append(value)\n",
    "    return d\n",
    "\n",
    "\n",
    "func(data)"
   ]
  },
  {
   "cell_type": "code",
   "execution_count": 33,
   "id": "9bd440b8",
   "metadata": {},
   "outputs": [
    {
     "data": {
      "text/plain": [
       "{'key1.key11.key111.key1111': 1,\n",
       " 'key2.key22.key222': 2,\n",
       " 'key3.key33': 3,\n",
       " 'key4': 4}"
      ]
     },
     "execution_count": 33,
     "metadata": {},
     "output_type": "execute_result"
    }
   ],
   "source": [
    "data = {\n",
    "    \"key1\": {\"key11\": {\"key111\": {\"key1111\": 1}}},\n",
    "    \"key2\": {\"key22\": {\"key222\": 2}},\n",
    "    \"key3\": {\"key33\": 3},\n",
    "    \"key4\": 4\n",
    "}\n",
    "\n",
    "def func2(data):\n",
    "    d={}\n",
    "    for key,value in data.items():\n",
    "        if isinstance(value,dict):\n",
    "            new_key=f\"{key}.{list(value.keys())[0]}\"\n",
    "            new_value=list(value.values())[0]\n",
    "            d.update(func2({new_key:new_value}))\n",
    "        else:\n",
    "            d.update({key:value})\n",
    "    return d\n",
    "func2(data)"
   ]
  },
  {
   "cell_type": "code",
   "execution_count": null,
   "id": "374f9706",
   "metadata": {},
   "outputs": [],
   "source": []
  },
  {
   "cell_type": "code",
   "execution_count": 2,
   "id": "4402033a",
   "metadata": {},
   "outputs": [],
   "source": [
    "value={\"key33\": 3}"
   ]
  },
  {
   "cell_type": "code",
   "execution_count": 3,
   "id": "d52152b8",
   "metadata": {},
   "outputs": [
    {
     "data": {
      "text/plain": [
       "dict_keys(['key33'])"
      ]
     },
     "execution_count": 3,
     "metadata": {},
     "output_type": "execute_result"
    }
   ],
   "source": [
    "value.keys()"
   ]
  },
  {
   "cell_type": "code",
   "execution_count": 4,
   "id": "0daa9108",
   "metadata": {},
   "outputs": [
    {
     "name": "stdout",
     "output_type": "stream",
     "text": [
      "key33\n"
     ]
    }
   ],
   "source": [
    "print(list(value.keys())[0])"
   ]
  },
  {
   "cell_type": "code",
   "execution_count": 5,
   "id": "dcfc2a16",
   "metadata": {},
   "outputs": [
    {
     "name": "stdout",
     "output_type": "stream",
     "text": [
      "3\n"
     ]
    }
   ],
   "source": [
    "print(list(value.values())[0])"
   ]
  },
  {
   "cell_type": "code",
   "execution_count": null,
   "id": "361e3a4b",
   "metadata": {},
   "outputs": [],
   "source": []
  },
  {
   "cell_type": "code",
   "execution_count": 45,
   "id": "497beedc",
   "metadata": {},
   "outputs": [],
   "source": [
    "# Problem 2\n",
    "l = [0, [1,2,3], [4,5,[6,7,8,[9,10,11]], [12, 13]], 15, 16]\n",
    "# result should be flatten\n",
    "# [0, 1, 2, 3, 4, 5, 6, ----------- 16]"
   ]
  },
  {
   "cell_type": "code",
   "execution_count": 51,
   "id": "3ff29b5a",
   "metadata": {},
   "outputs": [
    {
     "data": {
      "text/plain": [
       "[0, 1, 2, 3, 4, 5, 6, 7, 8, 9, 10, 11, 12, 13, 15, 16]"
      ]
     },
     "execution_count": 51,
     "metadata": {},
     "output_type": "execute_result"
    }
   ],
   "source": [
    "def func(l):\n",
    "    d=[]\n",
    "    for i in l:\n",
    "        if isinstance(i,list):\n",
    "            d.extend(func(i))\n",
    "        else: \n",
    "            d.append(i)\n",
    "    return d\n",
    "func(l)\n",
    "    "
   ]
  },
  {
   "cell_type": "code",
   "execution_count": 52,
   "id": "5348bbe5",
   "metadata": {},
   "outputs": [],
   "source": [
    "# Problem 3\n",
    "l = [5, 2, 7, 9]\n",
    "# result [2*7*9, 5*7*9, 5*2*9, 5*2*7]\n",
    "# Write logic it has to work for n number of parameters"
   ]
  },
  {
   "cell_type": "code",
   "execution_count": 96,
   "id": "f51b6b59",
   "metadata": {},
   "outputs": [
    {
     "data": {
      "text/plain": [
       "[126, 315, 90, 70]"
      ]
     },
     "execution_count": 96,
     "metadata": {},
     "output_type": "execute_result"
    }
   ],
   "source": [
    "from functools import reduce\n",
    "def func(l):\n",
    "    product=reduce(lambda x,y:x*y,l)\n",
    "    return [product//i for i in l]\n",
    "func(l)\n",
    "        \n",
    "    "
   ]
  },
  {
   "cell_type": "code",
   "execution_count": 84,
   "id": "7044d867",
   "metadata": {},
   "outputs": [],
   "source": [
    "# problem 5\n",
    "# Need words from a given string \n",
    "# s = \"how are you\"\n",
    "# result = [\"how\", \"are\", \"you\"], but don't use split'\n"
   ]
  },
  {
   "cell_type": "code",
   "execution_count": 93,
   "id": "e9e16734",
   "metadata": {},
   "outputs": [
    {
     "data": {
      "text/plain": [
       "['how', 'are', 'you']"
      ]
     },
     "execution_count": 93,
     "metadata": {},
     "output_type": "execute_result"
    }
   ],
   "source": [
    "def word(s):\n",
    "    l=[]\n",
    "    st=''\n",
    "    for i in s:\n",
    "        if i==\" \":\n",
    "            if st:\n",
    "                l.append(st)\n",
    "            st=\"\"\n",
    "            \n",
    "        else:\n",
    "            if i.isalpha():\n",
    "                st+=i\n",
    "    else:\n",
    "            if st:\n",
    "                l.append(st)\n",
    "        \n",
    "    return l\n",
    "\n",
    "s = \"how    are  you\"\n",
    "word(s)"
   ]
  },
  {
   "cell_type": "code",
   "execution_count": 97,
   "id": "ccf7fd7f",
   "metadata": {},
   "outputs": [],
   "source": [
    "# problem 6\n",
    "# find mobile numbers from a given string"
   ]
  },
  {
   "cell_type": "code",
   "execution_count": 104,
   "id": "75ba5276",
   "metadata": {},
   "outputs": [
    {
     "name": "stdout",
     "output_type": "stream",
     "text": [
      "7047637485\n",
      "7494364584\n",
      "7234567890\n"
     ]
    }
   ],
   "source": [
    "s='7047637485 i a456m in 7494364584 ban86387ga73644858933lo7234567890'\n",
    "\n",
    "def func(s):\n",
    "    number=''\n",
    "    for i in s:\n",
    "        if i.isdigit():\n",
    "            number+=i\n",
    "        else:\n",
    "            if number and len(number)==10 and number[0] in '6789':\n",
    "                print(number)\n",
    "            number=\"\"\n",
    "    else:\n",
    "        if number and len(number)==10 and number[0] in '6789':\n",
    "                print(number)\n",
    "func(s)\n"
   ]
  },
  {
   "cell_type": "code",
   "execution_count": 105,
   "id": "29f01f4a",
   "metadata": {},
   "outputs": [],
   "source": [
    "# Problem 7\n",
    "# sum of the integers from a given string\n",
    "# s = \"abcaa1anv12hsd234mnxz3and45\"\n",
    "# result = 1+12+234+3+45"
   ]
  },
  {
   "cell_type": "code",
   "execution_count": 123,
   "id": "f0a53b6e",
   "metadata": {},
   "outputs": [
    {
     "data": {
      "text/plain": [
       "296"
      ]
     },
     "execution_count": 123,
     "metadata": {},
     "output_type": "execute_result"
    }
   ],
   "source": [
    "s = \"abcaa1anv12hsd234mnxz3and45\"\n",
    "\n",
    "def intsum(s):s\n",
    "    st=\"\"\n",
    "    summ=0\n",
    "    for i in s:\n",
    "        if i.isdigit():\n",
    "            st+=i\n",
    "        else:\n",
    "            if st:\n",
    "                summ+=int(st)\n",
    "            st=\"\"\n",
    "    else:\n",
    "        if st:\n",
    "                summ+=int(st)\n",
    "    return summ\n",
    "\n",
    "intsum(s)"
   ]
  },
  {
   "cell_type": "code",
   "execution_count": null,
   "id": "93c53983",
   "metadata": {},
   "outputs": [],
   "source": []
  }
 ],
 "metadata": {
  "kernelspec": {
   "display_name": "Python 3 (ipykernel)",
   "language": "python",
   "name": "python3"
  },
  "language_info": {
   "codemirror_mode": {
    "name": "ipython",
    "version": 3
   },
   "file_extension": ".py",
   "mimetype": "text/x-python",
   "name": "python",
   "nbconvert_exporter": "python",
   "pygments_lexer": "ipython3",
   "version": "3.10.0"
  }
 },
 "nbformat": 4,
 "nbformat_minor": 5
}
