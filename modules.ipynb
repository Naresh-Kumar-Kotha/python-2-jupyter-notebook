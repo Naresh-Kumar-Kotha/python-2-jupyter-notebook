{
 "cells": [
  {
   "cell_type": "code",
   "execution_count": 2,
   "id": "6f28295c",
   "metadata": {},
   "outputs": [],
   "source": [
    "# Modules: A group of functions, variables and classes saved to a file, is nothing but a module.\n",
    "# Every Python file with extension \".py\" acts as a module.\n",
    "\n",
    "# Eg: Let us consider a file saved with a name \"calc.py\" and contains below code: (works better in PyCharm)\n",
    "# calc.py\n",
    "x=888\n",
    "def add(a,b):\n",
    "    print(\"The Sum:\",a+b)\n",
    "\n",
    "def product(a,b):\n",
    "    print(\"The Product:\",a*b)\n",
    "\n",
    "    \n",
    "# Above \"calc\" module contains one variable and 2 functions.\n",
    "# If we want to use members of above module in our program then we should import that module.\n",
    "# import calc\n",
    "# We can access members by using module name.\n",
    "# calc.x\n",
    "# calc.add(10,20)\n",
    "    "
   ]
  },
  {
   "cell_type": "code",
   "execution_count": null,
   "id": "8f2b19c8",
   "metadata": {},
   "outputs": [],
   "source": []
  },
  {
   "cell_type": "code",
   "execution_count": 1,
   "id": "6eda7fb3",
   "metadata": {},
   "outputs": [
    {
     "data": {
      "text/plain": [
       "datetime.datetime(2021, 12, 3, 14, 5, 43, 81560)"
      ]
     },
     "execution_count": 1,
     "metadata": {},
     "output_type": "execute_result"
    }
   ],
   "source": [
    "import datetime\n",
    "datetime.datetime.now()"
   ]
  },
  {
   "cell_type": "code",
   "execution_count": 29,
   "id": "cac700cd",
   "metadata": {},
   "outputs": [
    {
     "data": {
      "text/plain": [
       "datetime.datetime(2021, 11, 13, 21, 4, 38, 560393)"
      ]
     },
     "execution_count": 29,
     "metadata": {},
     "output_type": "execute_result"
    }
   ],
   "source": [
    "d=datetime.datetime.now()\n",
    "d"
   ]
  },
  {
   "cell_type": "code",
   "execution_count": 30,
   "id": "8215a03d",
   "metadata": {},
   "outputs": [
    {
     "name": "stdout",
     "output_type": "stream",
     "text": [
      "2021-11-13\n",
      "21:04:38.560393\n",
      "13\n",
      "2021\n",
      "11\n",
      "21\n",
      "4\n",
      "38\n"
     ]
    }
   ],
   "source": [
    "print(d.date())\n",
    "print(d.time())\n",
    "print(d.day)\n",
    "print(d.year)\n",
    "print(d.month)\n",
    "print(d.hour)\n",
    "print(d.minute)\n",
    "print(d.second)"
   ]
  },
  {
   "cell_type": "code",
   "execution_count": 32,
   "id": "f4e61e23",
   "metadata": {},
   "outputs": [
    {
     "data": {
      "text/plain": [
       "'2021-11-13 21:04:38.560393'"
      ]
     },
     "execution_count": 32,
     "metadata": {},
     "output_type": "execute_result"
    }
   ],
   "source": [
    "str(d)"
   ]
  },
  {
   "cell_type": "code",
   "execution_count": 41,
   "id": "0ec3403e",
   "metadata": {},
   "outputs": [
    {
     "name": "stdout",
     "output_type": "stream",
     "text": [
      "13 11 2021 21:04:38\n",
      "13 Nov 21 21:04:38\n",
      "13th November, 2021 21-04-38\n"
     ]
    }
   ],
   "source": [
    "print(d.strftime('%d %m %Y %H:%M:%S'))\n",
    "print(d.strftime('%d %b %y %H:%M:%S'))\n",
    "print(d.strftime('%dth %B, %Y %H-%M-%S'))"
   ]
  },
  {
   "cell_type": "code",
   "execution_count": 50,
   "id": "514e06f0",
   "metadata": {},
   "outputs": [
    {
     "name": "stdout",
     "output_type": "stream",
     "text": [
      "2021-11-13 20:34:38.560393\n",
      "2021-11-13 18:04:38.560393\n",
      "2021-11-13 21:04:08.560393\n",
      "2021-11-10 21:04:38.560393\n"
     ]
    }
   ],
   "source": [
    "print(d - datetime.timedelta(minutes=30))\n",
    "print(d - datetime.timedelta(hours=3))\n",
    "print(d - datetime.timedelta(seconds=30))\n",
    "print(d - datetime.timedelta(days=3))\n"
   ]
  },
  {
   "cell_type": "code",
   "execution_count": 51,
   "id": "3d47b0f8",
   "metadata": {},
   "outputs": [
    {
     "name": "stdout",
     "output_type": "stream",
     "text": [
      "2021-11-13 00:00:00.560393\n",
      "2021-11-13 23:59:59.560393\n"
     ]
    }
   ],
   "source": [
    "print(d.replace(hour=0, minute=0,  second=0))\n",
    "print(d.replace(hour=23, minute=59,  second=59))"
   ]
  },
  {
   "cell_type": "code",
   "execution_count": null,
   "id": "a86bd255",
   "metadata": {},
   "outputs": [],
   "source": []
  }
 ],
 "metadata": {
  "kernelspec": {
   "display_name": "Python 3 (ipykernel)",
   "language": "python",
   "name": "python3"
  },
  "language_info": {
   "codemirror_mode": {
    "name": "ipython",
    "version": 3
   },
   "file_extension": ".py",
   "mimetype": "text/x-python",
   "name": "python",
   "nbconvert_exporter": "python",
   "pygments_lexer": "ipython3",
   "version": "3.10.0"
  }
 },
 "nbformat": 4,
 "nbformat_minor": 5
}
