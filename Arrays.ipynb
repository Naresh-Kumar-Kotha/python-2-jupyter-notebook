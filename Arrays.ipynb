{
 "cells": [
  {
   "cell_type": "code",
   "execution_count": null,
   "id": "63be9b77",
   "metadata": {},
   "outputs": [],
   "source": [
    "# TYPECODE      PYTHON TYPE\n",
    "#    'u'       Unicode character(character)\n",
    "#    'i'        int\n",
    "#    'I'       unsigned int\n",
    "#    'f'        float"
   ]
  },
  {
   "cell_type": "code",
   "execution_count": 6,
   "id": "2437656e",
   "metadata": {},
   "outputs": [
    {
     "name": "stdout",
     "output_type": "stream",
     "text": [
      "array:  array('i', [5, 6, 7, 8, 6, 9, 9])\n",
      "reverse array:  array('i', [9, 9, 6, 8, 7, 6, 5])\n",
      "8\n",
      "7\n",
      "6\n",
      "5\n"
     ]
    }
   ],
   "source": [
    "# import array as arr  # It will import only array\n",
    "from array import *    # It will import all the fucntions of array\n",
    "\n",
    "vals=array('i',[5,6,7,8,6,9,9]) # from typecodes in python, we have to select element types to be entered into array  \n",
    "print('array: ',vals)\n",
    "vals.reverse()\n",
    "print('reverse array: ',vals)\n",
    "for i in range(3,len(vals)):\n",
    "    print(vals[i])"
   ]
  },
  {
   "cell_type": "code",
   "execution_count": 5,
   "id": "600d1d00",
   "metadata": {},
   "outputs": [
    {
     "name": "stdout",
     "output_type": "stream",
     "text": [
      "array('u', 'abeiou')\n",
      "u\n",
      "a,b,e,i,o,u,"
     ]
    }
   ],
   "source": [
    "c=array('u',['a','b','e','i','o','u'])\n",
    "print(c)\n",
    "print(c.typecode)\n",
    "# for i in range(len(c)):\n",
    "#     print(c[i])\n",
    "\n",
    "for i in c:\n",
    "    print(i, end=\",\")"
   ]
  },
  {
   "cell_type": "code",
   "execution_count": 12,
   "id": "5a250c3d",
   "metadata": {},
   "outputs": [
    {
     "name": "stdout",
     "output_type": "stream",
     "text": [
      "Enter length of array: 3\n",
      "Enter value-1: 4\n",
      "Enter value-2: 3\n",
      "Enter value-3: 7\n",
      "array('i', [4, 3, 7])\n"
     ]
    }
   ],
   "source": [
    "# input from user:\n",
    "\n",
    "from array import *\n",
    "\n",
    "arr=array('i',[])\n",
    "n=int(input('Enter length of array: '))\n",
    "\n",
    "for i in range(n):\n",
    "    x=int(input(f'Enter value-{i+1}: '))\n",
    "    arr.append(x)\n",
    "        \n",
    "print(arr)"
   ]
  },
  {
   "cell_type": "code",
   "execution_count": null,
   "id": "ee3b5e11",
   "metadata": {},
   "outputs": [],
   "source": []
  }
 ],
 "metadata": {
  "kernelspec": {
   "display_name": "Python 3 (ipykernel)",
   "language": "python",
   "name": "python3"
  },
  "language_info": {
   "codemirror_mode": {
    "name": "ipython",
    "version": 3
   },
   "file_extension": ".py",
   "mimetype": "text/x-python",
   "name": "python",
   "nbconvert_exporter": "python",
   "pygments_lexer": "ipython3",
   "version": "3.10.0"
  }
 },
 "nbformat": 4,
 "nbformat_minor": 5
}
