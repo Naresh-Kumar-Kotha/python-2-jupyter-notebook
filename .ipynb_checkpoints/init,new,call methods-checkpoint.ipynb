{
 "cells": [
  {
   "cell_type": "code",
   "execution_count": 29,
   "id": "869e0f57",
   "metadata": {},
   "outputs": [],
   "source": [
    "class Test:\n",
    "    def __init__(self):\n",
    "        print('I am in __init__')  \n",
    "        # we should not write return in __init__, it will throw an error\n",
    "        \n",
    "    def __new__(self,*args,**kwargs):\n",
    "        print('I am in __new__')\n",
    "        return super(Test,self).__new__(self,*args,**kwargs)\n",
    "        \n",
    "    def __call__(self):\n",
    "        print('I am in __call__')\n"
   ]
  },
  {
   "cell_type": "code",
   "execution_count": 30,
   "id": "48254e29",
   "metadata": {},
   "outputs": [
    {
     "name": "stdout",
     "output_type": "stream",
     "text": [
      "I am in __new__\n",
      "I am in __init__\n"
     ]
    }
   ],
   "source": [
    "obj=Test()"
   ]
  },
  {
   "cell_type": "code",
   "execution_count": 31,
   "id": "d6911c3e",
   "metadata": {},
   "outputs": [
    {
     "name": "stdout",
     "output_type": "stream",
     "text": [
      "I am in __call__\n"
     ]
    }
   ],
   "source": [
    "obj()"
   ]
  },
  {
   "cell_type": "code",
   "execution_count": null,
   "id": "2458230c",
   "metadata": {},
   "outputs": [],
   "source": []
  }
 ],
 "metadata": {
  "kernelspec": {
   "display_name": "Python 3 (ipykernel)",
   "language": "python",
   "name": "python3"
  },
  "language_info": {
   "codemirror_mode": {
    "name": "ipython",
    "version": 3
   },
   "file_extension": ".py",
   "mimetype": "text/x-python",
   "name": "python",
   "nbconvert_exporter": "python",
   "pygments_lexer": "ipython3",
   "version": "3.10.0"
  }
 },
 "nbformat": 4,
 "nbformat_minor": 5
}
