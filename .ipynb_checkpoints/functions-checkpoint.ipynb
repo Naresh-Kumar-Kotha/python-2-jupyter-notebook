{
 "cells": [
  {
   "cell_type": "code",
   "execution_count": null,
   "id": "956f1c43",
   "metadata": {},
   "outputs": [],
   "source": [
    "# Function: It is a group of statements or a piece of code defined under a function name \n",
    "# We can use that code by simply calling the function name\n",
    "\n",
    "# The main advantage of functions is code Reusability.\n",
    "\n",
    "# Note: In other languages functions are known as methods,procedures,subroutines etc\n",
    "\n",
    "# Python supports 2 types of functions\n",
    "# 1. Built in Functions\n",
    "# 2. User Defined Functions"
   ]
  },
  {
   "cell_type": "code",
   "execution_count": null,
   "id": "929e2335",
   "metadata": {},
   "outputs": [],
   "source": [
    "# 1. Built-in Functions pre defined functions: The functions which come along with Python software automatically.\n",
    "# Eg:id(), type(), input(), eval()"
   ]
  },
  {
   "cell_type": "code",
   "execution_count": 5,
   "id": "96eee730",
   "metadata": {},
   "outputs": [],
   "source": [
    "# 2. User Defined Functions: These are the functions which are developed by programmer explicitly according to the requirement.\n",
    "\n",
    "# Note: While creating functions we can use 2 keywords\n",
    "# 1. def (mandatory)   - To define a function\n",
    "# 2. return (optional) - To return an output"
   ]
  },
  {
   "cell_type": "code",
   "execution_count": 8,
   "id": "f8115228",
   "metadata": {},
   "outputs": [
    {
     "data": {
      "text/plain": [
       "(10, 20)"
      ]
     },
     "execution_count": 8,
     "metadata": {},
     "output_type": "execute_result"
    }
   ],
   "source": [
    "# Example: Returning multiple values:\n",
    "def function():\n",
    "    a=10\n",
    "    b=20\n",
    "    return a,b       # Returns multiple values in the form of a collection(defaultly tuple)\n",
    "function()"
   ]
  },
  {
   "cell_type": "code",
   "execution_count": null,
   "id": "8ad15b39",
   "metadata": {},
   "outputs": [],
   "source": [
    "# Arguments or parameters: \n",
    "# Arguments or parameters are inputs to the function. \n",
    "# If a function contains parameters,compulsarily we should provide values at the time of calling,otherwise we will get error."
   ]
  },
  {
   "cell_type": "code",
   "execution_count": 10,
   "id": "181d79ea",
   "metadata": {},
   "outputs": [
    {
     "data": {
      "text/plain": [
       "30"
      ]
     },
     "execution_count": 10,
     "metadata": {},
     "output_type": "execute_result"
    }
   ],
   "source": [
    "# Types of arguments:\n",
    "# formal arguments: These are the identifiers used in the function definition to represent corresponding actual arguments.\n",
    "# Actual arguments: These are the values(or variables)/expressions that are used inside the parentheses of a function call.\n",
    "def function(a,b):  # a and b are formal arguments\n",
    "    c=a+b\n",
    "    return c       \n",
    "function(10,20)     # 10 and 20 are actual arguments"
   ]
  },
  {
   "cell_type": "code",
   "execution_count": 12,
   "id": "0eaf0008",
   "metadata": {},
   "outputs": [],
   "source": [
    "# There are 4 types of actual arguments allowed in Python.They are:\n",
    "# 1. positional arguments\n",
    "# 2. keyword arguments\n",
    "# 3. default arguments\n",
    "# 4. Variable length arguments"
   ]
  },
  {
   "cell_type": "code",
   "execution_count": 13,
   "id": "79b0a497",
   "metadata": {},
   "outputs": [
    {
     "name": "stdout",
     "output_type": "stream",
     "text": [
      "-100\n",
      "100\n"
     ]
    }
   ],
   "source": [
    "# 1. positional arguments: These are the arguments passed to a function in correct positional order.\n",
    "# The number of arguments and position of arguments must be matched.\n",
    "def sub(a,b):\n",
    "    print(a-b)\n",
    "sub(100,200)\n",
    "sub(200,100)"
   ]
  },
  {
   "cell_type": "code",
   "execution_count": 17,
   "id": "88a86b37",
   "metadata": {},
   "outputs": [
    {
     "name": "stdout",
     "output_type": "stream",
     "text": [
      "Hello Durga Good Morning\n",
      "Hello Durga Good Morning\n",
      "Hello Durga Good Morning\n"
     ]
    }
   ],
   "source": [
    "# 2. keyword arguments: We can pass argument values by keyword i.e by parameter name.\n",
    "# Here the order of arguments is not important but number of arguments must be matched.\n",
    "# positional argument follows keyword argument means keyword argument should be given after positional argument\n",
    "\n",
    "# Eg:\n",
    "def wish(name,msg):\n",
    "    print(\"Hello\",name,msg)\n",
    "\n",
    "wish(name=\"Durga\",msg=\"Good Morning\")\n",
    "wish(msg=\"Good Morning\",name=\"Durga\")\n",
    "wish(\"Durga\",msg=\"Good Morning\")"
   ]
  },
  {
   "cell_type": "code",
   "execution_count": 18,
   "id": "250e2c3b",
   "metadata": {},
   "outputs": [
    {
     "name": "stdout",
     "output_type": "stream",
     "text": [
      "Hello Durga Good Morning\n",
      "Hello Guest Good Morning\n"
     ]
    }
   ],
   "source": [
    "# 3. Default Arguments: Sometimes we can provide default values for our positional arguments.\n",
    "# If we are not passing any name then only default value will be considered.\n",
    "# non-default argument follows default argument means default argument should be given after non-default arguments\n",
    "# 'Function overloading in python' is achieved using default arguments\n",
    "\n",
    "def wish(name=\"Guest\"):\n",
    "    print(\"Hello\",name,\"Good Morning\")\n",
    "    \n",
    "wish(\"Durga\")\n",
    "wish()"
   ]
  },
  {
   "cell_type": "code",
   "execution_count": 27,
   "id": "0e9e20bb",
   "metadata": {},
   "outputs": [
    {
     "name": "stdout",
     "output_type": "stream",
     "text": [
      "The Sum= 0\n",
      "The Sum= 10\n",
      "The Sum= 30\n",
      "The Sum= 100\n"
     ]
    }
   ],
   "source": [
    "# 4. Variable length arguments(*args):Sometimes we can pass variable number of arguments to our function,\n",
    "# such type of arguments are called variable length arguments.\n",
    "# We can call this function by passing any number of arguments including zero number.\n",
    "# Internally all these values represented in the form of tuple.\n",
    "\n",
    "\n",
    "def sum(*n):\n",
    "    total=0\n",
    "    for n1 in n:\n",
    "        total=total+n1\n",
    "    print(\"The Sum=\",total)\n",
    "\n",
    "sum()\n",
    "sum(10)\n",
    "sum(10,20)\n",
    "sum(10,20,30,40)"
   ]
  },
  {
   "cell_type": "code",
   "execution_count": 30,
   "id": "3bae6b2a",
   "metadata": {},
   "outputs": [
    {
     "name": "stdout",
     "output_type": "stream",
     "text": [
      "{'n1': 10, 'n2': 20, 'n3': 30}\n",
      "{'rno': 100, 'name': 'Durga', 'marks': 70, 'subject': 'Java'}\n"
     ]
    }
   ],
   "source": [
    "# 5. Keyword variable length arguments(**kwargs):\n",
    "# After variable length arguments,if we are taking any other arguments then we should provide values as keyword arguments.\n",
    "# We can call this function by passing any number of keyword arguments. \n",
    "# Internally these keyword arguments will be stored inside a dictionary.\n",
    "\n",
    "def display(**kwargs):\n",
    "    print(kwargs)\n",
    "display(n1=10,n2=20,n3=30)\n",
    "display(rno=100,name=\"Durga\",marks=70,subject=\"Java\")"
   ]
  },
  {
   "cell_type": "code",
   "execution_count": 38,
   "id": "18165df0",
   "metadata": {},
   "outputs": [
    {
     "name": "stdout",
     "output_type": "stream",
     "text": [
      "3 2 4 8\n",
      "10 20 30 40\n",
      "25 50 4 100\n",
      "3 4 4 2\n"
     ]
    }
   ],
   "source": [
    "# Case Study:\n",
    "\n",
    "def f(arg1,arg2,arg3=4,arg4=8):\n",
    "    print(arg1,arg2,arg3,arg4)\n",
    "\n",
    "f(3,2)\n",
    "f(10,20,30,40)\n",
    "f(25,50,arg4=100)\n",
    "f(arg4=2,arg1=3,arg2=4)"
   ]
  },
  {
   "cell_type": "code",
   "execution_count": 55,
   "id": "7799a334",
   "metadata": {},
   "outputs": [
    {
     "name": "stdout",
     "output_type": "stream",
     "text": [
      "outer function started\n",
      "outer function calling inner function\n",
      "inner function execution\n"
     ]
    }
   ],
   "source": [
    "# Nested Functions:\n",
    "# We can declare a function inside another function, such type of functions are called Nestedfunctions.\n",
    "\n",
    "# Eg:\n",
    "def outer():\n",
    "    print(\"outer function started\")\n",
    "    def inner():\n",
    "        print(\"inner function execution\")\n",
    "    print(\"outer function calling inner function\")\n",
    "    return inner()\n",
    "outer()\n"
   ]
  },
  {
   "cell_type": "code",
   "execution_count": null,
   "id": "298f15fa",
   "metadata": {},
   "outputs": [],
   "source": []
  },
  {
   "cell_type": "code",
   "execution_count": null,
   "id": "93d72c06",
   "metadata": {},
   "outputs": [],
   "source": []
  },
  {
   "cell_type": "code",
   "execution_count": 3,
   "id": "eee8afcb",
   "metadata": {},
   "outputs": [],
   "source": [
    "# Syntax to create user defined functions:\n",
    "def function_name(parameters) :\n",
    "    \"\"\" \n",
    "    doc strings\n",
    "    \n",
    "    \"\"\"\n",
    "    value=10\n",
    "    return value"
   ]
  },
  {
   "cell_type": "code",
   "execution_count": 1,
   "id": "299425ed",
   "metadata": {},
   "outputs": [],
   "source": [
    "def fun(a:int, b:int)->float:\n",
    "    \"\"\"\n",
    "    This takes a and b float values\n",
    "    It gives int sum of a+b\n",
    "    \"\"\"\n",
    "    return a+b"
   ]
  },
  {
   "cell_type": "code",
   "execution_count": 2,
   "id": "9674e2fc",
   "metadata": {},
   "outputs": [
    {
     "data": {
      "text/plain": [
       "30"
      ]
     },
     "execution_count": 2,
     "metadata": {},
     "output_type": "execute_result"
    }
   ],
   "source": [
    "fun(10,20)"
   ]
  },
  {
   "cell_type": "code",
   "execution_count": 11,
   "id": "f8548b58",
   "metadata": {},
   "outputs": [],
   "source": [
    "def fun(a, b=50):\n",
    "    \"\"\"\n",
    "    This takes a and b float values\n",
    "    It gives int sum of a+b\n",
    "    \"\"\"\n",
    "    return a+b"
   ]
  },
  {
   "cell_type": "code",
   "execution_count": 12,
   "id": "f7cf6f1c",
   "metadata": {},
   "outputs": [
    {
     "data": {
      "text/plain": [
       "60"
      ]
     },
     "execution_count": 12,
     "metadata": {},
     "output_type": "execute_result"
    }
   ],
   "source": [
    "fun(10)"
   ]
  },
  {
   "cell_type": "code",
   "execution_count": 14,
   "id": "ee7548d1",
   "metadata": {},
   "outputs": [
    {
     "data": {
      "text/plain": [
       "40"
      ]
     },
     "execution_count": 14,
     "metadata": {},
     "output_type": "execute_result"
    }
   ],
   "source": [
    "fun(10,30)"
   ]
  },
  {
   "cell_type": "code",
   "execution_count": 15,
   "id": "1a21c915",
   "metadata": {},
   "outputs": [],
   "source": [
    "def func(a,b=20,*c,**d):\n",
    "    print(a,type(a))\n",
    "    print(b,type(b))\n",
    "    print(c,type(c))\n",
    "    print(d,type(d))"
   ]
  },
  {
   "cell_type": "code",
   "execution_count": 16,
   "id": "91639d0e",
   "metadata": {},
   "outputs": [
    {
     "name": "stdout",
     "output_type": "stream",
     "text": [
      "1 <class 'int'>\n",
      "2 <class 'int'>\n",
      "(3, 4, 5) <class 'tuple'>\n",
      "{'x': 10, 'y': 20} <class 'dict'>\n"
     ]
    }
   ],
   "source": [
    "func(1,2,3,4,5,x=10,y=20)"
   ]
  },
  {
   "cell_type": "code",
   "execution_count": 17,
   "id": "2a562679",
   "metadata": {},
   "outputs": [],
   "source": [
    "#shallow copy"
   ]
  },
  {
   "cell_type": "code",
   "execution_count": 19,
   "id": "9b23e1c5",
   "metadata": {},
   "outputs": [
    {
     "data": {
      "text/plain": [
       "[[1, 2], [1, 3, 4]]"
      ]
     },
     "execution_count": 19,
     "metadata": {},
     "output_type": "execute_result"
    }
   ],
   "source": [
    "a=[[1,2],[1,3,4]]\n",
    "import copy\n",
    "b=copy.copy(a)\n",
    "a\n",
    "b\n"
   ]
  },
  {
   "cell_type": "code",
   "execution_count": null,
   "id": "458ef4e9",
   "metadata": {},
   "outputs": [],
   "source": []
  }
 ],
 "metadata": {
  "kernelspec": {
   "display_name": "Python 3 (ipykernel)",
   "language": "python",
   "name": "python3"
  },
  "language_info": {
   "codemirror_mode": {
    "name": "ipython",
    "version": 3
   },
   "file_extension": ".py",
   "mimetype": "text/x-python",
   "name": "python",
   "nbconvert_exporter": "python",
   "pygments_lexer": "ipython3",
   "version": "3.10.0"
  }
 },
 "nbformat": 4,
 "nbformat_minor": 5
}
