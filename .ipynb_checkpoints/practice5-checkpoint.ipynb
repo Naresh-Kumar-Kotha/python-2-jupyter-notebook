{
 "cells": [
  {
   "cell_type": "code",
   "execution_count": 37,
   "id": "c779cdd1",
   "metadata": {},
   "outputs": [],
   "source": [
    "class Student:\n",
    "    def __init__(s,college,fname,lname,reg):\n",
    "        s.college=college\n",
    "        s.fname=fname\n",
    "        s.lname=lname\n",
    "        s.reg=reg\n",
    "    \n",
    "    def full_name(s):\n",
    "        return f\"{s.fname} {s.lname}\"\n",
    "    \n",
    "    def details(s):\n",
    "        return f\"{s.full_name} ({s.college})\""
   ]
  },
  {
   "cell_type": "code",
   "execution_count": 38,
   "id": "f27ba37b",
   "metadata": {},
   "outputs": [],
   "source": [
    "naresh=Student('MITS','naresh','kumar','123456789')"
   ]
  },
  {
   "cell_type": "code",
   "execution_count": 39,
   "id": "c6d359e0",
   "metadata": {},
   "outputs": [
    {
     "data": {
      "text/plain": [
       "'naresh kumar'"
      ]
     },
     "execution_count": 39,
     "metadata": {},
     "output_type": "execute_result"
    }
   ],
   "source": [
    "naresh.full_name()"
   ]
  },
  {
   "cell_type": "code",
   "execution_count": 40,
   "id": "a8a4c866",
   "metadata": {},
   "outputs": [
    {
     "data": {
      "text/plain": [
       "<bound method Student.details of <__main__.Student object at 0x000001DDB48AFC10>>"
      ]
     },
     "execution_count": 40,
     "metadata": {},
     "output_type": "execute_result"
    }
   ],
   "source": [
    "naresh.details"
   ]
  },
  {
   "cell_type": "code",
   "execution_count": null,
   "id": "edd32d87",
   "metadata": {},
   "outputs": [],
   "source": []
  },
  {
   "cell_type": "code",
   "execution_count": 54,
   "id": "d72ba9f1",
   "metadata": {},
   "outputs": [],
   "source": [
    "w=open('nfile.txt','w')\n",
    "for i in [1,2,4,5,6,7,8,9]:\n",
    "    w.write(f'{i}\\n')\n",
    "w.close()"
   ]
  },
  {
   "cell_type": "code",
   "execution_count": 55,
   "id": "21ff2d64",
   "metadata": {},
   "outputs": [],
   "source": [
    "w=open('nfile.txt','a')\n",
    "for i in [21,22,24,25,26,27,28,29]:\n",
    "    w.write(f'{i}\\n')\n",
    "w.close()"
   ]
  },
  {
   "cell_type": "code",
   "execution_count": 96,
   "id": "e13f7909",
   "metadata": {},
   "outputs": [
    {
     "name": "stdout",
     "output_type": "stream",
     "text": [
      "0\n",
      "1\n",
      "2\n",
      "4\n",
      "5\n",
      "6\n",
      "7\n",
      "8\n",
      "9\n",
      "21\n",
      "22\n",
      "24\n",
      "25\n",
      "26\n",
      "27\n",
      "28\n",
      "29\n",
      "\n"
     ]
    }
   ],
   "source": [
    "r=open('nfile.txt','r')\n",
    "print(r.seek(0))\n",
    "print(r.read())"
   ]
  },
  {
   "cell_type": "code",
   "execution_count": 66,
   "id": "55519fbc",
   "metadata": {},
   "outputs": [
    {
     "ename": "ValueError",
     "evalue": "Must have exactly one of create/read/write/append mode and at most one plus",
     "output_type": "error",
     "traceback": [
      "\u001b[1;31m---------------------------------------------------------------------------\u001b[0m",
      "\u001b[1;31mValueError\u001b[0m                                Traceback (most recent call last)",
      "\u001b[1;32m~\\AppData\\Local\\Temp/ipykernel_7184/3958536722.py\u001b[0m in \u001b[0;36m<module>\u001b[1;34m\u001b[0m\n\u001b[1;32m----> 1\u001b[1;33m \u001b[0ms\u001b[0m\u001b[1;33m=\u001b[0m\u001b[0mopen\u001b[0m\u001b[1;33m(\u001b[0m\u001b[1;34m'nfile.txt'\u001b[0m\u001b[1;33m,\u001b[0m\u001b[1;34m'+'\u001b[0m\u001b[1;33m)\u001b[0m\u001b[1;33m\u001b[0m\u001b[1;33m\u001b[0m\u001b[0m\n\u001b[0m",
      "\u001b[1;31mValueError\u001b[0m: Must have exactly one of create/read/write/append mode and at most one plus"
     ]
    }
   ],
   "source": [
    "s=open('nfile.txt','+')"
   ]
  },
  {
   "cell_type": "code",
   "execution_count": 69,
   "id": "73b98867",
   "metadata": {},
   "outputs": [
    {
     "name": "stdout",
     "output_type": "stream",
     "text": [
      "['_CHUNK_SIZE', '__class__', '__del__', '__delattr__', '__dict__', '__dir__', '__doc__', '__enter__', '__eq__', '__exit__', '__format__', '__ge__', '__getattribute__', '__gt__', '__hash__', '__init__', '__init_subclass__', '__iter__', '__le__', '__lt__', '__ne__', '__new__', '__next__', '__reduce__', '__reduce_ex__', '__repr__', '__setattr__', '__sizeof__', '__str__', '__subclasshook__', '_checkClosed', '_checkReadable', '_checkSeekable', '_checkWritable', '_finalizing', 'buffer', 'close', 'closed', 'detach', 'encoding', 'errors', 'fileno', 'flush', 'isatty', 'line_buffering', 'mode', 'name', 'newlines', 'read', 'readable', 'readline', 'readlines', 'reconfigure', 'seek', 'seekable', 'tell', 'truncate', 'writable', 'write', 'write_through', 'writelines']\n"
     ]
    }
   ],
   "source": [
    "print(dir(r))"
   ]
  },
  {
   "cell_type": "code",
   "execution_count": null,
   "id": "44bed625",
   "metadata": {},
   "outputs": [],
   "source": []
  }
 ],
 "metadata": {
  "kernelspec": {
   "display_name": "Python 3 (ipykernel)",
   "language": "python",
   "name": "python3"
  },
  "language_info": {
   "codemirror_mode": {
    "name": "ipython",
    "version": 3
   },
   "file_extension": ".py",
   "mimetype": "text/x-python",
   "name": "python",
   "nbconvert_exporter": "python",
   "pygments_lexer": "ipython3",
   "version": "3.10.0"
  }
 },
 "nbformat": 4,
 "nbformat_minor": 5
}
