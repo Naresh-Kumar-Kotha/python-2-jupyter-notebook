{
 "cells": [
  {
   "cell_type": "code",
   "execution_count": 1,
   "id": "045e04de",
   "metadata": {},
   "outputs": [],
   "source": [
    "# Single Inheritance"
   ]
  },
  {
   "cell_type": "code",
   "execution_count": 1,
   "id": "7cba1bea",
   "metadata": {},
   "outputs": [
    {
     "name": "stdout",
     "output_type": "stream",
     "text": [
      "Parent foo\n"
     ]
    }
   ],
   "source": [
    "class Parent:\n",
    "    def foo(self):\n",
    "        print(\"Parent foo\")\n",
    "\n",
    "class Child(Parent):\n",
    "    def bar(self):\n",
    "        self.foo()\n",
    "\n",
    "\n",
    "c=Child()\n",
    "c.foo()"
   ]
  },
  {
   "cell_type": "code",
   "execution_count": null,
   "id": "901d0b87",
   "metadata": {},
   "outputs": [],
   "source": []
  },
  {
   "cell_type": "code",
   "execution_count": 3,
   "id": "97188c32",
   "metadata": {},
   "outputs": [
    {
     "name": "stdout",
     "output_type": "stream",
     "text": [
      "Child foo\n",
      "Parent foo\n"
     ]
    }
   ],
   "source": [
    "class Parent:\n",
    "    def foo(self):\n",
    "        print(\"Parent foo\")\n",
    "\n",
    "class Child(Parent):\n",
    "    def foo(self):\n",
    "        print(\"Child foo\")\n",
    "\n",
    "    def bar(self):\n",
    "        self.foo() # access foo function\n",
    "        super(Child, self).foo() # Always try to access from parent\n",
    "\n",
    "\n",
    "child = Child()\n",
    "child.bar()\n"
   ]
  },
  {
   "cell_type": "code",
   "execution_count": 2,
   "id": "f1476ac7",
   "metadata": {},
   "outputs": [],
   "source": [
    "# Multilevel Inheritance"
   ]
  },
  {
   "cell_type": "code",
   "execution_count": 4,
   "id": "f1788083",
   "metadata": {},
   "outputs": [
    {
     "name": "stdout",
     "output_type": "stream",
     "text": [
      "Parent foo\n",
      "GrandParent xyz\n"
     ]
    }
   ],
   "source": [
    "class GrandParent:\n",
    "    def xyz(self):\n",
    "        print(\"GrandParent xyz\")\n",
    "\n",
    "class Parent(GrandParent):\n",
    "    def foo(self):\n",
    "        print(\"Parent foo\")\n",
    "\n",
    "class Child(Parent):\n",
    "    def bar(self):\n",
    "        self.foo()\n",
    "        self.xyz()\n",
    "\n",
    "child = Child()\n",
    "child.bar()\n"
   ]
  },
  {
   "cell_type": "code",
   "execution_count": 3,
   "id": "2eb4b895",
   "metadata": {},
   "outputs": [],
   "source": [
    "# Multiple Inheritance"
   ]
  },
  {
   "cell_type": "code",
   "execution_count": 5,
   "id": "09edcf49",
   "metadata": {},
   "outputs": [
    {
     "name": "stdout",
     "output_type": "stream",
     "text": [
      "Parent2 foo\n"
     ]
    }
   ],
   "source": [
    "class Parent2:\n",
    "    def foo(self):\n",
    "        print(\"Parent2 foo\")\n",
    "\n",
    "class Parent1:\n",
    "    pass\n",
    "    #def foo(self):\n",
    "    #    print(\"Parent1 foo\")\n",
    "\n",
    "class Child(Parent1, Parent2):\n",
    "\n",
    "    #def foo(self):\n",
    "    #    print(\"Child foo\")\n",
    "\n",
    "    def bar(self):\n",
    "        self.foo()\n",
    "\n",
    "\n",
    "child = Child()\n",
    "child.bar()\n",
    "\n",
    "# child --> Parent1 --> parent2\n"
   ]
  },
  {
   "cell_type": "code",
   "execution_count": 4,
   "id": "b2d06202",
   "metadata": {},
   "outputs": [],
   "source": [
    "# Diamond Inheritance or Multipath Inheritance"
   ]
  },
  {
   "cell_type": "code",
   "execution_count": 6,
   "id": "1002217b",
   "metadata": {},
   "outputs": [
    {
     "name": "stdout",
     "output_type": "stream",
     "text": [
      "GrandParent foo\n"
     ]
    }
   ],
   "source": [
    "class GrandParent:\n",
    "    def foo(self):\n",
    "        print(\"GrandParent foo\")\n",
    "\n",
    "class Parent2(GrandParent):\n",
    "    pass\n",
    "    #def foo(self):\n",
    "    #    print(\"Parent2 foo\")\n",
    "\n",
    "class Parent1(GrandParent):\n",
    "    pass\n",
    "    #def foo(self):\n",
    "    #    print(\"Parent1 foo\")\n",
    "\n",
    "class Child(Parent1, Parent2):\n",
    "\n",
    "    #def foo(self):\n",
    "    #    print(\"Child foo\")\n",
    "\n",
    "    def bar(self):\n",
    "        self.foo()\n",
    "\n",
    "\n",
    "child = Child()\n",
    "child.bar()\n",
    "\n",
    "# child --> Parent1 --> parent2 --> GrandParent\n"
   ]
  },
  {
   "cell_type": "code",
   "execution_count": null,
   "id": "afab78ad",
   "metadata": {},
   "outputs": [],
   "source": []
  }
 ],
 "metadata": {
  "kernelspec": {
   "display_name": "Python 3 (ipykernel)",
   "language": "python",
   "name": "python3"
  },
  "language_info": {
   "codemirror_mode": {
    "name": "ipython",
    "version": 3
   },
   "file_extension": ".py",
   "mimetype": "text/x-python",
   "name": "python",
   "nbconvert_exporter": "python",
   "pygments_lexer": "ipython3",
   "version": "3.10.0"
  }
 },
 "nbformat": 4,
 "nbformat_minor": 5
}
