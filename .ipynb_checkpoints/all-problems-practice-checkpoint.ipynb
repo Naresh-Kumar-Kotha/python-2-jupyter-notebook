{
 "cells": [
  {
   "cell_type": "code",
   "execution_count": 1,
   "id": "cdf2a545",
   "metadata": {},
   "outputs": [],
   "source": [
    "# 1.Find the common part from the given iterables \n",
    "# Example: (1,2,3,4,6), (1,2,3,7,8,9), (1,2,3,10,11,12), (1,2,13,14,15)\n",
    "# Result: (1,2)"
   ]
  },
  {
   "cell_type": "code",
   "execution_count": 14,
   "id": "b41266dc",
   "metadata": {},
   "outputs": [],
   "source": [
    "data=(1,2,3,4,6), (1,2,3,7,8,9), (1,2,3,10,11,12), (1,2,13,14,15)"
   ]
  },
  {
   "cell_type": "code",
   "execution_count": 16,
   "id": "a96aa347",
   "metadata": {},
   "outputs": [
    {
     "data": {
      "text/plain": [
       "[(1, 1, 1, 1), (2, 2, 2, 2), (3, 3, 3, 13), (4, 7, 10, 14), (6, 8, 11, 15)]"
      ]
     },
     "execution_count": 16,
     "metadata": {},
     "output_type": "execute_result"
    }
   ],
   "source": [
    "list(zip(*data))"
   ]
  },
  {
   "cell_type": "code",
   "execution_count": 22,
   "id": "e5689a82",
   "metadata": {},
   "outputs": [
    {
     "name": "stdout",
     "output_type": "stream",
     "text": [
      "1\n",
      "2\n"
     ]
    }
   ],
   "source": [
    "data=(1,2,3,4,6), (1,2,3,7,8,9), (1,2,3,10,11,12), (1,2,13,14,15)\n",
    "for i in zip(*data):\n",
    "    if len(set(i))==1:\n",
    "        print(i[0])"
   ]
  },
  {
   "cell_type": "code",
   "execution_count": 21,
   "id": "a951214f",
   "metadata": {},
   "outputs": [],
   "source": [
    "# 2. L = [“a”,”b”,”c”,3,4,5].If it is an integer then add 10 to integer and print \n",
    "#  O/p -- a,b,c,13,14,15"
   ]
  },
  {
   "cell_type": "code",
   "execution_count": 32,
   "id": "56d1451f",
   "metadata": {},
   "outputs": [
    {
     "name": "stdout",
     "output_type": "stream",
     "text": [
      "a b c 13 14 15 "
     ]
    }
   ],
   "source": [
    "L = ['a','b','c',3,4,5]\n",
    "for i in L:\n",
    "    if isinstance(i,int):\n",
    "        print(10+i,end=' ')\n",
    "    else:\n",
    "        print(i,end=' ')"
   ]
  },
  {
   "cell_type": "code",
   "execution_count": 33,
   "id": "60e38f09",
   "metadata": {},
   "outputs": [],
   "source": [
    "#  3. L = [“a”,”b”,”c”,3,4,5] ..If it is integer add 10 and print all those values in list\n",
    "#  o/p  --  [“a”,”b”,”c”,13,14,15]."
   ]
  },
  {
   "cell_type": "code",
   "execution_count": 31,
   "id": "b0b5cba6",
   "metadata": {},
   "outputs": [
    {
     "data": {
      "text/plain": [
       "['a', 'b', 'c', 13, 14, 15]"
      ]
     },
     "execution_count": 31,
     "metadata": {},
     "output_type": "execute_result"
    }
   ],
   "source": [
    "L = ['a','b','c',3,4,5]\n",
    "# for i in L:\n",
    "#     if isinstance(i,int):\n",
    "#         print(10+i,end=' ')\n",
    "#     else:\n",
    "#         print(i,end=' ')\n",
    "[10+i if isinstance(i,int) else i for i in L]"
   ]
  },
  {
   "cell_type": "code",
   "execution_count": 34,
   "id": "891bc4e3",
   "metadata": {},
   "outputs": [],
   "source": [
    "# 4. L1 = [3,4,5,6],L2 = [4,3,2,1].Result list should be addition of elements in both lists O/p -- Result List -- [7,7,7,7]"
   ]
  },
  {
   "cell_type": "code",
   "execution_count": 36,
   "id": "2fcc15f7",
   "metadata": {},
   "outputs": [
    {
     "data": {
      "text/plain": [
       "[7, 7, 7, 7]"
      ]
     },
     "execution_count": 36,
     "metadata": {},
     "output_type": "execute_result"
    }
   ],
   "source": [
    "L1 = [3,4,5,6]\n",
    "L2 = [4,3,2,1]\n",
    "[L1[0]+L2[0] for i in range(len(L1))]"
   ]
  },
  {
   "cell_type": "code",
   "execution_count": 37,
   "id": "856747b5",
   "metadata": {},
   "outputs": [],
   "source": [
    "# 5. L = [1,1,2,3,4,5,1,12,1,2,1,1,2] .remove duplicates without using set?\n",
    "# Try with and without a temporary list?"
   ]
  },
  {
   "cell_type": "code",
   "execution_count": 46,
   "id": "7a1dfee7",
   "metadata": {},
   "outputs": [
    {
     "name": "stdout",
     "output_type": "stream",
     "text": [
      "[1, 2, 3, 4, 5, 12]\n"
     ]
    }
   ],
   "source": [
    "# with a temporary list\n",
    "L = [1,1,2,3,4,5,1,12,1,2,1,1,2]\n",
    "lst=[]\n",
    "for i in L:\n",
    "    if i not in lst:\n",
    "        lst.append(i)\n",
    "print(lst)"
   ]
  },
  {
   "cell_type": "code",
   "execution_count": 50,
   "id": "24aa5996",
   "metadata": {},
   "outputs": [
    {
     "name": "stdout",
     "output_type": "stream",
     "text": [
      "[3, 4, 5, 12, 1, 2]\n"
     ]
    }
   ],
   "source": [
    "# without a temporary list\n",
    "L = [1,1,2,3,4,5,1,12,1,2,1,1,2]\n",
    "for i in L:\n",
    "    while L.count(i)>1:\n",
    "        L.remove(i)\n",
    "print(L)"
   ]
  },
  {
   "cell_type": "code",
   "execution_count": 51,
   "id": "afb675e8",
   "metadata": {},
   "outputs": [],
   "source": [
    "# 6. S = “I am in hyderabad”.  Result = [“I”,”am”,”in”,”hyderabad”]\n",
    "# Do this without using the Split( ) function."
   ]
  },
  {
   "cell_type": "code",
   "execution_count": 99,
   "id": "61dbec5f",
   "metadata": {},
   "outputs": [
    {
     "data": {
      "text/plain": [
       "['I', 'am', 'in', 'hyd@erabad']"
      ]
     },
     "execution_count": 99,
     "metadata": {},
     "output_type": "execute_result"
    }
   ],
   "source": [
    "s = 'I am in   hyd@erabad '\n",
    "result=[]\n",
    "st=''\n",
    "for i in s:\n",
    "    if i!=\" \":\n",
    "        st+=i\n",
    "    else:\n",
    "        if st!=\"\":\n",
    "            result.append(st)\n",
    "        st=\"\"\n",
    "if st:\n",
    "        result.append(st)\n",
    "result"
   ]
  },
  {
   "cell_type": "code",
   "execution_count": 100,
   "id": "a3d1d26d",
   "metadata": {},
   "outputs": [],
   "source": [
    "# 7. s = “I am in hyderabad”     Result = “I Am In Hyderabad”.\n",
    "# Do this without using title ()"
   ]
  },
  {
   "cell_type": "code",
   "execution_count": 101,
   "id": "19e21337",
   "metadata": {},
   "outputs": [
    {
     "data": {
      "text/plain": [
       "'I Am In Hyderabad'"
      ]
     },
     "execution_count": 101,
     "metadata": {},
     "output_type": "execute_result"
    }
   ],
   "source": [
    "s = 'I am in hyderabad'\n",
    "result=\"\"\n",
    "st=''\n",
    "for i in s:\n",
    "    if i!=\" \":\n",
    "        st+=i\n",
    "    else:\n",
    "        if st!=\"\":\n",
    "            c=st.capitalize()\n",
    "            result+=c+\" \"\n",
    "        st=\"\"\n",
    "if st:\n",
    "        c=st.capitalize()\n",
    "        result+=c\n",
    "result"
   ]
  },
  {
   "cell_type": "code",
   "execution_count": 102,
   "id": "5786d369",
   "metadata": {},
   "outputs": [],
   "source": [
    "# 8. S = “I am in hyderabad”.  If we give centre = 50\n",
    "# Result = “                 I am in hyderabad                                 ”\n",
    "# Do this without using centre ( )"
   ]
  },
  {
   "cell_type": "code",
   "execution_count": 105,
   "id": "bb446100",
   "metadata": {},
   "outputs": [
    {
     "data": {
      "text/plain": [
       "'                    I am in hyderabad                    '"
      ]
     },
     "execution_count": 105,
     "metadata": {},
     "output_type": "execute_result"
    }
   ],
   "source": [
    "# 8-S1\n",
    "s= 'I am in hyderabad'\n",
    "t=s.ljust(len(s)+20) \n",
    "r=t.rjust(len(t)+20)\n",
    "r"
   ]
  },
  {
   "cell_type": "code",
   "execution_count": 115,
   "id": "76b0b6a5",
   "metadata": {},
   "outputs": [
    {
     "data": {
      "text/plain": [
       "'                     I am in hyderabad                     '"
      ]
     },
     "execution_count": 115,
     "metadata": {},
     "output_type": "execute_result"
    }
   ],
   "source": [
    "# 8-S2\n",
    "s='I am in hyderabad'\n",
    "width=60\n",
    "\" \"*((width-len(s))//2)+s+\" \"*((width-len(s))//2)\n"
   ]
  },
  {
   "cell_type": "code",
   "execution_count": 116,
   "id": "23532769",
   "metadata": {},
   "outputs": [],
   "source": [
    "# 9. S = “This is hyb9900164930 bngl 9900 apr9505909369 flair950”\n",
    "# O/P -- only mobile numbers in above string\n",
    "# 9900164930\n",
    "# 9505909369"
   ]
  },
  {
   "cell_type": "code",
   "execution_count": 119,
   "id": "752fcf48",
   "metadata": {},
   "outputs": [
    {
     "name": "stdout",
     "output_type": "stream",
     "text": [
      "9900164930\n",
      "9505909369\n"
     ]
    }
   ],
   "source": [
    "s = 'This is hyb9900164930 bngl 9900 apr9505909369 flair950'\n",
    "st=\"\"\n",
    "for i in s:\n",
    "    if i.isdigit():\n",
    "        st+=i\n",
    "    else:\n",
    "        if st and len(st)==10 and st[0] in '9876':\n",
    "            print(st)\n",
    "        st=\"\""
   ]
  },
  {
   "cell_type": "code",
   "execution_count": 120,
   "id": "3efcd415",
   "metadata": {},
   "outputs": [],
   "source": [
    "# 10. S = “I am in bangalore”\n",
    "# Count how many times letters are repeated in above string\n",
    "# O/P  --  I = 2,a = 2,m=1,n=2,b=1,g=1,l=1,o=1,r=1,e=1"
   ]
  },
  {
   "cell_type": "code",
   "execution_count": 2,
   "id": "f0c958ea",
   "metadata": {},
   "outputs": [
    {
     "name": "stdout",
     "output_type": "stream",
     "text": [
      "{'I': 1, 'a': 2, 'm': 1, 'i': 1, 'n': 2, 'b': 1, 'g': 1, 'l': 1, 'o': 1, 'r': 1, 'e': 1}\n"
     ]
    }
   ],
   "source": [
    "s = 'I am in banglore'\n",
    "d={}\n",
    "for i in s:\n",
    "    if i.isalpha():\n",
    "        if i in d:\n",
    "            d[i]=d.get(i,0)+1\n",
    "        else:        \n",
    "            d[i]=1        \n",
    "print(d)\n"
   ]
  },
  {
   "cell_type": "code",
   "execution_count": 161,
   "id": "e18fcc97",
   "metadata": {},
   "outputs": [],
   "source": [
    "# 11. S = “I am in bangalore”\n",
    "# Count only vowels (a,e,i,o,u)how many times repeated ."
   ]
  },
  {
   "cell_type": "code",
   "execution_count": 171,
   "id": "66f7008b",
   "metadata": {},
   "outputs": [
    {
     "name": "stdout",
     "output_type": "stream",
     "text": [
      "{'a': 3, 'i': 1, 'o': 1, 'e': 1, 'u': 1}\n"
     ]
    }
   ],
   "source": [
    "s = 'I am in banglore urban'\n",
    "d={}\n",
    "for i in s:\n",
    "    if i in 'aeiou':\n",
    "            d[i]=d.get(i,0)+1       \n",
    "print(d)"
   ]
  },
  {
   "cell_type": "code",
   "execution_count": 172,
   "id": "20d3a8c0",
   "metadata": {},
   "outputs": [],
   "source": [
    "# 12. S= “bangalore hyderabad chennai pune”\n",
    "# Count how many times letters are repeated in each word ."
   ]
  },
  {
   "cell_type": "code",
   "execution_count": 3,
   "id": "ed1334e4",
   "metadata": {
    "scrolled": false
   },
   "outputs": [
    {
     "data": {
      "text/plain": [
       "{'bangalore': {'b': 1, 'a': 2, 'n': 1, 'g': 1, 'l': 1, 'o': 1, 'r': 1, 'e': 1},\n",
       " 'hyderabad': {'h': 1, 'y': 1, 'd': 2, 'e': 1, 'r': 1, 'a': 2, 'b': 1},\n",
       " 'chennai': {'c': 1, 'h': 1, 'e': 1, 'n': 2, 'a': 1, 'i': 1},\n",
       " 'pune': {'p': 1, 'u': 1, 'n': 1, 'e': 1}}"
      ]
     },
     "execution_count": 3,
     "metadata": {},
     "output_type": "execute_result"
    }
   ],
   "source": [
    "s = 'bangalore hyderabad chennai pune'\n",
    "t=s.split()\n",
    "d={}\n",
    "for i in t:\n",
    "    d1={}\n",
    "    for j in i:\n",
    "        d1[j]=d1.get(j,0)+1\n",
    "    d.update({i:d1})\n",
    "d\n",
    "        \n"
   ]
  },
  {
   "cell_type": "code",
   "execution_count": 185,
   "id": "7c32aedb",
   "metadata": {},
   "outputs": [],
   "source": [
    "# 13. (A pangram is a sentence that contains all the letters of the English alphabet at least once, \n",
    "#      for example: \"The quick brown fox jumps over the lazy dog\".)"
   ]
  },
  {
   "cell_type": "code",
   "execution_count": 197,
   "id": "6bdcc4bb",
   "metadata": {},
   "outputs": [
    {
     "name": "stdout",
     "output_type": "stream",
     "text": [
      "pangram\n"
     ]
    }
   ],
   "source": [
    "count=1\n",
    "for i in \"abcdefghijklmnopqrstuvwxyz\":\n",
    "    if i not in \"the quick brown fox jumps over the lazy dog\":\n",
    "        count+=1\n",
    "print('pangram' if count==1 else 'Not a pangram')"
   ]
  },
  {
   "cell_type": "code",
   "execution_count": 198,
   "id": "c1dffe49",
   "metadata": {},
   "outputs": [],
   "source": [
    "# 14. Write a Python program that accepts a string and calculates the number of upper case letters and lower case letters. \n",
    "# Sample String : 'The quick Brow Fox'\n",
    "# Expected Output : \n",
    "#         No. of Uppercase characters : 3\n",
    "#         No. of Lower case Characters : 12"
   ]
  },
  {
   "cell_type": "code",
   "execution_count": 205,
   "id": "16591955",
   "metadata": {},
   "outputs": [
    {
     "data": {
      "text/plain": [
       "(3, 12)"
      ]
     },
     "execution_count": 205,
     "metadata": {},
     "output_type": "execute_result"
    }
   ],
   "source": [
    "s='The quick Brow Fox'\n",
    "u=0\n",
    "l=0\n",
    "for i in s:\n",
    "    if i.isalpha():\n",
    "        if i.isupper():\n",
    "            u+=1 \n",
    "        else:\n",
    "             l+=1\n",
    "u,l\n",
    "# print(f\"u={u},l={l}\")\n",
    "    "
   ]
  },
  {
   "cell_type": "code",
   "execution_count": null,
   "id": "1d37e4e9",
   "metadata": {},
   "outputs": [],
   "source": []
  },
  {
   "cell_type": "code",
   "execution_count": 206,
   "id": "59bb78b6",
   "metadata": {},
   "outputs": [],
   "source": [
    "# 16. Write a Python program that accepts a hyphen separated sequence of words as input \n",
    "# and prints the words in a hyphen-separated sequence after sorting them alphabetically.\n",
    "# Sample Items : green-red-yellow-black-white\n",
    "# Expected Result : black-green-red-white-yellow"
   ]
  },
  {
   "cell_type": "code",
   "execution_count": 207,
   "id": "fcfca5b8",
   "metadata": {},
   "outputs": [
    {
     "data": {
      "text/plain": [
       "'black-green-red-white-yellow'"
      ]
     },
     "execution_count": 207,
     "metadata": {},
     "output_type": "execute_result"
    }
   ],
   "source": [
    "word='green-red-yellow-black-white'\n",
    "colors=word.split('-')\n",
    "colors.sort()\n",
    "'-'.join(colors)"
   ]
  },
  {
   "cell_type": "code",
   "execution_count": null,
   "id": "f2bdae87",
   "metadata": {},
   "outputs": [],
   "source": [
    "# 17. create a dictionary from a list of integers.\n",
    "# i/p: [9,3,4,1,2,9,4,2,1,6,3,2,4]\n",
    "# o/p: {9:2, 3:2, 2:3, 4:3, 1:2, 6:1} "
   ]
  },
  {
   "cell_type": "code",
   "execution_count": 209,
   "id": "effb9514",
   "metadata": {},
   "outputs": [
    {
     "data": {
      "text/plain": [
       "{9: 2, 3: 2, 4: 3, 1: 2, 2: 3, 6: 1}"
      ]
     },
     "execution_count": 209,
     "metadata": {},
     "output_type": "execute_result"
    }
   ],
   "source": [
    "l=[9,3,4,1,2,9,4,2,1,6,3,2,4]\n",
    "d={}\n",
    "for i in l:\n",
    "    d[i]=d.get(i, 0)+1\n",
    "d\n"
   ]
  },
  {
   "cell_type": "code",
   "execution_count": null,
   "id": "9ea02d72",
   "metadata": {},
   "outputs": [],
   "source": []
  },
  {
   "cell_type": "code",
   "execution_count": 173,
   "id": "da034491",
   "metadata": {},
   "outputs": [],
   "source": [
    "# 18. Write a python program to create a dictionary.\n",
    "# i/p:[\"sachin cricket\", \"Federer tennis\", \"Nadal tennis\", \"virat cricket\", \"Messi football\"]\n",
    "# o/p: {\"cricket\": [\"sachin\", \"virat\"], \"tennis\": [\"federer\", 'nadal'], \"football\": ['Messi']}"
   ]
  },
  {
   "cell_type": "code",
   "execution_count": 181,
   "id": "b3c5ec21",
   "metadata": {},
   "outputs": [
    {
     "name": "stdout",
     "output_type": "stream",
     "text": [
      "{'cricket': ['sachin', 'virat'], 'tennis': ['Federer', 'Nadal'], 'football': ['Messi']}\n"
     ]
    }
   ],
   "source": [
    "data=[\"sachin cricket\", \"Federer tennis\", \"Nadal tennis\", \"virat cricket\", \"Messi football\"]\n",
    "result={}\n",
    "for i in data:\n",
    "    name,game=i.split()\n",
    "    result[game]=result.get(game,[])+[name]\n",
    "print(result)"
   ]
  },
  {
   "cell_type": "code",
   "execution_count": 210,
   "id": "87a4544a",
   "metadata": {},
   "outputs": [],
   "source": [
    "# 19. write a program to print if a given string is palindrome or not.\n",
    "# i/p: \"hello\"  o/p: Not a palindrome.\n",
    "# i/p: \"madam\"  o/p : It's a palindrome."
   ]
  },
  {
   "cell_type": "code",
   "execution_count": 214,
   "id": "f7cba609",
   "metadata": {},
   "outputs": [
    {
     "name": "stdout",
     "output_type": "stream",
     "text": [
      "not a palindrome\n",
      "palindrome\n"
     ]
    }
   ],
   "source": [
    "print('palindrome' if \"hello\"==\"hello\"[::-1] else 'not a palindrome')\n",
    "print('palindrome' if \"madam\"==\"madam\"[::-1] else 'not a palindrome')   \n",
    "    "
   ]
  },
  {
   "cell_type": "code",
   "execution_count": 215,
   "id": "80eee50c",
   "metadata": {},
   "outputs": [],
   "source": [
    "# 20. Write a python function to interchange keys and values in a dictionary. \n",
    "# i/p: {'x': 1, 'y': 2, 'z': 3}\n",
    "# o/p: {1: 'x', 2: 'y', 3: 'z'}"
   ]
  },
  {
   "cell_type": "code",
   "execution_count": 220,
   "id": "558f14ce",
   "metadata": {},
   "outputs": [
    {
     "data": {
      "text/plain": [
       "{1: 'x', 2: 'y', 3: 'z'}"
      ]
     },
     "execution_count": 220,
     "metadata": {},
     "output_type": "execute_result"
    }
   ],
   "source": [
    "d={'x': 1, 'y': 2, 'z': 3}\n",
    "d2={}\n",
    "for k,v in d.items():\n",
    "    d2[v]=k\n",
    "d2\n",
    "# {v:k for k,v in d.items()}"
   ]
  },
  {
   "cell_type": "code",
   "execution_count": 221,
   "id": "9893fc90",
   "metadata": {},
   "outputs": [],
   "source": [
    "# 21. Write a program to take consecutive elements from two lists.\n",
    "# i/p: a = [3, 4, 5, 6],  b = [1, 2, 3, 4]\n",
    "# o/p: [(3, 1), (4, 2), (5, 3), (6, 4)]"
   ]
  },
  {
   "cell_type": "code",
   "execution_count": 229,
   "id": "4709a166",
   "metadata": {},
   "outputs": [
    {
     "data": {
      "text/plain": [
       "[(3, 1), (4, 2), (5, 3), (6, 4)]"
      ]
     },
     "execution_count": 229,
     "metadata": {},
     "output_type": "execute_result"
    }
   ],
   "source": [
    "a,b = [3, 4, 5, 6], [1, 2, 3, 4]\n",
    "# list(zip(a,b))\n",
    "[(a[i],b[i]) for i in range(len(a))]"
   ]
  },
  {
   "cell_type": "code",
   "execution_count": 230,
   "id": "ceb87578",
   "metadata": {},
   "outputs": [],
   "source": [
    "# 22. Write a program to group words from a list.\n",
    "# i/p: ['ashok', 'hari', 'bhanu', 'anil', 'bharath', 'anvesh', 'uday', 'raja']\n",
    "# o/p: {'a': ['ashok', 'anil', 'anvesh'], 'b': ['bhanu', 'bharath'], h: ['hari'], 'u': ['uday'], 'r': ['raja']}"
   ]
  },
  {
   "cell_type": "code",
   "execution_count": 238,
   "id": "e291aa22",
   "metadata": {},
   "outputs": [
    {
     "name": "stdout",
     "output_type": "stream",
     "text": [
      "{'a': ['ashok', 'anil', 'anvesh'], 'h': ['hari'], 'b': ['bhanu', 'bharath'], 'u': ['uday'], 'r': ['raja']}\n"
     ]
    }
   ],
   "source": [
    "data=['ashok', 'hari', 'bhanu', 'anil', 'bharath', 'anvesh', 'uday', 'raja']\n",
    "d={}\n",
    "for i in data:\n",
    "    d[i[0]]=d.get(i[0],[])+[i]\n",
    "print(d)"
   ]
  },
  {
   "cell_type": "code",
   "execution_count": 239,
   "id": "cc383fdd",
   "metadata": {},
   "outputs": [],
   "source": [
    "# 23. Write a program to check if a given number is an armstrong number or not. Armstrong number is formed by\n",
    "# sum of cubes of each digit of a given number.\n",
    "# 153 = 1*1*1 + 5*5*5 + 3*3*3  // 153 is an Armstrong number."
   ]
  },
  {
   "cell_type": "code",
   "execution_count": 256,
   "id": "bff42ffd",
   "metadata": {},
   "outputs": [
    {
     "name": "stdout",
     "output_type": "stream",
     "text": [
      "Armstrong\n"
     ]
    }
   ],
   "source": [
    "num='153'\n",
    "digit=153\n",
    "sum=0\n",
    "for i in range(len(num)):\n",
    "    temp=digit%10\n",
    "    digit=digit//10\n",
    "    sum+=(temp**len(num))\n",
    "if sum==int(num):\n",
    "    print('Armstrong')\n",
    "else:\n",
    "    print('Not')"
   ]
  },
  {
   "cell_type": "code",
   "execution_count": null,
   "id": "2cddc6d3",
   "metadata": {},
   "outputs": [],
   "source": []
  },
  {
   "cell_type": "code",
   "execution_count": null,
   "id": "3a465fe4",
   "metadata": {},
   "outputs": [],
   "source": []
  },
  {
   "cell_type": "code",
   "execution_count": 1,
   "id": "0477f533",
   "metadata": {},
   "outputs": [
    {
     "name": "stdout",
     "output_type": "stream",
     "text": [
      "0\n",
      "1\n",
      "1\n",
      "2\n",
      "3\n",
      "5\n",
      "8\n",
      "13\n",
      "21\n",
      "34\n"
     ]
    }
   ],
   "source": [
    "# fibonacci n series\n",
    "def fib(n):\n",
    "    a=0\n",
    "    b=1\n",
    "    if n<=0:\n",
    "        print('invalid input')\n",
    "    elif n==1:\n",
    "        print(a)\n",
    "    else:\n",
    "        print(a)\n",
    "        print(b)\n",
    "        for i in range(2,n):\n",
    "            a,b=b,a+b\n",
    "            print(b)\n",
    "fib(10)"
   ]
  },
  {
   "cell_type": "code",
   "execution_count": 22,
   "id": "b6642662",
   "metadata": {},
   "outputs": [
    {
     "name": "stdout",
     "output_type": "stream",
     "text": [
      "0\n",
      "1\n",
      "1\n",
      "2\n",
      "3\n",
      "5\n",
      "8\n",
      "13\n",
      "21\n",
      "34\n",
      "55\n",
      "89\n"
     ]
    }
   ],
   "source": [
    "# fibonacci series upto n\n",
    "def fibn(n):\n",
    "        a=0\n",
    "        b=1\n",
    "        i=0\n",
    "        print(a)\n",
    "        while b<=n:\n",
    "            a,b=b,a+b\n",
    "            print(a)\n",
    "fibn(100)"
   ]
  },
  {
   "cell_type": "code",
   "execution_count": 28,
   "id": "8d57a1c6",
   "metadata": {},
   "outputs": [
    {
     "data": {
      "text/plain": [
       "5040"
      ]
     },
     "execution_count": 28,
     "metadata": {},
     "output_type": "execute_result"
    }
   ],
   "source": [
    "# factorial\n",
    "n=7\n",
    "product=1\n",
    "for i in range(1,n+1):\n",
    "    product*=i\n",
    "product"
   ]
  },
  {
   "cell_type": "code",
   "execution_count": 32,
   "id": "9eca5194",
   "metadata": {},
   "outputs": [
    {
     "name": "stdout",
     "output_type": "stream",
     "text": [
      "factorial of 1 is: 1\n",
      "factorial of 2 is: 2\n",
      "factorial of 3 is: 6\n",
      "factorial of 4 is: 24\n",
      "factorial of 5 is: 120\n",
      "factorial of 6 is: 720\n",
      "factorial of 7 is: 5040\n",
      "factorial of 8 is: 40320\n",
      "factorial of 9 is: 362880\n"
     ]
    }
   ],
   "source": [
    "# factorial as a function for n numbers\n",
    "def fact(n):\n",
    "    product=1\n",
    "    for i in range(1,n+1):\n",
    "        product*=i\n",
    "    return product\n",
    "n=10\n",
    "for i in range(1,n):\n",
    "    print(f\"factorial of {i} is:\",fact(i))\n",
    "    "
   ]
  },
  {
   "cell_type": "code",
   "execution_count": 44,
   "id": "dab2ce75",
   "metadata": {},
   "outputs": [
    {
     "name": "stdout",
     "output_type": "stream",
     "text": [
      "2\n",
      "3\n",
      "5\n",
      "7\n"
     ]
    }
   ],
   "source": [
    "# prime numbers upto n\n",
    "n=10\n",
    "for i in range(2,n+1):\n",
    "    count=0\n",
    "    for j in range(1,i+1):\n",
    "        if i%j==0:\n",
    "            count+=1\n",
    "    if count==2:\n",
    "        print(i)"
   ]
  },
  {
   "cell_type": "code",
   "execution_count": 1,
   "id": "78fd3b0b",
   "metadata": {},
   "outputs": [],
   "source": [
    "l = [(\"m\", 100),(\"r\", 200),(\"a\", 90),(\"w\", 20),(\"b\", 100),(\"p\", 60), (\"m\", 60),(\"r\", 70),(\"a\", 100),(\"w\", 100),\n",
    "     (\"r\", 110), (\"r\", 20),(\"a\", 12),(\"p\", 127),(\"r\", 40),(\"p\", 100),(\"w\", 250)]\n",
    "# result = {\"m\": [100, 60, ....], \"p\": [........]}"
   ]
  },
  {
   "cell_type": "code",
   "execution_count": 16,
   "id": "a4657a3f",
   "metadata": {},
   "outputs": [
    {
     "data": {
      "text/plain": [
       "{'m': [100, 60],\n",
       " 'r': [200, 70, 110, 20, 40],\n",
       " 'a': [90, 100, 12],\n",
       " 'w': [20, 100, 250],\n",
       " 'b': [100],\n",
       " 'p': [60, 127, 100]}"
      ]
     },
     "execution_count": 16,
     "metadata": {},
     "output_type": "execute_result"
    }
   ],
   "source": [
    "l = [(\"m\", 100),(\"r\", 200),(\"a\", 90),(\"w\", 20),(\"b\", 100),(\"p\", 60), (\"m\", 60),(\"r\", 70),(\"a\", 100),(\"w\", 100),\n",
    "     (\"r\", 110), (\"r\", 20),(\"a\", 12),(\"p\", 127),(\"r\", 40),(\"p\", 100),(\"w\", 250)]\n",
    "\n",
    "d={}\n",
    "for fruit,quantity in l:\n",
    "    d[fruit]=d.get(fruit,[])+[quantity]\n",
    "d"
   ]
  },
  {
   "cell_type": "code",
   "execution_count": null,
   "id": "fcc30671",
   "metadata": {},
   "outputs": [],
   "source": []
  }
 ],
 "metadata": {
  "kernelspec": {
   "display_name": "Python 3 (ipykernel)",
   "language": "python",
   "name": "python3"
  },
  "language_info": {
   "codemirror_mode": {
    "name": "ipython",
    "version": 3
   },
   "file_extension": ".py",
   "mimetype": "text/x-python",
   "name": "python",
   "nbconvert_exporter": "python",
   "pygments_lexer": "ipython3",
   "version": "3.10.0"
  }
 },
 "nbformat": 4,
 "nbformat_minor": 5
}
