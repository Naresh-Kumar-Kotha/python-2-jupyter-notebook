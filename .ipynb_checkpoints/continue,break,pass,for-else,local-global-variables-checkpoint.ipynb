{
 "cells": [
  {
   "cell_type": "code",
   "execution_count": 5,
   "id": "4852e557",
   "metadata": {},
   "outputs": [
    {
     "name": "stdout",
     "output_type": "stream",
     "text": [
      "cD\n",
      "Ef\n",
      "gH\n"
     ]
    }
   ],
   "source": [
    "# continue \n",
    "for i in ['Ab', 'bc','cD', 'Ef','gH']:\n",
    "    if i.startswith(('A','b','C')):\n",
    "        continue\n",
    "    else:\n",
    "        print(i)\n"
   ]
  },
  {
   "cell_type": "code",
   "execution_count": 9,
   "id": "c9b54672",
   "metadata": {},
   "outputs": [
    {
     "name": "stdout",
     "output_type": "stream",
     "text": [
      "1\n",
      "2\n",
      "6 is found\n"
     ]
    }
   ],
   "source": [
    "# break\n",
    "l=[1,2,6,4,3,6,78,56,6,34]\n",
    "for i in l:\n",
    "    if i==6:\n",
    "        print(f\"{i} is found\")\n",
    "        break\n",
    "    else:\n",
    "        print(i)"
   ]
  },
  {
   "cell_type": "code",
   "execution_count": 10,
   "id": "bb6ffbd3",
   "metadata": {},
   "outputs": [],
   "source": [
    "# pass\n",
    "if i:\n",
    "    pass"
   ]
  },
  {
   "cell_type": "code",
   "execution_count": 12,
   "id": "1bb072b6",
   "metadata": {},
   "outputs": [],
   "source": [
    "# pass\n",
    "def func():\n",
    "    pass"
   ]
  },
  {
   "cell_type": "code",
   "execution_count": 13,
   "id": "bc5aaf05",
   "metadata": {},
   "outputs": [],
   "source": [
    "# pass\n",
    "for i in l:\n",
    "    if i:\n",
    "        pass\n",
    "    else:\n",
    "        pass"
   ]
  },
  {
   "cell_type": "code",
   "execution_count": 14,
   "id": "aa2977fe",
   "metadata": {},
   "outputs": [
    {
     "name": "stdout",
     "output_type": "stream",
     "text": [
      "1\n",
      "2\n",
      "3\n",
      "46\n",
      "end\n"
     ]
    }
   ],
   "source": [
    "# for-else\n",
    "for i in [1,2,3,46]:\n",
    "    print(i)\n",
    "else:\n",
    "    print('end')"
   ]
  },
  {
   "cell_type": "code",
   "execution_count": 16,
   "id": "b41f4c99",
   "metadata": {},
   "outputs": [
    {
     "name": "stdout",
     "output_type": "stream",
     "text": [
      "1\n",
      "3\n",
      "46\n",
      "end\n"
     ]
    }
   ],
   "source": [
    "# for-else; else is executed even if continue is present in loop\n",
    "for i in [1,2,3,46]:\n",
    "    if i==2:\n",
    "        continue\n",
    "    else:\n",
    "        print(i)\n",
    "else:\n",
    "    print('end')"
   ]
  },
  {
   "cell_type": "code",
   "execution_count": 17,
   "id": "638f99ad",
   "metadata": {},
   "outputs": [
    {
     "name": "stdout",
     "output_type": "stream",
     "text": [
      "1\n"
     ]
    }
   ],
   "source": [
    "# for-else; else is not at all executed if break is present in loop\n",
    "for i in [1,2,3,46]:\n",
    "    if i==2:\n",
    "        break\n",
    "    else:\n",
    "        print(i)\n",
    "else:\n",
    "    print('end')"
   ]
  },
  {
   "cell_type": "code",
   "execution_count": 23,
   "id": "e82d7eae",
   "metadata": {},
   "outputs": [
    {
     "name": "stdout",
     "output_type": "stream",
     "text": [
      "20\n",
      "10\n"
     ]
    }
   ],
   "source": [
    "# global variable\n",
    "\n",
    "g=10   # global variable\n",
    "\n",
    "def func():\n",
    "    g=20   # local variable\n",
    "    return g\n",
    "print(func())\n",
    "print(g)"
   ]
  },
  {
   "cell_type": "code",
   "execution_count": 24,
   "id": "5c76cd22",
   "metadata": {},
   "outputs": [
    {
     "name": "stdout",
     "output_type": "stream",
     "text": [
      "20\n",
      "20\n"
     ]
    }
   ],
   "source": [
    "# global variable\n",
    "\n",
    "g=10   # global variable\n",
    "\n",
    "def func():\n",
    "    global g   # global variable declaration\n",
    "    g=20       # global variable\n",
    "    return g\n",
    "print(func())\n",
    "print(g)       # 20 is assigned to g only if func() is called"
   ]
  },
  {
   "cell_type": "code",
   "execution_count": null,
   "id": "e9c39598",
   "metadata": {},
   "outputs": [],
   "source": []
  }
 ],
 "metadata": {
  "kernelspec": {
   "display_name": "Python 3 (ipykernel)",
   "language": "python",
   "name": "python3"
  },
  "language_info": {
   "codemirror_mode": {
    "name": "ipython",
    "version": 3
   },
   "file_extension": ".py",
   "mimetype": "text/x-python",
   "name": "python",
   "nbconvert_exporter": "python",
   "pygments_lexer": "ipython3",
   "version": "3.10.0"
  }
 },
 "nbformat": 4,
 "nbformat_minor": 5
}
