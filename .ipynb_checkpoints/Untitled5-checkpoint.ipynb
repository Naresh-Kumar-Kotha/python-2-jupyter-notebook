{
 "cells": [
  {
   "cell_type": "code",
   "execution_count": 1,
   "id": "430a4bab",
   "metadata": {},
   "outputs": [],
   "source": [
    "# 1. Find the common part from the given iterables \n",
    "# Example: (1,2,3,4,6), (1,2,3,7,8,9), (1,2,3,10,11,12), (1,2,13,14,15)\n",
    "# Result: (1,2)"
   ]
  },
  {
   "cell_type": "code",
   "execution_count": 3,
   "id": "2fb2f753",
   "metadata": {},
   "outputs": [
    {
     "name": "stdout",
     "output_type": "stream",
     "text": [
      "1\n",
      "2\n"
     ]
    }
   ],
   "source": [
    "l= (1,2,3,4,6), (1,2,3,7,8,9), (1,2,3,10,11,12), (1,2,13,14,15)\n",
    "for i in zip(*l):\n",
    "    if len(set(i))==1:\n",
    "        print(list(set(i))[0])"
   ]
  },
  {
   "cell_type": "code",
   "execution_count": 4,
   "id": "facac3d9",
   "metadata": {},
   "outputs": [],
   "source": [
    "# 2. L = [“a”,”b”,”c”,3,4,5].If it is an integer then add 10 to integer and print \n",
    "#  O/p -- a,b,c,13,14,15"
   ]
  },
  {
   "cell_type": "code",
   "execution_count": 9,
   "id": "5d8c8a73",
   "metadata": {},
   "outputs": [
    {
     "name": "stdout",
     "output_type": "stream",
     "text": [
      "a,b,c,13,14,15,"
     ]
    }
   ],
   "source": [
    "L = ['a','b','c',3,4,5]\n",
    "for i in L:\n",
    "    if isinstance(i,int):\n",
    "        print(i+10, end=\",\")\n",
    "    else:\n",
    "        print(i, end=\",\")"
   ]
  },
  {
   "cell_type": "code",
   "execution_count": 10,
   "id": "0d55a124",
   "metadata": {},
   "outputs": [],
   "source": [
    "#  3. L = [“a”,”b”,”c”,3,4,5] ..If it is integer add 10 and print all those values in list\n",
    "#  o/p  --  [“a”,”b”,”c”,13,14,15]."
   ]
  },
  {
   "cell_type": "code",
   "execution_count": 12,
   "id": "094bd508",
   "metadata": {},
   "outputs": [
    {
     "data": {
      "text/plain": [
       "['a', 'b', 'c', 13, 14, 15]"
      ]
     },
     "execution_count": 12,
     "metadata": {},
     "output_type": "execute_result"
    }
   ],
   "source": [
    "L = ['a','b','c',3,4,5]\n",
    "[((i+10) if isinstance(i,int) else i) for  i in L]"
   ]
  },
  {
   "cell_type": "code",
   "execution_count": 13,
   "id": "6404f358",
   "metadata": {},
   "outputs": [],
   "source": [
    "# 6. S = “I am in hyderabad”.  Result = [“I”,”am”,”in”,”hyderabad”]\n",
    "# Do this without using the Split( ) function."
   ]
  },
  {
   "cell_type": "code",
   "execution_count": 18,
   "id": "50bc5b94",
   "metadata": {},
   "outputs": [
    {
     "data": {
      "text/plain": [
       "['I', 'am', 'in', 'hyderabad']"
      ]
     },
     "execution_count": 18,
     "metadata": {},
     "output_type": "execute_result"
    }
   ],
   "source": [
    "S = 'I am in hyderabad'\n",
    "st=\"\"\n",
    "l=[]\n",
    "for i in S:\n",
    "    if i==\" \":\n",
    "        if st:\n",
    "            l.append(st)\n",
    "        st=\"\"\n",
    "    else:\n",
    "        st+=i\n",
    "else:\n",
    "    if st:\n",
    "        l.append(st)\n",
    "l"
   ]
  },
  {
   "cell_type": "code",
   "execution_count": 19,
   "id": "e570ba74",
   "metadata": {},
   "outputs": [],
   "source": [
    "# 7. s = “I am in hyderabad”     Result = “I Am In Hyderabad”.\n",
    "# Do this without using title ()"
   ]
  },
  {
   "cell_type": "code",
   "execution_count": 24,
   "id": "e9b22e73",
   "metadata": {},
   "outputs": [
    {
     "data": {
      "text/plain": [
       "'I Am In Hyderabad'"
      ]
     },
     "execution_count": 24,
     "metadata": {},
     "output_type": "execute_result"
    }
   ],
   "source": [
    "s = 'I am in hyderabad'\n",
    "st=\"\"\n",
    "st2=\"\"\n",
    "for i in S:\n",
    "    if i==\" \":\n",
    "        if st:\n",
    "            c=st.capitalize()\n",
    "            st2+=c+\" \"\n",
    "        st=\"\"\n",
    "    else:\n",
    "        st+=i\n",
    "else:\n",
    "    if st:\n",
    "        c=st.capitalize()\n",
    "        st2+=c\n",
    "st2"
   ]
  },
  {
   "cell_type": "code",
   "execution_count": 25,
   "id": "fb2f2676",
   "metadata": {},
   "outputs": [],
   "source": [
    "# 9. S = “This is hyb9900164930 bngl 9900 apr9505909369 flair950”\n",
    "# O/P -- only mobile numbers in above string\n",
    "# 9900164930\n",
    "# 9505909369"
   ]
  },
  {
   "cell_type": "code",
   "execution_count": 29,
   "id": "5192fd5f",
   "metadata": {},
   "outputs": [
    {
     "name": "stdout",
     "output_type": "stream",
     "text": [
      "9900164930\n",
      "9505909369\n",
      "9505565565\n"
     ]
    }
   ],
   "source": [
    "s = 'This is hyb9900164930 bngl 9900 apr9505909369 flair9505565565'\n",
    "st=\"\"\n",
    "for i in s:\n",
    "    if i.isdigit():\n",
    "        st+=i\n",
    "    else:\n",
    "        if st and len(st)==10 and st[0] in '9876':\n",
    "            print(st)\n",
    "        st=\"\"\n",
    "else:\n",
    "            if st and len(st)==10 and st[0] in '9876':\n",
    "                print(st)"
   ]
  },
  {
   "cell_type": "code",
   "execution_count": 30,
   "id": "6549d3a8",
   "metadata": {},
   "outputs": [],
   "source": [
    "# 10. S = “I am in bangalore”\n",
    "# Count how many times letters are repeated in above string\n",
    "# O/P  --  I = 2,a = 2,m=1,n=2,b=1,g=1,l=1,o=1,r=1,e=1"
   ]
  },
  {
   "cell_type": "code",
   "execution_count": 36,
   "id": "62c0787a",
   "metadata": {},
   "outputs": [
    {
     "name": "stdout",
     "output_type": "stream",
     "text": [
      "{'I': 1, 'a': 3, 'm': 1, 'i': 1, 'n': 1, 'h': 1, 'y': 1, 'd': 2, 'e': 1, 'r': 1, 'b': 1, '2': 2, '3': 1}\n"
     ]
    }
   ],
   "source": [
    "s = 'I am in hyderab2^23#%ad'\n",
    "l={}\n",
    "for i in s:\n",
    "    if i!=' ' and i.isalnum():\n",
    "        l[i]=l.get(i,0)+1\n",
    "print(l)"
   ]
  },
  {
   "cell_type": "code",
   "execution_count": 37,
   "id": "bbc230b5",
   "metadata": {},
   "outputs": [],
   "source": [
    "# 12. S= “bangalore hyderabad chennai pune”\n",
    "# Count how many times letters are repeated in each word ."
   ]
  },
  {
   "cell_type": "code",
   "execution_count": 46,
   "id": "56825f75",
   "metadata": {},
   "outputs": [
    {
     "data": {
      "text/plain": [
       "{'bangalore': {'b': 1, 'a': 2, 'n': 1, 'g': 1, 'l': 1, 'o': 1, 'r': 1, 'e': 1},\n",
       " 'hyderabad': {'h': 1, 'y': 1, 'd': 2, 'e': 1, 'r': 1, 'a': 2, 'b': 1},\n",
       " 'chennai': {'c': 1, 'h': 1, 'e': 1, 'n': 2, 'a': 1, 'i': 1},\n",
       " 'pune': {'p': 1, 'u': 1, 'n': 1, 'e': 1}}"
      ]
     },
     "execution_count": 46,
     "metadata": {},
     "output_type": "execute_result"
    }
   ],
   "source": [
    "s= 'bangalore hyderabad chennai pune'\n",
    "l=s.split()\n",
    "d={}\n",
    "t={}\n",
    "for i in l:\n",
    "    for j in i:\n",
    "        d[j]=d.get(j,0)+1\n",
    "    t[i]=d\n",
    "    d={}\n",
    "(t) \n",
    "        "
   ]
  },
  {
   "cell_type": "code",
   "execution_count": 47,
   "id": "8a3b7ca7",
   "metadata": {},
   "outputs": [],
   "source": [
    "# 18. Write a python program to create a dictionary.\n",
    "# i/p:[\"sachin cricket\", \"Federer tennis\", \"Nadal tennis\", \"virat cricket\", \"Messi football\"]\n",
    "# o/p: {\"cricket\": [\"sachin\", \"virat\"], \"tennis\": [\"federer\", 'nadal'], \"football\": ['Messi']}"
   ]
  },
  {
   "cell_type": "code",
   "execution_count": 48,
   "id": "9d441f1c",
   "metadata": {},
   "outputs": [
    {
     "data": {
      "text/plain": [
       "{'cricket': ['sachin', 'virat'],\n",
       " 'tennis': ['Federer', 'Nadal'],\n",
       " 'football': ['Messi']}"
      ]
     },
     "execution_count": 48,
     "metadata": {},
     "output_type": "execute_result"
    }
   ],
   "source": [
    "d=[\"sachin cricket\", \"Federer tennis\", \"Nadal tennis\", \"virat cricket\", \"Messi football\"]\n",
    "l={}\n",
    "for i in d:\n",
    "    k,v=i.split()\n",
    "    l[v]=l.get(v,[])+[k]\n",
    "    \n",
    "l"
   ]
  },
  {
   "cell_type": "code",
   "execution_count": 49,
   "id": "94196d61",
   "metadata": {},
   "outputs": [],
   "source": [
    "# 23. Write a program to check if a given number is an armstrong number or not. Armstrong number is formed by\n",
    "# sum of cubes of each digit of a given number.\n",
    "# 153 = 1*1*1 + 5*5*5 + 3*3*3  // 153 is an Armstrong number."
   ]
  },
  {
   "cell_type": "code",
   "execution_count": 53,
   "id": "0282c466",
   "metadata": {},
   "outputs": [
    {
     "name": "stdout",
     "output_type": "stream",
     "text": [
      "armstrong\n"
     ]
    }
   ],
   "source": [
    "n=153\n",
    "ncopy=n\n",
    "count=0\n",
    "for i in str(n):\n",
    "    count+=int(i)**(len(str(n)))\n",
    "if count==ncopy:\n",
    "    print('armstrong')\n",
    "else:\n",
    "    print('no')\n",
    "    "
   ]
  },
  {
   "cell_type": "code",
   "execution_count": 59,
   "id": "eb88c54d",
   "metadata": {},
   "outputs": [
    {
     "name": "stdout",
     "output_type": "stream",
     "text": [
      "0\n",
      "1\n",
      "1\n",
      "2\n",
      "3\n",
      "5\n",
      "8\n",
      "13\n",
      "21\n",
      "34\n"
     ]
    }
   ],
   "source": [
    "def fib(n):\n",
    "    if n==0:\n",
    "        print(0)\n",
    "    else:\n",
    "        a=0\n",
    "        b=1\n",
    "        for i in range(2, n+2):\n",
    "            print(a)\n",
    "            a,b=b,a+b\n",
    "            \n",
    "fib(10)"
   ]
  },
  {
   "cell_type": "code",
   "execution_count": 69,
   "id": "f61f428d",
   "metadata": {},
   "outputs": [
    {
     "name": "stdout",
     "output_type": "stream",
     "text": [
      "1\n",
      "1\n",
      "2\n",
      "3\n",
      "5\n",
      "8\n",
      "13\n",
      "21\n",
      "34\n",
      "55\n",
      "89\n"
     ]
    }
   ],
   "source": [
    "def fib(n):\n",
    "    if n==0:\n",
    "        print(0)\n",
    "    else:\n",
    "        a=0\n",
    "        b=1\n",
    "        while b<=n:\n",
    "            print(b)\n",
    "            a,b=b,a+b\n",
    "           \n",
    "            \n",
    "fib(100)"
   ]
  },
  {
   "cell_type": "code",
   "execution_count": 70,
   "id": "fb4828dc",
   "metadata": {},
   "outputs": [],
   "source": [
    "l = [(\"m\", 100),(\"r\", 200),(\"a\", 90),(\"w\", 20),(\"b\", 100),(\"p\", 60), (\"m\", 60),(\"r\", 70),(\"a\", 100),(\"w\", 100),\n",
    "     (\"r\", 110), (\"r\", 20),(\"a\", 12),(\"p\", 127),(\"r\", 40),(\"p\", 100),(\"w\", 250)]\n",
    "# result = {\"m\": [100, 60, ....], \"p\": [........]}"
   ]
  },
  {
   "cell_type": "code",
   "execution_count": 73,
   "id": "1076dabb",
   "metadata": {},
   "outputs": [
    {
     "data": {
      "text/plain": [
       "{'m': [100, 60],\n",
       " 'r': [200, 70, 110, 20, 40],\n",
       " 'a': [90, 100, 12],\n",
       " 'w': [20, 100, 250],\n",
       " 'b': [100],\n",
       " 'p': [60, 127, 100]}"
      ]
     },
     "execution_count": 73,
     "metadata": {},
     "output_type": "execute_result"
    }
   ],
   "source": [
    "result={}\n",
    "for i in l:\n",
    "    result[i[0]]=result.get(i[0],[])+[i[1]]\n",
    "    \n",
    "result"
   ]
  },
  {
   "cell_type": "code",
   "execution_count": 76,
   "id": "4f1f54ba",
   "metadata": {},
   "outputs": [],
   "source": [
    "# 1. Problem 1\n",
    "data = {\n",
    "    \"key1\": {\"key11\": {\"key111\": {\"key1111\": 1}}},\n",
    "    \"key2\": {\"key22\": {\"key222\": 2}},\n",
    "    \"key3\": {\"key33\": 3},\n",
    "    \"key4\": 4\n",
    "}\n",
    "# output [1,2,3,4]"
   ]
  },
  {
   "cell_type": "code",
   "execution_count": 79,
   "id": "8166c753",
   "metadata": {},
   "outputs": [
    {
     "data": {
      "text/plain": [
       "[1, 2, 3, 4]"
      ]
     },
     "execution_count": 79,
     "metadata": {},
     "output_type": "execute_result"
    }
   ],
   "source": [
    "def flt_lst(data):\n",
    "    t=[]\n",
    "    for k,v in data.items():\n",
    "        if isinstance(v,dict):\n",
    "            t.extend(flt_lst(v))\n",
    "        else:\n",
    "            t.append(v)\n",
    "    return t\n",
    "flt_lst(data)"
   ]
  },
  {
   "cell_type": "code",
   "execution_count": null,
   "id": "2b899e64",
   "metadata": {},
   "outputs": [],
   "source": [
    "data = {\n",
    "    \"key1\": {\"key11\": {\"key111\": {\"key1111\":1}}},\n",
    "    \"key2\": {\"key22\": {\"key222\": 2}},\n",
    "    \"key3\": {\"key33\": 3},\n",
    "    \"key4\": 4}\n",
    "\n",
    "# {'key1.key11.key111.key1111': 1,\n",
    " 'key2.key22.key222': 2,\n",
    " 'key3.key33': 3,\n",
    " 'key4': 4}"
   ]
  },
  {
   "cell_type": "code",
   "execution_count": 81,
   "id": "a2ff0d9f",
   "metadata": {},
   "outputs": [
    {
     "data": {
      "text/plain": [
       "{'key1.key11.key111.key1111': 1,\n",
       " 'key2.key22.key222': 2,\n",
       " 'key3.key33': 3,\n",
       " 'key4': 4}"
      ]
     },
     "execution_count": 81,
     "metadata": {},
     "output_type": "execute_result"
    }
   ],
   "source": [
    "def func(data):\n",
    "    d={}\n",
    "    for k,v in data.items():\n",
    "        if isinstance(v,dict):\n",
    "            newk=f'{k}.{list(v.keys())[0]}'\n",
    "            newv=list(v.values())[0]\n",
    "            d.update(func({newk:newv}))\n",
    "        else:\n",
    "            d[k]=v\n",
    "    return d\n",
    "func(data)"
   ]
  },
  {
   "cell_type": "code",
   "execution_count": 82,
   "id": "56afe094",
   "metadata": {},
   "outputs": [],
   "source": [
    "# Problem 7\n",
    "# sum of the integers from a given string\n",
    "# s = \"abcaa1anv12hsd234mnxz3and45\"\n",
    "# result = 1+12+234+3+45\n"
   ]
  },
  {
   "cell_type": "code",
   "execution_count": 95,
   "id": "e826dcd6",
   "metadata": {},
   "outputs": [
    {
     "data": {
      "text/plain": [
       "295"
      ]
     },
     "execution_count": 95,
     "metadata": {},
     "output_type": "execute_result"
    }
   ],
   "source": [
    "import re\n",
    "from functools import reduce\n",
    "s = \"abcaa1anv12hsd234mnxz3and45\"\n",
    "t=reduce(lambda x,y:int(x)+int(y),(re.findall('[^a-z][0-9]*',s)))\n",
    "t"
   ]
  },
  {
   "cell_type": "code",
   "execution_count": null,
   "id": "5ff43439",
   "metadata": {},
   "outputs": [],
   "source": []
  },
  {
   "cell_type": "code",
   "execution_count": null,
   "id": "33993db2",
   "metadata": {},
   "outputs": [],
   "source": []
  },
  {
   "cell_type": "code",
   "execution_count": 97,
   "id": "d4ef7da8",
   "metadata": {},
   "outputs": [
    {
     "name": "stdout",
     "output_type": "stream",
     "text": [
      "['__add__', '__class__', '__contains__', '__delattr__', '__dir__', '__doc__', '__eq__', '__format__', '__ge__', '__getattribute__', '__getitem__', '__getnewargs__', '__gt__', '__hash__', '__init__', '__init_subclass__', '__iter__', '__le__', '__len__', '__lt__', '__mod__', '__mul__', '__ne__', '__new__', '__reduce__', '__reduce_ex__', '__repr__', '__rmod__', '__rmul__', '__setattr__', '__sizeof__', '__str__', '__subclasshook__', 'capitalize', 'casefold', 'center', 'count', 'encode', 'endswith', 'expandtabs', 'find', 'format', 'format_map', 'index', 'isalnum', 'isalpha', 'isascii', 'isdecimal', 'isdigit', 'isidentifier', 'islower', 'isnumeric', 'isprintable', 'isspace', 'istitle', 'isupper', 'join', 'ljust', 'lower', 'lstrip', 'maketrans', 'partition', 'removeprefix', 'removesuffix', 'replace', 'rfind', 'rindex', 'rjust', 'rpartition', 'rsplit', 'rstrip', 'split', 'splitlines', 'startswith', 'strip', 'swapcase', 'title', 'translate', 'upper', 'zfill']\n"
     ]
    }
   ],
   "source": [
    "print(dir(str))"
   ]
  },
  {
   "cell_type": "code",
   "execution_count": 125,
   "id": "65e48952",
   "metadata": {},
   "outputs": [
    {
     "data": {
      "text/plain": [
       "'i am in hyderab'"
      ]
     },
     "execution_count": 125,
     "metadata": {},
     "output_type": "execute_result"
    }
   ],
   "source": [
    "s='i am in hyderabad'\n",
    "s.removesuffix('ad')"
   ]
  },
  {
   "cell_type": "code",
   "execution_count": null,
   "id": "8c9ae2d1",
   "metadata": {},
   "outputs": [],
   "source": []
  }
 ],
 "metadata": {
  "kernelspec": {
   "display_name": "Python 3 (ipykernel)",
   "language": "python",
   "name": "python3"
  },
  "language_info": {
   "codemirror_mode": {
    "name": "ipython",
    "version": 3
   },
   "file_extension": ".py",
   "mimetype": "text/x-python",
   "name": "python",
   "nbconvert_exporter": "python",
   "pygments_lexer": "ipython3",
   "version": "3.10.0"
  }
 },
 "nbformat": 4,
 "nbformat_minor": 5
}
