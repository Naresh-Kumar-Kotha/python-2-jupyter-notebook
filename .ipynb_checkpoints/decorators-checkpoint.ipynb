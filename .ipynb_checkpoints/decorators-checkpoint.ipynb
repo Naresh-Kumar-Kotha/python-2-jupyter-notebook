{
 "cells": [
  {
   "cell_type": "code",
   "execution_count": 1,
   "id": "bd21a3d1",
   "metadata": {},
   "outputs": [],
   "source": [
    "# Function Decorators: Decorator is a function which can take a function as argument and extend its functionality\n",
    "                        # and returns modified function with extended functionality.\n",
    "# The main objective is we can extend the functionality of existing function without modifying its functionality."
   ]
  },
  {
   "cell_type": "code",
   "execution_count": 33,
   "id": "b39a598e",
   "metadata": {},
   "outputs": [
    {
     "name": "stdout",
     "output_type": "stream",
     "text": [
      "3.0\n"
     ]
    }
   ],
   "source": [
    "# Example: To swap a and b if a(numerator) is less than b(denominator)\n",
    "\n",
    "def smart_div(func):\n",
    "    def inner(a,b):\n",
    "        if a<b:\n",
    "            a,b=b,a\n",
    "        return func(a,b)\n",
    "    return inner\n",
    "\n",
    "@smart_div\n",
    "def div(a,b):\n",
    "    print(a/b)\n",
    "\n",
    "div(4,12)"
   ]
  },
  {
   "cell_type": "code",
   "execution_count": 72,
   "id": "bb485429",
   "metadata": {},
   "outputs": [
    {
     "name": "stdout",
     "output_type": "stream",
     "text": [
      "**********\n",
      "I am in func\n",
      "**********\n"
     ]
    }
   ],
   "source": [
    "# Example-2:\n",
    "def decor(func):\n",
    "    def inner(s):\n",
    "        print('*'*10)\n",
    "        func(s)\n",
    "        print('*'*10)\n",
    "    return inner\n",
    "\n",
    "@decor\n",
    "def func(s):\n",
    "    print('I am in func')\n",
    "\n",
    "s=10\n",
    "func(s)"
   ]
  },
  {
   "cell_type": "code",
   "execution_count": null,
   "id": "4422fd42",
   "metadata": {},
   "outputs": [],
   "source": []
  },
  {
   "cell_type": "code",
   "execution_count": 71,
   "id": "b6e7ab31",
   "metadata": {},
   "outputs": [
    {
     "name": "stdout",
     "output_type": "stream",
     "text": [
      "Hi, how are you?\n"
     ]
    }
   ],
   "source": [
    "def decor(func):\n",
    "    def inner_func(q,*args,**kwargs):\n",
    "        if not q.endswith('?'):\n",
    "            raise ValueError('\"?\" required at the end of question')\n",
    "        func(q,*args,**kwargs)\n",
    "    return inner_func\n",
    "\n",
    "@decor\n",
    "def prnt(s):\n",
    "    print(s)\n",
    "\n",
    "q='Hi, how are you?'\n",
    "prnt(q)"
   ]
  },
  {
   "cell_type": "code",
   "execution_count": null,
   "id": "75618b19",
   "metadata": {},
   "outputs": [],
   "source": []
  },
  {
   "cell_type": "code",
   "execution_count": 78,
   "id": "d4570db8",
   "metadata": {},
   "outputs": [],
   "source": [
    "# Decorator Chaining: \n",
    "# We can define multiple decorators for the same function and all these decorators will form Decorator Chaining.\n",
    "\n",
    "# Eg:\n",
    "def decor1(s):\n",
    "    pass\n",
    "def decor(s):\n",
    "    pass\n",
    "@decor1\n",
    "@decor\n",
    "def num():\n",
    "    pass"
   ]
  },
  {
   "cell_type": "code",
   "execution_count": 82,
   "id": "6ee31659",
   "metadata": {},
   "outputs": [
    {
     "name": "stdout",
     "output_type": "stream",
     "text": [
      "Second Decor(decor1) Execution\n",
      "First Decor(decor) Function Execution\n",
      "Hello Durga Good Morning\n"
     ]
    }
   ],
   "source": [
    "def decor(func):\n",
    "    def inner(name):\n",
    "        print(\"First Decor(decor) Function Execution\")\n",
    "        func(name)\n",
    "    return inner\n",
    "\n",
    "def decor1(func):\n",
    "    def inner(name):\n",
    "        print(\"Second Decor(decor1) Execution\")\n",
    "        func(name)\n",
    "    return inner\n",
    "\n",
    "@decor1\n",
    "@decor\n",
    "def wish(name):\n",
    "    print(\"Hello\",name,\"Good Morning\")\n",
    "\n",
    "wish(\"Durga\")"
   ]
  },
  {
   "cell_type": "code",
   "execution_count": null,
   "id": "0e5efb61",
   "metadata": {},
   "outputs": [],
   "source": []
  },
  {
   "cell_type": "code",
   "execution_count": 3,
   "id": "978e807e",
   "metadata": {},
   "outputs": [
    {
     "name": "stdout",
     "output_type": "stream",
     "text": [
      "Hi, how are you?\n"
     ]
    }
   ],
   "source": [
    "def prnt(s):\n",
    "    print(s)\n",
    "\n",
    "prnt('Hi, how are you?')"
   ]
  },
  {
   "cell_type": "code",
   "execution_count": 11,
   "id": "395bd1a8",
   "metadata": {},
   "outputs": [
    {
     "name": "stdout",
     "output_type": "stream",
     "text": [
      "*************************\n",
      "Hi, how are you?\n",
      "#########################\n"
     ]
    }
   ],
   "source": [
    "\n",
    "def decor(func):\n",
    "    def inner_func(*args,**kwargs):\n",
    "        print('*' * 25)      # before the functionality\n",
    "        func(*args,**kwargs)\n",
    "        print('#' * 25)      # after the functionality\n",
    "    return inner_func\n",
    "\n",
    "\n",
    "def prnt(s):\n",
    "    print(s)\n",
    "\n",
    "s='Hi, how are you?'\n",
    "decor(prnt)(s)\n"
   ]
  },
  {
   "cell_type": "code",
   "execution_count": 2,
   "id": "a9597e8c",
   "metadata": {},
   "outputs": [
    {
     "name": "stdout",
     "output_type": "stream",
     "text": [
      "*************************\n",
      "Hi, how are you?\n",
      "#########################\n"
     ]
    }
   ],
   "source": [
    "# @decorator_func_name should be used before the functionality for which we need to add extra features\n",
    "\n",
    "def decor(func):\n",
    "    def inner_func(*args,**kwargs):\n",
    "        print('*' * 25)      # before the functionality\n",
    "        func(*args,**kwargs)\n",
    "        print('#' * 25)      # after the functionality\n",
    "    return inner_func\n",
    "\n",
    "@decor\n",
    "def prnt(s):\n",
    "    print(s)\n",
    "\n",
    "s='Hi, how are you?'\n",
    "prnt(s)\n"
   ]
  },
  {
   "cell_type": "code",
   "execution_count": null,
   "id": "8195a8bd",
   "metadata": {},
   "outputs": [],
   "source": []
  },
  {
   "cell_type": "code",
   "execution_count": 8,
   "id": "0e5b4fa5",
   "metadata": {},
   "outputs": [
    {
     "name": "stdout",
     "output_type": "stream",
     "text": [
      "*************************\n"
     ]
    },
    {
     "ename": "ValueError",
     "evalue": "\"?\" required at the end of question",
     "output_type": "error",
     "traceback": [
      "\u001b[1;31m---------------------------------------------------------------------------\u001b[0m",
      "\u001b[1;31mValueError\u001b[0m                                Traceback (most recent call last)",
      "\u001b[1;32m~\\AppData\\Local\\Temp/ipykernel_9272/838914391.py\u001b[0m in \u001b[0;36m<module>\u001b[1;34m\u001b[0m\n\u001b[0;32m     15\u001b[0m \u001b[1;33m\u001b[0m\u001b[0m\n\u001b[0;32m     16\u001b[0m \u001b[0mq\u001b[0m\u001b[1;33m=\u001b[0m\u001b[1;34m'Hi, how are you'\u001b[0m\u001b[1;33m\u001b[0m\u001b[1;33m\u001b[0m\u001b[0m\n\u001b[1;32m---> 17\u001b[1;33m \u001b[0mprnt\u001b[0m\u001b[1;33m(\u001b[0m\u001b[0mq\u001b[0m\u001b[1;33m)\u001b[0m\u001b[1;33m\u001b[0m\u001b[1;33m\u001b[0m\u001b[0m\n\u001b[0m",
      "\u001b[1;32m~\\AppData\\Local\\Temp/ipykernel_9272/838914391.py\u001b[0m in \u001b[0;36minner_func\u001b[1;34m(q, *args, **kwargs)\u001b[0m\n\u001b[0;32m      5\u001b[0m         \u001b[0mprint\u001b[0m\u001b[1;33m(\u001b[0m\u001b[1;34m'*'\u001b[0m \u001b[1;33m*\u001b[0m \u001b[1;36m25\u001b[0m\u001b[1;33m)\u001b[0m      \u001b[1;31m# before the functionality\u001b[0m\u001b[1;33m\u001b[0m\u001b[1;33m\u001b[0m\u001b[0m\n\u001b[0;32m      6\u001b[0m         \u001b[1;32mif\u001b[0m \u001b[1;32mnot\u001b[0m \u001b[0mq\u001b[0m\u001b[1;33m.\u001b[0m\u001b[0mendswith\u001b[0m\u001b[1;33m(\u001b[0m\u001b[1;34m'?'\u001b[0m\u001b[1;33m)\u001b[0m\u001b[1;33m:\u001b[0m\u001b[1;33m\u001b[0m\u001b[1;33m\u001b[0m\u001b[0m\n\u001b[1;32m----> 7\u001b[1;33m             \u001b[1;32mraise\u001b[0m \u001b[0mValueError\u001b[0m\u001b[1;33m(\u001b[0m\u001b[1;34m'\"?\" required at the end of question'\u001b[0m\u001b[1;33m)\u001b[0m\u001b[1;33m\u001b[0m\u001b[1;33m\u001b[0m\u001b[0m\n\u001b[0m\u001b[0;32m      8\u001b[0m         \u001b[0mfunc\u001b[0m\u001b[1;33m(\u001b[0m\u001b[0mq\u001b[0m\u001b[1;33m,\u001b[0m\u001b[1;33m*\u001b[0m\u001b[0margs\u001b[0m\u001b[1;33m,\u001b[0m\u001b[1;33m**\u001b[0m\u001b[0mkwargs\u001b[0m\u001b[1;33m)\u001b[0m\u001b[1;33m\u001b[0m\u001b[1;33m\u001b[0m\u001b[0m\n\u001b[0;32m      9\u001b[0m         \u001b[0mprint\u001b[0m\u001b[1;33m(\u001b[0m\u001b[1;34m'#'\u001b[0m \u001b[1;33m*\u001b[0m \u001b[1;36m25\u001b[0m\u001b[1;33m)\u001b[0m      \u001b[1;31m# after the functionality\u001b[0m\u001b[1;33m\u001b[0m\u001b[1;33m\u001b[0m\u001b[0m\n",
      "\u001b[1;31mValueError\u001b[0m: \"?\" required at the end of question"
     ]
    }
   ],
   "source": [
    "# 'validation example' using decorators\n",
    "\n",
    "def decor(func):\n",
    "    def inner_func(q,*args,**kwargs):\n",
    "        print('*' * 25)      # before the functionality\n",
    "        if not q.endswith('?'):\n",
    "            raise ValueError('\"?\" required at the end of question')\n",
    "        func(q,*args,**kwargs)\n",
    "        print('#' * 25)      # after the functionality\n",
    "    return inner_func\n",
    "\n",
    "@decor\n",
    "def prnt(s):\n",
    "    print(s)\n",
    "\n",
    "q='Hi, how are you'\n",
    "prnt(q)"
   ]
  },
  {
   "cell_type": "code",
   "execution_count": null,
   "id": "808c9086",
   "metadata": {},
   "outputs": [],
   "source": []
  },
  {
   "cell_type": "code",
   "execution_count": 9,
   "id": "388b695d",
   "metadata": {},
   "outputs": [
    {
     "name": "stdout",
     "output_type": "stream",
     "text": [
      "Help on function inner_func in module __main__:\n",
      "\n",
      "inner_func(*args, **kwargs)\n",
      "    These are doc strings in decor inner function\n",
      "\n"
     ]
    }
   ],
   "source": [
    "# 'doc strings' issue in decorators: If we write doc string in both decorator function and actual functionality \n",
    "   #  and if we ask for help(acutual_func), the doc strings in decorator function will be displayed.\n",
    "# To avoid this, we use wraps\n",
    "\n",
    "def decor(func):\n",
    "\n",
    "    def inner_func(*args,**kwargs):\n",
    "        \"\"\"\n",
    "        These are doc strings in decor inner function\n",
    "        \"\"\"\n",
    "        print('*' * 25)      # before the functionality\n",
    "        func(*args,**kwargs)\n",
    "        print('#' * 25)      # after the functionality\n",
    "    return inner_func\n",
    "\n",
    "@decor\n",
    "def prnt(s):\n",
    "    \"\"\"\n",
    "    These are doc strings in prnt function\n",
    "    \"\"\"\n",
    "    print(s)\n",
    "\n",
    "help(prnt)\n"
   ]
  },
  {
   "cell_type": "code",
   "execution_count": 11,
   "id": "d66ef063",
   "metadata": {},
   "outputs": [
    {
     "name": "stdout",
     "output_type": "stream",
     "text": [
      "Help on function prnt in module __main__:\n",
      "\n",
      "prnt(s)\n",
      "    These are doc strings in prnt function\n",
      "\n"
     ]
    }
   ],
   "source": [
    "# To avoid above doc strings, we use wraps\n",
    "# For that we need to import wraps from functools\n",
    "\n",
    "from functools import wraps\n",
    "\n",
    "def decor(func):\n",
    "    @wraps(func)\n",
    "    def inner_func(*args,**kwargs):\n",
    "        \"\"\"\n",
    "        These are doc strings in decor inner function\n",
    "        \"\"\"\n",
    "        print('*' * 25)      # before the functionality\n",
    "        func(*args,**kwargs)\n",
    "        print('#' * 25)      # after the functionality\n",
    "    return inner_func\n",
    "\n",
    "@decor\n",
    "def prnt(s):\n",
    "    \"\"\"\n",
    "    These are doc strings in prnt function\n",
    "    \"\"\"\n",
    "    print(s)\n",
    "\n",
    "help(prnt)\n"
   ]
  },
  {
   "cell_type": "code",
   "execution_count": 20,
   "id": "4a10bd00",
   "metadata": {},
   "outputs": [
    {
     "name": "stdout",
     "output_type": "stream",
     "text": [
      "*************************\n",
      "how are you?\n",
      "#########################\n"
     ]
    }
   ],
   "source": [
    "s='how are you?'\n",
    "prnt(s)"
   ]
  },
  {
   "cell_type": "code",
   "execution_count": null,
   "id": "44328a00",
   "metadata": {},
   "outputs": [],
   "source": []
  },
  {
   "cell_type": "code",
   "execution_count": null,
   "id": "286c1457",
   "metadata": {},
   "outputs": [],
   "source": []
  },
  {
   "cell_type": "code",
   "execution_count": 9,
   "id": "81b6e271",
   "metadata": {},
   "outputs": [
    {
     "name": "stdout",
     "output_type": "stream",
     "text": [
      "**********\n",
      "I am in bangalore\n",
      "##########\n"
     ]
    }
   ],
   "source": [
    "def decor(func):\n",
    "    def inner(s):\n",
    "        print('*'*10)\n",
    "        func(s)\n",
    "        print('#'*10)\n",
    "    return inner\n",
    "\n",
    "@decor\n",
    "def func(s):\n",
    "    print(s)\n",
    "\n",
    "s=\"I am in bangalore\"\n",
    "func(s)"
   ]
  },
  {
   "cell_type": "code",
   "execution_count": 29,
   "id": "139bfa87",
   "metadata": {},
   "outputs": [
    {
     "name": "stdout",
     "output_type": "stream",
     "text": [
      "Where are you?\n"
     ]
    },
    {
     "ename": "ValueError",
     "evalue": "It is not a question",
     "output_type": "error",
     "traceback": [
      "\u001b[1;31m---------------------------------------------------------------------------\u001b[0m",
      "\u001b[1;31mValueError\u001b[0m                                Traceback (most recent call last)",
      "\u001b[1;32m~\\AppData\\Local\\Temp/ipykernel_7920/1542738697.py\u001b[0m in \u001b[0;36m<module>\u001b[1;34m\u001b[0m\n\u001b[0;32m     20\u001b[0m \u001b[1;33m\u001b[0m\u001b[0m\n\u001b[0;32m     21\u001b[0m \u001b[0mfunc\u001b[0m\u001b[1;33m(\u001b[0m\u001b[0ms\u001b[0m\u001b[1;33m)\u001b[0m\u001b[1;33m\u001b[0m\u001b[1;33m\u001b[0m\u001b[0m\n\u001b[1;32m---> 22\u001b[1;33m \u001b[0mfunc2\u001b[0m\u001b[1;33m(\u001b[0m\u001b[0mr\u001b[0m\u001b[1;33m)\u001b[0m\u001b[1;33m\u001b[0m\u001b[1;33m\u001b[0m\u001b[0m\n\u001b[0m",
      "\u001b[1;32m~\\AppData\\Local\\Temp/ipykernel_7920/1542738697.py\u001b[0m in \u001b[0;36minner\u001b[1;34m(a)\u001b[0m\n\u001b[0;32m      4\u001b[0m             \u001b[0mfunc\u001b[0m\u001b[1;33m(\u001b[0m\u001b[0ma\u001b[0m\u001b[1;33m)\u001b[0m\u001b[1;33m\u001b[0m\u001b[1;33m\u001b[0m\u001b[0m\n\u001b[0;32m      5\u001b[0m         \u001b[1;32melse\u001b[0m\u001b[1;33m:\u001b[0m\u001b[1;33m\u001b[0m\u001b[1;33m\u001b[0m\u001b[0m\n\u001b[1;32m----> 6\u001b[1;33m             \u001b[1;32mraise\u001b[0m \u001b[0mValueError\u001b[0m\u001b[1;33m(\u001b[0m\u001b[1;34m'It is not a question'\u001b[0m\u001b[1;33m)\u001b[0m\u001b[1;33m\u001b[0m\u001b[1;33m\u001b[0m\u001b[0m\n\u001b[0m\u001b[0;32m      7\u001b[0m     \u001b[1;32mreturn\u001b[0m \u001b[0minner\u001b[0m\u001b[1;33m\u001b[0m\u001b[1;33m\u001b[0m\u001b[0m\n\u001b[0;32m      8\u001b[0m \u001b[1;33m\u001b[0m\u001b[0m\n",
      "\u001b[1;31mValueError\u001b[0m: It is not a question"
     ]
    }
   ],
   "source": [
    "\n",
    "def validation(func):\n",
    "    def inner(a):\n",
    "        if a.endswith('?'):\n",
    "            func(a)\n",
    "        else:\n",
    "            raise ValueError('It is not a question')\n",
    "    return inner  \n",
    "\n",
    "@validation\n",
    "def func(s):\n",
    "    print(s)\n",
    "    \n",
    "@validation\n",
    "def func2(r):\n",
    "    print(r)\n",
    "    \n",
    "\n",
    "s='Where are you?'\n",
    "r='How are you'\n",
    "\n",
    "func(s)\n",
    "func2(r)\n"
   ]
  },
  {
   "cell_type": "code",
   "execution_count": null,
   "id": "89c4c3d1",
   "metadata": {},
   "outputs": [],
   "source": []
  }
 ],
 "metadata": {
  "kernelspec": {
   "display_name": "Python 3 (ipykernel)",
   "language": "python",
   "name": "python3"
  },
  "language_info": {
   "codemirror_mode": {
    "name": "ipython",
    "version": 3
   },
   "file_extension": ".py",
   "mimetype": "text/x-python",
   "name": "python",
   "nbconvert_exporter": "python",
   "pygments_lexer": "ipython3",
   "version": "3.10.0"
  }
 },
 "nbformat": 4,
 "nbformat_minor": 5
}
