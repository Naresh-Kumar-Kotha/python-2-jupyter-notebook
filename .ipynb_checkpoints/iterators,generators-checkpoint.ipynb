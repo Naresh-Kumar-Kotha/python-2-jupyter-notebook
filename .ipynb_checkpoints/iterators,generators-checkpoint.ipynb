{
 "cells": [
  {
   "cell_type": "code",
   "execution_count": null,
   "id": "fe241055",
   "metadata": {},
   "outputs": [],
   "source": [
    "# Generators: Generator is a function which is responsible to generate a sequence of values.\n",
    "# We can write a generator function just like an ordinary function, but it uses yield keyword to return values."
   ]
  },
  {
   "cell_type": "code",
   "execution_count": null,
   "id": "cabf9e65",
   "metadata": {},
   "outputs": [],
   "source": [
    "# Yield: It works same like return\n",
    "# Yield is a keyword in Python that is used to return from a function without destroying the states of its local variable \n",
    "# and when the function is called, the execution starts from the last yield statement. \n",
    "# Any function that contains a yield keyword is termed a generator. Hence, yield is what makes a generator."
   ]
  },
  {
   "cell_type": "code",
   "execution_count": null,
   "id": "6a5a2b3f",
   "metadata": {},
   "outputs": [],
   "source": [
    "# Advantages of Generator Functions:\n",
    "# 1. when compared with class level iterators, generators are very easy to use\n",
    "# 2. Improves memory utilization and performance.\n",
    "# 3. Generators are best suitable for reading data from large number of large files\n",
    "# 4. Generators work great for web scraping and crawling."
   ]
  },
  {
   "cell_type": "code",
   "execution_count": null,
   "id": "7e9a39da",
   "metadata": {},
   "outputs": [],
   "source": [
    "# iterator\n",
    "l=[1,2,3,4]"
   ]
  },
  {
   "cell_type": "code",
   "execution_count": 18,
   "id": "ca4fc734",
   "metadata": {},
   "outputs": [
    {
     "data": {
      "text/plain": [
       "<list_iterator at 0x26e8bfe5480>"
      ]
     },
     "execution_count": 18,
     "metadata": {},
     "output_type": "execute_result"
    }
   ],
   "source": [
    "iter(l)"
   ]
  },
  {
   "cell_type": "code",
   "execution_count": 21,
   "id": "5e28924a",
   "metadata": {},
   "outputs": [
    {
     "name": "stdout",
     "output_type": "stream",
     "text": [
      "<list_iterator object at 0x000001724D2D18D0>\n",
      "1\n",
      "2\n",
      "3\n",
      "4\n"
     ]
    }
   ],
   "source": [
    "iterator=iter(l)\n",
    "print(iterator)\n",
    "print(next(iterator))\n",
    "print(next(iterator))\n",
    "print(next(iterator))\n",
    "print(next(iterator))"
   ]
  },
  {
   "cell_type": "code",
   "execution_count": 22,
   "id": "47845b16",
   "metadata": {},
   "outputs": [
    {
     "ename": "StopIteration",
     "evalue": "",
     "output_type": "error",
     "traceback": [
      "\u001b[1;31m---------------------------------------------------------------------------\u001b[0m",
      "\u001b[1;31mStopIteration\u001b[0m                             Traceback (most recent call last)",
      "\u001b[1;32m~\\AppData\\Local\\Temp/ipykernel_11296/4235178104.py\u001b[0m in \u001b[0;36m<module>\u001b[1;34m\u001b[0m\n\u001b[1;32m----> 1\u001b[1;33m \u001b[0mnext\u001b[0m\u001b[1;33m(\u001b[0m\u001b[0miterator\u001b[0m\u001b[1;33m)\u001b[0m\u001b[1;33m\u001b[0m\u001b[1;33m\u001b[0m\u001b[0m\n\u001b[0m",
      "\u001b[1;31mStopIteration\u001b[0m: "
     ]
    }
   ],
   "source": [
    "next(iterator)"
   ]
  },
  {
   "cell_type": "code",
   "execution_count": 20,
   "id": "cf140eb9",
   "metadata": {},
   "outputs": [
    {
     "name": "stdout",
     "output_type": "stream",
     "text": [
      "1 2 3 4 "
     ]
    }
   ],
   "source": [
    "iterator=iter(l)\n",
    "\n",
    "for i in iterator:\n",
    "    print(i,end=\" \")"
   ]
  },
  {
   "cell_type": "code",
   "execution_count": 6,
   "id": "0a7ad48c",
   "metadata": {},
   "outputs": [],
   "source": [
    "l=[1,2,3,4]\n",
    "x=(i for i in l)"
   ]
  },
  {
   "cell_type": "code",
   "execution_count": 7,
   "id": "b1bbaac0",
   "metadata": {},
   "outputs": [
    {
     "data": {
      "text/plain": [
       "<generator object <genexpr> at 0x000001724D378820>"
      ]
     },
     "execution_count": 7,
     "metadata": {},
     "output_type": "execute_result"
    }
   ],
   "source": [
    "x"
   ]
  },
  {
   "cell_type": "code",
   "execution_count": 8,
   "id": "f05e2475",
   "metadata": {},
   "outputs": [
    {
     "name": "stdout",
     "output_type": "stream",
     "text": [
      "1 2 3 4 "
     ]
    }
   ],
   "source": [
    "for i in x:\n",
    "    print(i,end=\" \")"
   ]
  },
  {
   "cell_type": "code",
   "execution_count": null,
   "id": "d562a18d",
   "metadata": {},
   "outputs": [],
   "source": []
  },
  {
   "cell_type": "code",
   "execution_count": 9,
   "id": "ce00fb64",
   "metadata": {},
   "outputs": [],
   "source": [
    "def yrange(num):\n",
    "    ele=0\n",
    "    while num>ele:\n",
    "        yield ele \n",
    "        ele+=1"
   ]
  },
  {
   "cell_type": "code",
   "execution_count": 16,
   "id": "4bc8f03c",
   "metadata": {},
   "outputs": [
    {
     "name": "stdout",
     "output_type": "stream",
     "text": [
      "0\n",
      "1\n",
      "2\n",
      "3\n",
      "4\n"
     ]
    }
   ],
   "source": [
    "r=yrange(5)\n",
    "print(next(r))\n",
    "print(next(r))\n",
    "for i in r:\n",
    "    print(i)"
   ]
  },
  {
   "cell_type": "code",
   "execution_count": null,
   "id": "655cb18c",
   "metadata": {},
   "outputs": [],
   "source": []
  },
  {
   "cell_type": "code",
   "execution_count": 17,
   "id": "4a956574",
   "metadata": {},
   "outputs": [
    {
     "name": "stdout",
     "output_type": "stream",
     "text": [
      "0\n",
      "1\n",
      "2\n",
      "3\n",
      "4\n",
      "5\n",
      "6\n"
     ]
    }
   ],
   "source": [
    "def func_range(n):\n",
    "    e=0\n",
    "    while e<n:\n",
    "        yield e\n",
    "        e+=1\n",
    "\n",
    "t=func_range(5)\n",
    "for i in func_range(7):\n",
    "    print(i)"
   ]
  },
  {
   "cell_type": "code",
   "execution_count": null,
   "id": "707877c0",
   "metadata": {},
   "outputs": [],
   "source": []
  },
  {
   "cell_type": "code",
   "execution_count": null,
   "id": "cff47701",
   "metadata": {},
   "outputs": [],
   "source": []
  }
 ],
 "metadata": {
  "kernelspec": {
   "display_name": "Python 3 (ipykernel)",
   "language": "python",
   "name": "python3"
  },
  "language_info": {
   "codemirror_mode": {
    "name": "ipython",
    "version": 3
   },
   "file_extension": ".py",
   "mimetype": "text/x-python",
   "name": "python",
   "nbconvert_exporter": "python",
   "pygments_lexer": "ipython3",
   "version": "3.10.0"
  }
 },
 "nbformat": 4,
 "nbformat_minor": 5
}
