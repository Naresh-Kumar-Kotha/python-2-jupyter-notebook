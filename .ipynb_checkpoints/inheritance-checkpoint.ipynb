{
 "cells": [
  {
   "cell_type": "code",
   "execution_count": 1,
   "id": "2a3771b2",
   "metadata": {},
   "outputs": [
    {
     "name": "stdout",
     "output_type": "stream",
     "text": [
      "Parent foo\n"
     ]
    }
   ],
   "source": [
    "# Single Inheritance\n",
    "\n",
    "class Parent:\n",
    "    def foo(self):\n",
    "        print(\"Parent foo\")\n",
    "\n",
    "class Child(Parent):\n",
    "    def bar(self):\n",
    "        self.foo()\n",
    "\n",
    "child = Child()\n",
    "child.bar()"
   ]
  },
  {
   "cell_type": "code",
   "execution_count": 2,
   "id": "1348bf57",
   "metadata": {},
   "outputs": [
    {
     "name": "stdout",
     "output_type": "stream",
     "text": [
      "Child foo\n",
      "Parent foo\n"
     ]
    }
   ],
   "source": [
    "# Single Inheritance-how to access Parent class functions\n",
    "class Parent:\n",
    "    def foo(self):\n",
    "        print(\"Parent foo\")\n",
    "\n",
    "class Child(Parent):\n",
    "    def foo(self):\n",
    "        print(\"Child foo\")\n",
    "\n",
    "    def bar(self):\n",
    "        self.foo() # access foo function from same class if it is present, otherwise it will access from parent class\n",
    "        super(Child, self).foo() # Always try to access from parent\n",
    "\n",
    "child = Child()\n",
    "child.bar()"
   ]
  },
  {
   "cell_type": "code",
   "execution_count": 3,
   "id": "6bbc609b",
   "metadata": {},
   "outputs": [
    {
     "name": "stdout",
     "output_type": "stream",
     "text": [
      "Parent foo\n",
      "GrandParent xyz\n"
     ]
    }
   ],
   "source": [
    "# Multilevel Inheritance\n",
    "class GrandParent:\n",
    "    def xyz(self):\n",
    "        print(\"GrandParent xyz\")\n",
    "\n",
    "class Parent(GrandParent):\n",
    "    def foo(self):\n",
    "        print(\"Parent foo\")\n",
    "\n",
    "class Child(Parent):\n",
    "    def bar(self):\n",
    "        self.foo()\n",
    "        self.xyz()\n",
    "\n",
    "child = Child()\n",
    "child.bar()"
   ]
  },
  {
   "cell_type": "code",
   "execution_count": 4,
   "id": "aa96b518",
   "metadata": {},
   "outputs": [
    {
     "name": "stdout",
     "output_type": "stream",
     "text": [
      "Parent2 foo\n"
     ]
    }
   ],
   "source": [
    "# Multiple Inheritance\n",
    "class Parent2:\n",
    "    def foo(self):\n",
    "        print(\"Parent2 foo\")\n",
    "\n",
    "class Parent1:\n",
    "    pass\n",
    "    #def foo(self):\n",
    "    #    print(\"Parent1 foo\")\n",
    "\n",
    "class Child(Parent1, Parent2):\n",
    "\n",
    "    #def foo(self):\n",
    "    #    print(\"Child foo\")\n",
    "\n",
    "    def bar(self):\n",
    "        self.foo()\n",
    "\n",
    "\n",
    "child = Child()\n",
    "child.bar()\n",
    "\n",
    "# child --> Parent1 --> parent2\n"
   ]
  },
  {
   "cell_type": "code",
   "execution_count": 17,
   "id": "329340dd",
   "metadata": {},
   "outputs": [
    {
     "name": "stdout",
     "output_type": "stream",
     "text": [
      "GrandParent foo\n"
     ]
    }
   ],
   "source": [
    "# Diamond Inheritance\n",
    "class GrandParent:\n",
    "    def foo(self):\n",
    "        print(\"GrandParent foo\")\n",
    "\n",
    "class Parent2(GrandParent):\n",
    "    pass\n",
    "    #def foo(self):\n",
    "    #    print(\"Parent2 foo\")\n",
    "\n",
    "class Parent1(GrandParent):\n",
    "    pass\n",
    "    #def foo(self):\n",
    "    #    print(\"Parent1 foo\")\n",
    "\n",
    "class Child(Parent1, Parent2):\n",
    "\n",
    "    #def foo(self):\n",
    "    #    print(\"Child foo\")\n",
    "\n",
    "    def bar(self):\n",
    "        self.foo()\n",
    "\n",
    "child = Child()\n",
    "child.bar()\n",
    "\n",
    "# child --> Parent1 --> parent2 --> GrandParent\n"
   ]
  },
  {
   "cell_type": "code",
   "execution_count": null,
   "id": "50296a23",
   "metadata": {},
   "outputs": [],
   "source": []
  },
  {
   "cell_type": "code",
   "execution_count": 6,
   "id": "8473e6c8",
   "metadata": {},
   "outputs": [],
   "source": [
    "class GrandParent:\n",
    "    GPname='GP'\n",
    "    def __init__(self,fname,lname):\n",
    "        self.fname=fname\n",
    "        self.lname=lname\n",
    "    def func(self):\n",
    "        print(f'{self.fname} {self.lname}')\n",
    "class Parent(GrandParent):\n",
    "    Parent='PA'\n",
    "    def __init__(self,fname,lname):\n",
    "        self.fname=fname\n",
    "        self.lname=lname\n",
    "#     def func(self):\n",
    "#         print(f'{self.fname} {self.lname}')\n",
    "class Child(Parent):\n",
    "    def func(self):\n",
    "        print('child class')\n",
    "    def subfunc(self):\n",
    "        self.func()\n",
    "        super(Child, self).func()"
   ]
  },
  {
   "cell_type": "code",
   "execution_count": 7,
   "id": "45de0567",
   "metadata": {},
   "outputs": [],
   "source": [
    "obj=Child('father1','mother1')"
   ]
  },
  {
   "cell_type": "code",
   "execution_count": 8,
   "id": "5b09a7e8",
   "metadata": {},
   "outputs": [
    {
     "name": "stdout",
     "output_type": "stream",
     "text": [
      "child class\n",
      "father1 mother1\n"
     ]
    }
   ],
   "source": [
    "obj.subfunc()"
   ]
  },
  {
   "cell_type": "code",
   "execution_count": 15,
   "id": "adfd8a14",
   "metadata": {},
   "outputs": [],
   "source": [
    "obj2=Parent('father','mother')"
   ]
  },
  {
   "cell_type": "code",
   "execution_count": 16,
   "id": "42a60af2",
   "metadata": {},
   "outputs": [
    {
     "name": "stdout",
     "output_type": "stream",
     "text": [
      "child class\n",
      "father1 mother1\n"
     ]
    }
   ],
   "source": [
    "obj.subfunc()"
   ]
  },
  {
   "cell_type": "code",
   "execution_count": null,
   "id": "65eb874a",
   "metadata": {},
   "outputs": [],
   "source": []
  }
 ],
 "metadata": {
  "kernelspec": {
   "display_name": "Python 3 (ipykernel)",
   "language": "python",
   "name": "python3"
  },
  "language_info": {
   "codemirror_mode": {
    "name": "ipython",
    "version": 3
   },
   "file_extension": ".py",
   "mimetype": "text/x-python",
   "name": "python",
   "nbconvert_exporter": "python",
   "pygments_lexer": "ipython3",
   "version": "3.10.0"
  }
 },
 "nbformat": 4,
 "nbformat_minor": 5
}
