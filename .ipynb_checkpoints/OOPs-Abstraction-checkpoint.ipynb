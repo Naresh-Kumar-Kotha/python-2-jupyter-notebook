{
 "cells": [
  {
   "cell_type": "code",
   "execution_count": 11,
   "id": "220e1777",
   "metadata": {},
   "outputs": [],
   "source": [
    "# Abstraction class:\n",
    "from abc import ABC\n",
    "class Car():\n",
    "    @abstractmethod\n",
    "    def engine():\n",
    "        pass\n",
    "    @abstractmethod\n",
    "    def fourwheels():\n",
    "        pass\n",
    "    \n",
    "class BMW(Car):\n",
    "    def engine(self):\n",
    "        print('600cc Engine')\n",
    "    \n",
    "    def fourwheels(self):\n",
    "        print('It has broadened tyres')\n",
    "        \n",
    "        "
   ]
  },
  {
   "cell_type": "code",
   "execution_count": 13,
   "id": "acc084c7",
   "metadata": {},
   "outputs": [
    {
     "name": "stdout",
     "output_type": "stream",
     "text": [
      "600cc Engine\n",
      "It has broadened tyres\n"
     ]
    }
   ],
   "source": [
    "car=BMW()\n",
    "car.engine()\n",
    "car.fourwheels()"
   ]
  },
  {
   "cell_type": "code",
   "execution_count": 17,
   "id": "94fb712d",
   "metadata": {},
   "outputs": [],
   "source": [
    "from abc import ABC, abstractmethod\n",
    "\n",
    "class Car(ABC):\n",
    "\n",
    "    @abstractmethod\n",
    "    def four_wheels(self):\n",
    "        pass\n",
    "\n",
    "    @abstractmethod\n",
    "    def engine(self):\n",
    "        pass\n",
    "\n",
    "    def sterio(self):\n",
    "        pass\n",
    "\n",
    "class BMW(Car):\n",
    "\n",
    "    def four_wheels(self):\n",
    "        print('BMW has 4 specially designed wheels')\n",
    "\n",
    "    def engine(self):\n",
    "        print('It has a 600cc engine')\n",
    "\n",
    "    def foo(self):\n",
    "        print('BMW')"
   ]
  },
  {
   "cell_type": "code",
   "execution_count": 18,
   "id": "685d4c1b",
   "metadata": {},
   "outputs": [
    {
     "name": "stdout",
     "output_type": "stream",
     "text": [
      "BMW\n",
      "BMW has 4 specially designed wheels\n",
      "It has a 600cc engine\n"
     ]
    }
   ],
   "source": [
    "bmw_car = BMW()\n",
    "bmw_car.foo()\n",
    "bmw_car.four_wheels()\n",
    "bmw_car.engine()\n"
   ]
  },
  {
   "cell_type": "code",
   "execution_count": null,
   "id": "fcc49c64",
   "metadata": {},
   "outputs": [],
   "source": []
  }
 ],
 "metadata": {
  "kernelspec": {
   "display_name": "Python 3 (ipykernel)",
   "language": "python",
   "name": "python3"
  },
  "language_info": {
   "codemirror_mode": {
    "name": "ipython",
    "version": 3
   },
   "file_extension": ".py",
   "mimetype": "text/x-python",
   "name": "python",
   "nbconvert_exporter": "python",
   "pygments_lexer": "ipython3",
   "version": "3.10.0"
  }
 },
 "nbformat": 4,
 "nbformat_minor": 5
}
