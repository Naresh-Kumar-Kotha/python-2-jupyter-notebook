{
 "cells": [
  {
   "cell_type": "code",
   "execution_count": 6,
   "id": "265d067b",
   "metadata": {},
   "outputs": [
    {
     "data": {
      "text/plain": [
       "(221, b'2.0.0 closing connection t40sm1453167pfg.107 - gsmtp')"
      ]
     },
     "execution_count": 6,
     "metadata": {},
     "output_type": "execute_result"
    }
   ],
   "source": [
    "\"\"\"What Is Simple Mail Transfer Protocol (SMTP)? SMTP is used to send and receive email. \n",
    "It is sometimes paired with IMAP or POP3 (for example, by a user-level application), which handles the \n",
    "retrieval of messages, while SMTP primarily sends messages to a server for forwarding.\"\"\"\n",
    "\n",
    "# Python code to illustrate Sending mail from your Gmail account\n",
    "import smtplib\n",
    "\n",
    "# creates SMTP session\n",
    "s = smtplib.SMTP('smtp.gmail.com', 587)\n",
    "\n",
    "# start TLS for security\n",
    "s.starttls()\n",
    "\n",
    "# Authentication\n",
    "s.login(\"15691a03a1@gmail.com\", \"Koth@123\")\n",
    "\n",
    "# message to be sent\n",
    "message = \"Hi, This mail is sent through python code\"\n",
    "\n",
    "# sending the mail\n",
    "s.sendmail(\"15691a03a1@gmail.com\", \"15691a03a1@gmail.com\", message)\n",
    "\n",
    "# terminating the session\n",
    "s.quit()\n"
   ]
  },
  {
   "cell_type": "code",
   "execution_count": 9,
   "id": "847d5566",
   "metadata": {},
   "outputs": [
    {
     "ename": "SyntaxError",
     "evalue": "(unicode error) 'unicodeescape' codec can't decode bytes in position 21-22: malformed \\N character escape (Temp/ipykernel_10312/3398555050.py, line 34)",
     "output_type": "error",
     "traceback": [
      "\u001b[1;36m  File \u001b[1;32m\"C:\\Users\\K-NARESH\\AppData\\Local\\Temp/ipykernel_10312/3398555050.py\"\u001b[1;36m, line \u001b[1;32m34\u001b[0m\n\u001b[1;33m    attachment = open(\"J:\\Flair technologies\\New folder\\ \", \"rb\")\u001b[0m\n\u001b[1;37m                                                          ^\u001b[0m\n\u001b[1;31mSyntaxError\u001b[0m\u001b[1;31m:\u001b[0m (unicode error) 'unicodeescape' codec can't decode bytes in position 21-22: malformed \\N character escape\n"
     ]
    }
   ],
   "source": [
    "# Email with attachment\n",
    "# Python code to illustrate Sending mail with attachments from your Gmail account\n",
    "\n",
    "# libraries to be imported\n",
    "import smtplib\n",
    "from email.mime.multipart import MIMEMultipart\n",
    "from email.mime.text import MIMEText\n",
    "from email.mime.base import MIMEBase\n",
    "from email import encoders\n",
    "\n",
    "fromaddr = \"15691a03a1@gmail.com\" # sender mail address\n",
    "toaddr = \"15691a03a1@gmail.com\"   # receiver mail address\n",
    "\n",
    "# instance of MIMEMultipart\n",
    "msg = MIMEMultipart()\n",
    "\n",
    "# storing the senders email address\n",
    "msg['From'] = fromaddr\n",
    "\n",
    "# storing the receivers email address\n",
    "msg['To'] = toaddr\n",
    "\n",
    "# storing the subject\n",
    "msg['Subject'] = \"Sent mail using python code\"\n",
    "\n",
    "# string to store the body of the mail\n",
    "body = \"mailed using python code\"\n",
    "\n",
    "# attach the body with the msg instance\n",
    "msg.attach(MIMEText(body, 'plain'))\n",
    "\n",
    "# open the file to be sent\n",
    "filename = \"mail-through-python.docx\"\n",
    "attachment = open(\"J:\\Flair technologies\\New folder\\ \", \"rb\")\n",
    "\n",
    "# instance of MIMEBase and named as p\n",
    "p = MIMEBase('application', 'octet-stream')\n",
    "\n",
    "# To change the payload into encoded form\n",
    "p.set_payload((attachment).read())\n",
    "\n",
    "# encode into base64\n",
    "encoders.encode_base64(p)\n",
    "\n",
    "p.add_header('Content-Disposition', \"attachment; filename= %s\" % filename)\n",
    "\n",
    "# attach the instance 'p' to instance 'msg'\n",
    "msg.attach(p)\n",
    "\n",
    "# creates SMTP session\n",
    "s = smtplib.SMTP('smtp.gmail.com', 587)\n",
    "\n",
    "# start TLS for security\n",
    "s.starttls()\n",
    "\n",
    "# Authentication\n",
    "s.login(fromaddr, \"Koth@123\")\n",
    "\n",
    "# Converts the Multipart msg into a string\n",
    "text = msg.as_string()\n",
    "\n",
    "# sending the mail\n",
    "s.sendmail(fromaddr, toaddr, text)\n",
    "\n",
    "# terminating the session\n",
    "s.quit()\n"
   ]
  },
  {
   "cell_type": "code",
   "execution_count": null,
   "id": "74dab298",
   "metadata": {},
   "outputs": [],
   "source": []
  }
 ],
 "metadata": {
  "kernelspec": {
   "display_name": "Python 3 (ipykernel)",
   "language": "python",
   "name": "python3"
  },
  "language_info": {
   "codemirror_mode": {
    "name": "ipython",
    "version": 3
   },
   "file_extension": ".py",
   "mimetype": "text/x-python",
   "name": "python",
   "nbconvert_exporter": "python",
   "pygments_lexer": "ipython3",
   "version": "3.10.0"
  }
 },
 "nbformat": 4,
 "nbformat_minor": 5
}
