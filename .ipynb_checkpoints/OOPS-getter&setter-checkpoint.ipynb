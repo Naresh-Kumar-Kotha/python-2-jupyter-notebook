{
 "cells": [
  {
   "cell_type": "code",
   "execution_count": 8,
   "id": "1dae40ed",
   "metadata": {},
   "outputs": [],
   "source": [
    "# Setter and Getter Methods: We can set(input) and get the values of instance variables by using getter and setter methods."
   ]
  },
  {
   "cell_type": "code",
   "execution_count": 9,
   "id": "cbd19a55",
   "metadata": {},
   "outputs": [],
   "source": [
    "# Setter Method:\n",
    "# setter methods can be used to set values to the instance variables.So, they are also known as mutator methods.\n",
    "\n",
    "# syntax:\n",
    "def setVariable(self,variable):\n",
    "    self.variable=variable"
   ]
  },
  {
   "cell_type": "code",
   "execution_count": 11,
   "id": "f997967c",
   "metadata": {},
   "outputs": [],
   "source": [
    "# Getter Method:\n",
    "# Getter methods can be used to get values of the instance variables. Getter methods also known as accessor methods.\n",
    "\n",
    "# syntax:\n",
    "def getVariable(self):\n",
    "    return self.variable"
   ]
  },
  {
   "cell_type": "code",
   "execution_count": null,
   "id": "7ddffb7d",
   "metadata": {},
   "outputs": [],
   "source": []
  },
  {
   "cell_type": "code",
   "execution_count": 3,
   "id": "78bc8b27",
   "metadata": {},
   "outputs": [],
   "source": [
    "class Student:\n",
    "    def __init__(self,fname,lname,marks_per):\n",
    "        self.first_name=fname\n",
    "        self.last_name=lname\n",
    "        self._marks_per=marks_per\n",
    "    \n",
    "    @property\n",
    "    def percentage(self):\n",
    "        return self._marks_per\n",
    "    \n",
    "    @percentage.setter\n",
    "    def percentage(self,per):\n",
    "        if per>70:\n",
    "            self._marks_per=per\n",
    "        else:\n",
    "            raise ValueError('No admission if percentage is less than 70')\n"
   ]
  },
  {
   "cell_type": "code",
   "execution_count": 4,
   "id": "28f6f6fc",
   "metadata": {},
   "outputs": [],
   "source": [
    "s=Student('Naresh','Kumar',75)\n",
    "s.percentage(80)"
   ]
  },
  {
   "cell_type": "code",
   "execution_count": 40,
   "id": "c6cefc6d",
   "metadata": {},
   "outputs": [],
   "source": [
    "\n",
    "class Temperature:\n",
    "    def __init__(self,temperature=0):\n",
    "        self.set_temperature(temperature)\n",
    "        \n",
    "    # getter method\n",
    "    def cel_to_fah(self):\n",
    "        return (self.temperature*1.8)+32\n",
    "    \n",
    "    # setter method\n",
    "    def set_temperature(self,value):\n",
    "        if value<-273.15:\n",
    "            raise ValueError('Temperature should be above -273.15')\n",
    "        self._temperature=value\n",
    "    "
   ]
  },
  {
   "cell_type": "code",
   "execution_count": 41,
   "id": "180aa5b1",
   "metadata": {},
   "outputs": [],
   "source": [
    "temp=Temperature(-100)\n"
   ]
  },
  {
   "cell_type": "code",
   "execution_count": null,
   "id": "73560404",
   "metadata": {},
   "outputs": [],
   "source": []
  },
  {
   "cell_type": "code",
   "execution_count": 49,
   "id": "32af61f2",
   "metadata": {},
   "outputs": [],
   "source": [
    "class Admission:\n",
    "    def __init__(self, fist_name, last_name, marks_per):\n",
    "        self.fist_name = fist_name\n",
    "        self.last_name = last_name\n",
    "        self._marks_per = marks_per\n",
    "\n",
    "    # Getter always give the value\n",
    "#     @property\n",
    "    def percentage(self):\n",
    "        return self._marks_per\n",
    "\n",
    "    # Here we are setting the data\n",
    "#     @percentage.setter\n",
    "    def percentage(self, per):\n",
    "        if per >= 70:\n",
    "            self._marks_per = per\n",
    "        else:\n",
    "            raise ValueError(\"We won't allow admission who has <70 %\")\n",
    "\n",
    "    def get_details(self):\n",
    "        return f\"{self.fist_name}-{self.last_name}-{self.marks_per}\""
   ]
  },
  {
   "cell_type": "code",
   "execution_count": 63,
   "id": "2d642e6e",
   "metadata": {},
   "outputs": [
    {
     "data": {
      "text/plain": [
       "('suresh', 'kumar', 89)"
      ]
     },
     "execution_count": 63,
     "metadata": {},
     "output_type": "execute_result"
    }
   ],
   "source": [
    "obj2 = Admission(\"suresh\", \"kumar\", 89)\n",
    "obj2.fist_name, obj2.last_name, obj2._marks_per\n",
    "# ('suresh', 'kumar', 89)\n"
   ]
  },
  {
   "cell_type": "code",
   "execution_count": 64,
   "id": "564d310e",
   "metadata": {},
   "outputs": [
    {
     "ename": "ValueError",
     "evalue": "We won't allow admission who has <70 %",
     "output_type": "error",
     "traceback": [
      "\u001b[1;31m---------------------------------------------------------------------------\u001b[0m",
      "\u001b[1;31mValueError\u001b[0m                                Traceback (most recent call last)",
      "\u001b[1;32m~\\AppData\\Local\\Temp/ipykernel_6104/2925494181.py\u001b[0m in \u001b[0;36m<module>\u001b[1;34m\u001b[0m\n\u001b[1;32m----> 1\u001b[1;33m \u001b[0mobj2\u001b[0m\u001b[1;33m.\u001b[0m\u001b[0mpercentage\u001b[0m\u001b[1;33m(\u001b[0m\u001b[1;36m69\u001b[0m\u001b[1;33m)\u001b[0m\u001b[1;33m\u001b[0m\u001b[1;33m\u001b[0m\u001b[0m\n\u001b[0m",
      "\u001b[1;32m~\\AppData\\Local\\Temp/ipykernel_6104/871331929.py\u001b[0m in \u001b[0;36mpercentage\u001b[1;34m(self, per)\u001b[0m\n\u001b[0;32m     16\u001b[0m             \u001b[0mself\u001b[0m\u001b[1;33m.\u001b[0m\u001b[0m_marks_per\u001b[0m \u001b[1;33m=\u001b[0m \u001b[0mper\u001b[0m\u001b[1;33m\u001b[0m\u001b[1;33m\u001b[0m\u001b[0m\n\u001b[0;32m     17\u001b[0m         \u001b[1;32melse\u001b[0m\u001b[1;33m:\u001b[0m\u001b[1;33m\u001b[0m\u001b[1;33m\u001b[0m\u001b[0m\n\u001b[1;32m---> 18\u001b[1;33m             \u001b[1;32mraise\u001b[0m \u001b[0mValueError\u001b[0m\u001b[1;33m(\u001b[0m\u001b[1;34m\"We won't allow admission who has <70 %\"\u001b[0m\u001b[1;33m)\u001b[0m\u001b[1;33m\u001b[0m\u001b[1;33m\u001b[0m\u001b[0m\n\u001b[0m\u001b[0;32m     19\u001b[0m \u001b[1;33m\u001b[0m\u001b[0m\n\u001b[0;32m     20\u001b[0m     \u001b[1;32mdef\u001b[0m \u001b[0mget_details\u001b[0m\u001b[1;33m(\u001b[0m\u001b[0mself\u001b[0m\u001b[1;33m)\u001b[0m\u001b[1;33m:\u001b[0m\u001b[1;33m\u001b[0m\u001b[1;33m\u001b[0m\u001b[0m\n",
      "\u001b[1;31mValueError\u001b[0m: We won't allow admission who has <70 %"
     ]
    }
   ],
   "source": [
    "obj2.percentage(69)"
   ]
  },
  {
   "cell_type": "code",
   "execution_count": 65,
   "id": "6dd578be",
   "metadata": {},
   "outputs": [
    {
     "data": {
      "text/plain": [
       "99"
      ]
     },
     "execution_count": 65,
     "metadata": {},
     "output_type": "execute_result"
    }
   ],
   "source": [
    "obj2.percentage = 99\n",
    "obj2.percentage"
   ]
  },
  {
   "cell_type": "code",
   "execution_count": null,
   "id": "eb76c671",
   "metadata": {},
   "outputs": [],
   "source": [
    "s"
   ]
  }
 ],
 "metadata": {
  "kernelspec": {
   "display_name": "Python 3 (ipykernel)",
   "language": "python",
   "name": "python3"
  },
  "language_info": {
   "codemirror_mode": {
    "name": "ipython",
    "version": 3
   },
   "file_extension": ".py",
   "mimetype": "text/x-python",
   "name": "python",
   "nbconvert_exporter": "python",
   "pygments_lexer": "ipython3",
   "version": "3.10.0"
  }
 },
 "nbformat": 4,
 "nbformat_minor": 5
}
