{
 "cells": [
  {
   "cell_type": "code",
   "execution_count": null,
   "id": "a8b301dd",
   "metadata": {},
   "outputs": [],
   "source": [
    "# Problem 1\n",
    "data = {\n",
    "    \"key1\": {\"key11\": {\"key111\": {\"key1111\": 1}}},\n",
    "    \"key2\": {\"key22\": {\"key222\": 2}},\n",
    "    \"key3\": {\"key33\": 3},\n",
    "    \"key4\": 4\n",
    "}\n",
    "\n",
    "# 1. I need only values from data [1, 2, 3, 4]\n",
    "# 2. It has to return the following result\n",
    "result = {\n",
    "    \"key1.key11.key111.key1111\": 1,\n",
    "    \"key2.key22.key222\": 2,\n",
    "    \"key3.key33\": 3,\n",
    "    \"key4\": 4\n",
    "}\n",
    "\n",
    "\n",
    "# Problem 2\n",
    "l = [0, [1,2,3], [4,5,[6,7,8,[9,10,11]], [12, 13]], 15, 16]\n",
    "# result should be flatten\n",
    "# [0, 1, 2, 3, 4, 5, 6, ----------- 16]\n",
    "\n",
    "# Problem 3\n",
    "l = [5, 2, 7, 9]\n",
    "# result [2*7*9, 5*7*9, 5*2*9, 5*2*7]\n",
    "# Write logic it has to work for n number of parameters\n",
    "# Problem 4\n",
    "\n",
    "# fibonacci series\n",
    "# 0 1 1 2 3 5 8 13 21 34 55 89 \n",
    "# 1. fib(100) --- I need series 100 < fibonacci series\n",
    "# Result: 0 1 1 2 3 5 8 13 21 34 55 89\n",
    "\n",
    "# 2. fib(20) --- I need first 20 fibonacci series\n",
    "# Result: 0 1 1 2 3 5 8 13 21 34 55 89 * * * * * * * *\n",
    "\n",
    "# problem 5\n",
    "# Need words from a given string \n",
    "# s = \"how are you\"\n",
    "# result = [\"how\", \"are\", \"you\"], but don't use split'\n",
    "\n",
    "# problem 6\n",
    "# find mobile numbers from a given string\n",
    "\n",
    "# Problem 7\n",
    "# sum of the integers from a given string\n",
    "# s = \"abcaa1anv12hsd234mnxz3and45\"\n",
    "# result = 1+12+234+3+45"
   ]
  },
  {
   "cell_type": "code",
   "execution_count": null,
   "id": "f226fd3c",
   "metadata": {},
   "outputs": [],
   "source": [
    "''' Problem 1\n",
    "data = {\n",
    "    \"key1\": {\"key11\": {\"key111\": {\"key1111\": 1}}},\n",
    "    \"key2\": {\"key22\": {\"key222\": 2}},\n",
    "    \"key3\": {\"key33\": 3},\n",
    "    \"key4\": 4\n",
    "}\n",
    "\n",
    "# 1. I need only values from data [1, 2, 3, 4]\n",
    "'''"
   ]
  },
  {
   "cell_type": "code",
   "execution_count": 18,
   "id": "787aa093",
   "metadata": {},
   "outputs": [
    {
     "data": {
      "text/plain": [
       "[1, 2, 3, 4]"
      ]
     },
     "execution_count": 18,
     "metadata": {},
     "output_type": "execute_result"
    }
   ],
   "source": [
    "def dct_func(data):\n",
    "    result=[]\n",
    "    for key,value in data.items():\n",
    "        if isinstance(value, dict):\n",
    "            result+=dct_func(value) # (or) result.extend(dct_func(value))\n",
    "        else:\n",
    "            result.append(value)\n",
    "    return result\n",
    "    \n",
    "    \n",
    "    \n",
    "data = {\n",
    "    \"key1\": {\"key11\": {\"key111\": {\"key1111\": 1}}},\n",
    "    \"key2\": {\"key22\": {\"key222\": 2}},\n",
    "    \"key3\": {\"key33\": 3},\n",
    "    \"key4\": 4\n",
    "     }\n",
    "\n",
    "dct_func(data)\n",
    "\n",
    "    "
   ]
  },
  {
   "cell_type": "code",
   "execution_count": 13,
   "id": "e874bec2",
   "metadata": {},
   "outputs": [
    {
     "name": "stdout",
     "output_type": "stream",
     "text": [
      "1:2\n",
      "2:3\n",
      "4:4\n"
     ]
    }
   ],
   "source": [
    "d={1:2,2:3,4:4}\n",
    "for key,value in d.items():\n",
    "    print(\"{}:{}\".format(key,value))"
   ]
  },
  {
   "cell_type": "code",
   "execution_count": 22,
   "id": "5db4ab4d",
   "metadata": {},
   "outputs": [
    {
     "data": {
      "text/plain": [
       "[1, 2, 3, 5]"
      ]
     },
     "execution_count": 22,
     "metadata": {},
     "output_type": "execute_result"
    }
   ],
   "source": [
    "r=[1,2,3]\n",
    "r.extend([5])\n",
    "r"
   ]
  },
  {
   "cell_type": "code",
   "execution_count": null,
   "id": "0988fca0",
   "metadata": {},
   "outputs": [],
   "source": [
    "''' Problem 1\n",
    "data = {\n",
    "    \"key1\": {\"key11\": {\"key111\": {\"key1111\": 1}}},\n",
    "    \"key2\": {\"key22\": {\"key222\": 2}},\n",
    "    \"key3\": {\"key33\": 3},\n",
    "    \"key4\": 4\n",
    "}\n",
    "\n",
    "# 2. It has to return the following result\n",
    "result = {\n",
    "    \"key1.key11.key111.key1111\": 1,\n",
    "    \"key2.key22.key222\": 2,\n",
    "    \"key3.key33\": 3,\n",
    "    \"key4\": 4\n",
    "}'''"
   ]
  },
  {
   "cell_type": "code",
   "execution_count": 43,
   "id": "3076e7a5",
   "metadata": {},
   "outputs": [
    {
     "data": {
      "text/plain": [
       "{'key1.key11.key111.key1111': 1,\n",
       " 'key2.key22.key222': 2,\n",
       " 'key3.key33': 3,\n",
       " 'key4': 4}"
      ]
     },
     "execution_count": 43,
     "metadata": {},
     "output_type": "execute_result"
    }
   ],
   "source": [
    "def flat_dct(data):\n",
    "    result={}\n",
    "    for key,value in data.items():\n",
    "        if isinstance(value, dict):\n",
    "            new_key= \"{}.{}\".format(key,list(value.keys())[0])\n",
    "            new_value =list(value.values())[0]\n",
    "            result.update(flat_dct({new_key:new_value}))\n",
    "        else:\n",
    "            result.update({key:value})\n",
    "    return result\n",
    "\n",
    "\n",
    "data = {\n",
    "    \"key1\": {\"key11\": {\"key111\": {\"key1111\": 1}}},\n",
    "    \"key2\": {\"key22\": {\"key222\": 2}},\n",
    "    \"key3\": {\"key33\": 3},\n",
    "    \"key4\": 4\n",
    "    }\n",
    "flat_dct(data)"
   ]
  },
  {
   "cell_type": "code",
   "execution_count": 27,
   "id": "ad850984",
   "metadata": {},
   "outputs": [
    {
     "data": {
      "text/plain": [
       "{1: 2}"
      ]
     },
     "execution_count": 27,
     "metadata": {},
     "output_type": "execute_result"
    }
   ],
   "source": [
    "key=1\n",
    "value=2\n",
    "d={}\n",
    "d.update({key:value})\n",
    "d"
   ]
  },
  {
   "cell_type": "code",
   "execution_count": 29,
   "id": "8241f484",
   "metadata": {},
   "outputs": [
    {
     "data": {
      "text/plain": [
       "{'key1': {'key11': {'key111': {'key1111': 1}}},\n",
       " 'key2': {'key22': {'key222': 2}},\n",
       " 'key3': {'key33': 3},\n",
       " 'key4': 4}"
      ]
     },
     "execution_count": 29,
     "metadata": {},
     "output_type": "execute_result"
    }
   ],
   "source": [
    "data\n"
   ]
  },
  {
   "cell_type": "code",
   "execution_count": 36,
   "id": "18489199",
   "metadata": {},
   "outputs": [
    {
     "data": {
      "text/plain": [
       "(dict_keys(['key1', 'key2', 'key3', 'key4']),\n",
       " dict_values([{'key11': {'key111': {'key1111': 1}}}, {'key22': {'key222': 2}}, {'key33': 3}, 4]))"
      ]
     },
     "execution_count": 36,
     "metadata": {},
     "output_type": "execute_result"
    }
   ],
   "source": [
    "data.keys(), data.values()"
   ]
  },
  {
   "cell_type": "code",
   "execution_count": 38,
   "id": "c8561604",
   "metadata": {},
   "outputs": [
    {
     "data": {
      "text/plain": [
       "{'key11': {'key111': {'key1111': 1}}}"
      ]
     },
     "execution_count": 38,
     "metadata": {},
     "output_type": "execute_result"
    }
   ],
   "source": [
    "list(data.keys())[0], list(data.values())[0]"
   ]
  },
  {
   "cell_type": "code",
   "execution_count": null,
   "id": "ce20dbf8",
   "metadata": {},
   "outputs": [],
   "source": []
  },
  {
   "cell_type": "code",
   "execution_count": null,
   "id": "ad94f808",
   "metadata": {},
   "outputs": [],
   "source": []
  },
  {
   "cell_type": "code",
   "execution_count": null,
   "id": "d98d67aa",
   "metadata": {},
   "outputs": [],
   "source": [
    "# Problem 2\n",
    "# l = [0, [1,2,3], [4,5,[6,7,8,[9,10,11]], [12, 13]], 15, 16]\n",
    "# result should be flatten\n",
    "# [0, 1, 2, 3, 4, 5, 6, ----------- 16]"
   ]
  },
  {
   "cell_type": "code",
   "execution_count": 50,
   "id": "e793ba01",
   "metadata": {},
   "outputs": [
    {
     "data": {
      "text/plain": [
       "[0, 1, 2, 3, 4, 5, 6, 7, 8, 9, 10, 11, 12, 13, 14, 15, 16]"
      ]
     },
     "execution_count": 50,
     "metadata": {},
     "output_type": "execute_result"
    }
   ],
   "source": [
    "def flat_lst(l):\n",
    "    result=[]\n",
    "    for i in l:\n",
    "        if isinstance(i, list):\n",
    "            result+=flat_lst(i) # (or) result.extend(flat_lst(i))\n",
    "        else:\n",
    "            result.append(i)\n",
    "    return result\n",
    "\n",
    "\n",
    "l = [0, [1,2,3], [4,5,[6,7,8,[9,10,11]], [12, 13,14]], 15, 16]\n",
    "flat_lst(l)\n"
   ]
  },
  {
   "cell_type": "code",
   "execution_count": null,
   "id": "c2f60884",
   "metadata": {},
   "outputs": [],
   "source": []
  },
  {
   "cell_type": "code",
   "execution_count": null,
   "id": "4b3fb339",
   "metadata": {},
   "outputs": [],
   "source": []
  },
  {
   "cell_type": "code",
   "execution_count": null,
   "id": "dd4e3bdf",
   "metadata": {},
   "outputs": [],
   "source": [
    "# Problem 3\n",
    "# l = [5, 2, 7, 9]\n",
    "# result [2*7*9, 5*7*9, 5*2*9, 5*2*7]\n",
    "# Write logic it has to work for n number of parameters\n",
    "# Problem 4"
   ]
  },
  {
   "cell_type": "code",
   "execution_count": 8,
   "id": "58e1b6ae",
   "metadata": {},
   "outputs": [
    {
     "data": {
      "text/plain": [
       "[126, 315, 90, 70]"
      ]
     },
     "execution_count": 8,
     "metadata": {},
     "output_type": "execute_result"
    }
   ],
   "source": [
    "from functools import reduce\n",
    "def multi(l):\n",
    "    product=reduce(lambda x,y:x*y,l) \n",
    "#     product=1\n",
    "#     for i in l: \n",
    "#         product*=i\n",
    "    result=[]\n",
    "    for i in l:\n",
    "        result.append(product//i)\n",
    "    return result\n",
    "\n",
    "\n",
    "l = [5, 2, 7, 9]\n",
    "multi(l)\n"
   ]
  },
  {
   "cell_type": "code",
   "execution_count": 4,
   "id": "00465ea3",
   "metadata": {},
   "outputs": [
    {
     "data": {
      "text/plain": [
       "[126, 315, 90, 70]"
      ]
     },
     "execution_count": 4,
     "metadata": {},
     "output_type": "execute_result"
    }
   ],
   "source": [
    "[2*7*9, 5*7*9, 5*2*9, 5*2*7]"
   ]
  },
  {
   "cell_type": "code",
   "execution_count": 4,
   "id": "8cc11e58",
   "metadata": {},
   "outputs": [],
   "source": [
    "# problem 5\n",
    "# Need words from a given string \n",
    "# s = \"how are you\"\n",
    "# result = [\"how\", \"are\", \"you\"], but don't use split'"
   ]
  },
  {
   "cell_type": "code",
   "execution_count": 3,
   "id": "90a36de7",
   "metadata": {},
   "outputs": [
    {
     "data": {
      "text/plain": [
       "['how', 'are', 'you']"
      ]
     },
     "execution_count": 3,
     "metadata": {},
     "output_type": "execute_result"
    }
   ],
   "source": [
    "def func(s):\n",
    "    result=''\n",
    "    lst=[]\n",
    "    for i in s:\n",
    "        if i!=' ':\n",
    "            result+=i\n",
    "        elif i==\" \" or result.is:\n",
    "            lst.append(result)\n",
    "            result=\"\"\n",
    "    lst.append(result)        \n",
    "    return lst\n",
    "\n",
    "s = \"how are you\"\n",
    "func(s)\n",
    "            "
   ]
  },
  {
   "cell_type": "code",
   "execution_count": 1,
   "id": "273b0005",
   "metadata": {},
   "outputs": [],
   "source": [
    "# Problem 7\n",
    "# sum of the integers from a given string\n",
    "# s = \"abcaa1anv12hsd234mnxz3and45\"\n",
    "# result = 1+12+234+3+45"
   ]
  },
  {
   "cell_type": "code",
   "execution_count": 50,
   "id": "a73a789e",
   "metadata": {},
   "outputs": [
    {
     "data": {
      "text/plain": [
       "295"
      ]
     },
     "execution_count": 50,
     "metadata": {},
     "output_type": "execute_result"
    }
   ],
   "source": [
    "def func(s):\n",
    "    result=''\n",
    "    lst=[]\n",
    "    for i in s:\n",
    "        if i.isdigit():\n",
    "            result+=i\n",
    "        elif i.isdigit()==False:\n",
    "            if result!=\"\":\n",
    "                lst.append(result) \n",
    "            result=\"\"\n",
    "    if result!=\"\":\n",
    "        lst.append(result)\n",
    "    sum=0\n",
    "    for i in range(len(lst)):\n",
    "        sum+=int(lst[i])\n",
    "    return sum\n",
    "\n",
    "s = \"abcaa1anv12hsd234mnxz3and45\"\n",
    "func(s)\n",
    "\n",
    "\n",
    "    "
   ]
  },
  {
   "cell_type": "code",
   "execution_count": 30,
   "id": "8c44a9e1",
   "metadata": {},
   "outputs": [
    {
     "data": {
      "text/plain": [
       "27"
      ]
     },
     "execution_count": 30,
     "metadata": {},
     "output_type": "execute_result"
    }
   ],
   "source": [
    "i='12'\n",
    "int(i)+15"
   ]
  },
  {
   "cell_type": "code",
   "execution_count": null,
   "id": "a5aabffb",
   "metadata": {},
   "outputs": [],
   "source": []
  }
 ],
 "metadata": {
  "kernelspec": {
   "display_name": "Python 3 (ipykernel)",
   "language": "python",
   "name": "python3"
  },
  "language_info": {
   "codemirror_mode": {
    "name": "ipython",
    "version": 3
   },
   "file_extension": ".py",
   "mimetype": "text/x-python",
   "name": "python",
   "nbconvert_exporter": "python",
   "pygments_lexer": "ipython3",
   "version": "3.10.0"
  }
 },
 "nbformat": 4,
 "nbformat_minor": 5
}
