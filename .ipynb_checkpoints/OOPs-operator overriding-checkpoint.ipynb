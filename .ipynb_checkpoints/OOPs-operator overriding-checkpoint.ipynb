{
 "cells": [
  {
   "cell_type": "code",
   "execution_count": 2,
   "id": "d05a478d",
   "metadata": {},
   "outputs": [],
   "source": [
    "class NewList(list):\n",
    "    def __add__(self,obj):\n",
    "        return [x+y for x,y in zip(self,obj)]\n",
    "    def __mul__(self ,obj):\n",
    "        return [x*y for (x,y) in zip(self,obj)]\n",
    "    def __sub__(self ,obj):\n",
    "        return [x-y for x,y in zip(self,obj)]"
   ]
  },
  {
   "cell_type": "code",
   "execution_count": 3,
   "id": "9b0cd800",
   "metadata": {},
   "outputs": [
    {
     "name": "stdout",
     "output_type": "stream",
     "text": [
      "[1, 2, 4, 5, 2, 4, 5, 7]\n",
      "[3, 6, 9, 12]\n"
     ]
    }
   ],
   "source": [
    "a=[1,2,4,5]\n",
    "b=[2,4,5,7]\n",
    "l=NewList(a)\n",
    "m=NewList(b)\n",
    "print(a+b)\n",
    "print(l+m)"
   ]
  },
  {
   "cell_type": "code",
   "execution_count": 4,
   "id": "348e5576",
   "metadata": {},
   "outputs": [
    {
     "data": {
      "text/plain": [
       "[-1, -2, -1, -2]"
      ]
     },
     "execution_count": 4,
     "metadata": {},
     "output_type": "execute_result"
    }
   ],
   "source": [
    "l-m"
   ]
  },
  {
   "cell_type": "code",
   "execution_count": 5,
   "id": "8c346f17",
   "metadata": {},
   "outputs": [
    {
     "data": {
      "text/plain": [
       "[2, 8, 20, 35]"
      ]
     },
     "execution_count": 5,
     "metadata": {},
     "output_type": "execute_result"
    }
   ],
   "source": [
    "l*m"
   ]
  },
  {
   "cell_type": "code",
   "execution_count": null,
   "id": "f4c3b018",
   "metadata": {},
   "outputs": [],
   "source": []
  },
  {
   "cell_type": "code",
   "execution_count": null,
   "id": "91bacbab",
   "metadata": {},
   "outputs": [],
   "source": []
  }
 ],
 "metadata": {
  "kernelspec": {
   "display_name": "Python 3 (ipykernel)",
   "language": "python",
   "name": "python3"
  },
  "language_info": {
   "codemirror_mode": {
    "name": "ipython",
    "version": 3
   },
   "file_extension": ".py",
   "mimetype": "text/x-python",
   "name": "python",
   "nbconvert_exporter": "python",
   "pygments_lexer": "ipython3",
   "version": "3.10.0"
  }
 },
 "nbformat": 4,
 "nbformat_minor": 5
}
