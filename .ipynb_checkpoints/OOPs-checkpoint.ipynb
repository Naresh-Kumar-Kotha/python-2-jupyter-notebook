{
 "cells": [
  {
   "cell_type": "code",
   "execution_count": 12,
   "id": "26b90048",
   "metadata": {},
   "outputs": [],
   "source": [
    "# Python's Object Oriented Programming (OOPs)\n",
    "\n",
    "# What is Class?\n",
    "# A class is a collection of properties (attributes) and methods (behaviour)\n",
    "\n",
    "# In Python every thing is an object. To create objects we required some Model or Plan or Blue print, which is nothing but class.\n",
    "# We can write a class to represent properties (attributes) and actions (behaviour) of object.\n",
    "# Properties can be represented by variables\n",
    "# Actions can be represented by Methods.\n",
    "# Hence class contains both variables and methods."
   ]
  },
  {
   "cell_type": "code",
   "execution_count": 13,
   "id": "ae16333f",
   "metadata": {},
   "outputs": [],
   "source": [
    "# What is Object? An object is an instance of a class\n",
    "# Pysical existence of a class is nothing but object. We can create any number of objects for a class.\n",
    "# Syntax to create object: reference_variable = classname()\n",
    "\n",
    "# What is Reference Variable?\n",
    "# The variable which can be used to refer object is called reference variable.\n",
    "# By using reference variable, we can access properties and methods of object."
   ]
  },
  {
   "cell_type": "code",
   "execution_count": null,
   "id": "fa4abbd3",
   "metadata": {},
   "outputs": [],
   "source": [
    "# There are 3 types of variables allowed:\n",
    "# 1. Instance Variables (Object Level Variables)\n",
    "# 2. Class/Static Variables (Class Level Variables)\n",
    "# 3. Local variables (Method Level Variables)\n",
    "\n",
    "# Within the Python class, we can represent operations by using methods. The following are various types of allowed methods:\n",
    "# 1. Instance Methods\n",
    "# 2. Class Methods\n",
    "# 3. Static Methods"
   ]
  },
  {
   "cell_type": "code",
   "execution_count": null,
   "id": "def6f15d",
   "metadata": {},
   "outputs": [],
   "source": [
    "# Self: self is the default variable which is always pointing to current object\n",
    "# By using self we can access instance variables and instance methods of object.\n",
    "\n",
    "# Note:\n",
    "# 1. self should be first parameter inside constructor:          def __init__(self):\n",
    "# 2. self should be first parameter inside instance methods:     def talk(self):"
   ]
  },
  {
   "cell_type": "code",
   "execution_count": 16,
   "id": "79570289",
   "metadata": {},
   "outputs": [],
   "source": [
    "# Constructor Concept:\n",
    "# Constructor is a special method in python.\n",
    "# The name of the constructor should be __init__(self)\n",
    "# Constructor will be executed automatically at the time of object creation.\n",
    "# ☕ The main purpose of constructor is to declare and initialize instance variables.\n",
    "# ☕ Per object constructor will be exeucted only once.\n",
    "# ☕ Constructor can take atleast one argument(atleast self)\n",
    "\n",
    "# Constructor is optional and if we are not providing any constructor then python will provide default constructor.\n",
    "\n",
    "# Example:\n",
    "def __init__(self,name,rollno,marks):\n",
    "    self.name=name\n",
    "    self.rollno=rollno\n",
    "    self.marks=marks"
   ]
  },
  {
   "cell_type": "code",
   "execution_count": null,
   "id": "f4a39aec",
   "metadata": {},
   "outputs": [],
   "source": []
  },
  {
   "cell_type": "code",
   "execution_count": null,
   "id": "72f6f1d9",
   "metadata": {},
   "outputs": [],
   "source": []
  },
  {
   "cell_type": "code",
   "execution_count": 17,
   "id": "3f528307",
   "metadata": {},
   "outputs": [],
   "source": [
    "class Student:\n",
    "    college_name='xyz'\n",
    "    \n",
    "    def __init__(self,fname,lname,reg):\n",
    "        self.firstname=fname\n",
    "        self.lastname=lname\n",
    "        self.reg_id=reg\n",
    "        print(\"I am in __init__\")\n",
    "        print('id of self:',id(self))\n",
    "        \n",
    "    def full_name(self):\n",
    "        return f\"{self.firstname} {self.lastname}\"\n",
    "    \n",
    "    def get_details(s):\n",
    "        return f\"{s.full_name()} ({s.college_name})\"\n",
    "    "
   ]
  },
  {
   "cell_type": "code",
   "execution_count": 18,
   "id": "be9c1497",
   "metadata": {},
   "outputs": [
    {
     "name": "stdout",
     "output_type": "stream",
     "text": [
      "I am in __init__\n",
      "id of self: 2420604705792\n",
      "id of obj : 2420604705792\n",
      "I am in __init__\n",
      "id of self: 2420604713232\n",
      "id of obj2: 2420604713232\n"
     ]
    }
   ],
   "source": [
    "obj= Student('naresh','kumar','13454')\n",
    "print('id of obj :',id(obj))\n",
    "\n",
    "\n",
    "obj2= Student('naresh','kumar','13454')\n",
    "print('id of obj2:',id(obj2))\n"
   ]
  },
  {
   "cell_type": "code",
   "execution_count": 19,
   "id": "cfc29f1a",
   "metadata": {},
   "outputs": [
    {
     "data": {
      "text/plain": [
       "'naresh kumar'"
      ]
     },
     "execution_count": 19,
     "metadata": {},
     "output_type": "execute_result"
    }
   ],
   "source": [
    "obj.full_name()"
   ]
  },
  {
   "cell_type": "code",
   "execution_count": 20,
   "id": "75c6247e",
   "metadata": {},
   "outputs": [
    {
     "data": {
      "text/plain": [
       "'naresh kumar (xyz)'"
      ]
     },
     "execution_count": 20,
     "metadata": {},
     "output_type": "execute_result"
    }
   ],
   "source": [
    "obj.get_details()"
   ]
  },
  {
   "cell_type": "code",
   "execution_count": null,
   "id": "618f98ea",
   "metadata": {},
   "outputs": [],
   "source": []
  },
  {
   "cell_type": "code",
   "execution_count": 10,
   "id": "f0938a3a",
   "metadata": {},
   "outputs": [
    {
     "name": "stdout",
     "output_type": "stream",
     "text": [
      "Hello I am : durga\n",
      "My Age is: 40\n",
      "My Marks are: 80\n"
     ]
    }
   ],
   "source": [
    "class Student:\n",
    "    '''''Developed by durga for python demo'''\n",
    "    def __init__(self):\n",
    "        self.name='durga'\n",
    "        self.age=40\n",
    "        self.marks=80\n",
    "\n",
    "    def talk(self):\n",
    "        print(\"Hello I am :\",self.name)\n",
    "        print(\"My Age is:\",self.age)\n",
    "        print(\"My Marks are:\",self.marks)\n",
    "\n",
    "s=Student()\n",
    "s.talk()"
   ]
  },
  {
   "cell_type": "code",
   "execution_count": 27,
   "id": "2c62d787",
   "metadata": {},
   "outputs": [
    {
     "name": "stdout",
     "output_type": "stream",
     "text": [
      "Welcome to  SBI\n",
      "Customer Name:Naresh\n",
      "Select an option from below:\n",
      "d-Deposit\n",
      "w-Withdraw\n",
      "e-Exit\n",
      "\n",
      "d\n",
      "Enter amount:1000\n",
      "Total balance after deposit: 1000.0 /-\n",
      "Select an option from below:\n",
      "d-Deposit\n",
      "w-Withdraw\n",
      "e-Exit\n",
      "\n",
      "500\n",
      "Invalid option..Plz choose valid option\n",
      "Select an option from below:\n",
      "d-Deposit\n",
      "w-Withdraw\n",
      "e-Exit\n",
      "\n",
      "w\n",
      "Enter amount:500\n",
      "Withdraw successful\n",
      "Current balance is: 500.0 /-\n",
      "Select an option from below:\n",
      "d-Deposit\n",
      "w-Withdraw\n",
      "e-Exit\n",
      "\n",
      "e\n",
      "Thanks for Banking\n"
     ]
    }
   ],
   "source": [
    "# Banking program:\n",
    "\n",
    "class Customer:\n",
    "    bankname='SBI'\n",
    "    \n",
    "    def __init__(self,name,balance=0.00):\n",
    "        self.cust_name=name\n",
    "        self.balance=balance\n",
    "        \n",
    "    def deposit(self,amt):\n",
    "        self.balance=self.balance+amt\n",
    "        print('Total balance after deposit:',self.balance,'/-')\n",
    "    \n",
    "    def withdraw(self,amt):\n",
    "        if amt>self.balance:\n",
    "            print('Insufficient funds in your a/c')\n",
    "            print('Current balance is:', self.balance,'/-')\n",
    "        else:\n",
    "            self.balance=self.balance-amt\n",
    "            print('Withdraw successful')\n",
    "            print('Current balance is:', self.balance,'/-')\n",
    "\n",
    "print('Welcome to ',Customer.bankname)\n",
    "name=input('Customer Name:')\n",
    "c=Customer('name')\n",
    "\n",
    "while True:\n",
    "    opt=input('Select an option from below:\\nd-Deposit\\nw-Withdraw\\ne-Exit\\n\\n')\n",
    "    if opt=='d':\n",
    "        amt=float(input('Enter amount:'))\n",
    "        c.deposit(amt)\n",
    "    elif opt=='w':\n",
    "        amt=float(input('Enter amount:'))\n",
    "        c.withdraw(amt)\n",
    "    elif opt=='e':\n",
    "        print('Thanks for Banking')\n",
    "        break\n",
    "    else:\n",
    "        print('Invalid option..Plz choose valid option')\n",
    "        "
   ]
  },
  {
   "cell_type": "code",
   "execution_count": null,
   "id": "12d41873",
   "metadata": {},
   "outputs": [],
   "source": []
  },
  {
   "cell_type": "code",
   "execution_count": null,
   "id": "dc2b71fb",
   "metadata": {},
   "outputs": [],
   "source": []
  }
 ],
 "metadata": {
  "kernelspec": {
   "display_name": "Python 3 (ipykernel)",
   "language": "python",
   "name": "python3"
  },
  "language_info": {
   "codemirror_mode": {
    "name": "ipython",
    "version": 3
   },
   "file_extension": ".py",
   "mimetype": "text/x-python",
   "name": "python",
   "nbconvert_exporter": "python",
   "pygments_lexer": "ipython3",
   "version": "3.10.0"
  }
 },
 "nbformat": 4,
 "nbformat_minor": 5
}
