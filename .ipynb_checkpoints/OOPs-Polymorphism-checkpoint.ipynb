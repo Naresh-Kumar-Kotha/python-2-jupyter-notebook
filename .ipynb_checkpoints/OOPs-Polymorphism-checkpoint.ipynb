{
 "cells": [
  {
   "cell_type": "code",
   "execution_count": 1,
   "id": "fe541104",
   "metadata": {},
   "outputs": [],
   "source": [
    "# Polymorphism: Poly means 'many' and morphs means 'forms'\n",
    "# Polymorphism means one thing having multiple forms\n",
    "# Objects will have multiple forms\n",
    "\n",
    "# Polymorphism is used in Loose coupling, dependency injection and interfaces"
   ]
  },
  {
   "cell_type": "code",
   "execution_count": 2,
   "id": "10ce45e3",
   "metadata": {},
   "outputs": [],
   "source": [
    "# Four ways of implementing Polymorphism:\n",
    "#     Duck typing\n",
    "#     Operator overloading\n",
    "#     Method overloading\n",
    "#     Method overriding"
   ]
  },
  {
   "cell_type": "code",
   "execution_count": null,
   "id": "fc8546c3",
   "metadata": {},
   "outputs": [],
   "source": []
  },
  {
   "cell_type": "code",
   "execution_count": 16,
   "id": "bb0c4f8b",
   "metadata": {},
   "outputs": [],
   "source": [
    "# Duck typing: Duck typing is a concept related to dynamic typing, \n",
    "             # where the type or the class of an object is less important than the methods it defines. \n",
    "# When you use duck typing, you do not check types at all. Instead, you check for the presence of a given method or attribute.\n",
    "# This term comes from the saying “If it walks like a duck, and it quacks like a duck, then it must be a duck."
   ]
  },
  {
   "cell_type": "code",
   "execution_count": 23,
   "id": "1fe634fe",
   "metadata": {},
   "outputs": [
    {
     "name": "stdout",
     "output_type": "stream",
     "text": [
      "Executed in Jupyter class\n"
     ]
    }
   ],
   "source": [
    "# Duck Typing-Example\n",
    "\n",
    "class Pycharm:\n",
    "    def execute(self):\n",
    "        print('Executed in pycharm class')\\\n",
    "\n",
    "class Jupyter:\n",
    "    def execute(self):\n",
    "        print('Executed in Jupyter class')\n",
    "\n",
    "class Laptop:\n",
    "    def func(self,ide):\n",
    "        ide.execute()\n",
    "\n",
    "ide=Pycharm()\n",
    "ide=Jupyter()   # It overrides the previous object ide\n",
    "obj2=Laptop()\n",
    "obj2.func(ide)"
   ]
  },
  {
   "cell_type": "code",
   "execution_count": null,
   "id": "040c4e3f",
   "metadata": {},
   "outputs": [],
   "source": [
    "# Operator Overloading: \n",
    "# It is the ability of a single operator to perform more than one operation based on the class (type) of operands. \n",
    "# For example, the + operator can be used to add two numbers, concatenate two strings or merge two lists.\n",
    "# For every operator Magic Methods are available. To overload any operator we have to override that Method in our class."
   ]
  },
  {
   "cell_type": "code",
   "execution_count": 1,
   "id": "66d8fc34",
   "metadata": {},
   "outputs": [
    {
     "name": "stdout",
     "output_type": "stream",
     "text": [
      "The Total Number of Pages: 300\n"
     ]
    }
   ],
   "source": [
    "# Demo program to overload ''+' operator for our Book class objects:\n",
    "class Book:\n",
    "    def __init__(self,pages):\n",
    "        self.pages=pages\n",
    "\n",
    "    def __add__(self,other):\n",
    "        return self.pages+other.pages\n",
    "\n",
    "b1=Book(100)\n",
    "b2=Book(200)\n",
    "print('The Total Number of Pages:',b1+b2)"
   ]
  },
  {
   "cell_type": "code",
   "execution_count": null,
   "id": "e398451e",
   "metadata": {},
   "outputs": [],
   "source": []
  },
  {
   "cell_type": "code",
   "execution_count": null,
   "id": "e7f9338e",
   "metadata": {},
   "outputs": [],
   "source": []
  },
  {
   "cell_type": "code",
   "execution_count": 1,
   "id": "b2c34723",
   "metadata": {},
   "outputs": [
    {
     "name": "stdout",
     "output_type": "stream",
     "text": [
      "100 90\n",
      "s1 wins\n"
     ]
    }
   ],
   "source": [
    "# Operator Overloading: Example\n",
    "class Student:\n",
    "    def __init__(self,m1,m2):\n",
    "        self.m1=m1\n",
    "        self.m2=m2\n",
    "        \n",
    "    def __add__(self,other):\n",
    "        m1=self.m1+other.m1\n",
    "        m2=self.m2+other.m2\n",
    "        s3=Student(m1,m2)\n",
    "        return s3\n",
    "    \n",
    "    def __gt__(self,other):\n",
    "        s1=self.m1+self.m2\n",
    "        s2=other.m1+other.m2\n",
    "        if s1>s2:\n",
    "            return True\n",
    "        else:\n",
    "            return False\n",
    "        \n",
    "        \n",
    "s1=Student(90,70)\n",
    "s2=Student(10,20)\n",
    "\n",
    "s3=s1+s2\n",
    "s3.m1\n",
    "s3.m2\n",
    "print(s3.m1,s3.m2)\n",
    "\n",
    "if s1>s2:\n",
    "    print('s1 wins')\n",
    "else:\n",
    "    print('s2 wins')"
   ]
  },
  {
   "cell_type": "code",
   "execution_count": null,
   "id": "268b6f29",
   "metadata": {},
   "outputs": [],
   "source": []
  },
  {
   "cell_type": "code",
   "execution_count": 14,
   "id": "3a7ee154",
   "metadata": {},
   "outputs": [
    {
     "data": {
      "text/plain": [
       "240"
      ]
     },
     "execution_count": 14,
     "metadata": {},
     "output_type": "execute_result"
    }
   ],
   "source": [
    "# Method Overloading: Example\n",
    "class Student:\n",
    "    def __init__(self):\n",
    "        pass\n",
    "        \n",
    "    def oper(self,a=None,b=None,c=None):           # Method Overloading\n",
    "        s=0\n",
    "        if a!=None and b!=None and c!=None:\n",
    "            s=a*b*c \n",
    "        elif a!=None and b!=None:\n",
    "            s=a*b\n",
    "        else:\n",
    "            s=a\n",
    "        return s\n",
    "\n",
    "obj=Student()\n",
    "obj.oper(5,6,8)"
   ]
  },
  {
   "cell_type": "code",
   "execution_count": null,
   "id": "62df9b13",
   "metadata": {},
   "outputs": [],
   "source": []
  },
  {
   "cell_type": "code",
   "execution_count": null,
   "id": "391be31f",
   "metadata": {},
   "outputs": [],
   "source": [
    "# Operator Overriding"
   ]
  },
  {
   "cell_type": "code",
   "execution_count": 17,
   "id": "28a7f23c",
   "metadata": {},
   "outputs": [
    {
     "name": "stdout",
     "output_type": "stream",
     "text": [
      "[1, 2, 4, 5, 2, 4, 5, 7]\n",
      "[3, 6, 9, 12]\n",
      "[-1, -2, -1, -2]\n",
      "[2, 8, 20, 35]\n"
     ]
    }
   ],
   "source": [
    "# Operator Overriding-Example\n",
    "\n",
    "class NewList(list):\n",
    "    def __add__(self,obj):\n",
    "        return [x+y for x,y in zip(self,obj)]\n",
    "    def __mul__(self ,obj):\n",
    "        return [x*y for (x,y) in zip(self,obj)]\n",
    "    def __sub__(self ,obj):\n",
    "        return [x-y for x,y in zip(self,obj)]\n",
    "\n",
    "a=[1,2,4,5]\n",
    "b=[2,4,5,7]\n",
    "l=NewList(a)\n",
    "m=NewList(b)\n",
    "print(a+b)       # [1, 2, 4, 5, 2, 4, 5, 7]---> two lists are concatenated\n",
    "print(l+m)       # [3, 6, 9, 12] ---> same indexed elements in two lists are added\n",
    "print(l-m)       # [3, 6, 9, 12] ---> same indexed elements in two lists are subtracted\n",
    "print(l*m)       # [3, 6, 9, 12] ---> same indexed elements in two lists are multiplied"
   ]
  },
  {
   "cell_type": "code",
   "execution_count": null,
   "id": "064ec86f",
   "metadata": {},
   "outputs": [],
   "source": []
  },
  {
   "cell_type": "code",
   "execution_count": 18,
   "id": "3ca9d711",
   "metadata": {},
   "outputs": [],
   "source": [
    "# Method Overriding: Overriding is the property of a class to change the implementation of a method provided by \n",
    "                   # one of its base classes.\n",
    "# In Python method overriding occurs by simply defining in the child class a method with the same name of a method in the parent class.\n",
    "\n",
    "# It is very famous in python"
   ]
  },
  {
   "cell_type": "code",
   "execution_count": 22,
   "id": "514ce73b",
   "metadata": {},
   "outputs": [
    {
     "name": "stdout",
     "output_type": "stream",
     "text": [
      "This show belongs to B\n"
     ]
    }
   ],
   "source": [
    "# Method Overriding: Example\n",
    "\n",
    "class A:\n",
    "    def show(self):\n",
    "        print('This show belongs to A')\n",
    "        \n",
    "class B(A):\n",
    "    def show(self):\n",
    "        print('This show belongs to B')\n",
    "        \n",
    "b=B()\n",
    "b.show()\n",
    "\n",
    "        "
   ]
  },
  {
   "cell_type": "code",
   "execution_count": null,
   "id": "39eba127",
   "metadata": {},
   "outputs": [],
   "source": []
  }
 ],
 "metadata": {
  "kernelspec": {
   "display_name": "Python 3 (ipykernel)",
   "language": "python",
   "name": "python3"
  },
  "language_info": {
   "codemirror_mode": {
    "name": "ipython",
    "version": 3
   },
   "file_extension": ".py",
   "mimetype": "text/x-python",
   "name": "python",
   "nbconvert_exporter": "python",
   "pygments_lexer": "ipython3",
   "version": "3.10.0"
  }
 },
 "nbformat": 4,
 "nbformat_minor": 5
}
