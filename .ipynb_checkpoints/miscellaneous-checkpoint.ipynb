{
 "cells": [
  {
   "cell_type": "code",
   "execution_count": 1,
   "id": "a08160fa",
   "metadata": {},
   "outputs": [],
   "source": [
    "# Problem: input: N=7 and arr = [4,5,0,1.9,0,5,0]; output: [4,5,0,1.9,5,0,0,0]\n",
    "# There are 3 empty packets in the given set. \n",
    "# These 3 empty packets represented as 0 should be pushed towards the end of the array"
   ]
  },
  {
   "cell_type": "code",
   "execution_count": 10,
   "id": "9e27b7d5",
   "metadata": {},
   "outputs": [
    {
     "name": "stdout",
     "output_type": "stream",
     "text": [
      "[4, 5, 1.9, 5, 0, 0, 0]\n"
     ]
    }
   ],
   "source": [
    "# Solution with pre-defined input\n",
    "n=7\n",
    "arr = [4,5,0,1.9,0,5,0]\n",
    "arr2=[0 for i in range(len(arr))]\n",
    "j=0\n",
    "for i in arr:\n",
    "    if i!=0:\n",
    "        arr2[j]=i\n",
    "        j+=1\n",
    "print(arr2)\n",
    "        "
   ]
  },
  {
   "cell_type": "code",
   "execution_count": null,
   "id": "94ed6a22",
   "metadata": {},
   "outputs": [],
   "source": []
  },
  {
   "cell_type": "code",
   "execution_count": 14,
   "id": "954cc70f",
   "metadata": {},
   "outputs": [
    {
     "name": "stdout",
     "output_type": "stream",
     "text": [
      "no.of elements in list:5\n",
      "Enter elements into list:\n",
      "5\n",
      "0\n",
      "4\n",
      "0\n",
      "4\n",
      "5 4 4 0 0 "
     ]
    }
   ],
   "source": [
    "# Solution with user-defined input\n",
    "n=int(input('no.of elements in list:'))\n",
    "j=0\n",
    "L=[0 for i in range(n)]\n",
    "print('Enter elements into list:')\n",
    "for i in range(n):\n",
    "    a=int(input())\n",
    "    if a!=0:\n",
    "        L[j]=a\n",
    "        j+=1\n",
    "for i in L:\n",
    "    print(i,end=\" \")"
   ]
  },
  {
   "cell_type": "code",
   "execution_count": null,
   "id": "9626aeb0",
   "metadata": {},
   "outputs": [],
   "source": [
    "# Problem-2: Input: n=7, list=[1,0,2,0,1,0,2]; output: [0 0 0 1 1 2 2]"
   ]
  },
  {
   "cell_type": "code",
   "execution_count": 29,
   "id": "48a6b500",
   "metadata": {},
   "outputs": [
    {
     "name": "stdout",
     "output_type": "stream",
     "text": [
      "no.of elements in list:7\n",
      "Enter elements into list:\n",
      "1\n",
      "0\n",
      "2\n",
      "0\n",
      "1\n",
      "0\n",
      "2\n",
      "0 0 0 1 1 2 2 "
     ]
    }
   ],
   "source": [
    "n=int(input('no.of elements in list:'))\n",
    "L=[0 for i in range(n)]\n",
    "j=n\n",
    "print('Enter elements into list:')\n",
    "for i in range(n):\n",
    "    a=int(input())\n",
    "    if a!=0:\n",
    "        L[j-1]=a\n",
    "        j-=1\n",
    "L.sort()\n",
    "for i in L:\n",
    "    print(i,end=\" \")"
   ]
  },
  {
   "cell_type": "code",
   "execution_count": null,
   "id": "5d4495e2",
   "metadata": {},
   "outputs": [],
   "source": []
  },
  {
   "cell_type": "code",
   "execution_count": null,
   "id": "df57b286",
   "metadata": {},
   "outputs": [],
   "source": []
  },
  {
   "cell_type": "code",
   "execution_count": null,
   "id": "35dcbd81",
   "metadata": {},
   "outputs": [],
   "source": []
  }
 ],
 "metadata": {
  "kernelspec": {
   "display_name": "Python 3 (ipykernel)",
   "language": "python",
   "name": "python3"
  },
  "language_info": {
   "codemirror_mode": {
    "name": "ipython",
    "version": 3
   },
   "file_extension": ".py",
   "mimetype": "text/x-python",
   "name": "python",
   "nbconvert_exporter": "python",
   "pygments_lexer": "ipython3",
   "version": "3.10.0"
  }
 },
 "nbformat": 4,
 "nbformat_minor": 5
}
