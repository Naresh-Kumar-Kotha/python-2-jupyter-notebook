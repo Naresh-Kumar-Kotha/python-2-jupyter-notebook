{
 "cells": [
  {
   "cell_type": "code",
   "execution_count": 9,
   "id": "e9bac46d",
   "metadata": {},
   "outputs": [],
   "source": [
    "from collections import Counter"
   ]
  },
  {
   "cell_type": "code",
   "execution_count": 10,
   "id": "3064e7a0",
   "metadata": {},
   "outputs": [
    {
     "name": "stdout",
     "output_type": "stream",
     "text": [
      "Counter({'o': 2, ' ': 2, 'h': 1, 'w': 1, 'a': 1, 'r': 1, 'e': 1, 'y': 1, 'u': 1, '?': 1})\n"
     ]
    }
   ],
   "source": [
    "s='how are you?'\n",
    "print(Counter(s))"
   ]
  },
  {
   "cell_type": "code",
   "execution_count": 11,
   "id": "b7af719a",
   "metadata": {},
   "outputs": [
    {
     "name": "stdout",
     "output_type": "stream",
     "text": [
      "Counter({1: 3, 2: 3, 4: 2, 'hi': 2, 3: 2, 'hello': 1, 5: 1, 'hell': 1})\n"
     ]
    }
   ],
   "source": [
    "l=[1,'hello',2,2,4,5,'hi',1,2,'hi',1,4,3,'hell',3]\n",
    "print(Counter(l))"
   ]
  },
  {
   "cell_type": "code",
   "execution_count": 17,
   "id": "7f808e77",
   "metadata": {},
   "outputs": [
    {
     "name": "stdout",
     "output_type": "stream",
     "text": [
      "\u0007\n"
     ]
    }
   ],
   "source": [
    "\n",
    "print('\\a')"
   ]
  },
  {
   "cell_type": "code",
   "execution_count": null,
   "id": "1cfc75a5",
   "metadata": {},
   "outputs": [],
   "source": []
  },
  {
   "cell_type": "code",
   "execution_count": 32,
   "id": "ce91fa31",
   "metadata": {},
   "outputs": [],
   "source": [
    "import winsound\n",
    "# winsound.PlaySound(\"beep.wav\", winsound.SND_FILENAME)\n",
    "for i in range(2):\n",
    "    winsound.PlaySound(\"SystemExclamation\", winsound.SND_ALIAS)\n",
    "    winsound.Beep(440, 500)\n",
    "# for i in range(10):\n",
    "#     winsound.Beep(440, 500)"
   ]
  },
  {
   "cell_type": "code",
   "execution_count": 31,
   "id": "b1a1c7be",
   "metadata": {},
   "outputs": [
    {
     "name": "stdout",
     "output_type": "stream",
     "text": [
      "Take a guess [1-10]8\n",
      "Nope, your guess was wrong. I was thinking\n"
     ]
    }
   ],
   "source": [
    "import random\n",
    "x=random.randint(1,10)\n",
    "n=int(input('Take a guess [1-10]'))\n",
    "if n==x:\n",
    "    print('Wow!congrats,you guessed number correctly')\n",
    "else:\n",
    "    print('Nope, your guess was wrong. I was thinking')"
   ]
  },
  {
   "cell_type": "code",
   "execution_count": null,
   "id": "32bc5c95",
   "metadata": {},
   "outputs": [],
   "source": []
  },
  {
   "cell_type": "code",
   "execution_count": null,
   "id": "fe8ae059",
   "metadata": {},
   "outputs": [],
   "source": []
  }
 ],
 "metadata": {
  "kernelspec": {
   "display_name": "Python 3 (ipykernel)",
   "language": "python",
   "name": "python3"
  },
  "language_info": {
   "codemirror_mode": {
    "name": "ipython",
    "version": 3
   },
   "file_extension": ".py",
   "mimetype": "text/x-python",
   "name": "python",
   "nbconvert_exporter": "python",
   "pygments_lexer": "ipython3",
   "version": "3.10.0"
  }
 },
 "nbformat": 4,
 "nbformat_minor": 5
}
