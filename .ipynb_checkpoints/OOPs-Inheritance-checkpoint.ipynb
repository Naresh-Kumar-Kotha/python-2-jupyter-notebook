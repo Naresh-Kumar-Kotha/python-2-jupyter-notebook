{
 "cells": [
  {
   "cell_type": "code",
   "execution_count": 22,
   "id": "a4675906",
   "metadata": {},
   "outputs": [
    {
     "name": "stdout",
     "output_type": "stream",
     "text": [
      "Feature-1 is working\n",
      "Feature-2 is working\n",
      "Feature-1 is working\n",
      "Feature-2 is working\n",
      "Feature-3 is working\n",
      "Feature-4 is working\n"
     ]
    }
   ],
   "source": [
    "# Inheritance: It is used if we want to access the properties of another class. \n",
    "# This is helpful as we dont want to write the code once again\n",
    "\n",
    "\n",
    "# Single level Inheritance - Example-1\n",
    "# class-A is called Parent class or Super-class\n",
    "# class-B is called Child class or sub-class\n",
    "\n",
    "class A:\n",
    "    def feature1(self):\n",
    "        print('Feature-1 is working')\n",
    "        \n",
    "    def feature2(self):\n",
    "        print('Feature-2 is working')\n",
    "\n",
    "class B(A): # class B is inheriting all the properties of class A\n",
    "    def feature3(self):\n",
    "        print('Feature-3 is working')\n",
    "        \n",
    "    def feature4(self):\n",
    "        print('Feature-4 is working')\n",
    "\n",
    "\n",
    "objA=A()\n",
    "objB=B()\n",
    "\n",
    "objA.feature1()\n",
    "objA.feature2()\n",
    "\n",
    "objB.feature1()\n",
    "objB.feature2()\n",
    "objB.feature3()\n",
    "objB.feature4()\n"
   ]
  },
  {
   "cell_type": "code",
   "execution_count": 2,
   "id": "02edbc59",
   "metadata": {},
   "outputs": [
    {
     "name": "stdout",
     "output_type": "stream",
     "text": [
      "Init in class A\n",
      "Init in class A\n"
     ]
    }
   ],
   "source": [
    "# Single level Inheritance: Example-2\n",
    "\n",
    "class A:\n",
    "    def __init__(self):\n",
    "        print('Init in class A')\n",
    "    \n",
    "    def feature1(self):\n",
    "        print('Feature-1 is working')\n",
    "        \n",
    "    def feature2(self):\n",
    "        print('Feature-2 is working')\n",
    "\n",
    "class B(A): # class B is inheriting all the properties(attributes, variables) of class A\n",
    "    \n",
    "#     def __init__(self):              # If class B has its own init method, it will be called if we create an object for class-B. If it is not there, class A init method will be called.\n",
    "#         print('Init in class B')\n",
    "    \n",
    "    def __init__(self):\n",
    "        super().__init__()           # Using 'super()', we can access parent class methods.\n",
    "    \n",
    "    def feature3(self):\n",
    "        print('Feature-3 is working')\n",
    "        \n",
    "    def feature4(self):\n",
    "        print('Feature-4 is working')\n",
    "\n",
    "\n",
    "objA=A()\n",
    "objB=B()\n",
    "\n",
    "# objA.feature1()\n",
    "# objA.feature2()\n",
    "\n",
    "# objB.feature1()\n"
   ]
  },
  {
   "cell_type": "code",
   "execution_count": 9,
   "id": "2ccb533b",
   "metadata": {},
   "outputs": [
    {
     "data": {
      "text/plain": [
       "'addition from class-B is 11'"
      ]
     },
     "execution_count": 9,
     "metadata": {},
     "output_type": "execute_result"
    }
   ],
   "source": [
    "# Single level Inheritance: Example-3\n",
    "\n",
    "class A:\n",
    "    def __init__(self,a,b):\n",
    "        self.a=a\n",
    "        self.b=b\n",
    "    \n",
    "    def addA(self):\n",
    "        return f\"addition from class-A is {self.a+self.b}\"\n",
    "\n",
    "class B(A): \n",
    "    \n",
    "    def addB(self):\n",
    "        return f\"addition from class-B is {self.a+self.b}\"\n",
    "        \n",
    "    def feature4(self):\n",
    "        print('Feature-4 is working')\n",
    "\n",
    "\n",
    "objB=B(5,6)\n",
    "objB.addB()"
   ]
  },
  {
   "cell_type": "code",
   "execution_count": 24,
   "id": "bbacd784",
   "metadata": {},
   "outputs": [
    {
     "name": "stdout",
     "output_type": "stream",
     "text": [
      "addition from class-B is 11\n",
      "addition from class-A is 11\n"
     ]
    }
   ],
   "source": [
    "# Single level Inheritance: Example-4\n",
    "\n",
    "class A:\n",
    "    def __init__(self,a,b):\n",
    "        self.a=a\n",
    "        self.b=b\n",
    "    \n",
    "    def addA(self):\n",
    "        return f\"addition from class-A is {self.a+self.b}\"\n",
    "\n",
    "class B(A): \n",
    "    \n",
    "    def addA(self):\n",
    "        return f\"addition from class-B is {self.a+self.b}\"\n",
    "        \n",
    "    def func(self):\n",
    "        print(self.addA())\n",
    "#         print(super(B,self).addA())\n",
    "        print(super().addA())\n",
    "\n",
    "\n",
    "objB=B(5,6)\n",
    "objB.func()"
   ]
  },
  {
   "cell_type": "code",
   "execution_count": null,
   "id": "5a11bd91",
   "metadata": {},
   "outputs": [],
   "source": []
  },
  {
   "cell_type": "code",
   "execution_count": 36,
   "id": "3bd0888e",
   "metadata": {},
   "outputs": [
    {
     "name": "stdout",
     "output_type": "stream",
     "text": [
      "Feature-1 is working\n",
      "Feature-2 is working\n",
      "Feature-3 is working\n",
      "Feature-4 is working\n",
      "Feature-5 is working\n",
      "Feature-6 is working\n"
     ]
    }
   ],
   "source": [
    "# Multi level Inheritance - Example-1\n",
    "# class-A is called Grand Parent class\n",
    "# class-B is called Parent class\n",
    "# class-C is called Child class\n",
    "\n",
    "class A:\n",
    "    def feature1(self):\n",
    "        print('Feature-1 is working')\n",
    "        \n",
    "    def feature2(self):\n",
    "        print('Feature-2 is working')\n",
    "\n",
    "class B(A): # class B is inheriting all the properties of class A\n",
    "    def feature3(self):\n",
    "        print('Feature-3 is working')\n",
    "        \n",
    "    def feature4(self):\n",
    "        print('Feature-4 is working')\n",
    "\n",
    "class C(B): # class C is inheriting all the properties of class A and class B\n",
    "    def feature5(self):\n",
    "        print('Feature-5 is working')\n",
    "        \n",
    "    def feature6(self):\n",
    "        print('Feature-6 is working')\n",
    "\n",
    "\n",
    "\n",
    "objC=C()\n",
    "\n",
    "objC.feature1()\n",
    "objC.feature2()\n",
    "objC.feature3()\n",
    "objC.feature4()\n",
    "objC.feature5()\n",
    "objC.feature6()\n",
    "\n"
   ]
  },
  {
   "cell_type": "code",
   "execution_count": 38,
   "id": "63747c4e",
   "metadata": {},
   "outputs": [
    {
     "name": "stdout",
     "output_type": "stream",
     "text": [
      "Init in class A\n"
     ]
    }
   ],
   "source": [
    "# Multi level Inheritance - Example-2\n",
    "\n",
    "# MRO - Method Resolution Order: It is the order in which a method is searched for in a classes hierarchy.\n",
    "#                                In multilevel Inheritance, the order of resolution is from bottom to top.\n",
    "\n",
    "class A:\n",
    "    def __init__(self):\n",
    "        print('Init in class A')\n",
    "        \n",
    "    def feature1(self):\n",
    "        print('Feature-1 is working')\n",
    "        \n",
    "    def feature2(self):\n",
    "        print('Feature-2 is working')\n",
    "\n",
    "class B(A): # class B is inheriting all the properties of class A\n",
    "#     def __init__(self):\n",
    "#         print('Init in class B')\n",
    "        \n",
    "    def feature3(self):\n",
    "        print('Feature-3 is working')\n",
    "        \n",
    "    def feature4(self):\n",
    "        print('Feature-4 is working')\n",
    "\n",
    "class C(B): # class C is inheriting all the properties of class A and class B\n",
    "    def feature5(self):\n",
    "        print('Feature-5 is working')\n",
    "        \n",
    "    def feature6(self):\n",
    "        print('Feature-6 is working')\n",
    "\n",
    "\n",
    "\n",
    "objC=C()\n"
   ]
  },
  {
   "cell_type": "code",
   "execution_count": null,
   "id": "6b2878a9",
   "metadata": {},
   "outputs": [],
   "source": []
  },
  {
   "cell_type": "code",
   "execution_count": 26,
   "id": "81b54340",
   "metadata": {},
   "outputs": [
    {
     "name": "stdout",
     "output_type": "stream",
     "text": [
      "Feature-1 is working\n",
      "Feature-2 is working\n",
      "Feature-3 is working\n",
      "Feature-4 is working\n",
      "Feature-1 is working\n",
      "Feature-2 is working\n",
      "Feature-3 is working\n",
      "Feature-4 is working\n",
      "Feature-5 is working\n",
      "Feature-6 is working\n"
     ]
    }
   ],
   "source": [
    "# Multiple Inheritance\n",
    "# class-A and class B are called Parent classes or Super-classes\n",
    "# class-C is called Child class or sub-class\n",
    "\n",
    "class A:\n",
    "    def feature1(self):\n",
    "        print('Feature-1 is working')\n",
    "        \n",
    "    def feature2(self):\n",
    "        print('Feature-2 is working')\n",
    "\n",
    "class B:\n",
    "    def feature3(self):\n",
    "        print('Feature-3 is working')\n",
    "        \n",
    "    def feature4(self):\n",
    "        print('Feature-4 is working')\n",
    "\n",
    "class C(A,B): # class C is inheriting all the properties of class A and class B\n",
    "    def feature5(self):\n",
    "        print('Feature-5 is working')\n",
    "        \n",
    "    def feature6(self):\n",
    "        print('Feature-6 is working')\n",
    "\n",
    "\n",
    "objA=A()\n",
    "objB=B()\n",
    "objC=C()\n",
    "\n",
    "objA.feature1()\n",
    "objA.feature2()\n",
    "\n",
    "# objB.feature1() --->AttributeError: 'B' object has no attribute 'feature1'\n",
    "# objB.feature2() --->AttributeError: 'B' object has no attribute 'feature2'\n",
    "objB.feature3()\n",
    "objB.feature4()\n",
    "\n",
    "objC.feature1()\n",
    "objC.feature2()\n",
    "objC.feature3()\n",
    "objC.feature4()\n",
    "objC.feature5()\n",
    "objC.feature6()\n"
   ]
  },
  {
   "cell_type": "code",
   "execution_count": 45,
   "id": "3fa226e8",
   "metadata": {},
   "outputs": [
    {
     "name": "stdout",
     "output_type": "stream",
     "text": [
      "Init in class-B\n",
      "Init in class-c\n"
     ]
    }
   ],
   "source": [
    "# Multiple Inheritance\n",
    "\n",
    "# MRO - Method Resolution Order: It is the order in which a method is searched for in a classes hierarchy.\n",
    "#                                In multiple Inheritance, the order of resolution is from left to right.\n",
    "\n",
    "class A:\n",
    "    \n",
    "#     def __init__(self):\n",
    "#         print('Init in class-A')\n",
    "        \n",
    "    def feature1(self):\n",
    "        print('Feature-1 is working')\n",
    "        \n",
    "    def feature2(self):\n",
    "        print('Feature-2 is working')\n",
    "\n",
    "class B:\n",
    "    \n",
    "    def __init__(self):\n",
    "        print('Init in class-B')\n",
    "    def feature3(self):\n",
    "        print('Feature-3 is working')\n",
    "        \n",
    "    def feature4(self):\n",
    "        print('Feature-4 is working')\n",
    "\n",
    "class C(A,B): # class C is inheriting all the properties of class A and class B\n",
    "    \n",
    "    def __init__(self):\n",
    "        super().__init__()\n",
    "        print('Init in class-c')\n",
    "    \n",
    "    def feature5(self):\n",
    "        print('Feature-5 is working')\n",
    "        \n",
    "    def feature6(self):\n",
    "        print('Feature-6 is working')\n",
    "\n",
    "objC=C()\n"
   ]
  },
  {
   "cell_type": "code",
   "execution_count": null,
   "id": "26f9c688",
   "metadata": {},
   "outputs": [],
   "source": []
  }
 ],
 "metadata": {
  "kernelspec": {
   "display_name": "Python 3 (ipykernel)",
   "language": "python",
   "name": "python3"
  },
  "language_info": {
   "codemirror_mode": {
    "name": "ipython",
    "version": 3
   },
   "file_extension": ".py",
   "mimetype": "text/x-python",
   "name": "python",
   "nbconvert_exporter": "python",
   "pygments_lexer": "ipython3",
   "version": "3.10.0"
  }
 },
 "nbformat": 4,
 "nbformat_minor": 5
}
