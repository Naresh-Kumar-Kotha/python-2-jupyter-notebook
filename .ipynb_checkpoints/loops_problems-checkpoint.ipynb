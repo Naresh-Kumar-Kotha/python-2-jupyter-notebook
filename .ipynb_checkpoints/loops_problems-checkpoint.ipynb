{
 "cells": [
  {
   "cell_type": "code",
   "execution_count": null,
   "id": "cec7af40",
   "metadata": {},
   "outputs": [],
   "source": [
    "# for loop:\n",
    "# If we want to execute some action for every element present in some sequence(it may be\n",
    "# string or collection) then we should go for 'for loop'.\n",
    "# Body will be executed for every element present in the sequence.\n",
    "\n",
    "\n",
    "# while loop:\n",
    "# If we want to execute a group of statements iteratively until some condition false,then we\n",
    "# should go for 'while loop'.\n",
    "\n",
    "# Difference between 'for loop' and 'while loop':\n",
    "# 'While loop' needs initialization, condition and increment, whereas 'for loop' does not.\n",
    "# 'for loop' is used when we have definite iteration, whereas 'while loop' is used if we want to end loop when some condition is met."
   ]
  },
  {
   "cell_type": "code",
   "execution_count": null,
   "id": "9c2e9bae",
   "metadata": {},
   "outputs": [],
   "source": [
    "# Nested loops:\n",
    "# Write a program to display stars in Right angled triangled form"
   ]
  },
  {
   "cell_type": "code",
   "execution_count": 17,
   "id": "e1498699",
   "metadata": {},
   "outputs": [
    {
     "name": "stdout",
     "output_type": "stream",
     "text": [
      "*\n",
      "**\n",
      "***\n",
      "****\n",
      "*****\n"
     ]
    }
   ],
   "source": [
    "# Sol-1\n",
    "n=5\n",
    "for i in range(1,n+1):\n",
    "    for j in range(1,i+1):\n",
    "        print('*', end=\"\")\n",
    "    print()"
   ]
  },
  {
   "cell_type": "code",
   "execution_count": 20,
   "id": "ab420263",
   "metadata": {},
   "outputs": [
    {
     "name": "stdout",
     "output_type": "stream",
     "text": [
      "*\n",
      "**\n",
      "***\n",
      "****\n",
      "*****\n"
     ]
    }
   ],
   "source": [
    "# sol-2\n",
    "n=5\n",
    "for i in range(1,n+1):\n",
    "        print('*'*i)"
   ]
  },
  {
   "cell_type": "code",
   "execution_count": 37,
   "id": "0be4ecf1",
   "metadata": {},
   "outputs": [
    {
     "name": "stdout",
     "output_type": "stream",
     "text": [
      "      * \n",
      "     * * \n",
      "    * * * \n",
      "   * * * * \n",
      "  * * * * * \n",
      " * * * * * * \n",
      "* * * * * * * \n"
     ]
    }
   ],
   "source": [
    "# Write a program to display *'s in pyramid style(also known as equivalent triangle)\n",
    "n=7\n",
    "for i in range(1,n+1):\n",
    "        print(' '*(n-i),end=\"\")\n",
    "        print('* '*i)                # '* ' ='*'+' ' "
   ]
  },
  {
   "cell_type": "code",
   "execution_count": null,
   "id": "df2cd99f",
   "metadata": {},
   "outputs": [],
   "source": [
    "# break: We can use break statement inside loops to break loop execution based on some condition.\n",
    "# continue:We can use continue statement to skip current iteration and continue next iteration.\n",
    "\n",
    "# pass statement: If a block or function is required which won't do anything then we can define that empty block with pass keyword.\n",
    "# - It is an empty statement\n",
    "# - It is null statement\n",
    "# - It won't do anything\n",
    "\n",
    "# 'loops with else block': Else part will be executed only if break statement is not present in loop or if it is not executed.\n",
    "# else means loop without break"
   ]
  },
  {
   "cell_type": "code",
   "execution_count": 48,
   "id": "eb07189b",
   "metadata": {},
   "outputs": [
    {
     "name": "stdout",
     "output_type": "stream",
     "text": [
      "0\n",
      "1\n",
      "2\n",
      "3\n",
      "4\n",
      "5\n",
      "6\n",
      "7\n",
      "8\n",
      "9\n",
      "end\n"
     ]
    }
   ],
   "source": [
    "for i in range(10):\n",
    "    print(i)\n",
    "#     if i==13:\n",
    "#         break\n",
    "else:\n",
    "    print('end')"
   ]
  },
  {
   "cell_type": "code",
   "execution_count": null,
   "id": "e19c8954",
   "metadata": {},
   "outputs": [],
   "source": []
  },
  {
   "cell_type": "code",
   "execution_count": null,
   "id": "596e7d0f",
   "metadata": {},
   "outputs": [],
   "source": []
  },
  {
   "cell_type": "code",
   "execution_count": null,
   "id": "b6d56db1",
   "metadata": {},
   "outputs": [],
   "source": []
  },
  {
   "cell_type": "code",
   "execution_count": 1,
   "id": "2a038321",
   "metadata": {},
   "outputs": [],
   "source": [
    "# 1. Find the common part from the given iterables \n",
    "# Example: (1,2,3,4,6), (1,2,3,7,8,9), (1,2,3,10,11,12), (1,2,13,14,15)\n",
    "# Result: (1,2)"
   ]
  },
  {
   "cell_type": "code",
   "execution_count": 3,
   "id": "1d30cd72",
   "metadata": {},
   "outputs": [
    {
     "name": "stdout",
     "output_type": "stream",
     "text": [
      "(1, 2)\n"
     ]
    }
   ],
   "source": [
    "a=(1,2,3,4,6)\n",
    "b=(1,2,3,7,8,9)\n",
    "c=(1,2,3,10,11,12)\n",
    "d=(1,2,13,14,15)\n",
    "result=[]\n",
    "for i in a:\n",
    "    for j in b:\n",
    "        for k in c:\n",
    "            for l in d:\n",
    "                if i==j==k==l:\n",
    "                    result.append(i)\n",
    "print(tuple(result))"
   ]
  },
  {
   "cell_type": "code",
   "execution_count": 25,
   "id": "22a781ee",
   "metadata": {},
   "outputs": [],
   "source": [
    "#  2. L = [“a”,”b”,”c”,3,4,5].If it is an integer then add 10 to integer and print \n",
    "#  O/p -- a,b,c,13,14,15"
   ]
  },
  {
   "cell_type": "code",
   "execution_count": 7,
   "id": "ea969712",
   "metadata": {},
   "outputs": [
    {
     "name": "stdout",
     "output_type": "stream",
     "text": [
      "a,b,c,13,14,15,"
     ]
    }
   ],
   "source": [
    "L = [\"a\",\"b\",\"c\",3,4,5]\n",
    "for i in L:\n",
    "    if type(i)==int:  #  if isinstance(i,int or str or ....)\n",
    "        print(10+i,end=\",\")\n",
    "    else:\n",
    "        print(i,end=\",\")"
   ]
  },
  {
   "cell_type": "code",
   "execution_count": 30,
   "id": "f13990f4",
   "metadata": {},
   "outputs": [],
   "source": [
    "#  3. L = [“a”,”b”,”c”,3,4,5] ..If it is integer add 10 and print all those values in list\n",
    "#  o/p  --  [“a”,”b”,”c”,13,14,15]."
   ]
  },
  {
   "cell_type": "code",
   "execution_count": 8,
   "id": "9a828e00",
   "metadata": {},
   "outputs": [
    {
     "name": "stdout",
     "output_type": "stream",
     "text": [
      "['a', 'b', 'c', 13, 14, 15]\n"
     ]
    }
   ],
   "source": [
    "L = [\"a\",\"b\",\"c\",3,4,5]\n",
    "lst=[]\n",
    "for i in L:\n",
    "    if isinstance(i,int):\n",
    "        lst.append(10+i)\n",
    "    else:\n",
    "        lst.append(i)\n",
    "print(lst)"
   ]
  },
  {
   "cell_type": "code",
   "execution_count": 33,
   "id": "0a8605b0",
   "metadata": {},
   "outputs": [],
   "source": [
    "# 4. L1 = [3,4,5,6],L2 = [4,3,2,1].Result list should be addition of elements in both lists O/p -- Result List -- [7,7,7,7]"
   ]
  },
  {
   "cell_type": "code",
   "execution_count": 11,
   "id": "51831057",
   "metadata": {},
   "outputs": [
    {
     "name": "stdout",
     "output_type": "stream",
     "text": [
      "[7, 7, 7, 7]\n"
     ]
    }
   ],
   "source": [
    "L1 = [3,4,5,6]\n",
    "L2 = [4,3,2,1]\n",
    "result=[]\n",
    "for i in range(0,len(L1)):\n",
    "    result.append(L1[i]+L2[i])\n",
    "print(result)\n",
    "    "
   ]
  },
  {
   "cell_type": "code",
   "execution_count": 39,
   "id": "0a9ca9fd",
   "metadata": {},
   "outputs": [],
   "source": [
    "# 5. L = [1,1,2,3,4,5,1,12,1,2,1,1,2] .remove duplicates without using set?\n",
    "# Try with and without a temporary list? "
   ]
  },
  {
   "cell_type": "code",
   "execution_count": 2,
   "id": "b9aeac99",
   "metadata": {},
   "outputs": [
    {
     "name": "stdout",
     "output_type": "stream",
     "text": [
      "[1, 2, 3, 4, 5, 12]\n"
     ]
    }
   ],
   "source": [
    "#sol-1 with a temporary list\n",
    "L = [1,1,2,3,4,5,1,12,1,2,1,1,2]\n",
    "result=[] # with a temporary list\n",
    "for i in L:\n",
    "    if i not in result:\n",
    "        result.append(i)\n",
    "print(result)"
   ]
  },
  {
   "cell_type": "code",
   "execution_count": 6,
   "id": "59928ce5",
   "metadata": {},
   "outputs": [
    {
     "data": {
      "text/plain": [
       "[3, 4, 5, 12, 1, 2]"
      ]
     },
     "execution_count": 6,
     "metadata": {},
     "output_type": "execute_result"
    }
   ],
   "source": [
    "#sol-2 without a temporary list\n",
    "L = [1,1,2,3,4,5,1,12,1,2,1,1,2]\n",
    "for i in L:\n",
    "    while L.count(i)>1:\n",
    "        L.remove(i)\n",
    "L\n"
   ]
  },
  {
   "cell_type": "code",
   "execution_count": 50,
   "id": "fde6faae",
   "metadata": {},
   "outputs": [],
   "source": [
    "# 6. S = “I am in hyderabad”.  Result = [“I”,”am”,”in”,”hyderabad”]\n",
    "# Do this without using the Split( ) function."
   ]
  },
  {
   "cell_type": "code",
   "execution_count": 20,
   "id": "26843f39",
   "metadata": {},
   "outputs": [
    {
     "name": "stdout",
     "output_type": "stream",
     "text": [
      "hyderabad\n",
      "['I', 'am', 'in', 'hyderabad']\n"
     ]
    }
   ],
   "source": [
    "S = \"I am in hyderabad\"\n",
    "result=[]\n",
    "string=''\n",
    "for i in S:\n",
    "    if i==' ':\n",
    "        result.append(string)\n",
    "        string=\"\"\n",
    "    else:\n",
    "        string=string+i\n",
    "result.append(string)\n",
    "print(result)"
   ]
  },
  {
   "cell_type": "code",
   "execution_count": 64,
   "id": "c26ebb6e",
   "metadata": {},
   "outputs": [],
   "source": [
    "# 23. Write a program to check if a given number is an armstrong number or not. Armstrong number is formed by sum of \n",
    "# cubes of each digit of a given number. 153 = 1*1*1 + 5*5*5 + 3*3*3  // 153 is an Armstrong number."
   ]
  },
  {
   "cell_type": "code",
   "execution_count": 126,
   "id": "c70ff212",
   "metadata": {},
   "outputs": [
    {
     "name": "stdout",
     "output_type": "stream",
     "text": [
      "number:54748\n",
      "54748 is an Armstrong Number\n"
     ]
    }
   ],
   "source": [
    "num=int(input(\"number:\"))\n",
    "temp=temp2=num\n",
    "i=1\n",
    "summ=0\n",
    "noofdig=0\n",
    "while temp2>0:\n",
    "    temp2=temp2//10\n",
    "    noofdig+=1\n",
    "while num>0:\n",
    "    n=(num%(10))\n",
    "    num=num//(10)\n",
    "    summ=summ+n**noofdig\n",
    "    i+=1\n",
    "if (summ==temp):\n",
    "    print(temp,'is an Armstrong Number')\n",
    "else:\n",
    "    print(temp, \"is not an Armstrong Number\") "
   ]
  },
  {
   "cell_type": "code",
   "execution_count": 23,
   "id": "a4ff41b2",
   "metadata": {},
   "outputs": [],
   "source": [
    "# 7. S = “I am in hyderabad”     Result = “I Am In Hyderabad”.\n",
    "# Do this without using title ()"
   ]
  },
  {
   "cell_type": "code",
   "execution_count": 160,
   "id": "8628cea0",
   "metadata": {},
   "outputs": [
    {
     "data": {
      "text/plain": [
       "' I Am In Hyderabad'"
      ]
     },
     "execution_count": 160,
     "metadata": {},
     "output_type": "execute_result"
    }
   ],
   "source": [
    "s = \"i am in hyderabad\"\n",
    "string=''\n",
    "t=s.split()\n",
    "for i in t:\n",
    "    i=i.capitalize()\n",
    "    string+=\" \"\n",
    "    string+=i\n",
    "string"
   ]
  },
  {
   "cell_type": "code",
   "execution_count": 19,
   "id": "358e6ebf",
   "metadata": {},
   "outputs": [],
   "source": [
    "# 8. S = “I am in hyderabad”.  If we give centre = 50\n",
    "# Result = “                 I am in hyderabad                                 ”\n",
    "# Do this without using centre ( )"
   ]
  },
  {
   "cell_type": "code",
   "execution_count": 32,
   "id": "4325fb24",
   "metadata": {},
   "outputs": [
    {
     "name": "stdout",
     "output_type": "stream",
     "text": [
      "s:i am in hyderabad\n",
      "center:50\n"
     ]
    },
    {
     "data": {
      "text/plain": [
       "'                i am in hyderabad                 '"
      ]
     },
     "execution_count": 32,
     "metadata": {},
     "output_type": "execute_result"
    }
   ],
   "source": [
    "# s = \"i am in hyderabad\"\n",
    "# centre=50\n",
    "s = input(\"s:\")\n",
    "centre=int(input('center:'))\n",
    "string=''\n",
    "lent=len(s)\n",
    "diffby2=(centre-lent)//2\n",
    "diff2=centre-(lent+diffby2)\n",
    "for i in range(diffby2):\n",
    "    string+=\" \"\n",
    "for i in s:\n",
    "    string+=i\n",
    "for i in range(diff2):\n",
    "    string+=\" \"\n",
    "string"
   ]
  },
  {
   "cell_type": "code",
   "execution_count": 33,
   "id": "87ee9a8e",
   "metadata": {},
   "outputs": [],
   "source": [
    "# 9. S = “This is hyb9900164930 bngl 9900 apr9505909369 flair950”\n",
    "# O/P -- only mobile numbers in above string\n",
    "# 9900164930\n",
    "# 9505909369"
   ]
  },
  {
   "cell_type": "code",
   "execution_count": 96,
   "id": "ced60928",
   "metadata": {},
   "outputs": [
    {
     "name": "stdout",
     "output_type": "stream",
     "text": [
      "9900164930\n",
      "9505909369\n"
     ]
    }
   ],
   "source": [
    "s = 'This is hyb9900164930 bngl 9900 apr9505909369 flair950'\n",
    "string=\"\"\n",
    "for i in range(len(s)):\n",
    "    if s[i].isdigit()==True:\n",
    "        string+=s[i]\n",
    "    if len(string)==10:\n",
    "        print(string)\n",
    "        string=\"\"\n",
    "    if s[i]==\" \":\n",
    "        string=\"\"\n",
    "# s = 'This is hyb9900164930 bngl 9900 apr9505909369 flair950'\n",
    "# s1=s.split()\n",
    "# string=\"\"\n",
    "# for i in s1:\n",
    "#     for j in i:\n",
    "#         if j.isdigit():\n",
    "#             string+=j\n",
    "#     if len(string)==10:\n",
    "#         print(string)\n",
    "#     string=\"\"\n",
    "            "
   ]
  },
  {
   "cell_type": "code",
   "execution_count": 3,
   "id": "83018bb7",
   "metadata": {},
   "outputs": [
    {
     "data": {
      "text/plain": [
       "{'i': 2,\n",
       " ' ': 3,\n",
       " 'a': 3,\n",
       " 'm': 1,\n",
       " 'n': 1,\n",
       " 'h': 1,\n",
       " 'y': 1,\n",
       " 'd': 2,\n",
       " 'e': 1,\n",
       " 'r': 1,\n",
       " 'b': 1}"
      ]
     },
     "execution_count": 3,
     "metadata": {},
     "output_type": "execute_result"
    }
   ],
   "source": [
    "# 10. To find the count of each character in the string\n",
    "s = \"i am in hyderabad\"\n",
    "set={}\n",
    "for i in s:\n",
    "    if i in set:\n",
    "        set[i]+=1\n",
    "    else:\n",
    "        set[i]=1\n",
    "set\n",
    "    "
   ]
  },
  {
   "cell_type": "code",
   "execution_count": 150,
   "id": "a0e96575",
   "metadata": {},
   "outputs": [
    {
     "data": {
      "text/plain": [
       "{'i': 2, 'a': 1, 'o': 3, 'u': 1, 'e': 1}"
      ]
     },
     "execution_count": 150,
     "metadata": {},
     "output_type": "execute_result"
    }
   ],
   "source": [
    "# 11. To find the count of a,e,i,o,u in the string\n",
    "s = \"i am in your bedroom\"\n",
    "sett={}\n",
    "for i in s:\n",
    "    if i.lower() in \"aeiou\":\n",
    "        sett[i]=sett.get(i,0)+1\n",
    "sett\n",
    "    "
   ]
  },
  {
   "cell_type": "code",
   "execution_count": 178,
   "id": "f1a0456d",
   "metadata": {},
   "outputs": [],
   "source": [
    "# 13. A pangram is a sentence that contains all the letters of the English alphabet at least once, \n",
    "# for example: \"The quick brown fox jumps over the lazy dog\". Check whether it is a pangram."
   ]
  },
  {
   "cell_type": "code",
   "execution_count": 199,
   "id": "92cbf28b",
   "metadata": {},
   "outputs": [
    {
     "name": "stdout",
     "output_type": "stream",
     "text": [
      "y not there\n",
      "Not a pangram\n"
     ]
    }
   ],
   "source": [
    "s=\"The quick brown fox jumps over the laZy dog\"\n",
    "alp=\"abcdefghijklmnopqrstuvwxyz\"\n",
    "k=1\n",
    "for i in alp:\n",
    "    if i not in s.lower():\n",
    "        print(i,\"not there\")\n",
    "        k+=1\n",
    "if k>1:\n",
    "    print(\"Not a pangram\")\n",
    "else:\n",
    "    print(\"Pangram\")"
   ]
  },
  {
   "cell_type": "code",
   "execution_count": 200,
   "id": "b4b962ec",
   "metadata": {},
   "outputs": [],
   "source": [
    "# 14. Write a Python program that accepts a string and calculates the number of upper case letters and lower case letters. \n",
    "# Sample String : 'The quick Brow Fox'\n",
    "# Expected Output : \n",
    "#         No. of Uppercase characters : 3\n",
    "#         No. of Lower case Characters : 12"
   ]
  },
  {
   "cell_type": "code",
   "execution_count": 229,
   "id": "17918b20",
   "metadata": {},
   "outputs": [
    {
     "name": "stdout",
     "output_type": "stream",
     "text": [
      "4 11\n"
     ]
    }
   ],
   "source": [
    "strng='The quiCk Brow Fox'\n",
    "u=0\n",
    "l=0\n",
    "for i in strng:\n",
    "    if i.isupper():\n",
    "        u+=1 \n",
    "    elif i.islower():\n",
    "        l+=1 \n",
    "print(u,l)"
   ]
  },
  {
   "cell_type": "code",
   "execution_count": 230,
   "id": "ea6558ba",
   "metadata": {},
   "outputs": [],
   "source": [
    "# 15. Write a Python program that takes a list and creates a new list with unique elements of the first list.\n",
    "# Sample List : [1,2,3,3,3,3,4,5]\n",
    "# Unique List : [1, 2, 3, 4, 5]"
   ]
  },
  {
   "cell_type": "code",
   "execution_count": 251,
   "id": "b343b566",
   "metadata": {},
   "outputs": [
    {
     "name": "stdout",
     "output_type": "stream",
     "text": [
      "Enter list values(only integers):1,2,3,3,3,3,4,5\n"
     ]
    },
    {
     "data": {
      "text/plain": [
       "[1, 2, 3, 4, 5]"
      ]
     },
     "execution_count": 251,
     "metadata": {},
     "output_type": "execute_result"
    }
   ],
   "source": [
    "l=list(input(\"Enter list values(only integers):\").split(','))\n",
    "m=[]\n",
    "for i in l:\n",
    "    if int(i) not in m:\n",
    "        m.append(int(i))\n",
    "m\n"
   ]
  },
  {
   "cell_type": "code",
   "execution_count": null,
   "id": "9b2a9ff6",
   "metadata": {},
   "outputs": [],
   "source": [
    "# 16. Write a Python program that accepts a hyphen separated sequence of words as input \n",
    "# and prints the words in a hyphen-separated sequence after sorting them alphabetically.\n",
    "# Sample Items : green-red-yellow-black-white\n",
    "# Expected Result : black-green-red-white-yellow"
   ]
  },
  {
   "cell_type": "code",
   "execution_count": 20,
   "id": "ebe06787",
   "metadata": {},
   "outputs": [
    {
     "name": "stdout",
     "output_type": "stream",
     "text": [
      "Enter list values:green-red-yellow-black-white\n"
     ]
    },
    {
     "data": {
      "text/plain": [
       "'black-green-red-white-yellow'"
      ]
     },
     "execution_count": 20,
     "metadata": {},
     "output_type": "execute_result"
    }
   ],
   "source": [
    "l=list(input(\"Enter list values:\").split('-'))\n",
    "l.sort()\n",
    "'-'.join(l)\n",
    "# for i in l:\n",
    "#     print(i,end=\"-\")\n"
   ]
  },
  {
   "cell_type": "code",
   "execution_count": 19,
   "id": "4f32bd4f",
   "metadata": {},
   "outputs": [
    {
     "data": {
      "text/plain": [
       "'black-green-red-white-yellow'"
      ]
     },
     "execution_count": 19,
     "metadata": {},
     "output_type": "execute_result"
    }
   ],
   "source": [
    "word='green-red-yellow-black-white'\n",
    "colors=word.split('-')\n",
    "colors.sort()\n",
    "'-'.join(colors)"
   ]
  },
  {
   "cell_type": "code",
   "execution_count": 12,
   "id": "761bf942",
   "metadata": {},
   "outputs": [],
   "source": [
    "# 17. create a dictionary from a list of integers.\n",
    "# i/p: [9,3,4,1,2,9,4,2,1,6,3,2,4]\n",
    "# o/p: {9:2, 3:2, 2:3, 4:3, 1:2, 6:1}"
   ]
  },
  {
   "cell_type": "code",
   "execution_count": 270,
   "id": "5db3ca5c",
   "metadata": {},
   "outputs": [
    {
     "data": {
      "text/plain": [
       "{9: 2, 3: 2, 4: 3, 1: 2, 2: 3, 6: 1}"
      ]
     },
     "execution_count": 270,
     "metadata": {},
     "output_type": "execute_result"
    }
   ],
   "source": [
    "l=[9,3,4,1,2,9,4,2,1,6,3,2,4]\n",
    "dct={}\n",
    "for i in l:\n",
    "    if i in dct:\n",
    "        dct[i]=dct.get(i,0)+1\n",
    "    else:\n",
    "        dct[i]=1\n",
    "dct"
   ]
  },
  {
   "cell_type": "code",
   "execution_count": 271,
   "id": "90f71d6f",
   "metadata": {},
   "outputs": [],
   "source": [
    "# 19. write a program to print if a given string is palindrome or not.\n",
    "# i/p: \"hello\"  o/p: Not a palindrome.\n",
    "# i/p: \"madam\"  o/p : It's a palindrome."
   ]
  },
  {
   "cell_type": "code",
   "execution_count": 282,
   "id": "110326e2",
   "metadata": {},
   "outputs": [
    {
     "name": "stdout",
     "output_type": "stream",
     "text": [
      "String:madam\n",
      "Palindrome\n"
     ]
    }
   ],
   "source": [
    "st=input(\"String:\")\n",
    "st2=''\n",
    "for i in st:\n",
    "    st2=i+st2\n",
    "if st==st2:\n",
    "    print(\"Palindrome\")\n",
    "else:\n",
    "    print(\"Not a palindrome\")"
   ]
  },
  {
   "cell_type": "code",
   "execution_count": 283,
   "id": "91a872cf",
   "metadata": {},
   "outputs": [],
   "source": [
    "# 20. Write a python program to interchange keys and values in a dictionary.\n",
    "# i/p: {'x': 1, 'y': 2, 'z': 3}\n",
    "# o/p: {1: 'x', 2: 'y', 3: 'z'}"
   ]
  },
  {
   "cell_type": "code",
   "execution_count": 340,
   "id": "17aaa88c",
   "metadata": {},
   "outputs": [
    {
     "name": "stdout",
     "output_type": "stream",
     "text": [
      "{1: 'x', 2: 'y', 3: 'z'}\n"
     ]
    }
   ],
   "source": [
    "dct={'x': 1, 'y': 2, 'z': 3}\n",
    "dct2={}\n",
    "k,v=dct.keys(),dct.values()\n",
    "for key,value in dct.items():\n",
    "    dct2[value]=key\n",
    "print(dct2)\n",
    "\n",
    "    "
   ]
  },
  {
   "cell_type": "code",
   "execution_count": 341,
   "id": "6b0ade92",
   "metadata": {},
   "outputs": [],
   "source": [
    "# 21.Write a program to take consecutive elements from two lists.\n",
    "# i/p: a = [3, 4, 5, 6],  b = [1, 2, 3, 4]\n",
    "# o/p: [(3, 1), (4, 2), (5, 3), (6, 4)]"
   ]
  },
  {
   "cell_type": "code",
   "execution_count": 353,
   "id": "8b56fd31",
   "metadata": {},
   "outputs": [
    {
     "data": {
      "text/plain": [
       "[(3, 1), (4, 2), (5, 3), (6, 4)]"
      ]
     },
     "execution_count": 353,
     "metadata": {},
     "output_type": "execute_result"
    }
   ],
   "source": [
    "a = [3, 4, 5, 6]\n",
    "b = [1, 2, 3, 4]\n",
    "lst=[]\n",
    "for i in range(0,len(a)):\n",
    "    lst.append((a[i],b[i]))\n",
    "lst\n",
    "\n",
    "    "
   ]
  },
  {
   "cell_type": "code",
   "execution_count": 354,
   "id": "13bad5f5",
   "metadata": {},
   "outputs": [],
   "source": [
    "# Write a program to group words from a list.\n",
    "# i/p: ['ashok', 'hari', 'bhanu', 'anil', 'bharath', 'anvesh', 'uday', 'raja']\n",
    "# o/p: {'a': ['ashok', 'anil', 'anvesh'], 'b': ['bhanu', 'bharath'], h: ['hari'], 'u': ['uday']\n",
    "#      'r': ['raja']}"
   ]
  },
  {
   "cell_type": "code",
   "execution_count": 355,
   "id": "9f9bd459",
   "metadata": {},
   "outputs": [],
   "source": [
    "l=['ashok', 'hari', 'bhanu', 'anil', 'bharath', 'anvesh', 'uday', 'raja']\n",
    "d={}"
   ]
  },
  {
   "cell_type": "code",
   "execution_count": null,
   "id": "603359de",
   "metadata": {},
   "outputs": [],
   "source": []
  }
 ],
 "metadata": {
  "kernelspec": {
   "display_name": "Python 3 (ipykernel)",
   "language": "python",
   "name": "python3"
  },
  "language_info": {
   "codemirror_mode": {
    "name": "ipython",
    "version": 3
   },
   "file_extension": ".py",
   "mimetype": "text/x-python",
   "name": "python",
   "nbconvert_exporter": "python",
   "pygments_lexer": "ipython3",
   "version": "3.10.0"
  }
 },
 "nbformat": 4,
 "nbformat_minor": 5
}
