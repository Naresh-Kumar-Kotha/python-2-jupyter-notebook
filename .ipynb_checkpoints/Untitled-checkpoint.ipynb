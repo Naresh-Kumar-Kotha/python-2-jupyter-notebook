{
 "cells": [
  {
   "cell_type": "code",
   "execution_count": 1,
   "id": "9ce63c30",
   "metadata": {},
   "outputs": [],
   "source": [
    "# inheritance"
   ]
  },
  {
   "cell_type": "code",
   "execution_count": 2,
   "id": "525d4a6e",
   "metadata": {},
   "outputs": [],
   "source": [
    "#single inheritance"
   ]
  },
  {
   "cell_type": "code",
   "execution_count": 41,
   "id": "88ef6408",
   "metadata": {},
   "outputs": [],
   "source": [
    "class Parent:\n",
    "    def foo(self):\n",
    "        print('I am in Parent')\n",
    "    \n",
    "class Child(Parent):\n",
    "    def foo(self):\n",
    "        print('I am in child')\n",
    "    def func(self):\n",
    "        self.foo()\n",
    "        super(Child, self).foo()"
   ]
  },
  {
   "cell_type": "code",
   "execution_count": 42,
   "id": "51e11d01",
   "metadata": {},
   "outputs": [],
   "source": [
    "obj=Child()"
   ]
  },
  {
   "cell_type": "code",
   "execution_count": 43,
   "id": "429033df",
   "metadata": {},
   "outputs": [
    {
     "name": "stdout",
     "output_type": "stream",
     "text": [
      "I am in child\n",
      "I am in Parent\n"
     ]
    }
   ],
   "source": [
    "obj.func()"
   ]
  },
  {
   "cell_type": "code",
   "execution_count": null,
   "id": "cd68180d",
   "metadata": {},
   "outputs": [],
   "source": []
  }
 ],
 "metadata": {
  "kernelspec": {
   "display_name": "Python 3 (ipykernel)",
   "language": "python",
   "name": "python3"
  },
  "language_info": {
   "codemirror_mode": {
    "name": "ipython",
    "version": 3
   },
   "file_extension": ".py",
   "mimetype": "text/x-python",
   "name": "python",
   "nbconvert_exporter": "python",
   "pygments_lexer": "ipython3",
   "version": "3.10.0"
  }
 },
 "nbformat": 4,
 "nbformat_minor": 5
}
