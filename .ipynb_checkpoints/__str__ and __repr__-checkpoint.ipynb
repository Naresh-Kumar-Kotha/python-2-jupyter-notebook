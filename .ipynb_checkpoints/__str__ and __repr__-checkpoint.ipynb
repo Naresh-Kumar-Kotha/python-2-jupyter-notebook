{
 "cells": [
  {
   "cell_type": "code",
   "execution_count": 11,
   "id": "ef0fdf2f",
   "metadata": {},
   "outputs": [],
   "source": [
    "class Student:\n",
    "    def __init__(self,fname,lname):\n",
    "        self.fname = fname\n",
    "        self.lname = lname\n",
    "        \n",
    "#     def __str__(self): # print\n",
    "#         return f\"{self.fname} {self.lname}\" # never return an integer in str method\n",
    "    \n",
    "    def __repr__(self): #obj\n",
    "        return f\"{self.fname} {self.lname}\"\n",
    "        "
   ]
  },
  {
   "cell_type": "code",
   "execution_count": 12,
   "id": "ba1375e3",
   "metadata": {},
   "outputs": [],
   "source": [
    "obj1=Student('hi','hello')\n",
    "obj2=Student('hey', 'hi')"
   ]
  },
  {
   "cell_type": "code",
   "execution_count": 13,
   "id": "b86bf235",
   "metadata": {},
   "outputs": [
    {
     "data": {
      "text/plain": [
       "hi hello"
      ]
     },
     "execution_count": 13,
     "metadata": {},
     "output_type": "execute_result"
    }
   ],
   "source": [
    "obj1 # printed only due to repr method"
   ]
  },
  {
   "cell_type": "code",
   "execution_count": 14,
   "id": "8e719be0",
   "metadata": {},
   "outputs": [
    {
     "data": {
      "text/plain": [
       "hey hi"
      ]
     },
     "execution_count": 14,
     "metadata": {},
     "output_type": "execute_result"
    }
   ],
   "source": [
    "obj2 # printed only due to repr method"
   ]
  },
  {
   "cell_type": "code",
   "execution_count": 15,
   "id": "9521d339",
   "metadata": {},
   "outputs": [
    {
     "name": "stdout",
     "output_type": "stream",
     "text": [
      "hi hello\n"
     ]
    }
   ],
   "source": [
    "print(obj1) # printed only due to str and repr method"
   ]
  },
  {
   "cell_type": "code",
   "execution_count": null,
   "id": "885acd0b",
   "metadata": {},
   "outputs": [],
   "source": []
  }
 ],
 "metadata": {
  "kernelspec": {
   "display_name": "Python 3 (ipykernel)",
   "language": "python",
   "name": "python3"
  },
  "language_info": {
   "codemirror_mode": {
    "name": "ipython",
    "version": 3
   },
   "file_extension": ".py",
   "mimetype": "text/x-python",
   "name": "python",
   "nbconvert_exporter": "python",
   "pygments_lexer": "ipython3",
   "version": "3.10.0"
  }
 },
 "nbformat": 4,
 "nbformat_minor": 5
}
