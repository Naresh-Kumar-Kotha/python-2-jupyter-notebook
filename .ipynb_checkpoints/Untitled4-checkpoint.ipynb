{
 "cells": [
  {
   "cell_type": "code",
   "execution_count": 5,
   "id": "857c1892",
   "metadata": {},
   "outputs": [],
   "source": [
    "s={1,2,3,4,5,4540,300,63,2,1}"
   ]
  },
  {
   "cell_type": "code",
   "execution_count": 6,
   "id": "7279099a",
   "metadata": {},
   "outputs": [
    {
     "data": {
      "text/plain": [
       "{1, 2, 3, 4, 5, 63, 300, 4540}"
      ]
     },
     "execution_count": 6,
     "metadata": {},
     "output_type": "execute_result"
    }
   ],
   "source": [
    "s"
   ]
  },
  {
   "cell_type": "code",
   "execution_count": 7,
   "id": "02548f59",
   "metadata": {},
   "outputs": [],
   "source": [
    "t={40,3,41,6,33,2,7,6,4,1}"
   ]
  },
  {
   "cell_type": "code",
   "execution_count": 8,
   "id": "fcfad36f",
   "metadata": {},
   "outputs": [
    {
     "data": {
      "text/plain": [
       "{1, 2, 3, 4, 6, 7, 33, 40, 41}"
      ]
     },
     "execution_count": 8,
     "metadata": {},
     "output_type": "execute_result"
    }
   ],
   "source": [
    "t"
   ]
  },
  {
   "cell_type": "code",
   "execution_count": 9,
   "id": "4efb81d5",
   "metadata": {},
   "outputs": [],
   "source": [
    "t=[1,36,2,5,8,4,4,3,3,88,6,9,7]"
   ]
  },
  {
   "cell_type": "code",
   "execution_count": 10,
   "id": "1fdb7fc3",
   "metadata": {},
   "outputs": [
    {
     "data": {
      "text/plain": [
       "[1, 36, 2, 5, 8, 4, 4, 3, 3, 88, 6, 9, 7]"
      ]
     },
     "execution_count": 10,
     "metadata": {},
     "output_type": "execute_result"
    }
   ],
   "source": [
    "t"
   ]
  },
  {
   "cell_type": "code",
   "execution_count": 11,
   "id": "cfaa8bd0",
   "metadata": {},
   "outputs": [
    {
     "data": {
      "text/plain": [
       "{1, 2, 3, 4, 5, 6, 7, 8, 9, 36, 88}"
      ]
     },
     "execution_count": 11,
     "metadata": {},
     "output_type": "execute_result"
    }
   ],
   "source": [
    "ts=set(t)\n",
    "ts"
   ]
  },
  {
   "cell_type": "code",
   "execution_count": 12,
   "id": "9c08e9ea",
   "metadata": {},
   "outputs": [],
   "source": [
    "ts.add(10)"
   ]
  },
  {
   "cell_type": "code",
   "execution_count": 13,
   "id": "4ea59960",
   "metadata": {},
   "outputs": [
    {
     "data": {
      "text/plain": [
       "{1, 2, 3, 4, 5, 6, 7, 8, 9, 10, 36, 88}"
      ]
     },
     "execution_count": 13,
     "metadata": {},
     "output_type": "execute_result"
    }
   ],
   "source": [
    "ts"
   ]
  },
  {
   "cell_type": "code",
   "execution_count": 14,
   "id": "04c50bcd",
   "metadata": {},
   "outputs": [
    {
     "name": "stdout",
     "output_type": "stream",
     "text": [
      "['__and__', '__class__', '__class_getitem__', '__contains__', '__delattr__', '__dir__', '__doc__', '__eq__', '__format__', '__ge__', '__getattribute__', '__gt__', '__hash__', '__iand__', '__init__', '__init_subclass__', '__ior__', '__isub__', '__iter__', '__ixor__', '__le__', '__len__', '__lt__', '__ne__', '__new__', '__or__', '__rand__', '__reduce__', '__reduce_ex__', '__repr__', '__ror__', '__rsub__', '__rxor__', '__setattr__', '__sizeof__', '__str__', '__sub__', '__subclasshook__', '__xor__', 'add', 'clear', 'copy', 'difference', 'difference_update', 'discard', 'intersection', 'intersection_update', 'isdisjoint', 'issubset', 'issuperset', 'pop', 'remove', 'symmetric_difference', 'symmetric_difference_update', 'union', 'update']\n"
     ]
    }
   ],
   "source": [
    "print(dir(ts))"
   ]
  },
  {
   "cell_type": "code",
   "execution_count": 15,
   "id": "3d3e8a3b",
   "metadata": {},
   "outputs": [
    {
     "name": "stdout",
     "output_type": "stream",
     "text": [
      "Help on method_descriptor:\n",
      "\n",
      "add(...)\n",
      "    Add an element to a set.\n",
      "    \n",
      "    This has no effect if the element is already present.\n",
      "\n"
     ]
    }
   ],
   "source": [
    "help(set.add)"
   ]
  },
  {
   "cell_type": "code",
   "execution_count": 16,
   "id": "b4b801fb",
   "metadata": {},
   "outputs": [
    {
     "name": "stdout",
     "output_type": "stream",
     "text": [
      "Help on method_descriptor:\n",
      "\n",
      "pop(...)\n",
      "    Remove and return an arbitrary set element.\n",
      "    Raises KeyError if the set is empty.\n",
      "\n"
     ]
    }
   ],
   "source": [
    "help(set.pop)"
   ]
  },
  {
   "cell_type": "code",
   "execution_count": 17,
   "id": "5c7206fc",
   "metadata": {},
   "outputs": [
    {
     "name": "stdout",
     "output_type": "stream",
     "text": [
      "Help on method_descriptor:\n",
      "\n",
      "remove(...)\n",
      "    Remove an element from a set; it must be a member.\n",
      "    \n",
      "    If the element is not a member, raise a KeyError.\n",
      "\n"
     ]
    }
   ],
   "source": [
    "help(set.remove)"
   ]
  },
  {
   "cell_type": "code",
   "execution_count": 18,
   "id": "b2a8e205",
   "metadata": {},
   "outputs": [
    {
     "name": "stdout",
     "output_type": "stream",
     "text": [
      "Help on method_descriptor:\n",
      "\n",
      "update(...)\n",
      "    Update a set with the union of itself and others.\n",
      "\n"
     ]
    }
   ],
   "source": [
    "help(set.update)"
   ]
  },
  {
   "cell_type": "code",
   "execution_count": 19,
   "id": "141f4701",
   "metadata": {},
   "outputs": [],
   "source": [
    "ts.update()"
   ]
  },
  {
   "cell_type": "code",
   "execution_count": 20,
   "id": "647abe10",
   "metadata": {},
   "outputs": [
    {
     "data": {
      "text/plain": [
       "{1, 2, 3, 4, 5, 6, 7, 8, 9, 10, 36, 88}"
      ]
     },
     "execution_count": 20,
     "metadata": {},
     "output_type": "execute_result"
    }
   ],
   "source": [
    "ts"
   ]
  },
  {
   "cell_type": "code",
   "execution_count": 30,
   "id": "47471141",
   "metadata": {},
   "outputs": [
    {
     "data": {
      "text/plain": [
       "{(12, 11, 13), 1, 10, 11, 12, 13, 2, 3, 36, 4, 5, 6, 7, 8, 88, 9}"
      ]
     },
     "execution_count": 30,
     "metadata": {},
     "output_type": "execute_result"
    }
   ],
   "source": [
    "ts.add((12,11,13))\n",
    "ts"
   ]
  },
  {
   "cell_type": "code",
   "execution_count": 53,
   "id": "e93b35d0",
   "metadata": {},
   "outputs": [
    {
     "ename": "KeyError",
     "evalue": "'pop from an empty set'",
     "output_type": "error",
     "traceback": [
      "\u001b[1;31m---------------------------------------------------------------------------\u001b[0m",
      "\u001b[1;31mKeyError\u001b[0m                                  Traceback (most recent call last)",
      "\u001b[1;32m~\\AppData\\Local\\Temp/ipykernel_5696/458315765.py\u001b[0m in \u001b[0;36m<module>\u001b[1;34m\u001b[0m\n\u001b[0;32m      1\u001b[0m \u001b[0mts\u001b[0m\u001b[1;33m.\u001b[0m\u001b[0mclear\u001b[0m\u001b[1;33m(\u001b[0m\u001b[1;33m)\u001b[0m\u001b[1;33m\u001b[0m\u001b[1;33m\u001b[0m\u001b[0m\n\u001b[1;32m----> 2\u001b[1;33m \u001b[0mts\u001b[0m\u001b[1;33m.\u001b[0m\u001b[0mpop\u001b[0m\u001b[1;33m(\u001b[0m\u001b[1;33m)\u001b[0m\u001b[1;33m\u001b[0m\u001b[1;33m\u001b[0m\u001b[0m\n\u001b[0m",
      "\u001b[1;31mKeyError\u001b[0m: 'pop from an empty set'"
     ]
    }
   ],
   "source": [
    "\n",
    "ts.clear()\n",
    "ts.pop()\n"
   ]
  },
  {
   "cell_type": "code",
   "execution_count": 54,
   "id": "44e6c6cb",
   "metadata": {},
   "outputs": [
    {
     "data": {
      "text/plain": [
       "set()"
      ]
     },
     "execution_count": 54,
     "metadata": {},
     "output_type": "execute_result"
    }
   ],
   "source": [
    "ts"
   ]
  },
  {
   "cell_type": "code",
   "execution_count": 55,
   "id": "e927d34f",
   "metadata": {},
   "outputs": [
    {
     "data": {
      "text/plain": [
       "{1, 2, 3, 4, 5, 63, 300, 4540}"
      ]
     },
     "execution_count": 55,
     "metadata": {},
     "output_type": "execute_result"
    }
   ],
   "source": [
    "s"
   ]
  },
  {
   "cell_type": "code",
   "execution_count": 56,
   "id": "bec52a93",
   "metadata": {},
   "outputs": [],
   "source": [
    "fz=frozenset(s)"
   ]
  },
  {
   "cell_type": "code",
   "execution_count": 57,
   "id": "835a1f62",
   "metadata": {},
   "outputs": [
    {
     "data": {
      "text/plain": [
       "frozenset({1, 2, 3, 4, 5, 63, 300, 4540})"
      ]
     },
     "execution_count": 57,
     "metadata": {},
     "output_type": "execute_result"
    }
   ],
   "source": [
    "fz"
   ]
  },
  {
   "cell_type": "code",
   "execution_count": 59,
   "id": "dafc83eb",
   "metadata": {},
   "outputs": [
    {
     "name": "stdout",
     "output_type": "stream",
     "text": [
      "1\n",
      "2\n",
      "3\n",
      "4\n",
      "5\n",
      "300\n",
      "4540\n",
      "63\n"
     ]
    }
   ],
   "source": [
    "for i in fz:\n",
    "    print(i)"
   ]
  },
  {
   "cell_type": "code",
   "execution_count": 78,
   "id": "f8280424",
   "metadata": {},
   "outputs": [
    {
     "name": "stdout",
     "output_type": "stream",
     "text": [
      "0 :even\n",
      "1 :odd\n",
      "2 :even\n",
      "3 :odd\n",
      "4 :even\n",
      "5 :odd\n",
      "6 :even\n",
      "7 :odd\n",
      "8 :even\n",
      "9 :odd\n"
     ]
    }
   ],
   "source": [
    "# ternary operator\n",
    "\n",
    "# print('true') if True else print('false') \n",
    "\n",
    "for i in range(10):\n",
    "    print(i,':even') if i%2==0 else print(i,':odd')"
   ]
  },
  {
   "cell_type": "code",
   "execution_count": 69,
   "id": "4944f872",
   "metadata": {},
   "outputs": [
    {
     "data": {
      "text/plain": [
       "bytearray(b'\\x01\\x02\\xff\\x04')"
      ]
     },
     "execution_count": 69,
     "metadata": {},
     "output_type": "execute_result"
    }
   ],
   "source": [
    "l=[1,2,255,4]\n",
    "b=bytearray(l)\n",
    "b"
   ]
  },
  {
   "cell_type": "code",
   "execution_count": null,
   "id": "aefa631d",
   "metadata": {},
   "outputs": [],
   "source": []
  },
  {
   "cell_type": "code",
   "execution_count": 84,
   "id": "78b8c00c",
   "metadata": {},
   "outputs": [
    {
     "name": "stdout",
     "output_type": "stream",
     "text": [
      "Enter First Number:2\n",
      "Enter Second Number:3\n",
      "Enter Third Number:1\n",
      "Minimum Value: 1\n"
     ]
    }
   ],
   "source": [
    "# Q. Program for minimum of 3 numbers\n",
    "a=int(input(\"Enter First Number:\"))\n",
    "b=int(input(\"Enter Second Number:\"))\n",
    "c=int(input(\"Enter Third Number:\"))\n",
    "min=a if a<b and a<c else b if b<c else c\n",
    "print(\"Minimum Value:\",min)"
   ]
  },
  {
   "cell_type": "code",
   "execution_count": 91,
   "id": "5e220062",
   "metadata": {},
   "outputs": [
    {
     "name": "stdout",
     "output_type": "stream",
     "text": [
      "Enter First Number:2\n",
      "Enter Second Number:3\n",
      "Enter Third Number:1\n",
      "1\n"
     ]
    }
   ],
   "source": [
    "a=int(input(\"Enter First Number:\"))\n",
    "b=int(input(\"Enter Second Number:\"))\n",
    "c=int(input(\"Enter Third Number:\"))\n",
    "if a<b and a<c:\n",
    "    min=a\n",
    "elif b<c:\n",
    "    min=b\n",
    "else:\n",
    "    min=c\n",
    "    \n",
    "print(min)"
   ]
  },
  {
   "cell_type": "code",
   "execution_count": 97,
   "id": "49d4d363",
   "metadata": {},
   "outputs": [
    {
     "data": {
      "text/plain": [
       "609.2"
      ]
     },
     "execution_count": 97,
     "metadata": {},
     "output_type": "execute_result"
    }
   ],
   "source": [
    "# x=eval('10+20*30-40/50')\n",
    "x=10+20*30-40/50\n",
    "x"
   ]
  },
  {
   "cell_type": "code",
   "execution_count": 100,
   "id": "21abefd3",
   "metadata": {},
   "outputs": [
    {
     "name": "stdout",
     "output_type": "stream",
     "text": [
      "The character present at  0 index is : E\n",
      "The character present at  1 index is : n\n",
      "The character present at  2 index is : t\n",
      "The character present at  3 index is : e\n",
      "The character present at  4 index is : r\n",
      "The character present at  5 index is :  \n",
      "The character present at  6 index is : s\n",
      "The character present at  7 index is : o\n",
      "The character present at  8 index is : m\n",
      "The character present at  9 index is : e\n",
      "The character present at  10 index is :  \n",
      "The character present at  11 index is : S\n",
      "The character present at  12 index is : t\n",
      "The character present at  13 index is : r\n",
      "The character present at  14 index is : i\n",
      "The character present at  15 index is : n\n",
      "The character present at  16 index is : g\n"
     ]
    }
   ],
   "source": [
    "s='Enter some String'\n",
    "for i in range(len(s)):\n",
    "    print(\"The character present at \",i,\"index is :\",s[i])\n",
    "    "
   ]
  },
  {
   "cell_type": "code",
   "execution_count": 106,
   "id": "8389f808",
   "metadata": {},
   "outputs": [
    {
     "name": "stdout",
     "output_type": "stream",
     "text": [
      "10\n",
      "8\n",
      "6\n",
      "4\n",
      "2\n"
     ]
    }
   ],
   "source": [
    "for i in range(10,1,-2):\n",
    "    print(i)"
   ]
  },
  {
   "cell_type": "code",
   "execution_count": 109,
   "id": "37ee8572",
   "metadata": {},
   "outputs": [
    {
     "data": {
      "text/plain": [
       "('ababbababab', 'bbbbbbbbbbb', 3021625390000, 3021626247472)"
      ]
     },
     "execution_count": 109,
     "metadata": {},
     "output_type": "execute_result"
    }
   ],
   "source": [
    "c='ababbababab'\n",
    "c2=c.replace('a','b')\n",
    "c,c2,id(c),id(c2)"
   ]
  },
  {
   "cell_type": "code",
   "execution_count": 9,
   "id": "67fd3edb",
   "metadata": {},
   "outputs": [
    {
     "name": "stdout",
     "output_type": "stream",
     "text": [
      "pangram\n"
     ]
    }
   ],
   "source": [
    "c='wertyuiopasdfghjklzxcvbnm'\n",
    "s=sorted(c)\n",
    "c=\"\".join(s)\n",
    "d='The quick brown fox jumps over the lazy dog'\n",
    "count=0\n",
    "for i in c:\n",
    "    if i not in d:\n",
    "        count+=1\n",
    "print('pangram') if count==0 else print('Not')\n",
    "    "
   ]
  },
  {
   "cell_type": "code",
   "execution_count": null,
   "id": "93703a5b",
   "metadata": {},
   "outputs": [],
   "source": []
  },
  {
   "cell_type": "code",
   "execution_count": 7,
   "id": "cfd9998b",
   "metadata": {},
   "outputs": [
    {
     "data": {
      "text/plain": [
       "16"
      ]
     },
     "execution_count": 7,
     "metadata": {},
     "output_type": "execute_result"
    }
   ],
   "source": [
    "(lambda x,y,z:x*y**z)(2,2,3)"
   ]
  },
  {
   "cell_type": "code",
   "execution_count": null,
   "id": "93c1158e",
   "metadata": {},
   "outputs": [],
   "source": []
  },
  {
   "cell_type": "code",
   "execution_count": 7,
   "id": "bf26c9f5",
   "metadata": {},
   "outputs": [
    {
     "data": {
      "text/plain": [
       "''"
      ]
     },
     "execution_count": 7,
     "metadata": {},
     "output_type": "execute_result"
    }
   ],
   "source": [
    "import re\n",
    "from functools import reduce\n",
    "s='abh1buh12bupij234uihi45'\n",
    "sum=reduce(lambda x,y: int(x)+int(y),((re.findall('^[][0-9]*',s))))\n",
    "sum"
   ]
  },
  {
   "cell_type": "code",
   "execution_count": 18,
   "id": "14d2add2",
   "metadata": {},
   "outputs": [
    {
     "data": {
      "text/plain": [
       "292"
      ]
     },
     "execution_count": 18,
     "metadata": {},
     "output_type": "execute_result"
    }
   ],
   "source": [
    "s='abh1buh12bupij234uihi45'\n",
    "sum=(reduce(lambda x,y:int(x)+int(y),re.findall('[^a-z][0-9]*',s)))\n",
    "sum"
   ]
  },
  {
   "cell_type": "code",
   "execution_count": null,
   "id": "e672e04b",
   "metadata": {},
   "outputs": [],
   "source": []
  }
 ],
 "metadata": {
  "kernelspec": {
   "display_name": "Python 3 (ipykernel)",
   "language": "python",
   "name": "python3"
  },
  "language_info": {
   "codemirror_mode": {
    "name": "ipython",
    "version": 3
   },
   "file_extension": ".py",
   "mimetype": "text/x-python",
   "name": "python",
   "nbconvert_exporter": "python",
   "pygments_lexer": "ipython3",
   "version": "3.10.0"
  }
 },
 "nbformat": 4,
 "nbformat_minor": 5
}
