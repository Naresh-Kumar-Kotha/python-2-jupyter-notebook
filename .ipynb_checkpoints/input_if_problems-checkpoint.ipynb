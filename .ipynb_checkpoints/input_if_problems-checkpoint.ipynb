{
 "cells": [
  {
   "cell_type": "code",
   "execution_count": 1,
   "id": "6028946d",
   "metadata": {},
   "outputs": [
    {
     "name": "stdout",
     "output_type": "stream",
     "text": [
      "a:5\n",
      "b:4\n"
     ]
    },
    {
     "data": {
      "text/plain": [
       "9"
      ]
     },
     "execution_count": 1,
     "metadata": {},
     "output_type": "execute_result"
    }
   ],
   "source": [
    "a,b=int(input('a:')),int(input('b:'))\n",
    "c=a+b\n",
    "c"
   ]
  },
  {
   "cell_type": "code",
   "execution_count": 2,
   "id": "ec8f5a54",
   "metadata": {},
   "outputs": [
    {
     "name": "stdout",
     "output_type": "stream",
     "text": [
      "rupees:5\n",
      "paisa:5\n",
      "5.05\n"
     ]
    }
   ],
   "source": [
    "a,b=int(input('rupees:')),int(input('paisa:'))\n",
    "c=a+(b/100)\n",
    "print('{:.2f}'.format(c))\n"
   ]
  },
  {
   "cell_type": "code",
   "execution_count": 3,
   "id": "aab36eb5",
   "metadata": {},
   "outputs": [
    {
     "name": "stdout",
     "output_type": "stream",
     "text": [
      "P in rs:6\n",
      "R in %:7\n",
      "T in yrs:5\n"
     ]
    },
    {
     "data": {
      "text/plain": [
       "2.1"
      ]
     },
     "execution_count": 3,
     "metadata": {},
     "output_type": "execute_result"
    }
   ],
   "source": [
    "P,R,T=float(input(\"P in rs:\")),int(input(\"R in %:\")),float(input(\"T in yrs:\"))\n",
    "SI=(P*T*R)/100\n",
    "SI"
   ]
  },
  {
   "cell_type": "code",
   "execution_count": 17,
   "id": "42f2958f",
   "metadata": {},
   "outputs": [
    {
     "name": "stdout",
     "output_type": "stream",
     "text": [
      "radius of circle:5\n",
      "area of circle= 78.5\n"
     ]
    }
   ],
   "source": [
    "print('area of circle=', 3.14*float(input(\"radius of circle:\"))**2)"
   ]
  },
  {
   "cell_type": "code",
   "execution_count": 18,
   "id": "57885f07",
   "metadata": {},
   "outputs": [
    {
     "name": "stdout",
     "output_type": "stream",
     "text": [
      "5\n",
      "6\n",
      "greatest of two numbers: 6\n"
     ]
    }
   ],
   "source": [
    "print(\"greatest of two numbers:\", max(int(input()),int(input())))\n"
   ]
  },
  {
   "cell_type": "markdown",
   "id": "e7a936dc",
   "metadata": {},
   "source": [
    "\n"
   ]
  },
  {
   "cell_type": "code",
   "execution_count": 3,
   "id": "641ac409",
   "metadata": {},
   "outputs": [
    {
     "name": "stdout",
     "output_type": "stream",
     "text": [
      "num:-7\n",
      "num is negative\n"
     ]
    }
   ],
   "source": [
    "print( \"num is positive\" if int(input(\"num:\"))>=0 else \"num is negative\")"
   ]
  },
  {
   "cell_type": "code",
   "execution_count": null,
   "id": "32144be3",
   "metadata": {},
   "outputs": [],
   "source": []
  },
  {
   "cell_type": "code",
   "execution_count": null,
   "id": "21009190",
   "metadata": {},
   "outputs": [],
   "source": []
  }
 ],
 "metadata": {
  "kernelspec": {
   "display_name": "Python 3 (ipykernel)",
   "language": "python",
   "name": "python3"
  },
  "language_info": {
   "codemirror_mode": {
    "name": "ipython",
    "version": 3
   },
   "file_extension": ".py",
   "mimetype": "text/x-python",
   "name": "python",
   "nbconvert_exporter": "python",
   "pygments_lexer": "ipython3",
   "version": "3.10.0"
  }
 },
 "nbformat": 4,
 "nbformat_minor": 5
}
