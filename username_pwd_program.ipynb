{
 "cells": [
  {
   "cell_type": "code",
   "execution_count": null,
   "id": "bf5901aa",
   "metadata": {},
   "outputs": [],
   "source": [
    "userName = \"\"\n",
    "count=0\n",
    "while not userName:\n",
    "    if count==3:\n",
    "        print('wait for 5 min')\n",
    "        break\n",
    "    ans = input(\"Enter a Name: \").lower()\n",
    "    if ans == \"admin\":\n",
    "        print('Welcome', ans)\n",
    "        pwd = input(\"Enter a pwd: \")\n",
    "        if pwd == 'Pwd@123':\n",
    "            print(\"Login successful\")\n",
    "            break\n",
    "        else:\n",
    "            print(\"Error pwd\")\n",
    "            count+=1\n",
    "    else:\n",
    "        print(\"Error\")\n",
    "        count+=1"
   ]
  }
 ],
 "metadata": {
  "kernelspec": {
   "display_name": "Python 3 (ipykernel)",
   "language": "python",
   "name": "python3"
  },
  "language_info": {
   "codemirror_mode": {
    "name": "ipython",
    "version": 3
   },
   "file_extension": ".py",
   "mimetype": "text/x-python",
   "name": "python",
   "nbconvert_exporter": "python",
   "pygments_lexer": "ipython3",
   "version": "3.10.0"
  }
 },
 "nbformat": 4,
 "nbformat_minor": 5
}
