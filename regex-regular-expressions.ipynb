{
 "cells": [
  {
   "cell_type": "code",
   "execution_count": 9,
   "id": "b631a86a",
   "metadata": {},
   "outputs": [],
   "source": [
    "# Regular Expressions: \n",
    "# If we want to represent a group of Strings according to a particular format/pattern then we should go for Regular Expressions.\n",
    "# i.e Regualr Expressions is a declarative mechanism to represent a group of Strings accroding to particular format/pattern.\n",
    "\n",
    "# Eg 1: We can write a regular expression to represent all mobile numbers\n",
    "# Eg 2: We can write a regular expression to represent all mail ids.\n",
    "\n",
    "# The main important application areas of Regular Expressions are:\n",
    "# 1. To develop validation frameworks/validation logic\n",
    "# 2. To develop Pattern matching applications (ctrl-f in windows, grep in UNIX etc)\n",
    "# 3. To develop Translators like compilers, interpreters etc\n",
    "# 4. To develop digital circuits\n",
    "# 5. To develop communication protocols like TCP/IP, UDP etc."
   ]
  },
  {
   "cell_type": "code",
   "execution_count": null,
   "id": "653e1e99",
   "metadata": {},
   "outputs": [],
   "source": [
    "# Important functions of re module:\n",
    "# 1. match()\n",
    "# 2. fullmatch()\n",
    "# 3. search()\n",
    "# 4.findall()\n",
    "# 5.finditer()\n",
    "# 6. sub()\n",
    "# 7.subn()\n",
    "# 8. split()\n",
    "# 9. compile()"
   ]
  },
  {
   "cell_type": "code",
   "execution_count": 22,
   "id": "13156ba2",
   "metadata": {},
   "outputs": [],
   "source": [
    "# 1. match():\n",
    "# We can use match function to check the given pattern at beginning of target string.\n",
    "# If the match is available then we will get Match object, otherwise we will get None.\n",
    "\n",
    "# 2. fullmatch():\n",
    "# We can use fullmatch() function to match a pattern to all of target string. i.e complete string should be matched according to given pattern.\n",
    "# If complete string matched then this function returns Match object otherwise it returns None.\n",
    "\n",
    "# 3. search(): We can use search() function to search the given pattern in the target string.\n",
    "# If the match is available then it returns the Match object which represents first occurrence of the match.\n",
    "# If the match is not available then it returns None\n",
    "\n",
    "\n",
    "# 4. findall():\n",
    "# To find all occurrences of the match.\n",
    "# This function returns a list object which contains all occurrences\n",
    "\n",
    "# 5. finditer(): Returns the iterator yielding a match object for each match.\n",
    "# On each match object we can call start(), end() and group() functions.\n",
    "\n",
    "# 6. sub():\n",
    "# sub means substitution or replacement\n",
    "# re.sub(regex,replacement,targetstring)\n",
    "# In the target string every matched pattern will be replaced with provided replacement.\n",
    "\n",
    "# 7. subn():It is exactly same as sub except it can also returns the number of replacements.\n",
    "# This function returns a tuple where first element is result string and second element is number of replacements.\n",
    "# (resultstring, number of replacements)\n",
    "\n",
    "# 8. split():\n",
    "# If we want to split the given target string according to a particular pattern then we should go for split() function.\n",
    "# This function returns list of all tokens.\n",
    "\n"
   ]
  },
  {
   "cell_type": "code",
   "execution_count": null,
   "id": "8afc33d1",
   "metadata": {},
   "outputs": [],
   "source": []
  },
  {
   "cell_type": "code",
   "execution_count": null,
   "id": "4ae2ad75",
   "metadata": {},
   "outputs": [],
   "source": []
  },
  {
   "cell_type": "code",
   "execution_count": 21,
   "id": "202cd4f9",
   "metadata": {},
   "outputs": [
    {
     "name": "stdout",
     "output_type": "stream",
     "text": [
      "['I am in bangalore, marathalli-560037']\n",
      "['', '', 'am', '', 'in', '', 'bangalore', '', '', 'marathalli', '', '', '', '', '', '', '', '']\n",
      "['I ', '', '', ' ', '', '', ' ', '', '', '', '', '', '', '', '', '', ', ', '', '', '', '', '', '', '', '', '', '', '-560037', '']\n",
      "None\n"
     ]
    }
   ],
   "source": [
    "import re\n",
    "s='I am in bangalore, marathalli-560037'\n",
    "print(re.findall('I am .*',s))\n",
    "print(re.findall('[a-z]*',s))\n",
    "print(re.findall('[^a-z]*',s))\n",
    "\n",
    "print(re.match('am .*',s))"
   ]
  },
  {
   "cell_type": "code",
   "execution_count": null,
   "id": "fd4e4dc3",
   "metadata": {},
   "outputs": [],
   "source": []
  },
  {
   "cell_type": "code",
   "execution_count": 1,
   "id": "e362f09d",
   "metadata": {},
   "outputs": [],
   "source": [
    "import re   # It will import regular expressions.\n",
    "# match\n",
    "# search\n",
    "# findall\n",
    "# sub\n",
    "# split"
   ]
  },
  {
   "cell_type": "code",
   "execution_count": 5,
   "id": "43b02b73",
   "metadata": {},
   "outputs": [],
   "source": [
    "s='Python is a dynamic programming language'"
   ]
  },
  {
   "cell_type": "code",
   "execution_count": 22,
   "id": "bf3629bb",
   "metadata": {},
   "outputs": [
    {
     "name": "stdout",
     "output_type": "stream",
     "text": [
      "is\n"
     ]
    }
   ],
   "source": [
    "print(re.search('is',s))"
   ]
  },
  {
   "cell_type": "code",
   "execution_count": 24,
   "id": "0ea5dffa",
   "metadata": {},
   "outputs": [
    {
     "data": {
      "text/plain": [
       "'Python is a dynamic programming language'"
      ]
     },
     "execution_count": 24,
     "metadata": {},
     "output_type": "execute_result"
    }
   ],
   "source": [
    "re.search('Python is a dynamic programming language',s).group()"
   ]
  },
  {
   "cell_type": "code",
   "execution_count": 14,
   "id": "38cf10f2",
   "metadata": {},
   "outputs": [],
   "source": [
    "# . -- Single char\n",
    "# .* -- mutiple char"
   ]
  },
  {
   "cell_type": "code",
   "execution_count": 15,
   "id": "b81fc422",
   "metadata": {},
   "outputs": [
    {
     "data": {
      "text/plain": [
       "<re.Match object; span=(0, 21), match='Python is a dynamic p'>"
      ]
     },
     "execution_count": 15,
     "metadata": {},
     "output_type": "execute_result"
    }
   ],
   "source": [
    "re.search('Python is a dynamic .',s)"
   ]
  },
  {
   "cell_type": "code",
   "execution_count": 41,
   "id": "febd9679",
   "metadata": {},
   "outputs": [
    {
     "data": {
      "text/plain": [
       "<re.Match object; span=(0, 40), match='Python is a dynamic programming language'>"
      ]
     },
     "execution_count": 41,
     "metadata": {},
     "output_type": "execute_result"
    }
   ],
   "source": [
    "re.search('Python is a dynamic .*',s)"
   ]
  },
  {
   "cell_type": "code",
   "execution_count": 17,
   "id": "622632e0",
   "metadata": {},
   "outputs": [],
   "source": [
    "data=re.search('Python is a dynamic .*',s)"
   ]
  },
  {
   "cell_type": "code",
   "execution_count": 20,
   "id": "b6306cb6",
   "metadata": {},
   "outputs": [
    {
     "data": {
      "text/plain": [
       "'Python is a dynamic programming language'"
      ]
     },
     "execution_count": 20,
     "metadata": {},
     "output_type": "execute_result"
    }
   ],
   "source": [
    "data.group()"
   ]
  },
  {
   "cell_type": "code",
   "execution_count": 27,
   "id": "d85b7abb",
   "metadata": {},
   "outputs": [
    {
     "name": "stdout",
     "output_type": "stream",
     "text": [
      "Python is a dynamic programming language\n"
     ]
    }
   ],
   "source": [
    "print(data.group(0))"
   ]
  },
  {
   "cell_type": "code",
   "execution_count": 26,
   "id": "93dd0e05",
   "metadata": {},
   "outputs": [
    {
     "ename": "IndexError",
     "evalue": "no such group",
     "output_type": "error",
     "traceback": [
      "\u001b[1;31m---------------------------------------------------------------------------\u001b[0m",
      "\u001b[1;31mIndexError\u001b[0m                                Traceback (most recent call last)",
      "\u001b[1;32m~\\AppData\\Local\\Temp/ipykernel_7224/715867284.py\u001b[0m in \u001b[0;36m<module>\u001b[1;34m\u001b[0m\n\u001b[1;32m----> 1\u001b[1;33m \u001b[0mdata\u001b[0m\u001b[1;33m.\u001b[0m\u001b[0mgroup\u001b[0m\u001b[1;33m(\u001b[0m\u001b[1;36m1\u001b[0m\u001b[1;33m)\u001b[0m\u001b[1;33m\u001b[0m\u001b[1;33m\u001b[0m\u001b[0m\n\u001b[0m",
      "\u001b[1;31mIndexError\u001b[0m: no such group"
     ]
    }
   ],
   "source": [
    "data.group(1)"
   ]
  },
  {
   "cell_type": "code",
   "execution_count": 26,
   "id": "4662e364",
   "metadata": {},
   "outputs": [],
   "source": [
    "# add new group ---> by just adding ()\n",
    "\n",
    "data=re.search('Python (.*) a dynamic (.*)',s)"
   ]
  },
  {
   "cell_type": "code",
   "execution_count": 27,
   "id": "998d8f4d",
   "metadata": {},
   "outputs": [
    {
     "data": {
      "text/plain": [
       "'Python is a dynamic programming language'"
      ]
     },
     "execution_count": 27,
     "metadata": {},
     "output_type": "execute_result"
    }
   ],
   "source": [
    "data.group(0)"
   ]
  },
  {
   "cell_type": "code",
   "execution_count": 54,
   "id": "ce6d4d7f",
   "metadata": {},
   "outputs": [
    {
     "data": {
      "text/plain": [
       "('is', 'programming language')"
      ]
     },
     "execution_count": 54,
     "metadata": {},
     "output_type": "execute_result"
    }
   ],
   "source": [
    "data.group(1), data.group(2)"
   ]
  },
  {
   "cell_type": "code",
   "execution_count": 55,
   "id": "d0354a04",
   "metadata": {},
   "outputs": [
    {
     "data": {
      "text/plain": [
       "(0, 40)"
      ]
     },
     "execution_count": 55,
     "metadata": {},
     "output_type": "execute_result"
    }
   ],
   "source": [
    "data.span(0)"
   ]
  },
  {
   "cell_type": "code",
   "execution_count": 56,
   "id": "4887025a",
   "metadata": {},
   "outputs": [
    {
     "data": {
      "text/plain": [
       "(7, 9)"
      ]
     },
     "execution_count": 56,
     "metadata": {},
     "output_type": "execute_result"
    }
   ],
   "source": [
    "data.span(1)"
   ]
  },
  {
   "cell_type": "code",
   "execution_count": 57,
   "id": "ed776b5f",
   "metadata": {},
   "outputs": [
    {
     "data": {
      "text/plain": [
       "(20, 40)"
      ]
     },
     "execution_count": 57,
     "metadata": {},
     "output_type": "execute_result"
    }
   ],
   "source": [
    "data.span(2)"
   ]
  },
  {
   "cell_type": "code",
   "execution_count": null,
   "id": "057fad39",
   "metadata": {},
   "outputs": [],
   "source": []
  },
  {
   "cell_type": "code",
   "execution_count": 8,
   "id": "a0dc0f6c",
   "metadata": {},
   "outputs": [
    {
     "name": "stdout",
     "output_type": "stream",
     "text": [
      "<re.Match object; span=(0, 40), match='Python is a dynamic programming language'>\n"
     ]
    }
   ],
   "source": [
    "print(re.match('Python is a dynamic programming language',s))"
   ]
  },
  {
   "cell_type": "code",
   "execution_count": 58,
   "id": "40ef71ca",
   "metadata": {},
   "outputs": [
    {
     "data": {
      "text/plain": [
       "['Python is a dynamic programming language']"
      ]
     },
     "execution_count": 58,
     "metadata": {},
     "output_type": "execute_result"
    }
   ],
   "source": [
    "re.findall('Python is a dynamic programming language',s)"
   ]
  },
  {
   "cell_type": "code",
   "execution_count": 39,
   "id": "38d08a03",
   "metadata": {},
   "outputs": [
    {
     "name": "stdout",
     "output_type": "stream",
     "text": [
      "['A', 'ASCII', 'DEBUG', 'DOTALL', 'I', 'IGNORECASE', 'L', 'LOCALE', 'M', 'MULTILINE', 'Match', 'Pattern', 'RegexFlag', 'S', 'Scanner', 'T', 'TEMPLATE', 'U', 'UNICODE', 'VERBOSE', 'X', '_MAXCACHE', '__all__', '__builtins__', '__cached__', '__doc__', '__file__', '__loader__', '__name__', '__package__', '__spec__', '__version__', '_cache', '_compile', '_compile_repl', '_expand', '_locale', '_pickle', '_special_chars_map', '_subx', 'compile', 'copyreg', 'enum', 'error', 'escape', 'findall', 'finditer', 'fullmatch', 'functools', 'match', 'purge', 'search', 'split', 'sre_compile', 'sre_parse', 'sub', 'subn', 'template']\n"
     ]
    }
   ],
   "source": [
    "print(dir(re))"
   ]
  },
  {
   "cell_type": "code",
   "execution_count": null,
   "id": "ecd56628",
   "metadata": {},
   "outputs": [],
   "source": []
  },
  {
   "cell_type": "code",
   "execution_count": 60,
   "id": "c60e17dc",
   "metadata": {},
   "outputs": [],
   "source": [
    "data=re.match('Python is a dynamic programming (.*)',s)"
   ]
  },
  {
   "cell_type": "code",
   "execution_count": 64,
   "id": "386e0633",
   "metadata": {},
   "outputs": [
    {
     "data": {
      "text/plain": [
       "('Python is a dynamic programming language', 'language')"
      ]
     },
     "execution_count": 64,
     "metadata": {},
     "output_type": "execute_result"
    }
   ],
   "source": [
    "data.group(0),data.group(1)"
   ]
  },
  {
   "cell_type": "code",
   "execution_count": 69,
   "id": "30d01eb9",
   "metadata": {},
   "outputs": [],
   "source": [
    "data=re.match('is a dynamic programming (.*)',s)\n",
    "data"
   ]
  },
  {
   "cell_type": "code",
   "execution_count": 66,
   "id": "69c2c4d3",
   "metadata": {},
   "outputs": [],
   "source": []
  },
  {
   "cell_type": "code",
   "execution_count": 70,
   "id": "da112a86",
   "metadata": {},
   "outputs": [
    {
     "data": {
      "text/plain": [
       "<re.Match object; span=(7, 40), match='is a dynamic programming language'>"
      ]
     },
     "execution_count": 70,
     "metadata": {},
     "output_type": "execute_result"
    }
   ],
   "source": [
    "data=re.search('is a dynamic programming (.*)',s)\n",
    "data"
   ]
  },
  {
   "cell_type": "code",
   "execution_count": null,
   "id": "e40f9cf1",
   "metadata": {},
   "outputs": [],
   "source": []
  },
  {
   "cell_type": "code",
   "execution_count": 71,
   "id": "919fcae5",
   "metadata": {},
   "outputs": [],
   "source": [
    "# difference bw search and match\n",
    "# match -- You need to match from staring char onwards\n",
    "# search -- You don't need to match from staring char onwards"
   ]
  },
  {
   "cell_type": "code",
   "execution_count": 28,
   "id": "1f5c9e8c",
   "metadata": {},
   "outputs": [],
   "source": [
    "# difference bw search, match vs findall\n",
    "# findall always return a list -- span won't support"
   ]
  },
  {
   "cell_type": "code",
   "execution_count": 29,
   "id": "4647f2ed",
   "metadata": {},
   "outputs": [
    {
     "data": {
      "text/plain": [
       "'Python is a dynamic programming language'"
      ]
     },
     "execution_count": 29,
     "metadata": {},
     "output_type": "execute_result"
    }
   ],
   "source": [
    "s"
   ]
  },
  {
   "cell_type": "code",
   "execution_count": 10,
   "id": "e3ac6bed",
   "metadata": {},
   "outputs": [
    {
     "data": {
      "text/plain": [
       "['o', 'i', 'a', 'a', 'i', 'o', 'a', 'i', 'a', 'u', 'a', 'e']"
      ]
     },
     "execution_count": 10,
     "metadata": {},
     "output_type": "execute_result"
    }
   ],
   "source": [
    "re.findall('[aeiou]',s)"
   ]
  },
  {
   "cell_type": "code",
   "execution_count": 11,
   "id": "58275a4a",
   "metadata": {},
   "outputs": [
    {
     "data": {
      "text/plain": [
       "['o', 'i', 'a', 'a', 'i', 'o', 'a', 'i', 'a', 'ua', 'e']"
      ]
     },
     "execution_count": 11,
     "metadata": {},
     "output_type": "execute_result"
    }
   ],
   "source": [
    "re.findall('[aeiou]+',s)"
   ]
  },
  {
   "cell_type": "code",
   "execution_count": 12,
   "id": "b9543da2",
   "metadata": {},
   "outputs": [
    {
     "data": {
      "text/plain": [
       "(['ython', 'is', 'a', 'dynamic', 'programming', 'language'], ['P'])"
      ]
     },
     "execution_count": 12,
     "metadata": {},
     "output_type": "execute_result"
    }
   ],
   "source": [
    "re.findall('[a-z]+',s),re.findall('[A-Z]+',s)"
   ]
  },
  {
   "cell_type": "code",
   "execution_count": 17,
   "id": "8ec25a2c",
   "metadata": {},
   "outputs": [
    {
     "data": {
      "text/plain": [
       "(['32', '87990', '4', '234342'],\n",
       " ['Python', 'has', 'key', 'words', 'and', 'r'],\n",
       " ['Python', 'has', '32', 'key', 'words', 'and', '87990', '4r234342'])"
      ]
     },
     "execution_count": 17,
     "metadata": {},
     "output_type": "execute_result"
    }
   ],
   "source": [
    "r='Python has 32 key words and 87990 4r234342'\n",
    "re.findall('[0-9]+',r), re.findall('[a-zA-Z]+',r), re.findall('[a-zA-Z0-9]+',r)"
   ]
  },
  {
   "cell_type": "code",
   "execution_count": 19,
   "id": "5f676f65",
   "metadata": {},
   "outputs": [
    {
     "data": {
      "text/plain": [
       "['Pyth']"
      ]
     },
     "execution_count": 19,
     "metadata": {},
     "output_type": "execute_result"
    }
   ],
   "source": [
    "re.findall('^Pyth',r)"
   ]
  },
  {
   "cell_type": "code",
   "execution_count": 20,
   "id": "795b9565",
   "metadata": {},
   "outputs": [
    {
     "data": {
      "text/plain": [
       "['342']"
      ]
     },
     "execution_count": 20,
     "metadata": {},
     "output_type": "execute_result"
    }
   ],
   "source": [
    "re.findall('342$',r)"
   ]
  },
  {
   "cell_type": "code",
   "execution_count": 25,
   "id": "5b276f9f",
   "metadata": {},
   "outputs": [
    {
     "data": {
      "text/plain": [
       "[]"
      ]
     },
     "execution_count": 25,
     "metadata": {},
     "output_type": "execute_result"
    }
   ],
   "source": [
    "re.findall('Python',r)"
   ]
  },
  {
   "cell_type": "code",
   "execution_count": 30,
   "id": "e28e1b0b",
   "metadata": {},
   "outputs": [],
   "source": [
    "c='brinker'"
   ]
  },
  {
   "cell_type": "code",
   "execution_count": null,
   "id": "fb26a222",
   "metadata": {},
   "outputs": [],
   "source": []
  }
 ],
 "metadata": {
  "kernelspec": {
   "display_name": "Python 3 (ipykernel)",
   "language": "python",
   "name": "python3"
  },
  "language_info": {
   "codemirror_mode": {
    "name": "ipython",
    "version": 3
   },
   "file_extension": ".py",
   "mimetype": "text/x-python",
   "name": "python",
   "nbconvert_exporter": "python",
   "pygments_lexer": "ipython3",
   "version": "3.10.0"
  }
 },
 "nbformat": 4,
 "nbformat_minor": 5
}
