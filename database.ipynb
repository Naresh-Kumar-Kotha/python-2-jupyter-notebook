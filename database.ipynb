{
 "cells": [
  {
   "cell_type": "code",
   "execution_count": 32,
   "id": "479748cf",
   "metadata": {},
   "outputs": [
    {
     "name": "stdout",
     "output_type": "stream",
     "text": [
      "('Naresh', 'Kumar', 25)\n",
      "('Naresh', 'Kumar', 25)\n",
      "('Naresh', 'Kumar', 25)\n",
      "('Suresh', 'Kumar', 26)\n",
      "('Suresh', 'Kumar', 26)\n",
      "('Suresh', 'Kumar', 26)\n",
      "('Suresh', 'Kumar', 26)\n",
      "('Suresh', 'Kumar', 26)\n",
      "('Sunil', 'Kumar', 21)\n",
      "('Sunil', 'Kumar', 21)\n",
      "('Sunil', 'Kumar', 21)\n"
     ]
    }
   ],
   "source": [
    "# \n",
    "import mysql.connector\n",
    "# Connect with the MySQL Server\n",
    "connection = mysql.connector.connect(user='root', database='Persons',\n",
    "                                     password=\"7095846815\",\n",
    "                                     host=\"127.0.0.1\")\n",
    "# ALTER USER 'root'@'localhost' IDENTIFIED BY 'password' PASSWORD EXPIRE NEVER;\n",
    "# ALTER USER 'root'@'localhost' IDENTIFIED WITH mysql_native_password BY '{NewPassword}';\n",
    "cursor = connection.cursor()\n",
    "\n",
    "cursor.execute(\"INSERT INTO Employee (FirstName,LastName,age) VALUES ('Sunil','Kumar',21);\")\n",
    "connection.commit()\n",
    "# cursor.fetchone() -- collect one record from the given query\n",
    "cursor.fetchall() #-- It will collect all record from the given query\n",
    "cursor.execute(\"select * from Employee;\")\n",
    "for i in cursor:\n",
    "    print(i)\n",
    "# cursor.close()\n",
    "connection.close()"
   ]
  },
  {
   "cell_type": "code",
   "execution_count": null,
   "id": "d6f7eda6",
   "metadata": {},
   "outputs": [],
   "source": []
  },
  {
   "cell_type": "code",
   "execution_count": 34,
   "id": "86686349",
   "metadata": {},
   "outputs": [
    {
     "name": "stdout",
     "output_type": "stream",
     "text": [
      "('Sunil', 'Kumar', 21)\n"
     ]
    }
   ],
   "source": [
    "import mysql.connector\n",
    "# Connect with the MySQL Server\n",
    "connection = mysql.connector.connect(user='root', database='Persons',\n",
    "                                     password=\"7095846815\",\n",
    "                                     host=\"127.0.0.1\")\n",
    "# ALTER USER 'root'@'localhost' IDENTIFIED BY 'password' PASSWORD EXPIRE NEVER;\n",
    "# ALTER USER 'root'@'localhost' IDENTIFIED WITH mysql_native_password BY '{NewPassword}';\n",
    "cursor = connection.cursor()\n",
    "cursor.execute(\"CREATE TABLE Employee2(FirstName varchar(45) NOT NULL, LastName varchar(35) NOT NULL,  age int NOT NULL);\")\n",
    "cursor.execute(\"INSERT INTO Employee2 (FirstName,LastName,age) VALUES ('Sunil','Kumar',21);\")\n",
    "connection.commit()\n",
    "# cursor.fetchone() -- collect one record from the given query\n",
    "cursor.fetchall() #-- It will collect all record from the given query\n",
    "cursor.execute(\"select * from Employee2;\")\n",
    "for i in cursor:\n",
    "    print(i)\n",
    "# cursor.close()\n",
    "connection.close()"
   ]
  },
  {
   "cell_type": "code",
   "execution_count": 4,
   "id": "0777a951",
   "metadata": {},
   "outputs": [
    {
     "name": "stdout",
     "output_type": "stream",
     "text": [
      "('Naresh', 'Kumar', 25)\n",
      "('Sunil', 'Kumar', 21)\n",
      "('Suresh', 'Kumar', 44)\n",
      "('Naresh', 'Kumar', 25)\n",
      "('Sunil', 'Kumar', 21)\n",
      "('Suresh', 'Kumar', 44)\n"
     ]
    }
   ],
   "source": [
    "import mysql.connector\n",
    "# Connect with the MySQL Server\n",
    "connection = mysql.connector.connect(user='root', database='Persons',\n",
    "                                     password=\"7095846815\",\n",
    "                                     host=\"127.0.0.1\")\n",
    "# ALTER USER 'root'@'localhost' IDENTIFIED BY 'password' PASSWORD EXPIRE NEVER;\n",
    "# ALTER USER 'root'@'localhost' IDENTIFIED WITH mysql_native_password BY '{NewPassword}';\n",
    "cursor = connection.cursor()\n",
    "# cursor.execute(\"CREATE TABLE Employee3(FirstName varchar(45) NOT NULL, LastName varchar(35) NOT NULL,  age int NOT NULL);\")\n",
    "# cursor.execute(\"INSERT INTO Employee3 (FirstName,LastName,age) VALUES ('Naresh','Kumar',25);\")\n",
    "# cursor.execute(\"INSERT INTO Employee3 (FirstName,LastName,age) VALUES ('Sunil','Kumar',21);\")\n",
    "# cursor.execute(\"INSERT INTO Employee3 (FirstName,LastName,age) VALUES ('Suresh','Kumar',44);\")\n",
    "# connection.commit()\n",
    "# cursor.fetchone() -- collect one record from the given query\n",
    "# cursor.fetchall() #-- It will collect all record from the given query\n",
    "cursor.execute(\"select * from Employee3;\")\n",
    "for i in cursor:\n",
    "    print(i)\n",
    "# cursor.close()\n",
    "connection.close()"
   ]
  },
  {
   "cell_type": "code",
   "execution_count": null,
   "id": "3db585c4",
   "metadata": {},
   "outputs": [],
   "source": []
  }
 ],
 "metadata": {
  "kernelspec": {
   "display_name": "Python 3 (ipykernel)",
   "language": "python",
   "name": "python3"
  },
  "language_info": {
   "codemirror_mode": {
    "name": "ipython",
    "version": 3
   },
   "file_extension": ".py",
   "mimetype": "text/x-python",
   "name": "python",
   "nbconvert_exporter": "python",
   "pygments_lexer": "ipython3",
   "version": "3.10.0"
  }
 },
 "nbformat": 4,
 "nbformat_minor": 5
}
