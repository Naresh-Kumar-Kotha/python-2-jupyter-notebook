{
 "cells": [
  {
   "cell_type": "code",
   "execution_count": 1,
   "id": "75a64a3c",
   "metadata": {},
   "outputs": [],
   "source": [
    "# 1. Write a class to do all arithmetic operations"
   ]
  },
  {
   "cell_type": "code",
   "execution_count": 2,
   "id": "d84e9b35",
   "metadata": {},
   "outputs": [],
   "source": [
    "# sol-1:\n",
    "\n",
    "class MathCalc:\n",
    "    \n",
    "    def __init__(self,a,b):\n",
    "        self.a=a\n",
    "        self.b=b\n",
    "        print('This class performs Mathematical Operations')\n",
    "    \n",
    "    def add(self):\n",
    "        return f\"{self.a} + {self.b} = {self.a+self.b}\"\n",
    "    \n",
    "    def sub(self):\n",
    "        return f\"{self.a} - {self.b} = {self.a-self.b}\"\n",
    "    \n",
    "    def mul(self):\n",
    "        return f\"{self.a} x {self.b} = {self.a*self.b}\"\n",
    "\n",
    "    def div(self):\n",
    "        return f\"{self.a} / {self.b} = {self.a/self.b}\"\n",
    "\n",
    "    def floor_div(self):\n",
    "        return f\"{self.a} // {self.b} = {self.a//self.b}\"\n",
    "    \n",
    "    def mod(self):\n",
    "        return f\"{self.a} % {self.b} = {self.a%self.b}\"\n",
    "    \n",
    "    def power(self):\n",
    "        return f\"{self.a} ** {self.b} = {self.a**self.b}\"\n",
    "\n",
    "    def nthroot(self):\n",
    "        return f\"{self.b}th root of {self.a} = {(self.a)** (1/self.b)}\""
   ]
  },
  {
   "cell_type": "code",
   "execution_count": 3,
   "id": "ce2efc0b",
   "metadata": {},
   "outputs": [
    {
     "name": "stdout",
     "output_type": "stream",
     "text": [
      "This class performs Mathematical Operations\n",
      "30 + 10 = 40\n",
      "30 - 10 = 20\n",
      "30 x 10 = 300\n",
      "30 / 10 = 3.0\n",
      "30 // 10 = 3\n",
      "30 % 10 = 0\n"
     ]
    }
   ],
   "source": [
    "# a,b=int(input('a:')),int(input('b:'))\n",
    "calc=MathCalc(30,10)\n",
    "print(calc.add())\n",
    "print(calc.sub())\n",
    "print(calc.mul())\n",
    "print(calc.div())\n",
    "print(calc.floor_div())\n",
    "print(calc.mod())"
   ]
  },
  {
   "cell_type": "code",
   "execution_count": 4,
   "id": "52d6085e",
   "metadata": {},
   "outputs": [
    {
     "name": "stdout",
     "output_type": "stream",
     "text": [
      "This class performs Mathematical Operations\n",
      "5 ** 3 = 125\n"
     ]
    }
   ],
   "source": [
    "# a,b=int(input('a:')),int(input('b:'))\n",
    "calc=MathCalc(5,3)\n",
    "print(calc.power())"
   ]
  },
  {
   "cell_type": "code",
   "execution_count": 5,
   "id": "a06a41fc",
   "metadata": {},
   "outputs": [
    {
     "name": "stdout",
     "output_type": "stream",
     "text": [
      "This class performs Mathematical Operations\n",
      "5th root of 32 = 2.0\n"
     ]
    }
   ],
   "source": [
    "# a,n=int(input('a:')),int(input('n:'))\n",
    "calc=MathCalc(32,5)\n",
    "print(calc.nthroot())"
   ]
  },
  {
   "cell_type": "code",
   "execution_count": 6,
   "id": "d9249006",
   "metadata": {},
   "outputs": [
    {
     "name": "stdout",
     "output_type": "stream",
     "text": [
      "['__add__', '__class__', '__class_getitem__', '__contains__', '__delattr__', '__delitem__', '__dir__', '__doc__', '__eq__', '__format__', '__ge__', '__getattribute__', '__getitem__', '__gt__', '__hash__', '__iadd__', '__imul__', '__init__', '__init_subclass__', '__iter__', '__le__', '__len__', '__lt__', '__mul__', '__ne__', '__new__', '__reduce__', '__reduce_ex__', '__repr__', '__reversed__', '__rmul__', '__setattr__', '__setitem__', '__sizeof__', '__str__', '__subclasshook__', 'append', 'clear', 'copy', 'count', 'extend', 'index', 'insert', 'pop', 'remove', 'reverse', 'sort']\n"
     ]
    }
   ],
   "source": [
    "print(dir(list))"
   ]
  },
  {
   "cell_type": "code",
   "execution_count": 7,
   "id": "5ed47243",
   "metadata": {},
   "outputs": [],
   "source": [
    "# Write a class to do all list operations and also the methods should return the data"
   ]
  },
  {
   "cell_type": "code",
   "execution_count": 8,
   "id": "80618d4d",
   "metadata": {},
   "outputs": [],
   "source": [
    "class ListOperations:\n",
    "    def __init__(self,lst,elem):\n",
    "        self.lst=lst\n",
    "        self.elem=elem\n",
    "    def append(self):\n",
    "#         (self.lst).append(self.elem)\n",
    "#         return self.lst\n",
    "        self.lst=self.lst+[self.elem]\n",
    "        return self.lst\n",
    "\n",
    "    def pop(self):\n",
    "        self.lst.pop()\n",
    "        return self.lst\n",
    "    \n",
    "    def clear(self):\n",
    "        self.lst.clear()\n",
    "        return self.lst\n",
    "    \n",
    "    def count(self):\n",
    "        return self.lst.count(self.elem)\n",
    "    \n",
    "    def remove(self):\n",
    "        self.lst.remove(self.elem)\n",
    "        return self.lst\n",
    "    \n",
    "    def index(self):\n",
    "        return self.lst.index(self.elem)\n",
    "        "
   ]
  },
  {
   "cell_type": "code",
   "execution_count": 9,
   "id": "cc43a89c",
   "metadata": {},
   "outputs": [
    {
     "name": "stdout",
     "output_type": "stream",
     "text": [
      "[1, 2, 3, 5]\n",
      "1\n",
      "1\n"
     ]
    }
   ],
   "source": [
    "l,e=[1,2,3],5\n",
    "LstOper=ListOperations(l,e)\n",
    "print(LstOper.append())\n",
    "# print(LstOper.pop())\n",
    "# print(LstOper.clear())\n",
    "print(LstOper.count())\n",
    "# print(LstOper.remove())\n",
    "print(LstOper.count())"
   ]
  },
  {
   "cell_type": "code",
   "execution_count": null,
   "id": "f7a42d80",
   "metadata": {},
   "outputs": [],
   "source": []
  },
  {
   "cell_type": "code",
   "execution_count": null,
   "id": "9783c369",
   "metadata": {},
   "outputs": [],
   "source": []
  },
  {
   "cell_type": "code",
   "execution_count": 10,
   "id": "7ff5eedc",
   "metadata": {},
   "outputs": [
    {
     "name": "stdout",
     "output_type": "stream",
     "text": [
      "['__add__', '__class__', '__class_getitem__', '__contains__', '__delattr__', '__delitem__', '__dir__', '__doc__', '__eq__', '__format__', '__ge__', '__getattribute__', '__getitem__', '__gt__', '__hash__', '__iadd__', '__imul__', '__init__', '__init_subclass__', '__iter__', '__le__', '__len__', '__lt__', '__mul__', '__ne__', '__new__', '__reduce__', '__reduce_ex__', '__repr__', '__reversed__', '__rmul__', '__setattr__', '__setitem__', '__sizeof__', '__str__', '__subclasshook__', 'append', 'clear', 'copy', 'count', 'extend', 'index', 'insert', 'pop', 'remove', 'reverse', 'sort']\n"
     ]
    }
   ],
   "source": [
    "print(dir(list))"
   ]
  },
  {
   "cell_type": "code",
   "execution_count": 11,
   "id": "d8d79bc7",
   "metadata": {},
   "outputs": [],
   "source": [
    "# Write a program to do the hotel check-in and check-out"
   ]
  },
  {
   "cell_type": "code",
   "execution_count": 12,
   "id": "98a94433",
   "metadata": {},
   "outputs": [],
   "source": [
    "# Solution-1\n",
    "class Customer:\n",
    "    def __init__(self,name,room_no,status):\n",
    "        self.name=name\n",
    "        self.room_no=room_no\n",
    "        self.status=status\n",
    "        \n",
    "    def name_of_customer(self):\n",
    "        return self.name\n",
    "    \n",
    "    def get_details(self):\n",
    "        return f\"{self.name} resides in room-{self.room_no}; and status is {self.status}\"\n",
    "    \n",
    "        "
   ]
  },
  {
   "cell_type": "code",
   "execution_count": 13,
   "id": "99ad6417",
   "metadata": {},
   "outputs": [
    {
     "data": {
      "text/plain": [
       "'Naresh resides in room-5; and status is checked-in'"
      ]
     },
     "execution_count": 13,
     "metadata": {},
     "output_type": "execute_result"
    }
   ],
   "source": [
    "obj=Customer('Naresh',5,'checked-in')\n",
    "obj.name_of_customer()\n",
    "obj.get_details()"
   ]
  },
  {
   "cell_type": "code",
   "execution_count": 14,
   "id": "6dc219ce",
   "metadata": {},
   "outputs": [
    {
     "name": "stdout",
     "output_type": "stream",
     "text": [
      "Name of customer:Suresh\n",
      "Suresh not at all joined\n"
     ]
    }
   ],
   "source": [
    "# Solution-2:\n",
    "class Hotel:\n",
    "    \n",
    "    def __init__(self,name=None,doj=None,doe=None):\n",
    "        self.name=name\n",
    "        self.doj=doj\n",
    "        self.doe=doe\n",
    "        \n",
    "    def name_of_customer(self):\n",
    "        return f'Name of customer:{self.name}'\n",
    "    \n",
    "    def get_details(self):\n",
    "        if self.doj==None:\n",
    "            status=f'{self.name} not at all joined'\n",
    "        elif self.doe==None:\n",
    "            status=f'{self.name} joined on {self.doj}th and is still staying in hotel'\n",
    "        else:\n",
    "            status=f'{self.name} joined on {self.doj}th and has vacated the hotel on {self.doe}th'\n",
    "        return status\n",
    "    \n",
    "\n",
    "reg=Hotel('Suresh')\n",
    "print(reg.name_of_customer())\n",
    "print(reg.get_details())   "
   ]
  },
  {
   "cell_type": "code",
   "execution_count": 15,
   "id": "9cf24ec4",
   "metadata": {},
   "outputs": [
    {
     "name": "stdout",
     "output_type": "stream",
     "text": [
      "Name of customer:Suresh\n",
      "Suresh joined on 10th and is still staying in hotel\n"
     ]
    }
   ],
   "source": [
    "reg=Hotel('Suresh',10)\n",
    "print(reg.name_of_customer())\n",
    "print(reg.get_details()) "
   ]
  },
  {
   "cell_type": "code",
   "execution_count": 16,
   "id": "e7637941",
   "metadata": {},
   "outputs": [
    {
     "name": "stdout",
     "output_type": "stream",
     "text": [
      "Name of customer:Suresh\n",
      "Suresh joined on 10th and has vacated the hotel on 20th\n"
     ]
    }
   ],
   "source": [
    "reg=Hotel('Suresh',10,20)\n",
    "print(reg.name_of_customer())\n",
    "print(reg.get_details()) "
   ]
  },
  {
   "cell_type": "code",
   "execution_count": null,
   "id": "3abe008f",
   "metadata": {},
   "outputs": [],
   "source": []
  },
  {
   "cell_type": "code",
   "execution_count": 17,
   "id": "3a86a32d",
   "metadata": {},
   "outputs": [
    {
     "name": "stdout",
     "output_type": "stream",
     "text": [
      "11\n",
      "1\n"
     ]
    }
   ],
   "source": [
    "# problem-4:\n",
    "class AritmeticOper:\n",
    "    def add(self,a,b):\n",
    "        return a+b\n",
    "    def sub(self,a,b):\n",
    "        return a-b\n",
    "    \n",
    "a=AritmeticOper()\n",
    "print(a.add(5,6))\n",
    "print(a.sub(6,5))"
   ]
  },
  {
   "cell_type": "code",
   "execution_count": 18,
   "id": "c2982a51",
   "metadata": {},
   "outputs": [
    {
     "name": "stdout",
     "output_type": "stream",
     "text": [
      "sum:45\n",
      "diff:1\n",
      "mul:200\n",
      "div:2.0\n",
      "floor_div:2\n",
      "modulus:2\n",
      "power:25\n"
     ]
    }
   ],
   "source": [
    "# problem-4:\n",
    "from functools import reduce\n",
    "\n",
    "class AritmeticOper:\n",
    "    \n",
    "    def add(self,*a):\n",
    "        return f'sum:{sum(a)}'\n",
    "    \n",
    "    def sub(self,*a):\n",
    "        diff=a[0]\n",
    "        for i in range(1,len(a)):\n",
    "            diff=diff-a[i]           \n",
    "        return f'diff:{diff}'\n",
    "    \n",
    "    def mul(self,*a):\n",
    "        m=reduce(lambda x,y:x*y,a)\n",
    "        return f'mul:{m}'\n",
    "    \n",
    "    def div(self,a,b):\n",
    "        return f'div:{a/b}'\n",
    "    \n",
    "    def floor_div(self,a,b):\n",
    "        return f'floor_div:{a//b}'\n",
    "    \n",
    "    def mod(self,a,b):\n",
    "        return f'modulus:{a%b}'\n",
    "    \n",
    "    def power(self,a,b):\n",
    "        return f'power:{a**b}'    \n",
    "    \n",
    "    \n",
    "a=AritmeticOper()\n",
    "print(a.add(1,2,3,4,5,6,7,8,9))\n",
    "print(a.sub(10,5,4))\n",
    "print(a.mul(10,5,4))\n",
    "print(a.div(10,5))\n",
    "print(a.floor_div(10,5))\n",
    "print(a.mod(10,4))\n",
    "print(a.power(5,2))\n"
   ]
  },
  {
   "cell_type": "code",
   "execution_count": null,
   "id": "c5d79b9d",
   "metadata": {},
   "outputs": [],
   "source": []
  },
  {
   "cell_type": "code",
   "execution_count": 55,
   "id": "26b76931",
   "metadata": {},
   "outputs": [],
   "source": [
    "# List operations:\n",
    "\n",
    "class List(list):\n",
    "    \n",
    "    def __init__(self,lst):\n",
    "        self.lst=lst\n",
    "        \n",
    "    def append(self,ele):\n",
    "        self.lst.append(ele)\n",
    "    \n",
    "    def extend(self,ele):\n",
    "        self.lst.extend(ele)\n",
    "    \n",
    "    def pop(self):\n",
    "        return self.lst.pop()\n",
    "\n",
    "    def remove(self,ele):\n",
    "        self.lst.remove(ele)\n",
    "\n",
    "    def count(self,ele):\n",
    "        return self.lst.count(ele)\n",
    "    \n",
    "    def index(self,ele):\n",
    "        return self.lst.index(ele)\n",
    "        \n",
    "    def reverse(self):\n",
    "        self.lst.reverse()\n",
    "    \n",
    "    def sort(self):\n",
    "        self.lst.sort()\n",
    "    \n",
    "    def insert(self,index,ele):\n",
    "        self.lst.insert(index,ele)\n",
    "    \n",
    "    def clear(self):\n",
    "        self.lst.clear()\n",
    "    "
   ]
  },
  {
   "cell_type": "code",
   "execution_count": 56,
   "id": "c6928947",
   "metadata": {},
   "outputs": [
    {
     "data": {
      "text/plain": [
       "{'lst': [1, 2, 3, 4, 5, 6, 1, 2, 3, 5]}"
      ]
     },
     "execution_count": 56,
     "metadata": {},
     "output_type": "execute_result"
    }
   ],
   "source": [
    "l=List([1,2,3,4,5,6,1,2,3])\n",
    "l.append(5)\n",
    "l.__dict__         # It will show all the instance variables in the class"
   ]
  },
  {
   "cell_type": "code",
   "execution_count": 57,
   "id": "aef9a516",
   "metadata": {},
   "outputs": [
    {
     "data": {
      "text/plain": [
       "{'lst': [1, 2, 3, 4, 5, 6, 1, 2, 3, 5, 7]}"
      ]
     },
     "execution_count": 57,
     "metadata": {},
     "output_type": "execute_result"
    }
   ],
   "source": [
    "l.extend([7])\n",
    "l.__dict__"
   ]
  },
  {
   "cell_type": "code",
   "execution_count": 58,
   "id": "79229549",
   "metadata": {},
   "outputs": [
    {
     "data": {
      "text/plain": [
       "{'lst': [1, 2, 3, 4, 5, 6, 1, 2, 3, 5]}"
      ]
     },
     "execution_count": 58,
     "metadata": {},
     "output_type": "execute_result"
    }
   ],
   "source": [
    "l.pop()\n",
    "l.__dict__"
   ]
  },
  {
   "cell_type": "code",
   "execution_count": 59,
   "id": "c6d7927d",
   "metadata": {},
   "outputs": [
    {
     "data": {
      "text/plain": [
       "{'lst': [1, 2, 4, 5, 6, 1, 2, 3, 5]}"
      ]
     },
     "execution_count": 59,
     "metadata": {},
     "output_type": "execute_result"
    }
   ],
   "source": [
    "l.remove(3)\n",
    "l.__dict__"
   ]
  },
  {
   "cell_type": "code",
   "execution_count": 60,
   "id": "c1e7acdb",
   "metadata": {},
   "outputs": [
    {
     "data": {
      "text/plain": [
       "2"
      ]
     },
     "execution_count": 60,
     "metadata": {},
     "output_type": "execute_result"
    }
   ],
   "source": [
    "l.count(1)"
   ]
  },
  {
   "cell_type": "code",
   "execution_count": 61,
   "id": "a1d474f6",
   "metadata": {},
   "outputs": [
    {
     "data": {
      "text/plain": [
       "1"
      ]
     },
     "execution_count": 61,
     "metadata": {},
     "output_type": "execute_result"
    }
   ],
   "source": [
    "l.index(2)"
   ]
  },
  {
   "cell_type": "code",
   "execution_count": 62,
   "id": "7825b75d",
   "metadata": {},
   "outputs": [
    {
     "data": {
      "text/plain": [
       "{'lst': [5, 3, 2, 1, 6, 5, 4, 2, 1]}"
      ]
     },
     "execution_count": 62,
     "metadata": {},
     "output_type": "execute_result"
    }
   ],
   "source": [
    "l.reverse()\n",
    "l.__dict__"
   ]
  },
  {
   "cell_type": "code",
   "execution_count": 63,
   "id": "fa8ac8b5",
   "metadata": {},
   "outputs": [
    {
     "data": {
      "text/plain": [
       "{'lst': [1, 1, 2, 2, 3, 4, 5, 5, 6]}"
      ]
     },
     "execution_count": 63,
     "metadata": {},
     "output_type": "execute_result"
    }
   ],
   "source": [
    "l.sort()\n",
    "l.__dict__"
   ]
  },
  {
   "cell_type": "code",
   "execution_count": 64,
   "id": "cb78e473",
   "metadata": {},
   "outputs": [
    {
     "data": {
      "text/plain": [
       "{'lst': [1, 2, 1, 2, 2, 3, 4, 5, 5, 6]}"
      ]
     },
     "execution_count": 64,
     "metadata": {},
     "output_type": "execute_result"
    }
   ],
   "source": [
    "l.insert(1,2)\n",
    "l.__dict__"
   ]
  },
  {
   "cell_type": "code",
   "execution_count": 65,
   "id": "6a21b658",
   "metadata": {},
   "outputs": [
    {
     "data": {
      "text/plain": [
       "{'lst': []}"
      ]
     },
     "execution_count": 65,
     "metadata": {},
     "output_type": "execute_result"
    }
   ],
   "source": [
    "l.clear()\n",
    "l.__dict__"
   ]
  },
  {
   "cell_type": "code",
   "execution_count": 30,
   "id": "222c7438",
   "metadata": {},
   "outputs": [
    {
     "name": "stdout",
     "output_type": "stream",
     "text": [
      "['__add__', '__class__', '__class_getitem__', '__contains__', '__delattr__', '__delitem__', '__dir__', '__doc__', '__eq__', '__format__', '__ge__', '__getattribute__', '__getitem__', '__gt__', '__hash__', '__iadd__', '__imul__', '__init__', '__init_subclass__', '__iter__', '__le__', '__len__', '__lt__', '__mul__', '__ne__', '__new__', '__reduce__', '__reduce_ex__', '__repr__', '__reversed__', '__rmul__', '__setattr__', '__setitem__', '__sizeof__', '__str__', '__subclasshook__', 'append', 'clear', 'copy', 'count', 'extend', 'index', 'insert', 'pop', 'remove', 'reverse', 'sort']\n"
     ]
    }
   ],
   "source": [
    "print(dir(list))"
   ]
  },
  {
   "cell_type": "code",
   "execution_count": null,
   "id": "2612b360",
   "metadata": {},
   "outputs": [],
   "source": []
  },
  {
   "cell_type": "code",
   "execution_count": 31,
   "id": "8bd0a7f4",
   "metadata": {},
   "outputs": [
    {
     "name": "stdout",
     "output_type": "stream",
     "text": [
      "['__add__', '__class__', '__class_getitem__', '__contains__', '__delattr__', '__dir__', '__doc__', '__eq__', '__format__', '__ge__', '__getattribute__', '__getitem__', '__getnewargs__', '__gt__', '__hash__', '__init__', '__init_subclass__', '__iter__', '__le__', '__len__', '__lt__', '__mul__', '__ne__', '__new__', '__reduce__', '__reduce_ex__', '__repr__', '__rmul__', '__setattr__', '__sizeof__', '__str__', '__subclasshook__', 'count', 'index']\n"
     ]
    }
   ],
   "source": [
    "print(dir(tuple))"
   ]
  },
  {
   "cell_type": "code",
   "execution_count": 32,
   "id": "6d04fa84",
   "metadata": {},
   "outputs": [],
   "source": [
    "# Tuple operations:\n",
    "\n",
    "class Tuple(tuple):\n",
    "    \n",
    "    def __init__(self,tup):\n",
    "        self.tup=tup\n",
    "    \n",
    "    def count(self,ele):\n",
    "        return self.tup.count(ele)\n",
    "    \n",
    "    def index(self,ele):\n",
    "        return self.tup.index(ele)"
   ]
  },
  {
   "cell_type": "code",
   "execution_count": 33,
   "id": "6b3facdd",
   "metadata": {},
   "outputs": [
    {
     "name": "stdout",
     "output_type": "stream",
     "text": [
      "4\n",
      "5\n"
     ]
    }
   ],
   "source": [
    "t=Tuple((1,2,1,2,2,5,5,5,5,))\n",
    "print(t.count(5))\n",
    "print(t.index(5))"
   ]
  },
  {
   "cell_type": "code",
   "execution_count": null,
   "id": "2772551c",
   "metadata": {},
   "outputs": [],
   "source": []
  },
  {
   "cell_type": "code",
   "execution_count": 34,
   "id": "643056a6",
   "metadata": {},
   "outputs": [
    {
     "name": "stdout",
     "output_type": "stream",
     "text": [
      "['__and__', '__class__', '__class_getitem__', '__contains__', '__delattr__', '__dir__', '__doc__', '__eq__', '__format__', '__ge__', '__getattribute__', '__gt__', '__hash__', '__iand__', '__init__', '__init_subclass__', '__ior__', '__isub__', '__iter__', '__ixor__', '__le__', '__len__', '__lt__', '__ne__', '__new__', '__or__', '__rand__', '__reduce__', '__reduce_ex__', '__repr__', '__ror__', '__rsub__', '__rxor__', '__setattr__', '__sizeof__', '__str__', '__sub__', '__subclasshook__', '__xor__', 'add', 'clear', 'copy', 'difference', 'difference_update', 'discard', 'intersection', 'intersection_update', 'isdisjoint', 'issubset', 'issuperset', 'pop', 'remove', 'symmetric_difference', 'symmetric_difference_update', 'union', 'update']\n"
     ]
    }
   ],
   "source": [
    "print(dir(set))"
   ]
  },
  {
   "cell_type": "code",
   "execution_count": 14,
   "id": "e08fa99a",
   "metadata": {},
   "outputs": [],
   "source": [
    "# Set operations:\n",
    "\n",
    "class Set(set):\n",
    "    \n",
    "    def __init__(self,s):\n",
    "        self.s=s\n",
    "        \n",
    "    def add(self,ele):\n",
    "        self.s.add(ele)\n",
    "    \n",
    "    def clear(self):\n",
    "        self.s.clear()\n",
    "        \n",
    "    def difference(self,ele):\n",
    "        return self.s.difference(ele)\n",
    "    \n",
    "    def difference_update(self,ele):\n",
    "        self.s.difference_update(ele)\n",
    "        \n",
    "    def discard(self,ele):\n",
    "        self.s.discard(ele)\n",
    "\n",
    "    def intersection(self,ele):\n",
    "        return self.s.intersection(ele)\n",
    "\n",
    "    def intersection_update(self,ele):\n",
    "        return self.s.intersection_update(ele)\n",
    "    \n",
    "    def isdisjoint(self,ele):\n",
    "        return self.s.isdisjoint(ele)\n",
    "\n",
    "    def issuperset(self,ele):\n",
    "        return self.s.issuperset(ele)\n",
    "    \n",
    "    def issubset(self,ele):\n",
    "        return self.s.issubset(ele)\n",
    "    \n",
    "    def union(self,ele):\n",
    "        return self.s.union(ele)\n",
    "\n",
    "    def pop(self):\n",
    "        self.s.pop()\n",
    "\n",
    "    def remove(self,ele):\n",
    "        self.s.remove(ele)\n",
    "\n",
    "    def update(self,ele):\n",
    "        self.s.update(ele)\n",
    "    \n"
   ]
  },
  {
   "cell_type": "code",
   "execution_count": 15,
   "id": "74e175ca",
   "metadata": {},
   "outputs": [
    {
     "data": {
      "text/plain": [
       "{'s': {1, 2, 3, 4, 5}}"
      ]
     },
     "execution_count": 15,
     "metadata": {},
     "output_type": "execute_result"
    }
   ],
   "source": [
    "s=Set({1,4,3,2})\n",
    "s.add(5)\n",
    "s.__dict__"
   ]
  },
  {
   "cell_type": "code",
   "execution_count": 16,
   "id": "fd5ea274",
   "metadata": {},
   "outputs": [
    {
     "data": {
      "text/plain": [
       "{1, 2, 3}"
      ]
     },
     "execution_count": 16,
     "metadata": {},
     "output_type": "execute_result"
    }
   ],
   "source": [
    "s.difference({4,5})"
   ]
  },
  {
   "cell_type": "code",
   "execution_count": 17,
   "id": "c4c49a25",
   "metadata": {},
   "outputs": [
    {
     "data": {
      "text/plain": [
       "{'s': {1, 2, 3}}"
      ]
     },
     "execution_count": 17,
     "metadata": {},
     "output_type": "execute_result"
    }
   ],
   "source": [
    "s.difference_update({4,5})\n",
    "s.__dict__"
   ]
  },
  {
   "cell_type": "code",
   "execution_count": 18,
   "id": "95a97e48",
   "metadata": {},
   "outputs": [
    {
     "data": {
      "text/plain": [
       "{'s': {1, 2}}"
      ]
     },
     "execution_count": 18,
     "metadata": {},
     "output_type": "execute_result"
    }
   ],
   "source": [
    "s.discard(3)\n",
    "s.__dict__"
   ]
  },
  {
   "cell_type": "code",
   "execution_count": 19,
   "id": "de1618a6",
   "metadata": {},
   "outputs": [
    {
     "data": {
      "text/plain": [
       "{2}"
      ]
     },
     "execution_count": 19,
     "metadata": {},
     "output_type": "execute_result"
    }
   ],
   "source": [
    "s.intersection({2})"
   ]
  },
  {
   "cell_type": "code",
   "execution_count": 20,
   "id": "74641a4b",
   "metadata": {},
   "outputs": [
    {
     "data": {
      "text/plain": [
       "{'s': {2}}"
      ]
     },
     "execution_count": 20,
     "metadata": {},
     "output_type": "execute_result"
    }
   ],
   "source": [
    "s.intersection_update({2})\n",
    "s.__dict__"
   ]
  },
  {
   "cell_type": "code",
   "execution_count": 21,
   "id": "9e27262b",
   "metadata": {},
   "outputs": [
    {
     "data": {
      "text/plain": [
       "False"
      ]
     },
     "execution_count": 21,
     "metadata": {},
     "output_type": "execute_result"
    }
   ],
   "source": [
    "s.isdisjoint({2})"
   ]
  },
  {
   "cell_type": "code",
   "execution_count": 22,
   "id": "ef413310",
   "metadata": {},
   "outputs": [
    {
     "data": {
      "text/plain": [
       "True"
      ]
     },
     "execution_count": 22,
     "metadata": {},
     "output_type": "execute_result"
    }
   ],
   "source": [
    "s.issuperset({2})"
   ]
  },
  {
   "cell_type": "code",
   "execution_count": 23,
   "id": "a14aaed6",
   "metadata": {},
   "outputs": [
    {
     "data": {
      "text/plain": [
       "True"
      ]
     },
     "execution_count": 23,
     "metadata": {},
     "output_type": "execute_result"
    }
   ],
   "source": [
    "s.issubset({2})"
   ]
  },
  {
   "cell_type": "code",
   "execution_count": 26,
   "id": "7df35cbb",
   "metadata": {},
   "outputs": [
    {
     "data": {
      "text/plain": [
       "{'s': {2, 3, 4}}"
      ]
     },
     "execution_count": 26,
     "metadata": {},
     "output_type": "execute_result"
    }
   ],
   "source": [
    "s=Set({1,4,3,2})\n",
    "s.pop()\n",
    "s.__dict__"
   ]
  },
  {
   "cell_type": "code",
   "execution_count": 27,
   "id": "3b0154bf",
   "metadata": {},
   "outputs": [
    {
     "data": {
      "text/plain": [
       "{'s': {2, 3}}"
      ]
     },
     "execution_count": 27,
     "metadata": {},
     "output_type": "execute_result"
    }
   ],
   "source": [
    "s.remove(4)\n",
    "s.__dict__"
   ]
  },
  {
   "cell_type": "code",
   "execution_count": 28,
   "id": "637bf6ec",
   "metadata": {},
   "outputs": [
    {
     "data": {
      "text/plain": [
       "{2, 3, 4, 5}"
      ]
     },
     "execution_count": 28,
     "metadata": {},
     "output_type": "execute_result"
    }
   ],
   "source": [
    "s.union({3,4,5})"
   ]
  },
  {
   "cell_type": "code",
   "execution_count": null,
   "id": "7b6198bc",
   "metadata": {},
   "outputs": [],
   "source": []
  },
  {
   "cell_type": "code",
   "execution_count": 29,
   "id": "ae592108",
   "metadata": {},
   "outputs": [
    {
     "name": "stdout",
     "output_type": "stream",
     "text": [
      "['__class__', '__class_getitem__', '__contains__', '__delattr__', '__delitem__', '__dir__', '__doc__', '__eq__', '__format__', '__ge__', '__getattribute__', '__getitem__', '__gt__', '__hash__', '__init__', '__init_subclass__', '__ior__', '__iter__', '__le__', '__len__', '__lt__', '__ne__', '__new__', '__or__', '__reduce__', '__reduce_ex__', '__repr__', '__reversed__', '__ror__', '__setattr__', '__setitem__', '__sizeof__', '__str__', '__subclasshook__', 'clear', 'copy', 'fromkeys', 'get', 'items', 'keys', 'pop', 'popitem', 'setdefault', 'update', 'values']\n"
     ]
    }
   ],
   "source": [
    "print(dir(dict))"
   ]
  },
  {
   "cell_type": "code",
   "execution_count": 51,
   "id": "f444d124",
   "metadata": {},
   "outputs": [],
   "source": [
    "# Dictionary operations:\n",
    "\n",
    "class Dictionary(dict):\n",
    "    \n",
    "    def __init__(self,dct):\n",
    "        self.dct=dct\n",
    "        \n",
    "    def get(self,key):\n",
    "        return self.dct.get(key)\n",
    "     \n",
    "    def items(self):\n",
    "        return self.dct.items()\n",
    "    \n",
    "    def pop(self,ele):\n",
    "        return self.dct.pop(ele)\n",
    "    \n",
    "    def popitem(self):\n",
    "        return self.dct.popitem()\n",
    "    \n",
    "    def update(self,ele):\n",
    "        self.dct.update(ele)\n",
    "    "
   ]
  },
  {
   "cell_type": "code",
   "execution_count": 67,
   "id": "11ebe545",
   "metadata": {},
   "outputs": [
    {
     "data": {
      "text/plain": [
       "1"
      ]
     },
     "execution_count": 67,
     "metadata": {},
     "output_type": "execute_result"
    }
   ],
   "source": [
    "d=Dictionary({'a':1,'b':2,'c':3,'d':4,'e':5})\n",
    "d.get('a')"
   ]
  },
  {
   "cell_type": "code",
   "execution_count": 68,
   "id": "b99637e9",
   "metadata": {},
   "outputs": [
    {
     "data": {
      "text/plain": [
       "dict_items([('a', 1), ('b', 2), ('c', 3), ('d', 4), ('e', 5)])"
      ]
     },
     "execution_count": 68,
     "metadata": {},
     "output_type": "execute_result"
    }
   ],
   "source": [
    "d.items()"
   ]
  },
  {
   "cell_type": "code",
   "execution_count": 69,
   "id": "a5cce365",
   "metadata": {},
   "outputs": [
    {
     "name": "stdout",
     "output_type": "stream",
     "text": [
      "1\n",
      "{'dct': {'b': 2, 'c': 3, 'd': 4, 'e': 5}}\n"
     ]
    }
   ],
   "source": [
    "print(d.pop('a'))\n",
    "print(d.__dict__)\n"
   ]
  },
  {
   "cell_type": "code",
   "execution_count": 70,
   "id": "aed6a0de",
   "metadata": {},
   "outputs": [
    {
     "name": "stdout",
     "output_type": "stream",
     "text": [
      "('e', 5)\n",
      "{'dct': {'b': 2, 'c': 3, 'd': 4}}\n"
     ]
    }
   ],
   "source": [
    "print(d.popitem())\n",
    "print(d.__dict__)"
   ]
  },
  {
   "cell_type": "code",
   "execution_count": 71,
   "id": "36ebf66d",
   "metadata": {},
   "outputs": [
    {
     "data": {
      "text/plain": [
       "{'dct': {'b': 2, 'c': 3, 'd': 4, 'f': 7}}"
      ]
     },
     "execution_count": 71,
     "metadata": {},
     "output_type": "execute_result"
    }
   ],
   "source": [
    "d.update({'f':7})\n",
    "d.__dict__"
   ]
  },
  {
   "cell_type": "code",
   "execution_count": null,
   "id": "74175eb2",
   "metadata": {},
   "outputs": [],
   "source": []
  }
 ],
 "metadata": {
  "kernelspec": {
   "display_name": "Python 3 (ipykernel)",
   "language": "python",
   "name": "python3"
  },
  "language_info": {
   "codemirror_mode": {
    "name": "ipython",
    "version": 3
   },
   "file_extension": ".py",
   "mimetype": "text/x-python",
   "name": "python",
   "nbconvert_exporter": "python",
   "pygments_lexer": "ipython3",
   "version": "3.10.0"
  }
 },
 "nbformat": 4,
 "nbformat_minor": 5
}
