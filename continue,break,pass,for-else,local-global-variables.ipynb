{
 "cells": [
  {
   "cell_type": "code",
   "execution_count": 5,
   "id": "3cea45f7",
   "metadata": {},
   "outputs": [
    {
     "name": "stdout",
     "output_type": "stream",
     "text": [
      "cD\n",
      "Ef\n",
      "gH\n"
     ]
    }
   ],
   "source": [
    "# continue \n",
    "for i in ['Ab', 'bc','cD', 'Ef','gH']:\n",
    "    if i.startswith(('A','b','C')):\n",
    "        continue\n",
    "    else:\n",
    "        print(i)\n"
   ]
  },
  {
   "cell_type": "code",
   "execution_count": 9,
   "id": "912ca4c7",
   "metadata": {},
   "outputs": [
    {
     "name": "stdout",
     "output_type": "stream",
     "text": [
      "1\n",
      "2\n",
      "6 is found\n"
     ]
    }
   ],
   "source": [
    "# break\n",
    "l=[1,2,6,4,3,6,78,56,6,34]\n",
    "for i in l:\n",
    "    if i==6:\n",
    "        print(f\"{i} is found\")\n",
    "        break\n",
    "    else:\n",
    "        print(i)"
   ]
  },
  {
   "cell_type": "code",
   "execution_count": 10,
   "id": "7b043d2d",
   "metadata": {},
   "outputs": [],
   "source": [
    "# pass\n",
    "if i:\n",
    "    pass"
   ]
  },
  {
   "cell_type": "code",
   "execution_count": 12,
   "id": "8b44b95f",
   "metadata": {},
   "outputs": [],
   "source": [
    "# pass\n",
    "def func():\n",
    "    pass"
   ]
  },
  {
   "cell_type": "code",
   "execution_count": 13,
   "id": "6940dbe4",
   "metadata": {},
   "outputs": [],
   "source": [
    "# pass\n",
    "for i in l:\n",
    "    if i:\n",
    "        pass\n",
    "    else:\n",
    "        pass"
   ]
  },
  {
   "cell_type": "code",
   "execution_count": 14,
   "id": "d58b98e0",
   "metadata": {},
   "outputs": [
    {
     "name": "stdout",
     "output_type": "stream",
     "text": [
      "1\n",
      "2\n",
      "3\n",
      "46\n",
      "end\n"
     ]
    }
   ],
   "source": [
    "# for-else\n",
    "for i in [1,2,3,46]:\n",
    "    print(i)\n",
    "else:\n",
    "    print('end')"
   ]
  },
  {
   "cell_type": "code",
   "execution_count": 16,
   "id": "4f9f78a1",
   "metadata": {},
   "outputs": [
    {
     "name": "stdout",
     "output_type": "stream",
     "text": [
      "1\n",
      "3\n",
      "46\n",
      "end\n"
     ]
    }
   ],
   "source": [
    "# for-else; else is executed even if continue is present in loop\n",
    "for i in [1,2,3,46]:\n",
    "    if i==2:\n",
    "        continue\n",
    "    else:\n",
    "        print(i)\n",
    "else:\n",
    "    print('end')"
   ]
  },
  {
   "cell_type": "code",
   "execution_count": 17,
   "id": "6a4ae8c3",
   "metadata": {},
   "outputs": [
    {
     "name": "stdout",
     "output_type": "stream",
     "text": [
      "1\n"
     ]
    }
   ],
   "source": [
    "# for-else; else is not at all executed if break is present in loop\n",
    "for i in [1,2,3,46]:\n",
    "    if i==2:\n",
    "        break\n",
    "    else:\n",
    "        print(i)\n",
    "else:\n",
    "    print('end')"
   ]
  },
  {
   "cell_type": "code",
   "execution_count": 23,
   "id": "6f3d6cbf",
   "metadata": {},
   "outputs": [
    {
     "name": "stdout",
     "output_type": "stream",
     "text": [
      "20\n",
      "10\n"
     ]
    }
   ],
   "source": [
    "# global variable\n",
    "\n",
    "g=10   # global variable\n",
    "\n",
    "def func():\n",
    "    g=20   # local variable\n",
    "    return g\n",
    "print(func())\n",
    "print(g)"
   ]
  },
  {
   "cell_type": "code",
   "execution_count": 25,
   "id": "9db69c3f",
   "metadata": {},
   "outputs": [
    {
     "name": "stdout",
     "output_type": "stream",
     "text": [
      "20\n",
      "20\n"
     ]
    }
   ],
   "source": [
    "# global variable\n",
    "\n",
    "g=10   # global variable\n",
    "\n",
    "def func():\n",
    "    global g   # global variable declaration\n",
    "    g=20       # global variable\n",
    "    return g\n",
    "print(func())\n",
    "print(g)       # 20 is assigned to g only if func() is called"
   ]
  },
  {
   "cell_type": "code",
   "execution_count": 28,
   "id": "f6d76b10",
   "metadata": {},
   "outputs": [
    {
     "name": "stdout",
     "output_type": "stream",
     "text": [
      "I’m first call to user defined function!\n",
      "Again second call to same function\n"
     ]
    }
   ],
   "source": [
    "# Call by value Example:-\n",
    "def printme (str):\n",
    "    print(str)\n",
    "    return\n",
    "printme('I’m first call to user defined function!')\n",
    "printme('Again second call to same function')"
   ]
  },
  {
   "cell_type": "code",
   "execution_count": 29,
   "id": "78da62ad",
   "metadata": {},
   "outputs": [
    {
     "name": "stdout",
     "output_type": "stream",
     "text": [
      "values inside the function: [10, 20, 30, [1, 2, 3, 4]]\n",
      "values outside the function: [10, 20, 30, [1, 2, 3, 4]]\n"
     ]
    }
   ],
   "source": [
    "# Call by reference:-\n",
    "def changeme(mylist):\n",
    "    mylist.append([1, 2, 3, 4])\n",
    "    print('values inside the function:',mylist)\n",
    "    return\n",
    "mylist= [10, 20, 30]\n",
    "changeme(mylist)\n",
    "print('values outside the function:',mylist)"
   ]
  },
  {
   "cell_type": "code",
   "execution_count": 18,
   "id": "b901a4d7",
   "metadata": {},
   "outputs": [
    {
     "name": "stdout",
     "output_type": "stream",
     "text": [
      "id(k): 1734093198464\n",
      "[10, 10, 10, 10, 10, 10]\n",
      "id(l): 1734093198464\n"
     ]
    }
   ],
   "source": [
    "def fun(k):\n",
    "    k.append(10)\n",
    "    print('id(k):',id(k))\n",
    "    return l\n",
    "print(fun(l))\n",
    "print('id(l):',id(l))"
   ]
  },
  {
   "cell_type": "code",
   "execution_count": 19,
   "id": "04b87c25",
   "metadata": {},
   "outputs": [
    {
     "name": "stdout",
     "output_type": "stream",
     "text": [
      "id(k): 1734093198464\n"
     ]
    },
    {
     "data": {
      "text/plain": [
       "[10, 10, 10, 10, 10, 10, 10]"
      ]
     },
     "execution_count": 19,
     "metadata": {},
     "output_type": "execute_result"
    }
   ],
   "source": [
    "fun(l)"
   ]
  },
  {
   "cell_type": "code",
   "execution_count": 21,
   "id": "f9e9145e",
   "metadata": {},
   "outputs": [
    {
     "ename": "NameError",
     "evalue": "name 'k' is not defined",
     "output_type": "error",
     "traceback": [
      "\u001b[1;31m---------------------------------------------------------------------------\u001b[0m",
      "\u001b[1;31mNameError\u001b[0m                                 Traceback (most recent call last)",
      "\u001b[1;32m~\\AppData\\Local\\Temp/ipykernel_760/385153774.py\u001b[0m in \u001b[0;36m<module>\u001b[1;34m\u001b[0m\n\u001b[0;32m      2\u001b[0m     \u001b[0ma\u001b[0m\u001b[1;33m.\u001b[0m\u001b[0mappend\u001b[0m\u001b[1;33m(\u001b[0m\u001b[1;36m10\u001b[0m\u001b[1;33m)\u001b[0m\u001b[1;33m\u001b[0m\u001b[1;33m\u001b[0m\u001b[0m\n\u001b[0;32m      3\u001b[0m     \u001b[1;32mreturn\u001b[0m \u001b[0ma\u001b[0m\u001b[1;33m\u001b[0m\u001b[1;33m\u001b[0m\u001b[0m\n\u001b[1;32m----> 4\u001b[1;33m \u001b[0mfun\u001b[0m\u001b[1;33m(\u001b[0m\u001b[0mk\u001b[0m\u001b[1;33m)\u001b[0m\u001b[1;33m\u001b[0m\u001b[1;33m\u001b[0m\u001b[0m\n\u001b[0m",
      "\u001b[1;31mNameError\u001b[0m: name 'k' is not defined"
     ]
    }
   ],
   "source": [
    "def fun(a):\n",
    "    a.append(10)\n",
    "    return a\n",
    "fun(k)"
   ]
  },
  {
   "cell_type": "code",
   "execution_count": null,
   "id": "0ea44f7d",
   "metadata": {},
   "outputs": [],
   "source": []
  }
 ],
 "metadata": {
  "kernelspec": {
   "display_name": "Python 3 (ipykernel)",
   "language": "python",
   "name": "python3"
  },
  "language_info": {
   "codemirror_mode": {
    "name": "ipython",
    "version": 3
   },
   "file_extension": ".py",
   "mimetype": "text/x-python",
   "name": "python",
   "nbconvert_exporter": "python",
   "pygments_lexer": "ipython3",
   "version": "3.10.0"
  }
 },
 "nbformat": 4,
 "nbformat_minor": 5
}
