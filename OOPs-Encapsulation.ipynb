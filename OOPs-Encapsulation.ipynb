{
 "cells": [
  {
   "cell_type": "code",
   "execution_count": 1,
   "id": "85994192",
   "metadata": {},
   "outputs": [],
   "source": [
    "class Test:\n",
    "    a = 10  # public\n",
    "    _b = 20  # protected\n",
    "    __c = 30  # private --> we cannot access, we will get AttributeError\n",
    "\n",
    "    def show(self):  # public\n",
    "        print(\"I am in show method\")\n",
    "\n",
    "    def _display(self):  # protected\n",
    "        print(\"I am in _display method\")\n",
    "\n",
    "    def __pprint(self):\n",
    "        # private --> we cannot access, we will get AttributeError\n",
    "        print(\"I am in __pprint method\")\n",
    "\n",
    "    def local_test(self):\n",
    "        # we cannot access __pprint from outside but we can access inside the class\n",
    "        self.__pprint()\n",
    "\n",
    "# We can call above private method/variable with the following\n",
    "# obj._Test__c\n",
    "# obj._Test__pprint()"
   ]
  },
  {
   "cell_type": "code",
   "execution_count": 2,
   "id": "13703d40",
   "metadata": {},
   "outputs": [],
   "source": [
    "obj=Test()"
   ]
  },
  {
   "cell_type": "code",
   "execution_count": 7,
   "id": "48f6e3ad",
   "metadata": {},
   "outputs": [
    {
     "data": {
      "text/plain": [
       "(10, 10)"
      ]
     },
     "execution_count": 7,
     "metadata": {},
     "output_type": "execute_result"
    }
   ],
   "source": [
    "Test.a, obj.a"
   ]
  },
  {
   "cell_type": "code",
   "execution_count": 8,
   "id": "d3686707",
   "metadata": {},
   "outputs": [
    {
     "data": {
      "text/plain": [
       "(20, 20)"
      ]
     },
     "execution_count": 8,
     "metadata": {},
     "output_type": "execute_result"
    }
   ],
   "source": [
    "Test._b, obj._b"
   ]
  },
  {
   "cell_type": "code",
   "execution_count": 9,
   "id": "bed2925e",
   "metadata": {},
   "outputs": [
    {
     "ename": "AttributeError",
     "evalue": "type object 'Test' has no attribute '__c'",
     "output_type": "error",
     "traceback": [
      "\u001b[1;31m---------------------------------------------------------------------------\u001b[0m",
      "\u001b[1;31mAttributeError\u001b[0m                            Traceback (most recent call last)",
      "\u001b[1;32m~\\AppData\\Local\\Temp/ipykernel_504/2919153790.py\u001b[0m in \u001b[0;36m<module>\u001b[1;34m\u001b[0m\n\u001b[1;32m----> 1\u001b[1;33m \u001b[0mTest\u001b[0m\u001b[1;33m.\u001b[0m\u001b[0m__c\u001b[0m\u001b[1;33m,\u001b[0m \u001b[0mobj\u001b[0m\u001b[1;33m.\u001b[0m\u001b[0m__c\u001b[0m\u001b[1;33m\u001b[0m\u001b[1;33m\u001b[0m\u001b[0m\n\u001b[0m",
      "\u001b[1;31mAttributeError\u001b[0m: type object 'Test' has no attribute '__c'"
     ]
    }
   ],
   "source": [
    "Test.__c, obj.__c"
   ]
  },
  {
   "cell_type": "code",
   "execution_count": 15,
   "id": "482fced2",
   "metadata": {},
   "outputs": [
    {
     "data": {
      "text/plain": [
       "30"
      ]
     },
     "execution_count": 15,
     "metadata": {},
     "output_type": "execute_result"
    }
   ],
   "source": [
    "obj._Test__c"
   ]
  },
  {
   "cell_type": "code",
   "execution_count": 16,
   "id": "2a4caf02",
   "metadata": {},
   "outputs": [
    {
     "name": "stdout",
     "output_type": "stream",
     "text": [
      "I am in show method\n"
     ]
    }
   ],
   "source": [
    "obj.show()"
   ]
  },
  {
   "cell_type": "code",
   "execution_count": 17,
   "id": "743d33cd",
   "metadata": {},
   "outputs": [
    {
     "name": "stdout",
     "output_type": "stream",
     "text": [
      "I am in _display method\n"
     ]
    }
   ],
   "source": [
    "obj._display()"
   ]
  },
  {
   "cell_type": "code",
   "execution_count": 18,
   "id": "ec910dc1",
   "metadata": {},
   "outputs": [
    {
     "ename": "AttributeError",
     "evalue": "'Test' object has no attribute '__pprint'",
     "output_type": "error",
     "traceback": [
      "\u001b[1;31m---------------------------------------------------------------------------\u001b[0m",
      "\u001b[1;31mAttributeError\u001b[0m                            Traceback (most recent call last)",
      "\u001b[1;32m~\\AppData\\Local\\Temp/ipykernel_504/4154708420.py\u001b[0m in \u001b[0;36m<module>\u001b[1;34m\u001b[0m\n\u001b[1;32m----> 1\u001b[1;33m \u001b[0mobj\u001b[0m\u001b[1;33m.\u001b[0m\u001b[0m__pprint\u001b[0m\u001b[1;33m(\u001b[0m\u001b[1;33m)\u001b[0m\u001b[1;33m\u001b[0m\u001b[1;33m\u001b[0m\u001b[0m\n\u001b[0m",
      "\u001b[1;31mAttributeError\u001b[0m: 'Test' object has no attribute '__pprint'"
     ]
    }
   ],
   "source": [
    "obj.__pprint()"
   ]
  },
  {
   "cell_type": "code",
   "execution_count": 19,
   "id": "eb6f8abf",
   "metadata": {},
   "outputs": [
    {
     "name": "stdout",
     "output_type": "stream",
     "text": [
      "I am in __pprint method\n"
     ]
    }
   ],
   "source": [
    "obj._Test__pprint()"
   ]
  },
  {
   "cell_type": "code",
   "execution_count": 21,
   "id": "1a3b1876",
   "metadata": {},
   "outputs": [
    {
     "name": "stdout",
     "output_type": "stream",
     "text": [
      "I am in __pprint method\n"
     ]
    }
   ],
   "source": [
    "obj.local_test()"
   ]
  },
  {
   "cell_type": "code",
   "execution_count": null,
   "id": "93b25e2c",
   "metadata": {},
   "outputs": [],
   "source": []
  }
 ],
 "metadata": {
  "kernelspec": {
   "display_name": "Python 3 (ipykernel)",
   "language": "python",
   "name": "python3"
  },
  "language_info": {
   "codemirror_mode": {
    "name": "ipython",
    "version": 3
   },
   "file_extension": ".py",
   "mimetype": "text/x-python",
   "name": "python",
   "nbconvert_exporter": "python",
   "pygments_lexer": "ipython3",
   "version": "3.10.0"
  }
 },
 "nbformat": 4,
 "nbformat_minor": 5
}
