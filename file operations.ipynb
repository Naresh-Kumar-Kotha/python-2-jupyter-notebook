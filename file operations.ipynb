{
 "cells": [
  {
   "cell_type": "code",
   "execution_count": null,
   "id": "b140b23e",
   "metadata": {},
   "outputs": [],
   "source": [
    "# File Handling: \n",
    "# As the part of programming requirement, we have to store our data permanently for future purpose. \n",
    "# For this requirement we should go for files.\n",
    "# Files are very common permanent storage areas to store our data.\n",
    "\n",
    "\n",
    "# Types of Files: There are 2 types of files\n",
    "# 1. Text Files: Usually we can use text files to store character data.  eg: abc.txt\n",
    "# 2. Binary Files: Usually we can use binary files to store binary data like images,video files, audio files etc..."
   ]
  },
  {
   "cell_type": "code",
   "execution_count": null,
   "id": "607f37f1",
   "metadata": {},
   "outputs": [],
   "source": []
  },
  {
   "cell_type": "code",
   "execution_count": 2,
   "id": "3954d355",
   "metadata": {},
   "outputs": [],
   "source": [
    "# open a file in write mode\n",
    "w=open('text1.txt', 'w')\n"
   ]
  },
  {
   "cell_type": "code",
   "execution_count": 4,
   "id": "16b3f302",
   "metadata": {},
   "outputs": [
    {
     "data": {
      "text/plain": [
       "False"
      ]
     },
     "execution_count": 4,
     "metadata": {},
     "output_type": "execute_result"
    }
   ],
   "source": [
    "w.closed  # It will check whether the file is closed or not"
   ]
  },
  {
   "cell_type": "code",
   "execution_count": 7,
   "id": "a2b5722d",
   "metadata": {},
   "outputs": [
    {
     "data": {
      "text/plain": [
       "'text1.txt'"
      ]
     },
     "execution_count": 7,
     "metadata": {},
     "output_type": "execute_result"
    }
   ],
   "source": [
    "w.name"
   ]
  },
  {
   "cell_type": "code",
   "execution_count": 10,
   "id": "04673d4e",
   "metadata": {},
   "outputs": [
    {
     "data": {
      "text/plain": [
       "'strict'"
      ]
     },
     "execution_count": 10,
     "metadata": {},
     "output_type": "execute_result"
    }
   ],
   "source": [
    "w.errors"
   ]
  },
  {
   "cell_type": "code",
   "execution_count": 15,
   "id": "51e0d557",
   "metadata": {},
   "outputs": [
    {
     "data": {
      "text/plain": [
       "4"
      ]
     },
     "execution_count": 15,
     "metadata": {},
     "output_type": "execute_result"
    }
   ],
   "source": [
    "w.fileno()"
   ]
  },
  {
   "cell_type": "code",
   "execution_count": 18,
   "id": "3e046dc3",
   "metadata": {},
   "outputs": [
    {
     "data": {
      "text/plain": [
       "'w'"
      ]
     },
     "execution_count": 18,
     "metadata": {},
     "output_type": "execute_result"
    }
   ],
   "source": [
    "w.mode"
   ]
  },
  {
   "cell_type": "code",
   "execution_count": 34,
   "id": "e9df59f9",
   "metadata": {},
   "outputs": [
    {
     "data": {
      "text/plain": [
       "17"
      ]
     },
     "execution_count": 34,
     "metadata": {},
     "output_type": "execute_result"
    }
   ],
   "source": [
    "w=open('text1.txt', 'w')\n",
    "w.write('hi hello welcome\\n')"
   ]
  },
  {
   "cell_type": "code",
   "execution_count": 35,
   "id": "2a289ca6",
   "metadata": {},
   "outputs": [],
   "source": [
    "w.writelines(['hi\\n', 'hi2\\n', 'hi3\\n'])"
   ]
  },
  {
   "cell_type": "code",
   "execution_count": 36,
   "id": "5f254df8",
   "metadata": {},
   "outputs": [],
   "source": [
    "w.close()"
   ]
  },
  {
   "cell_type": "code",
   "execution_count": 5,
   "id": "9e53f9cb",
   "metadata": {},
   "outputs": [
    {
     "data": {
      "text/plain": [
       "True"
      ]
     },
     "execution_count": 5,
     "metadata": {},
     "output_type": "execute_result"
    }
   ],
   "source": [
    "w=open('naresh','w')\n",
    "w.writelines(['hi\\n', 'hi2\\n', 'hi3\\n'])\n",
    "w.close()\n",
    "w.closed"
   ]
  },
  {
   "cell_type": "code",
   "execution_count": 11,
   "id": "22e8bf82",
   "metadata": {},
   "outputs": [
    {
     "data": {
      "text/plain": [
       "True"
      ]
     },
     "execution_count": 11,
     "metadata": {},
     "output_type": "execute_result"
    }
   ],
   "source": [
    "w=open('naresh','a')\n",
    "w.writelines(['hi1\\n', 'hi6\\n', 'hi7\\n'])\n",
    "w.close()\n",
    "w.closed"
   ]
  },
  {
   "cell_type": "code",
   "execution_count": null,
   "id": "2502c4d3",
   "metadata": {},
   "outputs": [],
   "source": []
  },
  {
   "cell_type": "code",
   "execution_count": null,
   "id": "97a64646",
   "metadata": {},
   "outputs": [],
   "source": []
  },
  {
   "cell_type": "code",
   "execution_count": 37,
   "id": "d1c490ee",
   "metadata": {},
   "outputs": [],
   "source": [
    "r=open('text1.txt','r')"
   ]
  },
  {
   "cell_type": "code",
   "execution_count": 38,
   "id": "7ecde8f8",
   "metadata": {},
   "outputs": [
    {
     "data": {
      "text/plain": [
       "'hi hello welcome\\nhi\\nhi2\\nhi3\\n'"
      ]
     },
     "execution_count": 38,
     "metadata": {},
     "output_type": "execute_result"
    }
   ],
   "source": [
    "r.read()"
   ]
  },
  {
   "cell_type": "code",
   "execution_count": 39,
   "id": "1d39bc87",
   "metadata": {},
   "outputs": [
    {
     "data": {
      "text/plain": [
       "''"
      ]
     },
     "execution_count": 39,
     "metadata": {},
     "output_type": "execute_result"
    }
   ],
   "source": [
    "r.read()"
   ]
  },
  {
   "cell_type": "code",
   "execution_count": 40,
   "id": "00aeaf5e",
   "metadata": {},
   "outputs": [
    {
     "data": {
      "text/plain": [
       "1"
      ]
     },
     "execution_count": 40,
     "metadata": {},
     "output_type": "execute_result"
    }
   ],
   "source": [
    "r.seek(1)"
   ]
  },
  {
   "cell_type": "code",
   "execution_count": 41,
   "id": "ebc7ef2f",
   "metadata": {},
   "outputs": [
    {
     "data": {
      "text/plain": [
       "'i hello welcome\\nhi\\nhi2\\nhi3\\n'"
      ]
     },
     "execution_count": 41,
     "metadata": {},
     "output_type": "execute_result"
    }
   ],
   "source": [
    "r.read()"
   ]
  },
  {
   "cell_type": "code",
   "execution_count": 42,
   "id": "abae6133",
   "metadata": {},
   "outputs": [
    {
     "data": {
      "text/plain": [
       "0"
      ]
     },
     "execution_count": 42,
     "metadata": {},
     "output_type": "execute_result"
    }
   ],
   "source": [
    "r.seek(0)"
   ]
  },
  {
   "cell_type": "code",
   "execution_count": 43,
   "id": "a58bc9c1",
   "metadata": {},
   "outputs": [
    {
     "data": {
      "text/plain": [
       "0"
      ]
     },
     "execution_count": 43,
     "metadata": {},
     "output_type": "execute_result"
    }
   ],
   "source": [
    "r.tell()"
   ]
  },
  {
   "cell_type": "code",
   "execution_count": 44,
   "id": "6f7f0bb5",
   "metadata": {},
   "outputs": [
    {
     "data": {
      "text/plain": [
       "'hi h'"
      ]
     },
     "execution_count": 44,
     "metadata": {},
     "output_type": "execute_result"
    }
   ],
   "source": [
    "r.read(4)"
   ]
  },
  {
   "cell_type": "code",
   "execution_count": 45,
   "id": "0d082315",
   "metadata": {},
   "outputs": [
    {
     "data": {
      "text/plain": [
       "'ello'"
      ]
     },
     "execution_count": 45,
     "metadata": {},
     "output_type": "execute_result"
    }
   ],
   "source": [
    "r.read(4)\n"
   ]
  },
  {
   "cell_type": "code",
   "execution_count": 46,
   "id": "df0210e3",
   "metadata": {},
   "outputs": [
    {
     "data": {
      "text/plain": [
       "0"
      ]
     },
     "execution_count": 46,
     "metadata": {},
     "output_type": "execute_result"
    }
   ],
   "source": [
    "r.seek(0)"
   ]
  },
  {
   "cell_type": "code",
   "execution_count": 47,
   "id": "45deadad",
   "metadata": {},
   "outputs": [
    {
     "data": {
      "text/plain": [
       "'hi hello welcome\\n'"
      ]
     },
     "execution_count": 47,
     "metadata": {},
     "output_type": "execute_result"
    }
   ],
   "source": [
    "r.readline()"
   ]
  },
  {
   "cell_type": "code",
   "execution_count": 48,
   "id": "4c3eaa9e",
   "metadata": {},
   "outputs": [
    {
     "data": {
      "text/plain": [
       "'hi\\n'"
      ]
     },
     "execution_count": 48,
     "metadata": {},
     "output_type": "execute_result"
    }
   ],
   "source": [
    "r.readline()"
   ]
  },
  {
   "cell_type": "code",
   "execution_count": 49,
   "id": "a84809c6",
   "metadata": {},
   "outputs": [
    {
     "data": {
      "text/plain": [
       "['hi2\\n', 'hi3\\n']"
      ]
     },
     "execution_count": 49,
     "metadata": {},
     "output_type": "execute_result"
    }
   ],
   "source": [
    "r.readlines()"
   ]
  },
  {
   "cell_type": "code",
   "execution_count": 50,
   "id": "54fdb44d",
   "metadata": {},
   "outputs": [
    {
     "name": "stdout",
     "output_type": "stream",
     "text": [
      "['_CHUNK_SIZE', '__class__', '__del__', '__delattr__', '__dict__', '__dir__', '__doc__', '__enter__', '__eq__', '__exit__', '__format__', '__ge__', '__getattribute__', '__gt__', '__hash__', '__init__', '__init_subclass__', '__iter__', '__le__', '__lt__', '__ne__', '__new__', '__next__', '__reduce__', '__reduce_ex__', '__repr__', '__setattr__', '__sizeof__', '__str__', '__subclasshook__', '_checkClosed', '_checkReadable', '_checkSeekable', '_checkWritable', '_finalizing', 'buffer', 'close', 'closed', 'detach', 'encoding', 'errors', 'fileno', 'flush', 'isatty', 'line_buffering', 'mode', 'name', 'newlines', 'read', 'readable', 'readline', 'readlines', 'reconfigure', 'seek', 'seekable', 'tell', 'truncate', 'writable', 'write', 'write_through', 'writelines']\n"
     ]
    }
   ],
   "source": [
    "print(dir(r))"
   ]
  },
  {
   "cell_type": "code",
   "execution_count": 52,
   "id": "68d48b77",
   "metadata": {},
   "outputs": [
    {
     "data": {
      "text/plain": [
       "'strict'"
      ]
     },
     "execution_count": 52,
     "metadata": {},
     "output_type": "execute_result"
    }
   ],
   "source": [
    "r.errors"
   ]
  },
  {
   "cell_type": "code",
   "execution_count": 6,
   "id": "d958a725",
   "metadata": {},
   "outputs": [
    {
     "name": "stdout",
     "output_type": "stream",
     "text": [
      "hi hello welcome\n",
      "hi\n",
      "hi2\n",
      "hi3\n",
      "\n"
     ]
    }
   ],
   "source": [
    "r=open(\"text1.txt\",'r')\n",
    "print(r.read())"
   ]
  },
  {
   "cell_type": "code",
   "execution_count": 7,
   "id": "ad924050",
   "metadata": {},
   "outputs": [],
   "source": [
    "r.close()"
   ]
  },
  {
   "cell_type": "code",
   "execution_count": 8,
   "id": "5504418c",
   "metadata": {},
   "outputs": [
    {
     "data": {
      "text/plain": [
       "True"
      ]
     },
     "execution_count": 8,
     "metadata": {},
     "output_type": "execute_result"
    }
   ],
   "source": [
    "r.closed"
   ]
  },
  {
   "cell_type": "code",
   "execution_count": 9,
   "id": "e7e10f5f",
   "metadata": {},
   "outputs": [],
   "source": [
    "w=open(\"text1.txt\",'a')\n",
    "w.write(\"hi4\\n\")\n",
    "w.write(\"hi5\\n\")\n",
    "w.close()"
   ]
  },
  {
   "cell_type": "code",
   "execution_count": 10,
   "id": "06e05d9c",
   "metadata": {},
   "outputs": [],
   "source": [
    "r=open(\"text1.txt\",'r')\n",
    "w=open(\"text1_copy.txt\",'x')\n",
    "w.write(r.read())\n",
    "r.close()\n",
    "w.close()"
   ]
  },
  {
   "cell_type": "code",
   "execution_count": 11,
   "id": "ea940371",
   "metadata": {},
   "outputs": [],
   "source": [
    "import pickle\n",
    "data=[{1:1},{'a':2}]\n",
    "w=open(\"pickl_text.txt\",'wb')\n",
    "pickle.dump(data,w)\n",
    "w.close()"
   ]
  },
  {
   "cell_type": "code",
   "execution_count": 13,
   "id": "1e3368d7",
   "metadata": {},
   "outputs": [],
   "source": [
    "r=open(\"pickl_text.txt\",\"rb\")\n",
    "f_data=pickle.load(r)\n",
    "r.close()"
   ]
  },
  {
   "cell_type": "code",
   "execution_count": 14,
   "id": "4752d6ba",
   "metadata": {},
   "outputs": [
    {
     "data": {
      "text/plain": [
       "[{1: 1}, {'a': 2}]"
      ]
     },
     "execution_count": 14,
     "metadata": {},
     "output_type": "execute_result"
    }
   ],
   "source": [
    "f_data"
   ]
  },
  {
   "cell_type": "code",
   "execution_count": 15,
   "id": "7c970f8c",
   "metadata": {},
   "outputs": [
    {
     "data": {
      "text/plain": [
       "list"
      ]
     },
     "execution_count": 15,
     "metadata": {},
     "output_type": "execute_result"
    }
   ],
   "source": [
    "type(f_data)"
   ]
  },
  {
   "cell_type": "code",
   "execution_count": 2,
   "id": "10773c08",
   "metadata": {},
   "outputs": [],
   "source": [
    "import xml.etree.ElementTree as ET\n",
    "tree = ET.parse('country_data.xml')\n",
    "root = tree.getroot()"
   ]
  },
  {
   "cell_type": "code",
   "execution_count": 3,
   "id": "66e776d4",
   "metadata": {},
   "outputs": [
    {
     "data": {
      "text/plain": [
       "'data'"
      ]
     },
     "execution_count": 3,
     "metadata": {},
     "output_type": "execute_result"
    }
   ],
   "source": [
    "root.tag"
   ]
  },
  {
   "cell_type": "code",
   "execution_count": 5,
   "id": "5903ef8b",
   "metadata": {},
   "outputs": [
    {
     "data": {
      "text/plain": [
       "{}"
      ]
     },
     "execution_count": 5,
     "metadata": {},
     "output_type": "execute_result"
    }
   ],
   "source": [
    "root.attrib"
   ]
  },
  {
   "cell_type": "code",
   "execution_count": 6,
   "id": "d224a393",
   "metadata": {},
   "outputs": [
    {
     "name": "stdout",
     "output_type": "stream",
     "text": [
      "country {'name': 'Liechtenstein'}\n",
      "country {'name': 'Singapore'}\n",
      "country {'name': 'Panama'}\n"
     ]
    }
   ],
   "source": [
    "for child in root:\n",
    "     print(child.tag, child.attrib)"
   ]
  },
  {
   "cell_type": "code",
   "execution_count": 8,
   "id": "ad233b82",
   "metadata": {},
   "outputs": [
    {
     "data": {
      "text/plain": [
       "'2011'"
      ]
     },
     "execution_count": 8,
     "metadata": {},
     "output_type": "execute_result"
    }
   ],
   "source": [
    "root[1][1].text"
   ]
  },
  {
   "cell_type": "code",
   "execution_count": 10,
   "id": "2a204b06",
   "metadata": {},
   "outputs": [
    {
     "name": "stdout",
     "output_type": "stream",
     "text": [
      "Liechtenstein 1\n",
      "Singapore 4\n",
      "Panama 68\n"
     ]
    }
   ],
   "source": [
    "for country in root.findall('country'):\n",
    "    rank = country.find('rank').text\n",
    "    name = country.get('name')\n",
    "    print(name, rank)"
   ]
  },
  {
   "cell_type": "code",
   "execution_count": 11,
   "id": "1586f539",
   "metadata": {},
   "outputs": [
    {
     "name": "stdout",
     "output_type": "stream",
     "text": [
      "{'name': 'Austria', 'direction': 'E'}\n",
      "{'name': 'Switzerland', 'direction': 'W'}\n",
      "{'name': 'Malaysia', 'direction': 'N'}\n",
      "{'name': 'Costa Rica', 'direction': 'W'}\n",
      "{'name': 'Colombia', 'direction': 'E'}\n"
     ]
    }
   ],
   "source": [
    "for neighbor in root.iter('neighbor'):\n",
    "    print(neighbor.attrib)"
   ]
  },
  {
   "cell_type": "code",
   "execution_count": 12,
   "id": "733e1041",
   "metadata": {},
   "outputs": [],
   "source": [
    "for rank in root.iter('rank'):\n",
    "    new_rank = int(rank.text) + 1\n",
    "    rank.text = str(new_rank)\n",
    "    rank.set('updated', 'yes')\n",
    "tree.write('output.xml')"
   ]
  },
  {
   "cell_type": "code",
   "execution_count": 14,
   "id": "b9d901f5",
   "metadata": {},
   "outputs": [
    {
     "ename": "NameError",
     "evalue": "name 'output' is not defined",
     "output_type": "error",
     "traceback": [
      "\u001b[1;31m---------------------------------------------------------------------------\u001b[0m",
      "\u001b[1;31mNameError\u001b[0m                                 Traceback (most recent call last)",
      "\u001b[1;32m~\\AppData\\Local\\Temp/ipykernel_9980/1843817003.py\u001b[0m in \u001b[0;36m<module>\u001b[1;34m\u001b[0m\n\u001b[1;32m----> 1\u001b[1;33m \u001b[0moutput\u001b[0m\u001b[1;33m.\u001b[0m\u001b[0mclose\u001b[0m\u001b[1;33m(\u001b[0m\u001b[1;33m)\u001b[0m\u001b[1;33m\u001b[0m\u001b[1;33m\u001b[0m\u001b[0m\n\u001b[0m",
      "\u001b[1;31mNameError\u001b[0m: name 'output' is not defined"
     ]
    }
   ],
   "source": [
    "output.close()"
   ]
  },
  {
   "cell_type": "code",
   "execution_count": 1,
   "id": "4721a6aa",
   "metadata": {},
   "outputs": [
    {
     "ename": "FileNotFoundError",
     "evalue": "[Errno 2] No such file or directory: 'eggs.csv'",
     "output_type": "error",
     "traceback": [
      "\u001b[1;31m---------------------------------------------------------------------------\u001b[0m",
      "\u001b[1;31mFileNotFoundError\u001b[0m                         Traceback (most recent call last)",
      "\u001b[1;32m~\\AppData\\Local\\Temp/ipykernel_11336/586435490.py\u001b[0m in \u001b[0;36m<module>\u001b[1;34m\u001b[0m\n\u001b[0;32m      1\u001b[0m \u001b[1;32mimport\u001b[0m \u001b[0mcsv\u001b[0m\u001b[1;33m\u001b[0m\u001b[1;33m\u001b[0m\u001b[0m\n\u001b[1;32m----> 2\u001b[1;33m \u001b[1;32mwith\u001b[0m \u001b[0mopen\u001b[0m\u001b[1;33m(\u001b[0m\u001b[1;34m'eggs.csv'\u001b[0m\u001b[1;33m,\u001b[0m \u001b[0mnewline\u001b[0m\u001b[1;33m=\u001b[0m\u001b[1;34m''\u001b[0m\u001b[1;33m)\u001b[0m \u001b[1;32mas\u001b[0m \u001b[0mcsvfile\u001b[0m\u001b[1;33m:\u001b[0m\u001b[1;33m\u001b[0m\u001b[1;33m\u001b[0m\u001b[0m\n\u001b[0m\u001b[0;32m      3\u001b[0m     \u001b[0mspamreader\u001b[0m \u001b[1;33m=\u001b[0m \u001b[0mcsv\u001b[0m\u001b[1;33m.\u001b[0m\u001b[0mreader\u001b[0m\u001b[1;33m(\u001b[0m\u001b[0mcsvfile\u001b[0m\u001b[1;33m,\u001b[0m \u001b[0mdelimiter\u001b[0m\u001b[1;33m=\u001b[0m\u001b[1;34m' '\u001b[0m\u001b[1;33m,\u001b[0m \u001b[0mquotechar\u001b[0m\u001b[1;33m=\u001b[0m\u001b[1;34m'|'\u001b[0m\u001b[1;33m)\u001b[0m\u001b[1;33m\u001b[0m\u001b[1;33m\u001b[0m\u001b[0m\n\u001b[0;32m      4\u001b[0m     \u001b[1;32mfor\u001b[0m \u001b[0mrow\u001b[0m \u001b[1;32min\u001b[0m \u001b[0mspamreader\u001b[0m\u001b[1;33m:\u001b[0m\u001b[1;33m\u001b[0m\u001b[1;33m\u001b[0m\u001b[0m\n\u001b[0;32m      5\u001b[0m         \u001b[0mprint\u001b[0m\u001b[1;33m(\u001b[0m\u001b[1;34m', '\u001b[0m\u001b[1;33m.\u001b[0m\u001b[0mjoin\u001b[0m\u001b[1;33m(\u001b[0m\u001b[0mrow\u001b[0m\u001b[1;33m)\u001b[0m\u001b[1;33m)\u001b[0m\u001b[1;33m\u001b[0m\u001b[1;33m\u001b[0m\u001b[0m\n",
      "\u001b[1;31mFileNotFoundError\u001b[0m: [Errno 2] No such file or directory: 'eggs.csv'"
     ]
    }
   ],
   "source": [
    "import csv\n",
    "with open('eggs.csv', newline='') as csvfile:\n",
    "    spamreader = csv.reader(csvfile, delimiter=' ', quotechar='|')\n",
    "    for row in spamreader:\n",
    "        print(', '.join(row))"
   ]
  },
  {
   "cell_type": "code",
   "execution_count": 2,
   "id": "9b3cf75c",
   "metadata": {},
   "outputs": [],
   "source": [
    "import csv\n",
    "with open('eggs.csv', 'w', newline='') as csvfile:\n",
    "    spamwriter = csv.writer(csvfile, delimiter=' ',\n",
    "                            quotechar='|', quoting=csv.QUOTE_MINIMAL)\n",
    "    spamwriter.writerow(['Spam'] * 5 + ['Baked Beans'])\n",
    "    spamwriter.writerow(['Spam', 'Lovely Spam', 'Wonderful Spam'])"
   ]
  },
  {
   "cell_type": "code",
   "execution_count": 5,
   "id": "192b0255",
   "metadata": {},
   "outputs": [],
   "source": [
    "with open('tst.txt','w') as w:\n",
    "    w.writelines(['line3','line4','line5','line6'])\n",
    "    w.close()"
   ]
  },
  {
   "cell_type": "code",
   "execution_count": 32,
   "id": "6ae75708",
   "metadata": {},
   "outputs": [],
   "source": [
    "import pickle\n",
    "with open('tst-pkl.txt','ab') as w1:\n",
    "    data=[1,2,4,5,3]\n",
    "    pickle.dumps(data)\n",
    "    w1.close()\n",
    "with open('tst-pkl.txt','rb') as r1:\n",
    "    data_1=pickle.load(r1)\n",
    "    data_2=pickle.load(r1)\n",
    "    r1.close()"
   ]
  },
  {
   "cell_type": "code",
   "execution_count": 33,
   "id": "f8b4a492",
   "metadata": {},
   "outputs": [
    {
     "data": {
      "text/plain": [
       "([1, 2, 4, 5, 23], [1, 2, 4, 5, 23])"
      ]
     },
     "execution_count": 33,
     "metadata": {},
     "output_type": "execute_result"
    }
   ],
   "source": [
    "data_1,data_2\n"
   ]
  },
  {
   "cell_type": "code",
   "execution_count": 35,
   "id": "1b1edd14",
   "metadata": {},
   "outputs": [
    {
     "data": {
      "text/plain": [
       "b'\\x80\\x04\\x95)\\x00\\x00\\x00\\x00\\x00\\x00\\x00]\\x94(\\x8c\\x03foo\\x94}\\x94\\x8c\\x03bar\\x94(\\x8c\\x03baz\\x94NG?\\xf0\\x00\\x00\\x00\\x00\\x00\\x00K\\x02t\\x94se.'"
      ]
     },
     "execution_count": 35,
     "metadata": {},
     "output_type": "execute_result"
    }
   ],
   "source": [
    "pickle.dumps(['foo', {'bar': ('baz', None, 1.0, 2)}])"
   ]
  },
  {
   "cell_type": "code",
   "execution_count": 36,
   "id": "39674d9e",
   "metadata": {},
   "outputs": [
    {
     "data": {
      "text/plain": [
       "['foo', {'bar': ('baz', None, 1.0, 2)}]"
      ]
     },
     "execution_count": 36,
     "metadata": {},
     "output_type": "execute_result"
    }
   ],
   "source": [
    "pickle.loads(b'\\x80\\x04\\x95)\\x00\\x00\\x00\\x00\\x00\\x00\\x00]\\x94(\\x8c\\x03foo\\x94}\\x94\\x8c\\x03bar\\x94(\\x8c\\x03baz\\x94NG?\\xf0\\x00\\x00\\x00\\x00\\x00\\x00K\\x02t\\x94se.'"
   ]
  },
  {
   "cell_type": "code",
   "execution_count": 47,
   "id": "a70bc13b",
   "metadata": {},
   "outputs": [
    {
     "ename": "NameError",
     "evalue": "name 'json' is not defined",
     "output_type": "error",
     "traceback": [
      "\u001b[1;31m---------------------------------------------------------------------------\u001b[0m",
      "\u001b[1;31mNameError\u001b[0m                                 Traceback (most recent call last)",
      "\u001b[1;32m~\\AppData\\Local\\Temp/ipykernel_11488/1514823308.py\u001b[0m in \u001b[0;36m<module>\u001b[1;34m\u001b[0m\n\u001b[1;32m----> 1\u001b[1;33m \u001b[0mprint\u001b[0m\u001b[1;33m(\u001b[0m\u001b[0mjson\u001b[0m\u001b[1;33m.\u001b[0m\u001b[0mdumps\u001b[0m\u001b[1;33m(\u001b[0m\u001b[1;34m'{\"c\": 0, \"b\": 0, \"a\": 0}'\u001b[0m\u001b[1;33m)\u001b[0m\u001b[1;33m)\u001b[0m\u001b[1;33m\u001b[0m\u001b[1;33m\u001b[0m\u001b[0m\n\u001b[0m",
      "\u001b[1;31mNameError\u001b[0m: name 'json' is not defined"
     ]
    }
   ],
   "source": [
    "print(json.dumps('{\"c\": 0, \"b\": 0, \"a\": 0}'))"
   ]
  },
  {
   "cell_type": "code",
   "execution_count": 57,
   "id": "e73ec13a",
   "metadata": {},
   "outputs": [],
   "source": [
    "import json\n",
    "w=open('json1.txt','w')\n",
    "json.dump([1,2,3,{'4': 5, '6': 7}],w)\n",
    "w.close()"
   ]
  },
  {
   "cell_type": "code",
   "execution_count": 75,
   "id": "397592d6",
   "metadata": {},
   "outputs": [],
   "source": [
    "import csv\n",
    "with open('csv1.csv','w') as w:\n",
    "    data = csv.writer(w)\n",
    "    data.writerow([1])\n",
    "    data.writerow([2])"
   ]
  },
  {
   "cell_type": "code",
   "execution_count": 66,
   "id": "f8f9dcd9",
   "metadata": {},
   "outputs": [],
   "source": [
    "import csv\n",
    "with open('eggs.csv', 'w', newline='') as csvfile:\n",
    "    spamwriter = csv.writer(csvfile, delimiter=' ',\n",
    "                            quotechar='|', quoting=csv.QUOTE_MINIMAL)\n",
    "    spamwriter.writerow(['Spam'] * 5 + ['Baked Beans'])\n",
    "    spamwriter.writerow(['Spam', 'Lovely Spam', 'Wonderful Spam'])"
   ]
  },
  {
   "cell_type": "code",
   "execution_count": 33,
   "id": "3fb824ce",
   "metadata": {},
   "outputs": [
    {
     "name": "stdout",
     "output_type": "stream",
     "text": [
      "file name with extn:del.txt\n",
      "write text into file and click enter for new line and type -1 if you want to exit\n",
      "hi\n",
      "helo\n",
      "hii\n",
      "-1\n"
     ]
    }
   ],
   "source": [
    "fn=input('file name with extn:')\n",
    "w=open(fn,'w')\n",
    "print('write text into file and click enter for new line and type -1 if you want to exit')\n",
    "i=1\n",
    "while i==True:\n",
    "    j=input()\n",
    "    if j=='-1':\n",
    "        break\n",
    "    else:\n",
    "        w.writelines(f\"{j}\\n\")\n",
    "w.close()"
   ]
  },
  {
   "cell_type": "code",
   "execution_count": null,
   "id": "a279e54f",
   "metadata": {},
   "outputs": [],
   "source": []
  }
 ],
 "metadata": {
  "kernelspec": {
   "display_name": "Python 3 (ipykernel)",
   "language": "python",
   "name": "python3"
  },
  "language_info": {
   "codemirror_mode": {
    "name": "ipython",
    "version": 3
   },
   "file_extension": ".py",
   "mimetype": "text/x-python",
   "name": "python",
   "nbconvert_exporter": "python",
   "pygments_lexer": "ipython3",
   "version": "3.10.0"
  }
 },
 "nbformat": 4,
 "nbformat_minor": 5
}
