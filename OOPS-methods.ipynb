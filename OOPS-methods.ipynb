{
 "cells": [
  {
   "cell_type": "code",
   "execution_count": null,
   "id": "db75cdeb",
   "metadata": {},
   "outputs": [],
   "source": [
    "# Types of Methods: Inside Python class 3 types of methods are allowed.\n",
    "# 1. Instance Methods\n",
    "# 2. Class Methods\n",
    "# 3. Static Methods\n"
   ]
  },
  {
   "cell_type": "code",
   "execution_count": null,
   "id": "f4632be6",
   "metadata": {},
   "outputs": [],
   "source": [
    "# 1. Instance Methods: \n",
    "# Inside method implementation if we are using instance variables then such type of methods are called instance methods.\n",
    "# Inside instance method declaration,we have to pass self variable:\n",
    "# Syntax:     def m1(self):\n",
    "# By using self variable inside method we can access instance variables.\n",
    "# Within the class we can call instance method by using self variable \n",
    "       # and from outside of the class we can call by using object reference.\n"
   ]
  },
  {
   "cell_type": "code",
   "execution_count": 3,
   "id": "abfd0186",
   "metadata": {},
   "outputs": [
    {
     "name": "stdout",
     "output_type": "stream",
     "text": [
      "Dog walks with 4 legs...\n",
      "Cat walks with 4 legs...\n"
     ]
    }
   ],
   "source": [
    "# 2. Class Methods:\n",
    "# Inside method implementation if we are using only class variables, then such type of methods we should declare as class method.\n",
    "# We can declare class method explicitly by using \"@classmethod\" decorator.\n",
    "# For class method we should provide cls variable at the time of declaration\n",
    "# We can call classmethod by using classname or object reference variable.\n",
    "\n",
    "# Demo Program:\n",
    "class Animal:\n",
    "    legs=4\n",
    "    @classmethod\n",
    "    def walk(cls,name):\n",
    "        print(f'{name} walks with {cls.legs} legs...')\n",
    "Animal.walk('Dog')\n",
    "Animal.walk('Cat')"
   ]
  },
  {
   "cell_type": "code",
   "execution_count": 4,
   "id": "f9782773",
   "metadata": {},
   "outputs": [
    {
     "name": "stdout",
     "output_type": "stream",
     "text": [
      "The number of objects created for test class: 2\n",
      "The number of objects created for test class: 5\n"
     ]
    }
   ],
   "source": [
    " # Program to track the number of objects created for a class:\n",
    "class Test:\n",
    "    count=0\n",
    "    def __init__(self):\n",
    "        Test.count =Test.count+1\n",
    "    @classmethod\n",
    "    def noOfObjects(cls):\n",
    "        print('The number of objects created for test class:',cls.count)\n",
    "\n",
    "t1=Test()\n",
    "t2=Test()\n",
    "Test.noOfObjects()\n",
    "t3=Test()\n",
    "t4=Test()\n",
    "t5=Test()\n",
    "Test.noOfObjects()"
   ]
  },
  {
   "cell_type": "code",
   "execution_count": 5,
   "id": "ac9e5a23",
   "metadata": {},
   "outputs": [
    {
     "name": "stdout",
     "output_type": "stream",
     "text": [
      "The Sum: 70\n",
      "The Product: 300\n",
      "The average: 50.0\n"
     ]
    }
   ],
   "source": [
    "# 3. Static Methods:\n",
    "# In general these methods are general utility methods.\n",
    "# Inside these methods we won't use any instance or class variables.\n",
    "# Here we don't provide \"self\" or \"cls\" arguments at the time of declaration.\n",
    "# We can declare static method explicitly by using \"@staticmethod\" decorator\n",
    "# We can access static methods by using classname or object reference\n",
    "\n",
    "class Methods:\n",
    "    z=20\n",
    "    @staticmethod\n",
    "    def add(x,y):\n",
    "        print('The Sum:',x+y+Methods.z)    # we can access class level variables by using class name\n",
    "\n",
    "    @staticmethod\n",
    "    def product(x,y):\n",
    "        print('The Product:',x*y)\n",
    "\n",
    "    @staticmethod\n",
    "    def average(x,y):\n",
    "        print('The average:',(x+y)/2)\n",
    "\n",
    "Methods.add(10,40)\n",
    "Methods.product(10,30)\n",
    "Methods.average(10,90)"
   ]
  },
  {
   "cell_type": "code",
   "execution_count": 6,
   "id": "a1e7b104",
   "metadata": {},
   "outputs": [],
   "source": [
    "# Note: In general we can use only instance and static methods.\n",
    "        # Inside static method we can access class level variables by using class name.\n",
    "# class methods are most rarely used methods in python."
   ]
  },
  {
   "cell_type": "code",
   "execution_count": null,
   "id": "8200fb15",
   "metadata": {},
   "outputs": [],
   "source": []
  },
  {
   "cell_type": "code",
   "execution_count": null,
   "id": "0982c7af",
   "metadata": {},
   "outputs": [],
   "source": []
  },
  {
   "cell_type": "code",
   "execution_count": 1,
   "id": "dc8a9b80",
   "metadata": {},
   "outputs": [
    {
     "name": "stdout",
     "output_type": "stream",
     "text": [
      "Enter number of students:2\n",
      "Enter Name:s1\n",
      "Enter Marks:35\n",
      "Hi s1\n",
      "Your Marks are: 35\n",
      "You got Third Grade\n",
      "\n",
      "Enter Name:s2\n",
      "Enter Marks:65\n",
      "Hi s2\n",
      "Your Marks are: 65\n",
      "You got First Grade\n",
      "\n"
     ]
    }
   ],
   "source": [
    "class Student:\n",
    "    def __init__(self,name,marks):\n",
    "        self.name=name\n",
    "        self.marks=marks\n",
    "    def display(self):\n",
    "        print('Hi',self.name)\n",
    "        print('Your Marks are:',self.marks)\n",
    "    def grade(self):\n",
    "        if self.marks>=60:\n",
    "            print('You got First Grade')\n",
    "        elif self.marks>=50:\n",
    "            print('Yout got Second Grade')\n",
    "        elif self.marks>=35:\n",
    "            print('You got Third Grade')\n",
    "        else:\n",
    "            print('You are Failed')\n",
    "n=int(input('Enter number of students:'))\n",
    "for i in range(n):\n",
    "    name=input('Enter Name:')\n",
    "    marks=int(input('Enter Marks:'))\n",
    "    s= Student(name,marks)\n",
    "    s.display()\n",
    "    s.grade()\n",
    "    print()"
   ]
  },
  {
   "cell_type": "code",
   "execution_count": null,
   "id": "98b545cc",
   "metadata": {},
   "outputs": [],
   "source": []
  },
  {
   "cell_type": "code",
   "execution_count": null,
   "id": "5379c1e7",
   "metadata": {},
   "outputs": [],
   "source": [
    "\"\"\"\n",
    "1. instance method\n",
    "    1st Argument should be self and we can call with only an object\n",
    "2. class method\n",
    "    1st arg should be class and we can call with an object or a class\n",
    "3. static method\n",
    "    1st arg is not to be a self or class we can call with object or a class\n",
    "\"\"\"\n",
    "import datetime\n",
    "\n",
    "class Student:\n",
    "    college_name = \"CBIT\"   # class/static variable -->we can call from 'class' or an 'object'\n",
    "    \n",
    "    def __init__(self, fname, lname, age):\n",
    "        # Below Instance variable can be called only from the 'object'\n",
    "        # If you call with class it will raise an AttributeError error\n",
    "        self.fname = fname\n",
    "        self.lname = lname\n",
    "        self.age = age\n",
    "\n",
    "    # Static method has to be decorated with @staticmethod\n",
    "    # 1st argument is not self and not a cls\n",
    "    # We can call from 'class' or an 'object'\n",
    "    @staticmethod\n",
    "    def full_name(fname, lname):\n",
    "        return f\"{fname} {lname}\"\n",
    "\n",
    "    # Instance method, 1st argument has to be self\n",
    "    # Below Instance method can be called only from the `object`\n",
    "    # If you call with class it will raise a TypeError\n",
    "    def get_full_name(self):\n",
    "        return self.full_name(self.fname, self.lname)\n",
    "\n",
    "    # Class method has to be decorated with @classmethod\n",
    "    # 1st argument should be cls\n",
    "    # We can call from 'class' or an 'object'\n",
    "    \n",
    "    @classmethod\n",
    "    def student_from_dob(cls, fname, lname, dob):\n",
    "        age = datetime.datetime.now().year - dob.year\n",
    "        return cls(fname, lname, age)\n",
    "\n",
    "suresh = Student(\"suresh\", \"kumar\", 28)\n",
    "\n",
    "suresh.college_name\n",
    "# 'CBIT'\n",
    "\n",
    "Student.college_name\n",
    "# 'CBIT'\n",
    "\n",
    "\n",
    "suresh.fname\n",
    "# suresh\n",
    "\n",
    "Student.fname\n",
    "# ---------------------------------------------------------------------------\n",
    "# AttributeError                            Traceback (most recent call last)\n",
    "# <ipython-input-13-1aa7ebba3567> in <module>\n",
    "# ----> 1 Student.fname\n",
    "#\n",
    "# AttributeError: type object 'Student' has no attribute 'fname'\n",
    "\n",
    "\n",
    "suresh.full_name(\"naresh\", \"kumar\")\n",
    "# 'naresh kumar'\n",
    "\n",
    "suresh.full_name(suresh.fname, suresh.lname)\n",
    "# 'suresh kumar'\n",
    "\n",
    "Student.full_name(suresh.fname, suresh.lname)\n",
    "# 'naresh kumar'\n",
    "\n",
    "suresh.get_full_name()\n",
    "# 'suresh kumar'\n",
    "\n",
    "Student.get_full_name()\n",
    "# ---------------------------------------------------------------------------\n",
    "# TypeError                                 Traceback (most recent call last)\n",
    "# <ipython-input-19-41d9e543a3df> in <module>\n",
    "# ----> 1 Student.get_full_name()\n",
    "#\n",
    "# TypeError: get_full_name() missing 1 required positional argument: 'self'\n",
    "\n",
    "naresh = suresh.student_from_dob(\"naresh\", \"kumar\",\n",
    "                                 datetime.datetime(1996,5,12))\n",
    "cnaresh = Student.student_from_dob(\"naresh\", \"kumar\",\n",
    "                                 datetime.datetime(1996,5,12))\n",
    "naresh.__dict__\n",
    "# {'fname': 'naresh', 'lname': 'kumar', 'age': 25}\n",
    "\n",
    "cnaresh.__dict__\n",
    "# {'fname': 'naresh', 'lname': 'kumar', 'age': 25}"
   ]
  },
  {
   "cell_type": "code",
   "execution_count": 3,
   "id": "17c0775a",
   "metadata": {},
   "outputs": [],
   "source": [
    "import datetime\n",
    "\n",
    "class Student:\n",
    "    college_name = \"CBIT\"   # class/static variable -->we can call from 'class' or an 'object'\n",
    "    \n",
    "    def __init__(self, fname, lname, age):\n",
    "        # Below Instance variable can be called only from the 'object'\n",
    "        # If you call with class it will raise an AttributeError error\n",
    "        self.fname = fname\n",
    "        self.lname = lname\n",
    "        self.age = age\n",
    "\n",
    "    # Static method has to be decorated with @staticmethod\n",
    "    # 1st argument is not self and not a cls\n",
    "    # We can call from 'class' or an 'object'\n",
    "    @staticmethod\n",
    "    def full_name(fname, lname):\n",
    "        return f\"{fname} {lname}\"\n",
    "\n",
    "    # Instance method, 1st argument has to be self\n",
    "    # Below Instance method can be called only from the `object`\n",
    "    # If you call with class it will raise a TypeError\n",
    "    def get_full_name(self):\n",
    "        return self.full_name(self.fname, self.lname)\n",
    "\n",
    "    # Class method has to be decorated with @classmethod\n",
    "    # 1st argument should be cls\n",
    "    # We can call from 'class' or an 'object'\n",
    "    \n",
    "    @classmethod\n",
    "    def student_from_dob(cls, fname, lname, dob):\n",
    "        age = datetime.datetime.now().year - dob.year\n",
    "        return cls(fname, lname, age)\n",
    "    "
   ]
  },
  {
   "cell_type": "code",
   "execution_count": 4,
   "id": "1b8c6a29",
   "metadata": {},
   "outputs": [],
   "source": [
    "suresh = Student(\"suresh\", \"kumar\", 28)"
   ]
  },
  {
   "cell_type": "code",
   "execution_count": 7,
   "id": "0d3209c5",
   "metadata": {},
   "outputs": [
    {
     "data": {
      "text/plain": [
       "'CBIT'"
      ]
     },
     "execution_count": 7,
     "metadata": {},
     "output_type": "execute_result"
    }
   ],
   "source": [
    "suresh.college_name"
   ]
  },
  {
   "cell_type": "code",
   "execution_count": 8,
   "id": "b51c6d13",
   "metadata": {},
   "outputs": [
    {
     "data": {
      "text/plain": [
       "'CBIT'"
      ]
     },
     "execution_count": 8,
     "metadata": {},
     "output_type": "execute_result"
    }
   ],
   "source": [
    "Student.college_name"
   ]
  },
  {
   "cell_type": "code",
   "execution_count": 5,
   "id": "fcdc3db6",
   "metadata": {},
   "outputs": [
    {
     "data": {
      "text/plain": [
       "'suresh kumar'"
      ]
     },
     "execution_count": 5,
     "metadata": {},
     "output_type": "execute_result"
    }
   ],
   "source": [
    "suresh.full_name(suresh.fname, suresh.lname)"
   ]
  },
  {
   "cell_type": "code",
   "execution_count": 9,
   "id": "e400867f",
   "metadata": {},
   "outputs": [
    {
     "data": {
      "text/plain": [
       "'suresh'"
      ]
     },
     "execution_count": 9,
     "metadata": {},
     "output_type": "execute_result"
    }
   ],
   "source": [
    "suresh.fname"
   ]
  },
  {
   "cell_type": "code",
   "execution_count": 10,
   "id": "c301fa4d",
   "metadata": {},
   "outputs": [
    {
     "ename": "AttributeError",
     "evalue": "type object 'Student' has no attribute 'fname'",
     "output_type": "error",
     "traceback": [
      "\u001b[1;31m---------------------------------------------------------------------------\u001b[0m",
      "\u001b[1;31mAttributeError\u001b[0m                            Traceback (most recent call last)",
      "\u001b[1;32m~\\AppData\\Local\\Temp/ipykernel_3624/853299625.py\u001b[0m in \u001b[0;36m<module>\u001b[1;34m\u001b[0m\n\u001b[1;32m----> 1\u001b[1;33m \u001b[0mStudent\u001b[0m\u001b[1;33m.\u001b[0m\u001b[0mfname\u001b[0m\u001b[1;33m\u001b[0m\u001b[1;33m\u001b[0m\u001b[0m\n\u001b[0m",
      "\u001b[1;31mAttributeError\u001b[0m: type object 'Student' has no attribute 'fname'"
     ]
    }
   ],
   "source": [
    "Student.fname"
   ]
  },
  {
   "cell_type": "code",
   "execution_count": 6,
   "id": "e0fed3c3",
   "metadata": {},
   "outputs": [
    {
     "data": {
      "text/plain": [
       "'suresh kumar'"
      ]
     },
     "execution_count": 6,
     "metadata": {},
     "output_type": "execute_result"
    }
   ],
   "source": [
    "Student.full_name(suresh.fname, suresh.lname)"
   ]
  },
  {
   "cell_type": "code",
   "execution_count": 11,
   "id": "21885caa",
   "metadata": {},
   "outputs": [
    {
     "data": {
      "text/plain": [
       "'naresh kumar'"
      ]
     },
     "execution_count": 11,
     "metadata": {},
     "output_type": "execute_result"
    }
   ],
   "source": [
    "suresh.full_name(\"naresh\", \"kumar\")"
   ]
  },
  {
   "cell_type": "code",
   "execution_count": 12,
   "id": "ae00b1a4",
   "metadata": {},
   "outputs": [
    {
     "data": {
      "text/plain": [
       "'suresh kumar'"
      ]
     },
     "execution_count": 12,
     "metadata": {},
     "output_type": "execute_result"
    }
   ],
   "source": [
    "suresh.full_name(suresh.fname, suresh.lname)"
   ]
  },
  {
   "cell_type": "code",
   "execution_count": 13,
   "id": "54132f38",
   "metadata": {},
   "outputs": [
    {
     "data": {
      "text/plain": [
       "'suresh kumar'"
      ]
     },
     "execution_count": 13,
     "metadata": {},
     "output_type": "execute_result"
    }
   ],
   "source": [
    "Student.full_name(suresh.fname, suresh.lname)"
   ]
  },
  {
   "cell_type": "code",
   "execution_count": 14,
   "id": "af93b9e0",
   "metadata": {},
   "outputs": [
    {
     "data": {
      "text/plain": [
       "'suresh kumar'"
      ]
     },
     "execution_count": 14,
     "metadata": {},
     "output_type": "execute_result"
    }
   ],
   "source": [
    "suresh.get_full_name()"
   ]
  },
  {
   "cell_type": "code",
   "execution_count": 15,
   "id": "9ac31a64",
   "metadata": {},
   "outputs": [
    {
     "ename": "TypeError",
     "evalue": "Student.get_full_name() missing 1 required positional argument: 'self'",
     "output_type": "error",
     "traceback": [
      "\u001b[1;31m---------------------------------------------------------------------------\u001b[0m",
      "\u001b[1;31mTypeError\u001b[0m                                 Traceback (most recent call last)",
      "\u001b[1;32m~\\AppData\\Local\\Temp/ipykernel_3624/211160401.py\u001b[0m in \u001b[0;36m<module>\u001b[1;34m\u001b[0m\n\u001b[1;32m----> 1\u001b[1;33m \u001b[0mStudent\u001b[0m\u001b[1;33m.\u001b[0m\u001b[0mget_full_name\u001b[0m\u001b[1;33m(\u001b[0m\u001b[1;33m)\u001b[0m\u001b[1;33m\u001b[0m\u001b[1;33m\u001b[0m\u001b[0m\n\u001b[0m",
      "\u001b[1;31mTypeError\u001b[0m: Student.get_full_name() missing 1 required positional argument: 'self'"
     ]
    }
   ],
   "source": [
    "Student.get_full_name()"
   ]
  },
  {
   "cell_type": "code",
   "execution_count": 38,
   "id": "5d1917ba",
   "metadata": {},
   "outputs": [],
   "source": [
    "naresh = suresh.student_from_dob(\"naresh\", \"kumar\",datetime.datetime(1996,11,10))"
   ]
  },
  {
   "cell_type": "code",
   "execution_count": 42,
   "id": "b80db32b",
   "metadata": {},
   "outputs": [],
   "source": [
    "cnaresh = Student.student_from_dob(\"naresh\", \"kumar\",datetime.datetime(1996,11,10))"
   ]
  },
  {
   "cell_type": "code",
   "execution_count": 43,
   "id": "48661835",
   "metadata": {},
   "outputs": [
    {
     "data": {
      "text/plain": [
       "{'fname': 'naresh', 'lname': 'kumar', 'age': 25}"
      ]
     },
     "execution_count": 43,
     "metadata": {},
     "output_type": "execute_result"
    }
   ],
   "source": [
    "naresh.__dict__"
   ]
  },
  {
   "cell_type": "code",
   "execution_count": 44,
   "id": "7064c7bd",
   "metadata": {},
   "outputs": [
    {
     "data": {
      "text/plain": [
       "{'fname': 'naresh', 'lname': 'kumar', 'age': 25}"
      ]
     },
     "execution_count": 44,
     "metadata": {},
     "output_type": "execute_result"
    }
   ],
   "source": [
    "cnaresh.__dict__"
   ]
  },
  {
   "cell_type": "code",
   "execution_count": null,
   "id": "c9323517",
   "metadata": {},
   "outputs": [],
   "source": []
  }
 ],
 "metadata": {
  "kernelspec": {
   "display_name": "Python 3 (ipykernel)",
   "language": "python",
   "name": "python3"
  },
  "language_info": {
   "codemirror_mode": {
    "name": "ipython",
    "version": 3
   },
   "file_extension": ".py",
   "mimetype": "text/x-python",
   "name": "python",
   "nbconvert_exporter": "python",
   "pygments_lexer": "ipython3",
   "version": "3.10.0"
  }
 },
 "nbformat": 4,
 "nbformat_minor": 5
}
