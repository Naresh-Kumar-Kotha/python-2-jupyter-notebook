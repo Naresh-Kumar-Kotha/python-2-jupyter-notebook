{
 "cells": [
  {
   "cell_type": "code",
   "execution_count": 6,
   "id": "39899da2",
   "metadata": {},
   "outputs": [
    {
     "name": "stdout",
     "output_type": "stream",
     "text": [
      "Requirement already satisfied: ipython-sql in c:\\users\\k-naresh\\appdata\\local\\programs\\python\\python310\\lib\\site-packages (0.4.0)\n",
      "Requirement already satisfied: prettytable<1 in c:\\users\\k-naresh\\appdata\\local\\programs\\python\\python310\\lib\\site-packages (from ipython-sql) (0.7.2)\n",
      "Requirement already satisfied: six in c:\\users\\k-naresh\\appdata\\local\\programs\\python\\python310\\lib\\site-packages (from ipython-sql) (1.16.0)\n",
      "Requirement already satisfied: ipython-genutils>=0.1.0 in c:\\users\\k-naresh\\appdata\\local\\programs\\python\\python310\\lib\\site-packages (from ipython-sql) (0.2.0)\n",
      "Requirement already satisfied: sqlalchemy>=0.6.7 in c:\\users\\k-naresh\\appdata\\local\\programs\\python\\python310\\lib\\site-packages (from ipython-sql) (1.4.27)\n",
      "Requirement already satisfied: ipython>=1.0 in c:\\users\\k-naresh\\appdata\\local\\programs\\python\\python310\\lib\\site-packages (from ipython-sql) (7.28.0)\n",
      "Requirement already satisfied: sqlparse in c:\\users\\k-naresh\\appdata\\local\\programs\\python\\python310\\lib\\site-packages (from ipython-sql) (0.4.2)\n",
      "Requirement already satisfied: pickleshare in c:\\users\\k-naresh\\appdata\\local\\programs\\python\\python310\\lib\\site-packages (from ipython>=1.0->ipython-sql) (0.7.5)\n",
      "Requirement already satisfied: traitlets>=4.2 in c:\\users\\k-naresh\\appdata\\local\\programs\\python\\python310\\lib\\site-packages (from ipython>=1.0->ipython-sql) (5.1.0)\n",
      "Requirement already satisfied: decorator in c:\\users\\k-naresh\\appdata\\local\\programs\\python\\python310\\lib\\site-packages (from ipython>=1.0->ipython-sql) (5.1.0)\n",
      "Requirement already satisfied: jedi>=0.16 in c:\\users\\k-naresh\\appdata\\local\\programs\\python\\python310\\lib\\site-packages (from ipython>=1.0->ipython-sql) (0.18.0)\n",
      "Requirement already satisfied: prompt-toolkit!=3.0.0,!=3.0.1,<3.1.0,>=2.0.0 in c:\\users\\k-naresh\\appdata\\local\\programs\\python\\python310\\lib\\site-packages (from ipython>=1.0->ipython-sql) (3.0.21)\n",
      "Requirement already satisfied: backcall in c:\\users\\k-naresh\\appdata\\local\\programs\\python\\python310\\lib\\site-packages (from ipython>=1.0->ipython-sql) (0.2.0)\n",
      "Requirement already satisfied: pygments in c:\\users\\k-naresh\\appdata\\local\\programs\\python\\python310\\lib\\site-packages (from ipython>=1.0->ipython-sql) (2.10.0)\n",
      "Requirement already satisfied: colorama in c:\\users\\k-naresh\\appdata\\local\\programs\\python\\python310\\lib\\site-packages (from ipython>=1.0->ipython-sql) (0.4.4)\n",
      "Requirement already satisfied: setuptools>=18.5 in c:\\users\\k-naresh\\appdata\\local\\programs\\python\\python310\\lib\\site-packages (from ipython>=1.0->ipython-sql) (57.4.0)\n",
      "Requirement already satisfied: matplotlib-inline in c:\\users\\k-naresh\\appdata\\local\\programs\\python\\python310\\lib\\site-packages (from ipython>=1.0->ipython-sql) (0.1.3)\n",
      "Requirement already satisfied: greenlet!=0.4.17 in c:\\users\\k-naresh\\appdata\\local\\programs\\python\\python310\\lib\\site-packages (from sqlalchemy>=0.6.7->ipython-sql) (1.1.2)\n",
      "Requirement already satisfied: parso<0.9.0,>=0.8.0 in c:\\users\\k-naresh\\appdata\\local\\programs\\python\\python310\\lib\\site-packages (from jedi>=0.16->ipython>=1.0->ipython-sql) (0.8.2)\n",
      "Requirement already satisfied: wcwidth in c:\\users\\k-naresh\\appdata\\local\\programs\\python\\python310\\lib\\site-packages (from prompt-toolkit!=3.0.0,!=3.0.1,<3.1.0,>=2.0.0->ipython>=1.0->ipython-sql) (0.2.5)\n"
     ]
    }
   ],
   "source": [
    "!pip install ipython-sql"
   ]
  },
  {
   "cell_type": "code",
   "execution_count": 7,
   "id": "c8f2af16",
   "metadata": {},
   "outputs": [
    {
     "ename": "NameError",
     "evalue": "name 'pd' is not defined",
     "output_type": "error",
     "traceback": [
      "\u001b[1;31m---------------------------------------------------------------------------\u001b[0m",
      "\u001b[1;31mNameError\u001b[0m                                 Traceback (most recent call last)",
      "\u001b[1;32m~\\AppData\\Local\\Temp/ipykernel_10336/3694915704.py\u001b[0m in \u001b[0;36m<module>\u001b[1;34m\u001b[0m\n\u001b[1;32m----> 1\u001b[1;33m df=pd.DataFrame({'name':['John','Paul','Mohan'],\n\u001b[0m\u001b[0;32m      2\u001b[0m                 \u001b[1;34m'age'\u001b[0m\u001b[1;33m:\u001b[0m\u001b[1;33m[\u001b[0m\u001b[1;36m23\u001b[0m\u001b[1;33m,\u001b[0m\u001b[1;36m45\u001b[0m\u001b[1;33m,\u001b[0m\u001b[1;36m57\u001b[0m\u001b[1;33m]\u001b[0m\u001b[1;33m,\u001b[0m\u001b[1;33m\u001b[0m\u001b[1;33m\u001b[0m\u001b[0m\n\u001b[0;32m      3\u001b[0m                 'city': ['Banglore','Chennai','Hyd']})\n\u001b[0;32m      4\u001b[0m \u001b[0mdf\u001b[0m\u001b[1;33m\u001b[0m\u001b[1;33m\u001b[0m\u001b[0m\n",
      "\u001b[1;31mNameError\u001b[0m: name 'pd' is not defined"
     ]
    }
   ],
   "source": [
    "df=pd.DataFrame({'name':['John','Paul','Mohan'],\n",
    "                'age':[23,45,57],\n",
    "                'city': ['Banglore','Chennai','Hyd']})\n",
    "df"
   ]
  },
  {
   "cell_type": "code",
   "execution_count": null,
   "id": "9df5b873",
   "metadata": {},
   "outputs": [],
   "source": []
  },
  {
   "cell_type": "code",
   "execution_count": null,
   "id": "b6ac11ed",
   "metadata": {},
   "outputs": [],
   "source": []
  },
  {
   "cell_type": "code",
   "execution_count": 16,
   "id": "5b99afe1",
   "metadata": {},
   "outputs": [
    {
     "ename": "TypeError",
     "evalue": "MathCalc() takes no arguments",
     "output_type": "error",
     "traceback": [
      "\u001b[1;31m---------------------------------------------------------------------------\u001b[0m",
      "\u001b[1;31mTypeError\u001b[0m                                 Traceback (most recent call last)",
      "\u001b[1;32m~\\AppData\\Local\\Temp/ipykernel_10336/3857541550.py\u001b[0m in \u001b[0;36m<module>\u001b[1;34m\u001b[0m\n\u001b[1;32m----> 1\u001b[1;33m obj=MathCalc(30,10\n\u001b[0m\u001b[0;32m      2\u001b[0m             )\n\u001b[0;32m      3\u001b[0m \u001b[0mobj\u001b[0m\u001b[1;33m.\u001b[0m\u001b[0madd\u001b[0m\u001b[1;33m(\u001b[0m\u001b[1;36m30\u001b[0m\u001b[1;33m,\u001b[0m\u001b[1;36m10\u001b[0m\u001b[1;33m)\u001b[0m\u001b[1;33m\u001b[0m\u001b[1;33m\u001b[0m\u001b[0m\n",
      "\u001b[1;31mTypeError\u001b[0m: MathCalc() takes no arguments"
     ]
    }
   ],
   "source": [
    "obj=MathCalc(30,10)\n",
    "obj.add(30,10)"
   ]
  },
  {
   "cell_type": "code",
   "execution_count": null,
   "id": "2c348061",
   "metadata": {},
   "outputs": [],
   "source": []
  },
  {
   "cell_type": "code",
   "execution_count": null,
   "id": "c23ca65f",
   "metadata": {},
   "outputs": [],
   "source": []
  }
 ],
 "metadata": {
  "kernelspec": {
   "display_name": "Python 3 (ipykernel)",
   "language": "python",
   "name": "python3"
  },
  "language_info": {
   "codemirror_mode": {
    "name": "ipython",
    "version": 3
   },
   "file_extension": ".py",
   "mimetype": "text/x-python",
   "name": "python",
   "nbconvert_exporter": "python",
   "pygments_lexer": "ipython3",
   "version": "3.10.0"
  }
 },
 "nbformat": 4,
 "nbformat_minor": 5
}
