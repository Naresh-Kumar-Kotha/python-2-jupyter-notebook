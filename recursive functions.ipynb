{
 "cells": [
  {
   "cell_type": "code",
   "execution_count": 2,
   "id": "0c134e18",
   "metadata": {},
   "outputs": [],
   "source": [
    "# Recursive Function: A function that calls itself is known as Recursive Function.\n",
    "\n",
    "# The main advantages of recursive functions are:\n",
    "# 1. We can reduce length of the code and improve readability\n",
    "# 2. We can solve complex problems very easily."
   ]
  },
  {
   "cell_type": "code",
   "execution_count": null,
   "id": "a9476543",
   "metadata": {},
   "outputs": [],
   "source": []
  },
  {
   "cell_type": "code",
   "execution_count": null,
   "id": "9b274abf",
   "metadata": {},
   "outputs": [],
   "source": [
    "#finding factorial"
   ]
  },
  {
   "cell_type": "code",
   "execution_count": 3,
   "id": "f249a41b",
   "metadata": {},
   "outputs": [],
   "source": [
    "#S1 without recursion\n",
    "def fact(num):\n",
    "    result=1\n",
    "    while num>1:\n",
    "        result*=num\n",
    "        num=num-1\n",
    "    return result"
   ]
  },
  {
   "cell_type": "code",
   "execution_count": 6,
   "id": "d60e2e2c",
   "metadata": {},
   "outputs": [
    {
     "data": {
      "text/plain": [
       "720"
      ]
     },
     "execution_count": 6,
     "metadata": {},
     "output_type": "execute_result"
    }
   ],
   "source": [
    "fact(6)"
   ]
  },
  {
   "cell_type": "code",
   "execution_count": 7,
   "id": "be972161",
   "metadata": {},
   "outputs": [],
   "source": [
    "#S2 with recursion\n",
    "def fact(num):\n",
    "    if num==1:\n",
    "        return 1\n",
    "    else:\n",
    "        return num*fact(num-1)"
   ]
  },
  {
   "cell_type": "code",
   "execution_count": 9,
   "id": "b8a975ef",
   "metadata": {},
   "outputs": [
    {
     "data": {
      "text/plain": [
       "120"
      ]
     },
     "execution_count": 9,
     "metadata": {},
     "output_type": "execute_result"
    }
   ],
   "source": [
    "fact(5)"
   ]
  },
  {
   "cell_type": "code",
   "execution_count": 25,
   "id": "14d30d76",
   "metadata": {},
   "outputs": [],
   "source": [
    "# S2 in crisp \n",
    "def fact(num):\n",
    "    return 1 if num==1 else num*fact(num-1)"
   ]
  },
  {
   "cell_type": "code",
   "execution_count": 26,
   "id": "cedd9d10",
   "metadata": {},
   "outputs": [
    {
     "data": {
      "text/plain": [
       "120"
      ]
     },
     "execution_count": 26,
     "metadata": {},
     "output_type": "execute_result"
    }
   ],
   "source": [
    "fact(5)"
   ]
  },
  {
   "cell_type": "code",
   "execution_count": null,
   "id": "7024992c",
   "metadata": {},
   "outputs": [],
   "source": []
  },
  {
   "cell_type": "code",
   "execution_count": 29,
   "id": "1299344b",
   "metadata": {},
   "outputs": [],
   "source": [
    "# Problem 3\n",
    "# l = [5, 2, 7, 9]\n",
    "# result [2*7*9, 5*7*9, 5*2*9, 5*2*7]\n",
    "# Write logic it has to work for n number of parameters"
   ]
  },
  {
   "cell_type": "code",
   "execution_count": null,
   "id": "60312ca6",
   "metadata": {},
   "outputs": [],
   "source": []
  },
  {
   "cell_type": "code",
   "execution_count": 82,
   "id": "768f9e20",
   "metadata": {},
   "outputs": [],
   "source": [
    "# Problem 4: fibonacci series \n",
    "# fib(100) --- I need series upto 100 < fibonacci series\n",
    "# Result: 0 1 1 2 3 5 8 13 21 34 55 89"
   ]
  },
  {
   "cell_type": "code",
   "execution_count": 4,
   "id": "44089bcc",
   "metadata": {},
   "outputs": [
    {
     "name": "stdout",
     "output_type": "stream",
     "text": [
      "0 1 1 2 3 5 8 13 21 34 55 89 144 233 377 610 987 1597 2584 4181 "
     ]
    }
   ],
   "source": [
    "# 2. fib(20) --- I need first 20 fibonacci series\n",
    "# Result: 0 1 1 2 3 5 8 13 21 34 55 89 * * * * * * * * \n",
    "def fib(n):\n",
    "    if n==0:\n",
    "        return 0\n",
    "    elif n==1:\n",
    "        return 1\n",
    "    else:\n",
    "        return (fib(n-1)+fib(n-2))\n",
    "    \n",
    "n=20\n",
    "for i in range(n):\n",
    "        print(fib(i),end = \" \")\n",
    "    "
   ]
  },
  {
   "cell_type": "code",
   "execution_count": 5,
   "id": "f9b20122",
   "metadata": {},
   "outputs": [
    {
     "name": "stdout",
     "output_type": "stream",
     "text": [
      "0 1 1 2 3 5 8 13 21 34 55 89 "
     ]
    }
   ],
   "source": [
    "n=100\n",
    "num=0\n",
    "feb=1\n",
    "print(num, feb, end=' ')\n",
    "for i in range(2,n):\n",
    "        fib=num+feb\n",
    "        num=feb\n",
    "        feb=fib\n",
    "        if fib>=n:\n",
    "            break\n",
    "        else:\n",
    "            print(fib, end=' ')"
   ]
  },
  {
   "cell_type": "code",
   "execution_count": 1,
   "id": "fda32c07",
   "metadata": {},
   "outputs": [],
   "source": [
    "# Problem 4\n",
    "\n",
    "# fibonacci series\n",
    "# 0 1 1 2 3 5 8 13 21 34 55 89 \n",
    "# 1. fib(100) --- I need series 100 < fibonacci series\n",
    "# Result: 0 1 1 2 3 5 8 13 21 34 55 89"
   ]
  },
  {
   "cell_type": "code",
   "execution_count": 17,
   "id": "791c141c",
   "metadata": {},
   "outputs": [
    {
     "name": "stdout",
     "output_type": "stream",
     "text": [
      "0 1 1 2 3 5 8 13 21 34 55 89 144 233 377 610 987 1597 2584 4181 "
     ]
    }
   ],
   "source": [
    "def fib(n):\n",
    "    if n==0:\n",
    "        return 0\n",
    "    elif n==1:\n",
    "        return 1\n",
    "    else:\n",
    "        return (fib(n-1)+fib(n-2))\n",
    "    \n",
    "\n",
    "n=20\n",
    "for i in range(n):\n",
    "    print(fib(i),end=\" \")"
   ]
  },
  {
   "cell_type": "code",
   "execution_count": 16,
   "id": "6e782e13",
   "metadata": {},
   "outputs": [
    {
     "name": "stdout",
     "output_type": "stream",
     "text": [
      "0 1 1 2 3 5 8 13 21 34 55 89 "
     ]
    }
   ],
   "source": [
    "def fib(n):\n",
    "    if n==1:\n",
    "        print(1)\n",
    "    else:\n",
    "        k=0\n",
    "        m=1\n",
    "        print(k,m, end=\" \")\n",
    "        for i in range(2,n):\n",
    "            p=m+k\n",
    "            k=m\n",
    "            m=p\n",
    "            if p>n:\n",
    "                break\n",
    "            else:\n",
    "                print(p,end=\" \")\n",
    "    \n",
    "\n",
    "n=100\n",
    "fib(n)"
   ]
  },
  {
   "cell_type": "code",
   "execution_count": null,
   "id": "624876de",
   "metadata": {},
   "outputs": [],
   "source": []
  }
 ],
 "metadata": {
  "kernelspec": {
   "display_name": "Python 3 (ipykernel)",
   "language": "python",
   "name": "python3"
  },
  "language_info": {
   "codemirror_mode": {
    "name": "ipython",
    "version": 3
   },
   "file_extension": ".py",
   "mimetype": "text/x-python",
   "name": "python",
   "nbconvert_exporter": "python",
   "pygments_lexer": "ipython3",
   "version": "3.10.0"
  }
 },
 "nbformat": 4,
 "nbformat_minor": 5
}
