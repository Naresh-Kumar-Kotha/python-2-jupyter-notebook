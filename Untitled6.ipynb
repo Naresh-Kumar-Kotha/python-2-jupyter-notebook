{
 "cells": [
  {
   "cell_type": "code",
   "execution_count": 1,
   "id": "7b7cd4e5",
   "metadata": {},
   "outputs": [
    {
     "ename": "SyntaxError",
     "evalue": "'yield' outside function (Temp/ipykernel_6512/2412845499.py, line 4)",
     "output_type": "error",
     "traceback": [
      "\u001b[1;36m  File \u001b[1;32m\"C:\\Users\\K-NARESH\\AppData\\Local\\Temp/ipykernel_6512/2412845499.py\"\u001b[1;36m, line \u001b[1;32m4\u001b[0m\n\u001b[1;33m    yield(a)\u001b[0m\n\u001b[1;37m    ^\u001b[0m\n\u001b[1;31mSyntaxError\u001b[0m\u001b[1;31m:\u001b[0m 'yield' outside function\n"
     ]
    }
   ],
   "source": [
    "        a=0\n",
    "        b=1\n",
    "        for i in range(1,n+1):\n",
    "            yield(a)\n",
    "            a,b=b,a+b"
   ]
  },
  {
   "cell_type": "code",
   "execution_count": 2,
   "id": "eef446ae",
   "metadata": {},
   "outputs": [],
   "source": [
    "l=[2,3,6,4]"
   ]
  },
  {
   "cell_type": "code",
   "execution_count": 3,
   "id": "5ebebf66",
   "metadata": {},
   "outputs": [],
   "source": [
    "l.sort()"
   ]
  },
  {
   "cell_type": "code",
   "execution_count": 4,
   "id": "4bd405c4",
   "metadata": {},
   "outputs": [
    {
     "data": {
      "text/plain": [
       "[2, 3, 4, 6]"
      ]
     },
     "execution_count": 4,
     "metadata": {},
     "output_type": "execute_result"
    }
   ],
   "source": [
    "l"
   ]
  },
  {
   "cell_type": "code",
   "execution_count": 20,
   "id": "b27e6d62",
   "metadata": {},
   "outputs": [
    {
     "data": {
      "text/plain": [
       "'pleasant'"
      ]
     },
     "execution_count": 20,
     "metadata": {},
     "output_type": "execute_result"
    }
   ],
   "source": [
    "sen=' It is a pleasant  day today'\n",
    "s=sen.split()\n",
    "t=[]\n",
    "for i in range(len(s)):\n",
    "    if len(s[i])%2==0:\n",
    "        t.append(len(s[i]))\n",
    "t.sort(reverse=True)\n",
    "maxl=t[0]\n",
    "for i in s:\n",
    "        if len(i)==maxl:\n",
    "            word=i\n",
    "            break\n",
    "word"
   ]
  },
  {
   "cell_type": "code",
   "execution_count": null,
   "id": "a31135f0",
   "metadata": {},
   "outputs": [],
   "source": []
  },
  {
   "cell_type": "code",
   "execution_count": null,
   "id": "37786499",
   "metadata": {},
   "outputs": [],
   "source": []
  },
  {
   "cell_type": "code",
   "execution_count": 3,
   "id": "e19b990c",
   "metadata": {},
   "outputs": [
    {
     "name": "stdout",
     "output_type": "stream",
     "text": [
      "['$RECYCLE.BIN', 'AISC_Standard-1948.pdf', 'Ansys', 'ANSYS 2019 R2', 'EAadhaar_431025547746_23092021152651_917019_1.pdf', 'Flair technologies', 'GRK-Trainings', 'IT learnings', 'KKNPP3&4_ELECTROLYSER SKID ASSEMBLY_SEISMIC-QUALIFICATION_Report-18-11-2020.docx', 'NARESH', 'Naresh-details.xlsx', 'Prosim', 'Softwares', 'System Volume Information', 'TCS-interview', 'Technical concepts & videos', 'To print']\n"
     ]
    }
   ],
   "source": [
    "import os\n",
    "# print(dir(os))\n",
    "print(os.listdir('/'))"
   ]
  },
  {
   "cell_type": "code",
   "execution_count": null,
   "id": "22e50d25",
   "metadata": {},
   "outputs": [],
   "source": []
  }
 ],
 "metadata": {
  "kernelspec": {
   "display_name": "Python 3 (ipykernel)",
   "language": "python",
   "name": "python3"
  },
  "language_info": {
   "codemirror_mode": {
    "name": "ipython",
    "version": 3
   },
   "file_extension": ".py",
   "mimetype": "text/x-python",
   "name": "python",
   "nbconvert_exporter": "python",
   "pygments_lexer": "ipython3",
   "version": "3.10.0"
  }
 },
 "nbformat": 4,
 "nbformat_minor": 5
}
