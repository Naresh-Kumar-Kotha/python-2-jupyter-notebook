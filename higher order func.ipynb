{
 "cells": [
  {
   "cell_type": "code",
   "execution_count": 2,
   "id": "c26d8592",
   "metadata": {},
   "outputs": [],
   "source": [
    "# higher order functions: Functions which take one or more functions as arguments or return one or more functions\n",
    "# Example: map, filter and reduce functions which take lambda function as argument"
   ]
  },
  {
   "cell_type": "code",
   "execution_count": 3,
   "id": "534edb2f",
   "metadata": {},
   "outputs": [
    {
     "name": "stdout",
     "output_type": "stream",
     "text": [
      "The Square of 4 is : 16\n",
      "The Square of 5 is : 25\n"
     ]
    }
   ],
   "source": [
    "# Lambda funcition or Anonymous Functions:\n",
    "# Sometimes we can declare a function without any name,such type of nameless functions are called anonymous or lambda functions.\n",
    "# The main purpose of anonymous function is just for instant use(i.e for one time usage)\n",
    "\n",
    "# Example:\n",
    "s=lambda n:n*n\n",
    "print(\"The Square of 4 is :\",s(4))\n",
    "print(\"The Square of 5 is :\",s(5))"
   ]
  },
  {
   "cell_type": "code",
   "execution_count": 4,
   "id": "33754bc1",
   "metadata": {},
   "outputs": [
    {
     "name": "stdout",
     "output_type": "stream",
     "text": [
      "[0, 10, 20, 30]\n"
     ]
    }
   ],
   "source": [
    "# filter() function: We can use filter() function to filter values from the given sequence based on somecondition.\n",
    "# The output sequence will have no. of elements less than or equal to number of elements in input sequence\n",
    "# syntax: filter(function,sequence)\n",
    "\n",
    "l=[0,5,10,15,20,25,30]\n",
    "l1=list(filter(lambda x:x%2==0,l))\n",
    "print(l1)\n"
   ]
  },
  {
   "cell_type": "code",
   "execution_count": 5,
   "id": "9da5dad8",
   "metadata": {},
   "outputs": [
    {
     "name": "stdout",
     "output_type": "stream",
     "text": [
      "[2, 4, 6, 8, 10]\n"
     ]
    }
   ],
   "source": [
    "# map() function: For every element present in the given sequence,apply some functionality and generate\n",
    "                 # new element with the required modification. \n",
    "# For this requirement we should go for map() function.\n",
    "# The output sequence will have no. of elements equal to number of elements in input sequence\n",
    "# syntax: filter(function,sequence)\n",
    "\n",
    "l=[1,2,3,4,5]\n",
    "l1=list(map(lambda x:2*x,l))\n",
    "print(l1)"
   ]
  },
  {
   "cell_type": "code",
   "execution_count": null,
   "id": "937c9309",
   "metadata": {},
   "outputs": [],
   "source": [
    "# reduce() function: \n",
    "# reduce() function reduces sequence of elements into a single element by applying the specified function.\n",
    "# reduce() function is present in functools module and hence we should write 'from functools import reduce'.\n",
    "# The output sequence will have only one element\n",
    "# syntax: filter(function,sequence)"
   ]
  },
  {
   "cell_type": "code",
   "execution_count": null,
   "id": "43fc02dd",
   "metadata": {},
   "outputs": [],
   "source": []
  },
  {
   "cell_type": "code",
   "execution_count": 40,
   "id": "84239a65",
   "metadata": {},
   "outputs": [
    {
     "data": {
      "text/plain": [
       "[2, 4, 6, 8]"
      ]
     },
     "execution_count": 40,
     "metadata": {},
     "output_type": "execute_result"
    }
   ],
   "source": [
    "# List comprehension \n",
    "l=(1,2,3,4,5,6,7,8,9)\n",
    "[i for i in l if i%2==0]"
   ]
  },
  {
   "cell_type": "code",
   "execution_count": 41,
   "id": "d920374a",
   "metadata": {},
   "outputs": [
    {
     "name": "stdout",
     "output_type": "stream",
     "text": [
      "[(1, 'odd'), (2, 'even'), (3, 'odd'), (4, 'even'), (5, 'odd'), (6, 'even'), (7, 'odd'), (8, 'even'), (9, 'odd')]\n"
     ]
    }
   ],
   "source": [
    "l=[1,2,3,4,5,6,7,8,9]\n",
    "result=[]\n",
    "for i in l:\n",
    "    if i%2==0:\n",
    "        result.append((i,'even'))\n",
    "    else:\n",
    "        result.append((i,'odd'))\n",
    "print(result)"
   ]
  },
  {
   "cell_type": "code",
   "execution_count": 42,
   "id": "e64f179f",
   "metadata": {},
   "outputs": [
    {
     "name": "stdout",
     "output_type": "stream",
     "text": [
      "[(1, 'odd'), (2, 'even'), (3, 'odd'), (4, 'even'), (5, 'odd'), (6, 'even'), (7, 'odd'), (8, 'even'), (9, 'odd')]\n"
     ]
    }
   ],
   "source": [
    "l=[1,2,3,4,5,6,7,8,9]\n",
    "print([(i,'even' if i%2==0 else 'odd') for i in l])"
   ]
  },
  {
   "cell_type": "code",
   "execution_count": 43,
   "id": "bfe1332c",
   "metadata": {},
   "outputs": [
    {
     "name": "stdout",
     "output_type": "stream",
     "text": [
      "[2, 4, 6, 8]\n"
     ]
    }
   ],
   "source": [
    "l=[[1,2,3],[4,5,6],[7,8,9]]\n",
    "result=[]\n",
    "for i in l:\n",
    "    for j in i:\n",
    "        if j%2==0:\n",
    "            result.append(j)\n",
    "print(result)"
   ]
  },
  {
   "cell_type": "code",
   "execution_count": 44,
   "id": "c2a1247b",
   "metadata": {},
   "outputs": [
    {
     "data": {
      "text/plain": [
       "[2, 4, 6, 8]"
      ]
     },
     "execution_count": 44,
     "metadata": {},
     "output_type": "execute_result"
    }
   ],
   "source": [
    "l=[[1,2,3],[4,5,6],[7,8,9]]\n",
    "[j for i in l for j in i if j%2==0]"
   ]
  },
  {
   "cell_type": "code",
   "execution_count": 45,
   "id": "18b19472",
   "metadata": {},
   "outputs": [
    {
     "name": "stdout",
     "output_type": "stream",
     "text": [
      "[(1, 'odd'), (2, 'even'), (3, 'odd'), (4, 'even'), (5, 'odd'), (6, 'even'), (7, 'odd'), (8, 'even'), (9, 'odd')]\n"
     ]
    }
   ],
   "source": [
    "l=[[1,2,3],[4,5,6],[7,8,9]]\n",
    "result=[]\n",
    "for i in l:\n",
    "    for j in i:\n",
    "        if j%2==0:\n",
    "            result.append((j,'even'))\n",
    "        else:\n",
    "            result.append((j,'odd'))\n",
    "print(result)"
   ]
  },
  {
   "cell_type": "code",
   "execution_count": 46,
   "id": "584bd615",
   "metadata": {},
   "outputs": [
    {
     "name": "stdout",
     "output_type": "stream",
     "text": [
      "[(1, 'odd'), (2, 'even'), (3, 'odd'), (4, 'even'), (5, 'odd'), (6, 'even'), (7, 'odd'), (8, 'even'), (9, 'odd')]\n"
     ]
    }
   ],
   "source": [
    "print([(j,'even' if j%2==0 else 'odd') for i in l for j in i])"
   ]
  },
  {
   "cell_type": "code",
   "execution_count": 47,
   "id": "5f8c1f09",
   "metadata": {},
   "outputs": [
    {
     "name": "stdout",
     "output_type": "stream",
     "text": [
      "[(1, 'odd'), (2, 'even'), (3, 'odd'), (4, 'even'), (5, 'odd'), (6, 'even'), (7, 'odd'), (8, 'even'), (9, 'odd')]\n"
     ]
    }
   ],
   "source": [
    "l=[[1,2,3],[4,5,6],[7,8,9]]\n",
    "result=[]\n",
    "for i in l:\n",
    "    for j in i:\n",
    "        result.append((j,'even' if j%2==0 else 'odd'))\n",
    "print(result)"
   ]
  },
  {
   "cell_type": "code",
   "execution_count": 49,
   "id": "60607406",
   "metadata": {},
   "outputs": [],
   "source": [
    "# Tuple or generator comprehension"
   ]
  },
  {
   "cell_type": "code",
   "execution_count": 34,
   "id": "f7898eac",
   "metadata": {},
   "outputs": [],
   "source": [
    "l=[1,2,4,5,6,7,8]\n",
    "g=(i for i in l if i%2==0 )"
   ]
  },
  {
   "cell_type": "code",
   "execution_count": 35,
   "id": "4fc96a9b",
   "metadata": {},
   "outputs": [
    {
     "data": {
      "text/plain": [
       "(2, 4, 6)"
      ]
     },
     "execution_count": 35,
     "metadata": {},
     "output_type": "execute_result"
    }
   ],
   "source": [
    "next(g), next(g), next(g)"
   ]
  },
  {
   "cell_type": "code",
   "execution_count": 65,
   "id": "d712b31f",
   "metadata": {},
   "outputs": [],
   "source": [
    "# dictionary comprehension"
   ]
  },
  {
   "cell_type": "code",
   "execution_count": 63,
   "id": "ba9e85a9",
   "metadata": {},
   "outputs": [
    {
     "data": {
      "text/plain": [
       "{'name': 'suresh', 'email': 'mail', 'phone': '2345', 'company': 'dsd'}"
      ]
     },
     "execution_count": 63,
     "metadata": {},
     "output_type": "execute_result"
    }
   ],
   "source": [
    "keys=['name', 'email', 'phone', 'company']\n",
    "values=['suresh','mail', '2345', 'dsd']\n",
    "dict(zip(keys,values)) #using zip function\n"
   ]
  },
  {
   "cell_type": "code",
   "execution_count": 64,
   "id": "f6b8c260",
   "metadata": {},
   "outputs": [
    {
     "data": {
      "text/plain": [
       "{'name': 'suresh', 'email': 'mail', 'phone': '2345', 'company': 'dsd'}"
      ]
     },
     "execution_count": 64,
     "metadata": {},
     "output_type": "execute_result"
    }
   ],
   "source": [
    "#using list comprehension\n",
    "# [(keys[i],values[j]) for i in range(len(keys)) for j in range(len(values)) if i==j]\n",
    "dict([(keys[i],values[i]) for i in range(len(keys))])"
   ]
  },
  {
   "cell_type": "code",
   "execution_count": 16,
   "id": "9c76e2d4",
   "metadata": {
    "scrolled": true
   },
   "outputs": [
    {
     "data": {
      "text/plain": [
       "{(1, 1),\n",
       " (2, 4),\n",
       " (3, 27),\n",
       " (4, 16),\n",
       " (5, 125),\n",
       " (6, 36),\n",
       " (7, 343),\n",
       " (8, 64),\n",
       " (9, 729)}"
      ]
     },
     "execution_count": 16,
     "metadata": {},
     "output_type": "execute_result"
    }
   ],
   "source": [
    "l=[1,2,3,4,5,6,7,8,9]\n",
    "# d={}\n",
    "# for i in l:\n",
    "#     if i%2==0:\n",
    "#         d[i]=pow(i,2)\n",
    "#     else:\n",
    "#         d[i]=pow(i,3)\n",
    "# d\n",
    "    \n",
    "{(i,i**2) if i%2==0 else (i,pow(i,3)) for i in l}"
   ]
  },
  {
   "cell_type": "code",
   "execution_count": null,
   "id": "165ac6b7",
   "metadata": {},
   "outputs": [],
   "source": [
    "# map,filter and reduce"
   ]
  },
  {
   "cell_type": "code",
   "execution_count": 2,
   "id": "8676f2e0",
   "metadata": {},
   "outputs": [
    {
     "name": "stdout",
     "output_type": "stream",
     "text": [
      "[2, 4, 6, 8]\n",
      "[1, 4, 9, 16, 25, 36, 49, 64]\n",
      "40320\n"
     ]
    }
   ],
   "source": [
    "def even(n):\n",
    "    return n%2==0\n",
    "def square(n):\n",
    "    return n*n\n",
    "def product(n1,n2):\n",
    "    return n1*n2\n",
    "\n",
    "l=[1,2,3,4,5,6,7,8]\n",
    "\n",
    "evens=list(filter(even,l))\n",
    "print(evens)\n",
    "\n",
    "squares=list(map(square,l))\n",
    "print(squares)\n",
    "\n",
    "from functools import reduce\n",
    "prod=reduce(product,l)\n",
    "print(prod)"
   ]
  },
  {
   "cell_type": "code",
   "execution_count": null,
   "id": "97d8cd8d",
   "metadata": {},
   "outputs": [],
   "source": []
  },
  {
   "cell_type": "code",
   "execution_count": null,
   "id": "56c6829c",
   "metadata": {},
   "outputs": [],
   "source": []
  },
  {
   "cell_type": "code",
   "execution_count": 86,
   "id": "b18b4bf9",
   "metadata": {},
   "outputs": [],
   "source": [
    "# lambda function"
   ]
  },
  {
   "cell_type": "code",
   "execution_count": 109,
   "id": "a389565d",
   "metadata": {},
   "outputs": [
    {
     "data": {
      "text/plain": [
       "9"
      ]
     },
     "execution_count": 109,
     "metadata": {},
     "output_type": "execute_result"
    }
   ],
   "source": [
    "func=lambda x:x**2\n",
    "func(3)\n",
    "# print(func(4),func(2))"
   ]
  },
  {
   "cell_type": "code",
   "execution_count": 112,
   "id": "a3b7d705",
   "metadata": {},
   "outputs": [
    {
     "data": {
      "text/plain": [
       "150"
      ]
     },
     "execution_count": 112,
     "metadata": {},
     "output_type": "execute_result"
    }
   ],
   "source": [
    "g=lambda x,y,z:(x*y*z)\n",
    "g(5,6,5)"
   ]
  },
  {
   "cell_type": "code",
   "execution_count": null,
   "id": "9e57a7f0",
   "metadata": {},
   "outputs": [],
   "source": []
  },
  {
   "cell_type": "code",
   "execution_count": null,
   "id": "f1d9b8b0",
   "metadata": {},
   "outputs": [],
   "source": [
    "# map,filter and reduce using lambda function"
   ]
  },
  {
   "cell_type": "code",
   "execution_count": null,
   "id": "05eea583",
   "metadata": {},
   "outputs": [],
   "source": [
    "# map function"
   ]
  },
  {
   "cell_type": "code",
   "execution_count": 5,
   "id": "665823a5",
   "metadata": {},
   "outputs": [
    {
     "name": "stdout",
     "output_type": "stream",
     "text": [
      "[2, 4, 6, 8, 10, 12, 14, 16, 18]\n"
     ]
    }
   ],
   "source": [
    "l=[1,2,3,4,5,6,7,8,9]\n",
    "d=list(map(lambda x:x*2, l))\n",
    "print(d)"
   ]
  },
  {
   "cell_type": "code",
   "execution_count": null,
   "id": "ede5afa7",
   "metadata": {},
   "outputs": [],
   "source": []
  },
  {
   "cell_type": "code",
   "execution_count": 113,
   "id": "9b6be92e",
   "metadata": {},
   "outputs": [],
   "source": [
    "# filter"
   ]
  },
  {
   "cell_type": "code",
   "execution_count": 128,
   "id": "3fbe6463",
   "metadata": {},
   "outputs": [
    {
     "data": {
      "text/plain": [
       "[4, 6]"
      ]
     },
     "execution_count": 128,
     "metadata": {},
     "output_type": "execute_result"
    }
   ],
   "source": [
    "l=[1,3,4,5,6,7]\n",
    "list(filter(lambda x:x%2==0, l))"
   ]
  },
  {
   "cell_type": "code",
   "execution_count": null,
   "id": "c2d092b3",
   "metadata": {},
   "outputs": [],
   "source": []
  },
  {
   "cell_type": "code",
   "execution_count": 129,
   "id": "148371a1",
   "metadata": {},
   "outputs": [],
   "source": [
    "# reduce \n",
    "# ***we should import libraries to use reduce function because it was moved from functions to functools library***\n",
    "# from functools import reduce"
   ]
  },
  {
   "cell_type": "code",
   "execution_count": 141,
   "id": "366cca50",
   "metadata": {},
   "outputs": [
    {
     "data": {
      "text/plain": [
       "23"
      ]
     },
     "execution_count": 141,
     "metadata": {},
     "output_type": "execute_result"
    }
   ],
   "source": [
    "from functools import reduce\n",
    "l=[1,2,3,4,6,7]\n",
    "reduce(lambda x,y:x+y,l)"
   ]
  },
  {
   "cell_type": "code",
   "execution_count": 4,
   "id": "1413c690",
   "metadata": {
    "scrolled": true
   },
   "outputs": [
    {
     "name": "stdout",
     "output_type": "stream",
     "text": [
      "1\n",
      "1\n",
      "2\n",
      "6\n",
      "24\n",
      "120\n"
     ]
    }
   ],
   "source": [
    "from functools import reduce\n",
    "\n",
    "def fact(n):\n",
    "    if n==0 or n==1:\n",
    "        return 1\n",
    "    else:\n",
    "#         return n*fact(n-1)\n",
    "        l=[]\n",
    "        for i in range(1,n+1):\n",
    "            l.append(i)\n",
    "        return reduce(lambda x,y:x*y,l)\n",
    "\n",
    "\n",
    "n=6\n",
    "for i in range(n):\n",
    "    print(fact(i))"
   ]
  },
  {
   "cell_type": "code",
   "execution_count": 37,
   "id": "1760447c",
   "metadata": {},
   "outputs": [
    {
     "name": "stdout",
     "output_type": "stream",
     "text": [
      "avg: 5.5\n"
     ]
    }
   ],
   "source": [
    "# find avg using reduce\n",
    "l=[1,2,3,4,5,6,7,8,9,10]\n",
    "avg=(reduce(lambda a,b:a+b,l))/(len(l))\n",
    "print('avg:',avg)"
   ]
  },
  {
   "cell_type": "code",
   "execution_count": null,
   "id": "8f0ea34c",
   "metadata": {},
   "outputs": [],
   "source": []
  },
  {
   "cell_type": "code",
   "execution_count": 154,
   "id": "09292a2e",
   "metadata": {},
   "outputs": [
    {
     "data": {
      "text/plain": [
       "[23, 16, 10, 6]"
      ]
     },
     "execution_count": 154,
     "metadata": {},
     "output_type": "execute_result"
    }
   ],
   "source": [
    "# combination of lambda, map and reduce (to find the sum of all elements in each inside list)\n",
    "l=[[1,2,3,4,6,7],[1,2,3,4,6],[1,2,3,4],[1,2,3]]\n",
    "list(map(lambda z:reduce(lambda x,y:x+y,z),l))"
   ]
  },
  {
   "cell_type": "code",
   "execution_count": 46,
   "id": "3f90b852",
   "metadata": {},
   "outputs": [
    {
     "name": "stdout",
     "output_type": "stream",
     "text": [
      "56\n"
     ]
    }
   ],
   "source": [
    "# from below list, get the sum of squares of even numbers\n",
    "l=[1,2,3,4,5,6]\n",
    "result=reduce(lambda x,y:x+y,list(map(lambda x:x**2,list(filter(lambda x:x%2==0,l)))))\n",
    "print(result)    # 2^2+4^2+6^2=4+16+36=56"
   ]
  },
  {
   "cell_type": "code",
   "execution_count": 155,
   "id": "8a127ad3",
   "metadata": {},
   "outputs": [],
   "source": [
    "# zip : group the same indexed elements from given iterables"
   ]
  },
  {
   "cell_type": "code",
   "execution_count": 163,
   "id": "1e4dbc01",
   "metadata": {},
   "outputs": [
    {
     "data": {
      "text/plain": [
       "[(1, 1, 1, 1), (2, 2, 2, 2), (3, 3, 3, 3), (4, 4, 4, 5), (6, 6, 6, 7)]"
      ]
     },
     "execution_count": 163,
     "metadata": {},
     "output_type": "execute_result"
    }
   ],
   "source": [
    "l=[[1,2,3,4,6,7],[1,2,3,4,6],[1,2,3,4,6],[1,2,3,5,7]]\n",
    "zip(*l) # <zip at 0x164b6d3fbc0>\n",
    "list(zip(*l))"
   ]
  },
  {
   "cell_type": "code",
   "execution_count": 165,
   "id": "6450717e",
   "metadata": {},
   "outputs": [
    {
     "data": {
      "text/plain": [
       "[(1, 4), (2, 5), (4, 7)]"
      ]
     },
     "execution_count": 165,
     "metadata": {},
     "output_type": "execute_result"
    }
   ],
   "source": [
    "l=[1,2,4]\n",
    "m=[4,5,7,8]\n",
    "list(zip(l,m))"
   ]
  },
  {
   "cell_type": "code",
   "execution_count": 20,
   "id": "e6c58cb1",
   "metadata": {},
   "outputs": [
    {
     "data": {
      "text/plain": [
       "{'name': 'suresh', 'email': 'mail', 'phone': '2345', 'company': 'dsd'}"
      ]
     },
     "execution_count": 20,
     "metadata": {},
     "output_type": "execute_result"
    }
   ],
   "source": [
    "keys=['name', 'email', 'phone', 'company','e']\n",
    "values=['suresh','mail', '2345', 'dsd']\n",
    "dict(zip(keys,values)) #using zip function"
   ]
  },
  {
   "cell_type": "code",
   "execution_count": 13,
   "id": "aaf608fb",
   "metadata": {},
   "outputs": [
    {
     "name": "stdout",
     "output_type": "stream",
     "text": [
      "{1: 'odd', 2: 'even', 3: 'odd', 4: 'even', 5: 'odd', 6: 'even', 7: 'odd'}\n"
     ]
    }
   ],
   "source": [
    "l=[1,2,3,4,5,6,7]\n",
    "d=((i,'even' if i%2==0 else 'odd') for i in l)\n",
    "print(dict(d))"
   ]
  },
  {
   "cell_type": "code",
   "execution_count": null,
   "id": "cc38ffb5",
   "metadata": {},
   "outputs": [],
   "source": []
  }
 ],
 "metadata": {
  "kernelspec": {
   "display_name": "Python 3 (ipykernel)",
   "language": "python",
   "name": "python3"
  },
  "language_info": {
   "codemirror_mode": {
    "name": "ipython",
    "version": 3
   },
   "file_extension": ".py",
   "mimetype": "text/x-python",
   "name": "python",
   "nbconvert_exporter": "python",
   "pygments_lexer": "ipython3",
   "version": "3.10.0"
  }
 },
 "nbformat": 4,
 "nbformat_minor": 5
}
