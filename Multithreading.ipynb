{
 "cells": [
  {
   "cell_type": "code",
   "execution_count": 3,
   "id": "56eab0a9",
   "metadata": {},
   "outputs": [
    {
     "name": "stdout",
     "output_type": "stream",
     "text": [
      "Transaction Success\n",
      "2021-11-21 07:25:29.675128\n",
      "2021-11-21 07:25:29.683128\n",
      "Completed the functionality\n",
      "send an app notification to user: venkat, GCM_ID: qwertyuiop\n",
      "send and email to venkat@gmail.com\n",
      "sent sms to 1234567890\n"
     ]
    }
   ],
   "source": [
    "# Threading: https://realpython.com/intro-to-python-threading/\n",
    "\n",
    "import time\n",
    "from datetime import datetime\n",
    "from threading import Thread\n",
    "\n",
    "\n",
    "def sms(mobile):\n",
    "    time.sleep(15)\n",
    "    print(f\"sent sms to {mobile}\")\n",
    "\n",
    "\n",
    "def send_email(email):\n",
    "    time.sleep(10)\n",
    "    print(f\"send and email to {email}\")\n",
    "\n",
    "\n",
    "def send_app(gcm_id, user):\n",
    "    time.sleep(5)\n",
    "    print(f\"send an app notification to user: {user}, GCM_ID: {gcm_id}\")\n",
    "\n",
    "\n",
    "def transaction():\n",
    "    print(\"Transaction Success\")\n",
    "    print(datetime.now())\n",
    "    sms_thread = Thread(target=sms, args=[\"1234567890\"])\n",
    "    sms_thread.start()\n",
    "\n",
    "    email_thread = Thread(target=send_email, args=[\"venkat@gmail.com\"])\n",
    "    email_thread.start()\n",
    "\n",
    "    app_thread = Thread(target=send_app, args=[\"qwertyuiop\", \"venkat\"])\n",
    "    app_thread.start()\n",
    "\n",
    "    print(datetime.now())\n",
    "    print(\"Completed the functionality\")\n",
    "transaction()"
   ]
  },
  {
   "cell_type": "code",
   "execution_count": null,
   "id": "a0e25c02",
   "metadata": {},
   "outputs": [],
   "source": []
  },
  {
   "cell_type": "code",
   "execution_count": 4,
   "id": "20911aab",
   "metadata": {},
   "outputs": [
    {
     "name": "stdout",
     "output_type": "stream",
     "text": [
      "Transaction Success\n",
      "2021-11-21 07:27:46.446861\n",
      "2021-11-21 07:27:46.446861\n",
      "2021-11-21 07:27:46.454859\n",
      "Completed the functionality\n",
      "send an app notification to user: venkat, GCM_ID: qwertyuiop\n",
      "send and email to venkat@gmail.com\n",
      "sent sms to 1234567890\n"
     ]
    }
   ],
   "source": [
    "\n",
    "import time\n",
    "from datetime import datetime\n",
    "from threading import Thread\n",
    "\n",
    "\n",
    "def sms(mobile):\n",
    "    time.sleep(15)\n",
    "    print(f\"sent sms to {mobile}\")\n",
    "\n",
    "\n",
    "def send_email(email):\n",
    "    time.sleep(10)\n",
    "    print(f\"send and email to {email}\")\n",
    "\n",
    "\n",
    "def send_app(gcm_id, user):\n",
    "    time.sleep(5)\n",
    "    print(f\"send an app notification to user: {user}, GCM_ID: {gcm_id}\")\n",
    "\n",
    "\n",
    "def transaction():\n",
    "    print(\"Transaction Success\")\n",
    "    print(datetime.now())\n",
    "    sms_thread = Thread(target=sms, args=[\"1234567890\"])\n",
    "    sms_thread.start()\n",
    "    print(datetime.now())\n",
    "\n",
    "    email_thread = Thread(target=send_email, args=[\"venkat@gmail.com\"])\n",
    "    email_thread.start()\n",
    "\n",
    "    app_thread = Thread(target=send_app, args=[\"qwertyuiop\", \"venkat\"])\n",
    "    app_thread.start()\n",
    "\n",
    "    print(datetime.now())\n",
    "    print(\"Completed the functionality\")\n",
    "transaction()"
   ]
  },
  {
   "cell_type": "code",
   "execution_count": null,
   "id": "4360c6b1",
   "metadata": {},
   "outputs": [],
   "source": []
  }
 ],
 "metadata": {
  "kernelspec": {
   "display_name": "Python 3 (ipykernel)",
   "language": "python",
   "name": "python3"
  },
  "language_info": {
   "codemirror_mode": {
    "name": "ipython",
    "version": 3
   },
   "file_extension": ".py",
   "mimetype": "text/x-python",
   "name": "python",
   "nbconvert_exporter": "python",
   "pygments_lexer": "ipython3",
   "version": "3.10.0"
  }
 },
 "nbformat": 4,
 "nbformat_minor": 5
}
