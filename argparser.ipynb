{
 "cells": [
  {
   "cell_type": "code",
   "execution_count": 1,
   "id": "624ae139",
   "metadata": {},
   "outputs": [
    {
     "name": "stderr",
     "output_type": "stream",
     "text": [
      "usage: ipykernel_launcher.py [-h] [--email EMAIL] [--mobile MOBILE] [--companies COMPANIES]\n",
      "ipykernel_launcher.py: error: unrecognized arguments: -f C:\\Users\\K-NARESH\\AppData\\Roaming\\jupyter\\runtime\\kernel-ff18bb1c-a8e3-493d-a12e-781597770953.json\n"
     ]
    },
    {
     "ename": "SystemExit",
     "evalue": "2",
     "output_type": "error",
     "traceback": [
      "An exception has occurred, use %tb to see the full traceback.\n",
      "\u001b[1;31mSystemExit\u001b[0m\u001b[1;31m:\u001b[0m 2\n"
     ]
    },
    {
     "name": "stderr",
     "output_type": "stream",
     "text": [
      "C:\\Users\\K-NARESH\\AppData\\Local\\Programs\\Python\\Python310\\lib\\site-packages\\IPython\\core\\interactiveshell.py:3452: UserWarning: To exit: use 'exit', 'quit', or Ctrl-D.\n",
      "  warn(\"To exit: use 'exit', 'quit', or Ctrl-D.\", stacklevel=1)\n"
     ]
    }
   ],
   "source": [
    "import argparse\n",
    "\n",
    "parser = argparse.ArgumentParser(description=\"Test the arguments functionality\")\n",
    "parser.add_argument(\"--email\", type=str, action='store', help=\"We need an email to perform the operation\")\n",
    "parser.add_argument(\"--mobile\", type=str, action='store', help=\"We need an mobile to perform the operation\")\n",
    "parser.add_argument(\"--companies\", type=str, action='store', help=\"We need a mobile to perform the operation\", default=\"\")\n",
    "\n",
    "args = parser.parse_args()\n",
    "print(\"Email: {}\".format(args.email))\n",
    "print(\"mobile: {}\".format(args.mobile))\n",
    "print(\"companies: {}\".format(args.companies))"
   ]
  },
  {
   "cell_type": "code",
   "execution_count": null,
   "id": "a7a28bbb",
   "metadata": {},
   "outputs": [],
   "source": []
  }
 ],
 "metadata": {
  "kernelspec": {
   "display_name": "Python 3 (ipykernel)",
   "language": "python",
   "name": "python3"
  },
  "language_info": {
   "codemirror_mode": {
    "name": "ipython",
    "version": 3
   },
   "file_extension": ".py",
   "mimetype": "text/x-python",
   "name": "python",
   "nbconvert_exporter": "python",
   "pygments_lexer": "ipython3",
   "version": "3.10.0"
  }
 },
 "nbformat": 4,
 "nbformat_minor": 5
}
