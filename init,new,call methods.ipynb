{
 "cells": [
  {
   "cell_type": "code",
   "execution_count": 32,
   "id": "f513d086",
   "metadata": {},
   "outputs": [],
   "source": [
    "class Test:\n",
    "    def __init__(self):\n",
    "        print('I am in __init__')  \n",
    "        # we should not write return in __init__, it will throw an error\n",
    "        \n",
    "    def __new__(self,*args,**kwargs):\n",
    "        print('I am in __new__')\n",
    "        return super(Test,self).__new__(self,*args,**kwargs)\n",
    "        \n",
    "    def __call__(self):\n",
    "        print('I am in __call__')\n"
   ]
  },
  {
   "cell_type": "code",
   "execution_count": 33,
   "id": "5ff6521b",
   "metadata": {},
   "outputs": [
    {
     "name": "stdout",
     "output_type": "stream",
     "text": [
      "I am in __new__\n",
      "I am in __init__\n"
     ]
    }
   ],
   "source": [
    "obj=Test()"
   ]
  },
  {
   "cell_type": "code",
   "execution_count": 34,
   "id": "e304c379",
   "metadata": {},
   "outputs": [
    {
     "name": "stdout",
     "output_type": "stream",
     "text": [
      "I am in __call__\n"
     ]
    }
   ],
   "source": [
    "obj()"
   ]
  },
  {
   "cell_type": "code",
   "execution_count": null,
   "id": "cdeb47bf",
   "metadata": {},
   "outputs": [],
   "source": []
  }
 ],
 "metadata": {
  "kernelspec": {
   "display_name": "Python 3 (ipykernel)",
   "language": "python",
   "name": "python3"
  },
  "language_info": {
   "codemirror_mode": {
    "name": "ipython",
    "version": 3
   },
   "file_extension": ".py",
   "mimetype": "text/x-python",
   "name": "python",
   "nbconvert_exporter": "python",
   "pygments_lexer": "ipython3",
   "version": "3.10.0"
  }
 },
 "nbformat": 4,
 "nbformat_minor": 5
}
